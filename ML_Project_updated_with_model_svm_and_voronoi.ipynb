{
  "nbformat": 4,
  "nbformat_minor": 0,
  "metadata": {
    "colab": {
      "provenance": []
    },
    "kernelspec": {
      "name": "python3",
      "display_name": "Python 3"
    },
    "language_info": {
      "name": "python"
    },
    "accelerator": "GPU",
    "gpuClass": "standard"
  },
  "cells": [
    {
      "cell_type": "code",
      "execution_count": 36,
      "metadata": {
        "colab": {
          "base_uri": "https://localhost:8080/"
        },
        "id": "OZpO45ypjz9e",
        "outputId": "587d1252-fd98-4b2c-e09b-7344adceb303"
      },
      "outputs": [
        {
          "output_type": "stream",
          "name": "stdout",
          "text": [
            "Looking in indexes: https://pypi.org/simple, https://us-python.pkg.dev/colab-wheels/public/simple/\n",
            "Requirement already satisfied: estnltk==1.7.1 in /usr/local/lib/python3.8/dist-packages (1.7.1)\n",
            "Requirement already satisfied: html5lib in /usr/local/lib/python3.8/dist-packages (from estnltk==1.7.1) (1.0.1)\n",
            "Requirement already satisfied: requests in /usr/local/lib/python3.8/dist-packages (from estnltk==1.7.1) (2.23.0)\n",
            "Requirement already satisfied: lxml in /usr/local/lib/python3.8/dist-packages (from estnltk==1.7.1) (4.9.1)\n",
            "Requirement already satisfied: tqdm in /usr/local/lib/python3.8/dist-packages (from estnltk==1.7.1) (4.64.1)\n",
            "Requirement already satisfied: conllu in /usr/local/lib/python3.8/dist-packages (from estnltk==1.7.1) (4.5.2)\n",
            "Requirement already satisfied: ipython in /usr/local/lib/python3.8/dist-packages (from estnltk==1.7.1) (7.9.0)\n",
            "Requirement already satisfied: regex>=2015.07.19 in /usr/local/lib/python3.8/dist-packages (from estnltk==1.7.1) (2022.6.2)\n",
            "Requirement already satisfied: pandas in /usr/local/lib/python3.8/dist-packages (from estnltk==1.7.1) (1.3.5)\n",
            "Requirement already satisfied: estnltk-core in /usr/local/lib/python3.8/dist-packages (from estnltk==1.7.1) (1.7.0)\n",
            "Requirement already satisfied: matplotlib in /usr/local/lib/python3.8/dist-packages (from estnltk==1.7.1) (3.2.2)\n",
            "Requirement already satisfied: python-crfsuite>=0.8.3 in /usr/local/lib/python3.8/dist-packages (from estnltk==1.7.1) (0.9.8)\n",
            "Requirement already satisfied: pyahocorasick in /usr/local/lib/python3.8/dist-packages (from estnltk==1.7.1) (1.4.4)\n",
            "Requirement already satisfied: cached-property>=1.2.0 in /usr/local/lib/python3.8/dist-packages (from estnltk==1.7.1) (1.5.2)\n",
            "Requirement already satisfied: bs4 in /usr/local/lib/python3.8/dist-packages (from estnltk==1.7.1) (0.0.1)\n",
            "Requirement already satisfied: nltk>=3.4.1 in /usr/local/lib/python3.8/dist-packages (from estnltk==1.7.1) (3.7)\n",
            "Requirement already satisfied: networkx in /usr/local/lib/python3.8/dist-packages (from estnltk==1.7.1) (2.8.8)\n",
            "Requirement already satisfied: click in /usr/local/lib/python3.8/dist-packages (from nltk>=3.4.1->estnltk==1.7.1) (7.1.2)\n",
            "Requirement already satisfied: joblib in /usr/local/lib/python3.8/dist-packages (from nltk>=3.4.1->estnltk==1.7.1) (1.2.0)\n",
            "Requirement already satisfied: beautifulsoup4 in /usr/local/lib/python3.8/dist-packages (from bs4->estnltk==1.7.1) (4.6.3)\n",
            "Requirement already satisfied: six>=1.9 in /usr/local/lib/python3.8/dist-packages (from html5lib->estnltk==1.7.1) (1.15.0)\n",
            "Requirement already satisfied: webencodings in /usr/local/lib/python3.8/dist-packages (from html5lib->estnltk==1.7.1) (0.5.1)\n",
            "Requirement already satisfied: pexpect in /usr/local/lib/python3.8/dist-packages (from ipython->estnltk==1.7.1) (4.8.0)\n",
            "Requirement already satisfied: pygments in /usr/local/lib/python3.8/dist-packages (from ipython->estnltk==1.7.1) (2.6.1)\n",
            "Requirement already satisfied: pickleshare in /usr/local/lib/python3.8/dist-packages (from ipython->estnltk==1.7.1) (0.7.5)\n",
            "Requirement already satisfied: decorator in /usr/local/lib/python3.8/dist-packages (from ipython->estnltk==1.7.1) (4.4.2)\n",
            "Requirement already satisfied: prompt-toolkit<2.1.0,>=2.0.0 in /usr/local/lib/python3.8/dist-packages (from ipython->estnltk==1.7.1) (2.0.10)\n",
            "Requirement already satisfied: backcall in /usr/local/lib/python3.8/dist-packages (from ipython->estnltk==1.7.1) (0.2.0)\n",
            "Requirement already satisfied: jedi>=0.10 in /usr/local/lib/python3.8/dist-packages (from ipython->estnltk==1.7.1) (0.18.2)\n",
            "Requirement already satisfied: setuptools>=18.5 in /usr/local/lib/python3.8/dist-packages (from ipython->estnltk==1.7.1) (57.4.0)\n",
            "Requirement already satisfied: traitlets>=4.2 in /usr/local/lib/python3.8/dist-packages (from ipython->estnltk==1.7.1) (5.6.0)\n",
            "Requirement already satisfied: parso<0.9.0,>=0.8.0 in /usr/local/lib/python3.8/dist-packages (from jedi>=0.10->ipython->estnltk==1.7.1) (0.8.3)\n",
            "Requirement already satisfied: wcwidth in /usr/local/lib/python3.8/dist-packages (from prompt-toolkit<2.1.0,>=2.0.0->ipython->estnltk==1.7.1) (0.2.5)\n",
            "Requirement already satisfied: cycler>=0.10 in /usr/local/lib/python3.8/dist-packages (from matplotlib->estnltk==1.7.1) (0.11.0)\n",
            "Requirement already satisfied: kiwisolver>=1.0.1 in /usr/local/lib/python3.8/dist-packages (from matplotlib->estnltk==1.7.1) (1.4.4)\n",
            "Requirement already satisfied: pyparsing!=2.0.4,!=2.1.2,!=2.1.6,>=2.0.1 in /usr/local/lib/python3.8/dist-packages (from matplotlib->estnltk==1.7.1) (3.0.9)\n",
            "Requirement already satisfied: python-dateutil>=2.1 in /usr/local/lib/python3.8/dist-packages (from matplotlib->estnltk==1.7.1) (2.8.2)\n",
            "Requirement already satisfied: numpy>=1.11 in /usr/local/lib/python3.8/dist-packages (from matplotlib->estnltk==1.7.1) (1.21.6)\n",
            "Requirement already satisfied: pytz>=2017.3 in /usr/local/lib/python3.8/dist-packages (from pandas->estnltk==1.7.1) (2022.6)\n",
            "Requirement already satisfied: ptyprocess>=0.5 in /usr/local/lib/python3.8/dist-packages (from pexpect->ipython->estnltk==1.7.1) (0.7.0)\n",
            "Requirement already satisfied: urllib3!=1.25.0,!=1.25.1,<1.26,>=1.21.1 in /usr/local/lib/python3.8/dist-packages (from requests->estnltk==1.7.1) (1.24.3)\n",
            "Requirement already satisfied: idna<3,>=2.5 in /usr/local/lib/python3.8/dist-packages (from requests->estnltk==1.7.1) (2.10)\n",
            "Requirement already satisfied: certifi>=2017.4.17 in /usr/local/lib/python3.8/dist-packages (from requests->estnltk==1.7.1) (2022.9.24)\n",
            "Requirement already satisfied: chardet<4,>=3.0.2 in /usr/local/lib/python3.8/dist-packages (from requests->estnltk==1.7.1) (3.0.4)\n"
          ]
        }
      ],
      "source": [
        "!pip install estnltk==1.7.1"
      ]
    },
    {
      "cell_type": "code",
      "source": [],
      "metadata": {
        "id": "WajoOq5U1e0J"
      },
      "execution_count": 36,
      "outputs": []
    },
    {
      "cell_type": "code",
      "source": [
        "from google.colab import files\n",
        "uploaded = files.upload()"
      ],
      "metadata": {
        "colab": {
          "base_uri": "https://localhost:8080/",
          "height": 176
        },
        "id": "qWAmojX4kN9J",
        "outputId": "9b4c75aa-7da9-40d5-ec43-bc1f255a16f0"
      },
      "execution_count": 37,
      "outputs": [
        {
          "output_type": "display_data",
          "data": {
            "text/plain": [
              "<IPython.core.display.HTML object>"
            ],
            "text/html": [
              "\n",
              "     <input type=\"file\" id=\"files-75c7736e-87a3-4bf6-9e9e-7e65e79a771a\" name=\"files[]\" multiple disabled\n",
              "        style=\"border:none\" />\n",
              "     <output id=\"result-75c7736e-87a3-4bf6-9e9e-7e65e79a771a\">\n",
              "      Upload widget is only available when the cell has been executed in the\n",
              "      current browser session. Please rerun this cell to enable.\n",
              "      </output>\n",
              "      <script>// Copyright 2017 Google LLC\n",
              "//\n",
              "// Licensed under the Apache License, Version 2.0 (the \"License\");\n",
              "// you may not use this file except in compliance with the License.\n",
              "// You may obtain a copy of the License at\n",
              "//\n",
              "//      http://www.apache.org/licenses/LICENSE-2.0\n",
              "//\n",
              "// Unless required by applicable law or agreed to in writing, software\n",
              "// distributed under the License is distributed on an \"AS IS\" BASIS,\n",
              "// WITHOUT WARRANTIES OR CONDITIONS OF ANY KIND, either express or implied.\n",
              "// See the License for the specific language governing permissions and\n",
              "// limitations under the License.\n",
              "\n",
              "/**\n",
              " * @fileoverview Helpers for google.colab Python module.\n",
              " */\n",
              "(function(scope) {\n",
              "function span(text, styleAttributes = {}) {\n",
              "  const element = document.createElement('span');\n",
              "  element.textContent = text;\n",
              "  for (const key of Object.keys(styleAttributes)) {\n",
              "    element.style[key] = styleAttributes[key];\n",
              "  }\n",
              "  return element;\n",
              "}\n",
              "\n",
              "// Max number of bytes which will be uploaded at a time.\n",
              "const MAX_PAYLOAD_SIZE = 100 * 1024;\n",
              "\n",
              "function _uploadFiles(inputId, outputId) {\n",
              "  const steps = uploadFilesStep(inputId, outputId);\n",
              "  const outputElement = document.getElementById(outputId);\n",
              "  // Cache steps on the outputElement to make it available for the next call\n",
              "  // to uploadFilesContinue from Python.\n",
              "  outputElement.steps = steps;\n",
              "\n",
              "  return _uploadFilesContinue(outputId);\n",
              "}\n",
              "\n",
              "// This is roughly an async generator (not supported in the browser yet),\n",
              "// where there are multiple asynchronous steps and the Python side is going\n",
              "// to poll for completion of each step.\n",
              "// This uses a Promise to block the python side on completion of each step,\n",
              "// then passes the result of the previous step as the input to the next step.\n",
              "function _uploadFilesContinue(outputId) {\n",
              "  const outputElement = document.getElementById(outputId);\n",
              "  const steps = outputElement.steps;\n",
              "\n",
              "  const next = steps.next(outputElement.lastPromiseValue);\n",
              "  return Promise.resolve(next.value.promise).then((value) => {\n",
              "    // Cache the last promise value to make it available to the next\n",
              "    // step of the generator.\n",
              "    outputElement.lastPromiseValue = value;\n",
              "    return next.value.response;\n",
              "  });\n",
              "}\n",
              "\n",
              "/**\n",
              " * Generator function which is called between each async step of the upload\n",
              " * process.\n",
              " * @param {string} inputId Element ID of the input file picker element.\n",
              " * @param {string} outputId Element ID of the output display.\n",
              " * @return {!Iterable<!Object>} Iterable of next steps.\n",
              " */\n",
              "function* uploadFilesStep(inputId, outputId) {\n",
              "  const inputElement = document.getElementById(inputId);\n",
              "  inputElement.disabled = false;\n",
              "\n",
              "  const outputElement = document.getElementById(outputId);\n",
              "  outputElement.innerHTML = '';\n",
              "\n",
              "  const pickedPromise = new Promise((resolve) => {\n",
              "    inputElement.addEventListener('change', (e) => {\n",
              "      resolve(e.target.files);\n",
              "    });\n",
              "  });\n",
              "\n",
              "  const cancel = document.createElement('button');\n",
              "  inputElement.parentElement.appendChild(cancel);\n",
              "  cancel.textContent = 'Cancel upload';\n",
              "  const cancelPromise = new Promise((resolve) => {\n",
              "    cancel.onclick = () => {\n",
              "      resolve(null);\n",
              "    };\n",
              "  });\n",
              "\n",
              "  // Wait for the user to pick the files.\n",
              "  const files = yield {\n",
              "    promise: Promise.race([pickedPromise, cancelPromise]),\n",
              "    response: {\n",
              "      action: 'starting',\n",
              "    }\n",
              "  };\n",
              "\n",
              "  cancel.remove();\n",
              "\n",
              "  // Disable the input element since further picks are not allowed.\n",
              "  inputElement.disabled = true;\n",
              "\n",
              "  if (!files) {\n",
              "    return {\n",
              "      response: {\n",
              "        action: 'complete',\n",
              "      }\n",
              "    };\n",
              "  }\n",
              "\n",
              "  for (const file of files) {\n",
              "    const li = document.createElement('li');\n",
              "    li.append(span(file.name, {fontWeight: 'bold'}));\n",
              "    li.append(span(\n",
              "        `(${file.type || 'n/a'}) - ${file.size} bytes, ` +\n",
              "        `last modified: ${\n",
              "            file.lastModifiedDate ? file.lastModifiedDate.toLocaleDateString() :\n",
              "                                    'n/a'} - `));\n",
              "    const percent = span('0% done');\n",
              "    li.appendChild(percent);\n",
              "\n",
              "    outputElement.appendChild(li);\n",
              "\n",
              "    const fileDataPromise = new Promise((resolve) => {\n",
              "      const reader = new FileReader();\n",
              "      reader.onload = (e) => {\n",
              "        resolve(e.target.result);\n",
              "      };\n",
              "      reader.readAsArrayBuffer(file);\n",
              "    });\n",
              "    // Wait for the data to be ready.\n",
              "    let fileData = yield {\n",
              "      promise: fileDataPromise,\n",
              "      response: {\n",
              "        action: 'continue',\n",
              "      }\n",
              "    };\n",
              "\n",
              "    // Use a chunked sending to avoid message size limits. See b/62115660.\n",
              "    let position = 0;\n",
              "    do {\n",
              "      const length = Math.min(fileData.byteLength - position, MAX_PAYLOAD_SIZE);\n",
              "      const chunk = new Uint8Array(fileData, position, length);\n",
              "      position += length;\n",
              "\n",
              "      const base64 = btoa(String.fromCharCode.apply(null, chunk));\n",
              "      yield {\n",
              "        response: {\n",
              "          action: 'append',\n",
              "          file: file.name,\n",
              "          data: base64,\n",
              "        },\n",
              "      };\n",
              "\n",
              "      let percentDone = fileData.byteLength === 0 ?\n",
              "          100 :\n",
              "          Math.round((position / fileData.byteLength) * 100);\n",
              "      percent.textContent = `${percentDone}% done`;\n",
              "\n",
              "    } while (position < fileData.byteLength);\n",
              "  }\n",
              "\n",
              "  // All done.\n",
              "  yield {\n",
              "    response: {\n",
              "      action: 'complete',\n",
              "    }\n",
              "  };\n",
              "}\n",
              "\n",
              "scope.google = scope.google || {};\n",
              "scope.google.colab = scope.google.colab || {};\n",
              "scope.google.colab._files = {\n",
              "  _uploadFiles,\n",
              "  _uploadFilesContinue,\n",
              "};\n",
              "})(self);\n",
              "</script> "
            ]
          },
          "metadata": {}
        },
        {
          "output_type": "stream",
          "name": "stdout",
          "text": [
            "Saving skills.csv to skills (1).csv\n",
            "Saving test.csv to test (1).csv\n",
            "Saving texts_about_skills.csv to texts_about_skills (1).csv\n",
            "Saving train.csv to train (1).csv\n"
          ]
        }
      ]
    },
    {
      "cell_type": "code",
      "source": [
        "!ls\n"
      ],
      "metadata": {
        "colab": {
          "base_uri": "https://localhost:8080/"
        },
        "id": "cL-I27SVkgJV",
        "outputId": "8246938f-fd19-4ed4-ef7b-819af18d57b8"
      },
      "execution_count": 38,
      "outputs": [
        {
          "output_type": "stream",
          "name": "stdout",
          "text": [
            " estonian-stopwords.txt  'test (1).csv'\t\t       'train (1).csv'\n",
            " sample_data\t\t  test.csv\t\t        train.csv\n",
            "'skills (1).csv'\t 'texts_about_skills (1).csv'\n",
            " skills.csv\t\t  texts_about_skills.csv\n"
          ]
        }
      ]
    },
    {
      "cell_type": "code",
      "source": [
        "import csv\n",
        "with open('skills.csv', 'r') as f:\n",
        "    reader = csv.reader(f)\n",
        "    data = list(reader)"
      ],
      "metadata": {
        "id": "QO5I0Z-XksCF"
      },
      "execution_count": 39,
      "outputs": []
    },
    {
      "cell_type": "code",
      "source": [
        "texts = [(text[2]) for text in data]\n",
        "print(texts)\n",
        "print(texts[0])"
      ],
      "metadata": {
        "id": "rygz8Iy_uF7H",
        "colab": {
          "base_uri": "https://localhost:8080/"
        },
        "outputId": "a7e1cba1-72df-423c-d465-641831000169"
      },
      "execution_count": 40,
      "outputs": [
        {
          "output_type": "stream",
          "name": "stdout",
          "text": [
            "['skill_description', 'Oskus mõista ja kasutada digitaalseid süsteeme, tööriistu ja rakendusi ning töödelda digitaalset teavet.', 'Oskus dekonstrueerida infot väiksemateks üksusteks või näha, kuidas detailid moodustavad terviku, selleks, et teha korrektseid järeldusi ning lahendada ülesandeid ning tajuda üksiktoimingute või etappide kaugemat eesmärki.', 'Oskus töövahendeid kasutada. Võime rakendada tundmaõpitud tehnoloogiaid eesmärkide elluviimiseks. IKT süsteemide puhul teenuse või rakenduse korrektne töös hoidmine ning jälgimine. Kontrollmehhanismide või otsese füüsilise mõju kasutamine masinate või protsesside juhtimiseks. Võime töö käigus mõõdikutelt, näidikutelt või muudelt indikaatoritelt lugeda ja tõlgendada infot.', 'Oskus töö tegemiseks vajalikke juhiseid ja reegleid arvestada, ellu viia ja rakendada. Asjakohase teabe ja isikliku otsustusvõime kasutamine, tegemaks kindlaks, kas sündmused või protsessid vastavad õigusnormidele, eeskirjadele või standarditele.', 'Oskus kollektiivi vajadustega ning ühise eesmärgiga arvestada, teistega ülesannete täitmiseks koostööd teha.', 'Võime planeerida ja korraldada meeskonna ülesandeid. Võime määrata kindlaks meeskonnaliikmete töö eesmärgid, mis on seotud organisatsiooni eesmärkidega. Meeskonna, töötajate- või õpilaste rühma tegevuste eestvedamine, juhtimine või juhendamine.', 'Võime seadistada masinaid või seadmeid, asendades või muutes tööriistu, rakiseid, fiksaatoreid ja lisasid, et seada neid töökorda. Tarvikute, lisatarvikute ja vahendite kasutamiskorda seadmine ja kontroll. Võime teostada seadmete igapäevast hooldust ja teha kindlaks, millal ja millist hooldust on vaja.', 'Tulevikuolukorra ettekujutamine ning selle saavutamiseks strateegiate, eesmärkide ja tegevuskavade väljatöötamine.', 'Oskus luua teise inimesega füüsiline ja psühholoogiline kontakt, väljendada ennast arusaadavalt ja kuulata aktiivselt.', 'Oskus edastada ja mõista ideid ja infot märgilisel või visuaalsel kujul, näiteks piltide, fotode, tüpograafia, infograafika, noodikirja,  joonistuste, värvide, postrite, viiplemise ja kaartide abil.', 'Oskus rakendada töötervishoiu reeglite kohaseid ohutusvõtteid. Võime rakendada tööd soodustavaid ja tervist säästvaid asendeid ja töövõtteid tööülesannete täitmisel.', 'Oskus tegutseda järjekindlalt ülesande täitmiseks või tegevuse lõpuleviimiseks, teha eesmärgi saavutamiseks kohaseid valikuid.', 'Valdkonna uusimate arengute, vahendite ja meetodite tundmaõppimine selleks, et kavandada uute ja innovaatiliste lahenduste rakendamist ja integreerimist toodetesse, teenustesse, lahendustesse, tööprotsessidesse vm väärtuse loomise ahela osadesse.', 'Erinevatest materjalidest detailide liitmine mitmesuguseid meetodeid ning tööriistu kasutades. Toote osa valmistamine detailide kokkuliitmise teel.', 'Organisatsiooni kui vastastikku seotud protsesside süsteemi juhtimine ja ülevaatus. Võime algatada protsessi jaoks vajalikke muudatusi, sealhulgas aidata teistel mõista, mida tähendab muudatus nende jaoks ning pakkuda jooksvalt juhiseid ja tuge, mis aitavad säilitada toetust muudatusele.', 'Oskus koondada kognitiivsed protsessid uue info omandamiseks ning võime mõtestada ja väärtustada õpitu sisulist tähendust.', 'Võime saada aru emakeelest või võõrkeelest, mõista sõnade, lausete ja lõikude täpset tähendust ning sõnadevahelisi seoseid. Võime esitada teavet ja ideesid selgelt.', 'Oskus tõlgendada süstemaatiliselt teise osapoole probleeme ja vajadusi, kindlaks määrates lahendusi ja võimalikke kõrvalmõjusid. Oskus arendada ja säilitada usaldusväärseid suhteid.', 'Mõõdetava suuruse arvväärtuse kindlakstegemine mõõtevahendi abil. Suuruse, vahemaa, koguste, võimsuse vms mõõtmine mõõteriista nt kaal, joonlaud, ampermeeter, luksmeeter abil.', 'Suhtlemise, edastamise ja vahendamise oskused klientidele, partneritele ja kogu ühiskonnale väärtuse loomiseks.', 'Oskus märgata potentsiaalset probleemi, vaadata läbi seotud teavet, sõnastada lahendamist vajav küsimus ja hinnata võimalusi ning strateegiaid sellele vastuse leidmiseks.', 'Oskus tunda ära võimalused ja haarata neist kinni. Ideede genereerimine, endale kohustuste võtmine ja väljakutsetest kinni haaramine, pakkudes välja, tehes või korraldades midagi ise, ilma et teised teda selleks ärgitaksid.', 'Võime mõelda visuaalselt geomeetrilistest vormidest ja mõista kolmemõõtmeliste objektide kahemõõtmelist kujutist. Võime aru saada seostest, mis tulenevad objektide liigutamisest ruumis. Võime teada oma asukohta keskkonna suhtes või teada, kus asuvad sinu suhtes teised objektid.', 'Oskus kohaneda märkimisväärse varieeruvusega töökohal. Oskus kiiresti reageerida ootamatutele situatsioonidele.', 'Prioriteetsete ja vähemprioriteetsete eesmärkide sõnastamine ja nende rakendamine tegevuskavades. Üksiktegevuste olulisuse ja järjestuse määramine tegevuste kavandamisel lähtudes püstitatud eesmärgist.', 'Organisatsiooni eesmärkide nimel teiste innustamine ja inspireerimine positiivsete tulemuste saavutamiseks. Organisatsiooni visiooni tugevdamine. Selle jaotuse fookuses on oskused teisi motiveerida ja inspireerida, mitte meeskonda juhtida ja juhendada.', 'Oskus mõista ja kasutada numbreid ja teisi matemaatilisi mõisteid. Võime teostada täpselt matemaatilisi tehteid (näiteks liitmine, lahutamine, korrutamine, jagamine, protsentarvutus jne).', 'Võime kindlaks teha töö tegemiseks vajalikud tööriistad ja seadmed.', 'Töökaaslaste abistamine ja toetamine tööalaste oskuste ja teadmiste omandamisel. Kolleegide, juhtide, vabatahtlike ja teiste kaastöötajate abistamine ja toetamine nende ülesannete täitmisel või äriüksuse tegevuses.', 'Võime omandada teatud töö jaoks vajalikke seadmeid, rajatisi ja materjale ning kontrollida, et neid kasutatakse sihipäraselt. Füüsiliste varade, nagu tööriistad ja seadmed, jaotamise ja kättesaadavuse kindlaksmääramine (eraldamine) ja kontrollimine.', 'Oskus iseendale ülesandeid püstitada ning neid lahendades vähe või üldse mitte juhendamist vajada.', 'Tootmiseks vajalike toormaterjalide leidmine turult ja nende sisseostmine, konkreetse hankeprotseduuri reeglite järgimine.  Näiteks: ehitusmaterjalide hankimine, mehaanika detailide hankimine, reklaampindade hankimine, teenuste mh meelelahutusteenuste hankimine, toidu valmistamise ja tootmise toorainete hankimine ja sisseostmine, IKT sisseostmine.', 'Võime asendada kulunud või katkisi osi, parandada või seadistada ja teha katsetega kindlaks, kas seade toimib, näeb nõuetekohane välja, on töökorras või turvaline. Süsteemide puhul nende muutmine uuendamise, protsesside parandamise või vigade parandamise teel. Võime teha kindlaks käitamisvea põhjus ja vastavalt põhjusele lahenduse välja pakkumine ning ellu viimine.', 'Kaupade ja teenuste müügi- ja levitamisprotsesside läbiviimine organisatsioonide ja/või üksikisikute vahel.', 'Tehnoloogiliste muutuste, sh digitaliseerimise juhtimine selleks, et need panustaksid organisatsioonide üleselt jätkusuutlikkusse arengusse, nii sotsiaalselt, majanduslikult kui ka keskkonna-alaselt. Infosüsteemide määratlemine, juurutamine ja kontrollimine kooskõlas äritegevuse nõuetega võttes arvesse kõiki ettevõttesiseseid ja -väliseid parameetreid (nt vastavust õigusaktide ja valdkonna standardnõuetega, samuti riske ja ressursse) selleks, et saavutada seatud eesmärgid.', 'Dokumentide, detailsete juhiste, jooniste või spetsifikatsioonide tegemine, et selgitada teistele, kuidas tuleb toota, konstrueerida, kokku panna, muuta, hooldada või kasutada seadmeid, osi, varustust või struktuure.', 'Eesmärkide saavutamise kontrollimine vastavalt etteantud normidele, standarditele ja muudele tingimustele.', 'Oskus pöörata tähelepanu teiste tunnetele ja vajadustele olles sealjuures mõistev, abivalmis. Oskus teiste inimeste reaktsioone märgata ja aru saada, miks nad nii reageerivad.', 'Oskus jagada kirjalikult, visuaalselt ja suuliselt infot klientidele, avalikkusele, valitsusele või teistele inimestele ja organisatsioonidele.', 'Teiste inimeste arenguga seotud vajaduste kindlakstegemine ja nende kootsi või mentorina juhendamine või mõnel muul moel aitamine, et nad saaksid arendada oma teadmisi või oskusi.', 'Oskus seostada iseenda tegevust võimalike tagajärgedega. Võime anda aru enda tulemuste eest.', 'Võime värvata töötajaid, teha kindlaks erinevate ülesannete jaoks parim inimene. Organisatsiooni tõhusust silmas pidades töötajate oskuste, teadmiste ja võimete arendamine.', 'Oskus vaadelda teemat või olukorda erinevatest vaatenurkadest ja kombineerida tähelepanekuid tavapärasest erinevateks uudseteks lahendusteks. Oskus kasutada, täiustada või kokku sobitada olemasolevaid ja uudseid tööviise või tooteid organisatsioonile kasutooval viisil.', 'Suhtluse juhtimine eesmärgiga saavutada kommunikaatorile sobiv mõju, mis hõlmab kommunikatsiooni kavandamist, arendamist ja rakendamist, samuti sõnumite edastamise ja nende sihtrühma suhtes asjakohasuse analüüsimist. Kommunikatsioonialaste eesmärkide sõnastamine selleks, et olla nähtaval ning saada seeläbi oma tegevusele laiemat kõlapinda. Kommunikatsiooniteooriate, -meetodite ja -vahendite rakendamine asutuse või organisatsiooni eesmärkide elluviimiseks.', 'Organisatsiooni riskijuhtimispoliitika määratlemine ja selle rakendamine ning kõikide võimalike piirangute, sh tehniliste, majanduslike ja poliitiliste probleemide arvesse võtmine. Organisatsiooni riskide ohjamine.', 'Erinevat tüüpi materjalide kuju muutmine käsitsi või käsitööriistade abil. Toodete loomiseks materjalide vormimine.', 'Lepingutingimuste, strateegiate, regulatsioonide, keskkonnanõuete vms info edastamine partnerite või kolleegidega selleks, et tagada väärtuse loomise, vajaduste ja nõuete omavaheline kokkusobivus. Mitme osapoole vahel asjade korraldamine.', 'Finantsvarade jaotuse ja kättesaadavuse kindlaksmääramine ning finants- ja halduskontrollide kehtestamine. Tööde või projektide eelarvete koostamine. Organisatsiooni finantstehingute kajastamine vastavalt nõuetele ja seadustele. See hõlmab alusdokumentide ettevalmistamist, haldamist ja säilitamist kõigi tehingute, toimingute ja muude ettevõtte sündmuste kohta.', 'Testide (elektrooniliste, füüsiliste vm) läbiviimine seadmete või tarkvara korrasoleku või jõudluse määramiseks või probleemide tuvastamiseks.', 'Andmeanalüüsi vahendite ja meetodite kasutamine andmete analüüsimiseks, otsuste tegemiseks või muu väärtuse loomiseks.']\n",
            "skill_description\n"
          ]
        }
      ]
    },
    {
      "cell_type": "code",
      "source": [
        "#first line \n",
        "print(texts[0])"
      ],
      "metadata": {
        "colab": {
          "base_uri": "https://localhost:8080/"
        },
        "id": "bjuRMd58uJK5",
        "outputId": "96a118bc-f703-40c9-889f-9225e3898a36"
      },
      "execution_count": 41,
      "outputs": [
        {
          "output_type": "stream",
          "name": "stdout",
          "text": [
            "skill_description\n"
          ]
        }
      ]
    },
    {
      "cell_type": "code",
      "source": [
        "#first skill description \n",
        "print(texts[1])"
      ],
      "metadata": {
        "colab": {
          "base_uri": "https://localhost:8080/"
        },
        "id": "I18hHD_cuOKp",
        "outputId": "35d6badc-41c6-4edb-a6b0-5554af8d71e8"
      },
      "execution_count": 42,
      "outputs": [
        {
          "output_type": "stream",
          "name": "stdout",
          "text": [
            "Oskus mõista ja kasutada digitaalseid süsteeme, tööriistu ja rakendusi ning töödelda digitaalset teavet.\n"
          ]
        }
      ]
    },
    {
      "cell_type": "code",
      "source": [
        "from estnltk import Text\n",
        "# create an object of the class Text\n",
        "texts_1 = Text(texts[1])\n",
        "\n",
        "skills_texts = [Text(text) for text in texts[1:]]\n",
        "for sentence in skills_texts:\n",
        "  sentence.tag_layer()\n",
        "  sentence['tokens']\n",
        "  sentence.words\n",
        "  sentence['morph_analysis']"
      ],
      "metadata": {
        "id": "h3n_3G_PuXlW"
      },
      "execution_count": 43,
      "outputs": []
    },
    {
      "cell_type": "code",
      "source": [
        "texts_1.tag_layer()"
      ],
      "metadata": {
        "colab": {
          "base_uri": "https://localhost:8080/",
          "height": 270
        },
        "id": "VPlL16AjuupZ",
        "outputId": "29ef7033-ca91-4cee-fbc9-3bd184c5a03b"
      },
      "execution_count": 44,
      "outputs": [
        {
          "output_type": "execute_result",
          "data": {
            "text/plain": [
              "Text(text='Oskus mõista ja kasutada digitaalseid süsteeme, tööriistu ja rakendusi ning töödelda digitaalset teavet.')"
            ],
            "text/html": [
              "<table border=\"1\" class=\"dataframe\">\n",
              "  <thead>\n",
              "    <tr style=\"text-align: right;\">\n",
              "      <th>text</th>\n",
              "    </tr>\n",
              "  </thead>\n",
              "  <tbody>\n",
              "    <tr>\n",
              "      <td><div align = \"left\">Oskus mõista ja kasutada digitaalseid süsteeme, tööriistu ja rakendusi ning töödelda digitaalset teavet.</div></td>\n",
              "    </tr>\n",
              "  </tbody>\n",
              "</table>\n",
              "<table border=\"1\" class=\"dataframe\">\n",
              "  <thead>\n",
              "    <tr style=\"text-align: right;\">\n",
              "      <th>layer name</th>\n",
              "      <th>attributes</th>\n",
              "      <th>parent</th>\n",
              "      <th>enveloping</th>\n",
              "      <th>ambiguous</th>\n",
              "      <th>span count</th>\n",
              "    </tr>\n",
              "  </thead>\n",
              "  <tbody>\n",
              "    <tr>\n",
              "      <td>sentences</td>\n",
              "      <td></td>\n",
              "      <td>None</td>\n",
              "      <td>words</td>\n",
              "      <td>False</td>\n",
              "      <td>1</td>\n",
              "    </tr>\n",
              "    <tr>\n",
              "      <td>tokens</td>\n",
              "      <td></td>\n",
              "      <td>None</td>\n",
              "      <td>None</td>\n",
              "      <td>False</td>\n",
              "      <td>15</td>\n",
              "    </tr>\n",
              "    <tr>\n",
              "      <td>compound_tokens</td>\n",
              "      <td>type, normalized</td>\n",
              "      <td>None</td>\n",
              "      <td>tokens</td>\n",
              "      <td>False</td>\n",
              "      <td>0</td>\n",
              "    </tr>\n",
              "    <tr>\n",
              "      <td>words</td>\n",
              "      <td>normalized_form</td>\n",
              "      <td>None</td>\n",
              "      <td>None</td>\n",
              "      <td>True</td>\n",
              "      <td>15</td>\n",
              "    </tr>\n",
              "    <tr>\n",
              "      <td>morph_analysis</td>\n",
              "      <td>normalized_text, lemma, root, root_tokens, ending, clitic, form, partofspeech</td>\n",
              "      <td>words</td>\n",
              "      <td>None</td>\n",
              "      <td>True</td>\n",
              "      <td>15</td>\n",
              "    </tr>\n",
              "  </tbody>\n",
              "</table>"
            ]
          },
          "metadata": {},
          "execution_count": 44
        }
      ]
    },
    {
      "cell_type": "code",
      "source": [
        "texts_1['tokens']"
      ],
      "metadata": {
        "colab": {
          "base_uri": "https://localhost:8080/",
          "height": 623
        },
        "id": "GR_D6awHu6su",
        "outputId": "f8663f31-d883-4e10-d135-84e8d8fbbe1d"
      },
      "execution_count": 45,
      "outputs": [
        {
          "output_type": "execute_result",
          "data": {
            "text/plain": [
              "Layer(name='tokens', attributes=(), spans=SL[Span('Oskus', [{}]),\n",
              "Span('mõista', [{}]),\n",
              "Span('ja', [{}]),\n",
              "Span('kasutada', [{}]),\n",
              "Span('digitaalseid', [{}]),\n",
              "Span('süsteeme', [{}]),\n",
              "Span(',', [{}]),\n",
              "Span('tööriistu', [{}]),\n",
              "Span('ja', [{}]),\n",
              "Span('rakendusi', [{}]),\n",
              "Span('ning', [{}]),\n",
              "Span('töödelda', [{}]),\n",
              "Span('digitaalset', [{}]),\n",
              "Span('teavet', [{}]),\n",
              "Span('.', [{}])])"
            ],
            "text/html": [
              "<h4>Layer</h4>\n",
              "\n",
              "\n",
              "<table border=\"1\" class=\"dataframe\">\n",
              "  <thead>\n",
              "    <tr style=\"text-align: right;\">\n",
              "      <th>layer name</th>\n",
              "      <th>attributes</th>\n",
              "      <th>parent</th>\n",
              "      <th>enveloping</th>\n",
              "      <th>ambiguous</th>\n",
              "      <th>span count</th>\n",
              "    </tr>\n",
              "  </thead>\n",
              "  <tbody>\n",
              "    <tr>\n",
              "      <td>tokens</td>\n",
              "      <td></td>\n",
              "      <td>None</td>\n",
              "      <td>None</td>\n",
              "      <td>False</td>\n",
              "      <td>15</td>\n",
              "    </tr>\n",
              "  </tbody>\n",
              "</table>\n",
              "<table border=\"1\" class=\"dataframe\">\n",
              "  <thead>\n",
              "    <tr style=\"text-align: right;\">\n",
              "      <th>text</th>\n",
              "    </tr>\n",
              "  </thead>\n",
              "  <tbody>\n",
              "    <tr>\n",
              "      <td>Oskus</td>\n",
              "    </tr>\n",
              "    <tr>\n",
              "      <td>mõista</td>\n",
              "    </tr>\n",
              "    <tr>\n",
              "      <td>ja</td>\n",
              "    </tr>\n",
              "    <tr>\n",
              "      <td>kasutada</td>\n",
              "    </tr>\n",
              "    <tr>\n",
              "      <td>digitaalseid</td>\n",
              "    </tr>\n",
              "    <tr>\n",
              "      <td>süsteeme</td>\n",
              "    </tr>\n",
              "    <tr>\n",
              "      <td>,</td>\n",
              "    </tr>\n",
              "    <tr>\n",
              "      <td>tööriistu</td>\n",
              "    </tr>\n",
              "    <tr>\n",
              "      <td>ja</td>\n",
              "    </tr>\n",
              "    <tr>\n",
              "      <td>rakendusi</td>\n",
              "    </tr>\n",
              "    <tr>\n",
              "      <td>ning</td>\n",
              "    </tr>\n",
              "    <tr>\n",
              "      <td>töödelda</td>\n",
              "    </tr>\n",
              "    <tr>\n",
              "      <td>digitaalset</td>\n",
              "    </tr>\n",
              "    <tr>\n",
              "      <td>teavet</td>\n",
              "    </tr>\n",
              "    <tr>\n",
              "      <td>.</td>\n",
              "    </tr>\n",
              "  </tbody>\n",
              "</table>"
            ]
          },
          "metadata": {},
          "execution_count": 45
        }
      ]
    },
    {
      "cell_type": "code",
      "source": [
        "texts_1.words"
      ],
      "metadata": {
        "colab": {
          "base_uri": "https://localhost:8080/",
          "height": 623
        },
        "id": "Xh10DqzbvBVi",
        "outputId": "ea8609b6-e45f-4a5e-8bbc-527cfd08ec49"
      },
      "execution_count": 46,
      "outputs": [
        {
          "output_type": "execute_result",
          "data": {
            "text/plain": [
              "Layer(name='words', attributes=('normalized_form',), spans=SL[Span('Oskus', [{'normalized_form': None}]),\n",
              "Span('mõista', [{'normalized_form': None}]),\n",
              "Span('ja', [{'normalized_form': None}]),\n",
              "Span('kasutada', [{'normalized_form': None}]),\n",
              "Span('digitaalseid', [{'normalized_form': None}]),\n",
              "Span('süsteeme', [{'normalized_form': None}]),\n",
              "Span(',', [{'normalized_form': None}]),\n",
              "Span('tööriistu', [{'normalized_form': None}]),\n",
              "Span('ja', [{'normalized_form': None}]),\n",
              "Span('rakendusi', [{'normalized_form': None}]),\n",
              "Span('ning', [{'normalized_form': None}]),\n",
              "Span('töödelda', [{'normalized_form': None}]),\n",
              "Span('digitaalset', [{'normalized_form': None}]),\n",
              "Span('teavet', [{'normalized_form': None}]),\n",
              "Span('.', [{'normalized_form': None}])])"
            ],
            "text/html": [
              "<h4>Layer</h4>\n",
              "\n",
              "\n",
              "<table border=\"1\" class=\"dataframe\">\n",
              "  <thead>\n",
              "    <tr style=\"text-align: right;\">\n",
              "      <th>layer name</th>\n",
              "      <th>attributes</th>\n",
              "      <th>parent</th>\n",
              "      <th>enveloping</th>\n",
              "      <th>ambiguous</th>\n",
              "      <th>span count</th>\n",
              "    </tr>\n",
              "  </thead>\n",
              "  <tbody>\n",
              "    <tr>\n",
              "      <td>words</td>\n",
              "      <td>normalized_form</td>\n",
              "      <td>None</td>\n",
              "      <td>None</td>\n",
              "      <td>True</td>\n",
              "      <td>15</td>\n",
              "    </tr>\n",
              "  </tbody>\n",
              "</table>\n",
              "<table border=\"1\" class=\"dataframe\">\n",
              "  <thead>\n",
              "    <tr style=\"text-align: right;\">\n",
              "      <th>text</th>\n",
              "      <th>normalized_form</th>\n",
              "    </tr>\n",
              "  </thead>\n",
              "  <tbody>\n",
              "    <tr>\n",
              "      <td>Oskus</td>\n",
              "      <td>None</td>\n",
              "    </tr>\n",
              "    <tr>\n",
              "      <td>mõista</td>\n",
              "      <td>None</td>\n",
              "    </tr>\n",
              "    <tr>\n",
              "      <td>ja</td>\n",
              "      <td>None</td>\n",
              "    </tr>\n",
              "    <tr>\n",
              "      <td>kasutada</td>\n",
              "      <td>None</td>\n",
              "    </tr>\n",
              "    <tr>\n",
              "      <td>digitaalseid</td>\n",
              "      <td>None</td>\n",
              "    </tr>\n",
              "    <tr>\n",
              "      <td>süsteeme</td>\n",
              "      <td>None</td>\n",
              "    </tr>\n",
              "    <tr>\n",
              "      <td>,</td>\n",
              "      <td>None</td>\n",
              "    </tr>\n",
              "    <tr>\n",
              "      <td>tööriistu</td>\n",
              "      <td>None</td>\n",
              "    </tr>\n",
              "    <tr>\n",
              "      <td>ja</td>\n",
              "      <td>None</td>\n",
              "    </tr>\n",
              "    <tr>\n",
              "      <td>rakendusi</td>\n",
              "      <td>None</td>\n",
              "    </tr>\n",
              "    <tr>\n",
              "      <td>ning</td>\n",
              "      <td>None</td>\n",
              "    </tr>\n",
              "    <tr>\n",
              "      <td>töödelda</td>\n",
              "      <td>None</td>\n",
              "    </tr>\n",
              "    <tr>\n",
              "      <td>digitaalset</td>\n",
              "      <td>None</td>\n",
              "    </tr>\n",
              "    <tr>\n",
              "      <td>teavet</td>\n",
              "      <td>None</td>\n",
              "    </tr>\n",
              "    <tr>\n",
              "      <td>.</td>\n",
              "      <td>None</td>\n",
              "    </tr>\n",
              "  </tbody>\n",
              "</table>"
            ]
          },
          "metadata": {},
          "execution_count": 46
        }
      ]
    },
    {
      "cell_type": "code",
      "source": [
        "# The table that explains the morphological analysis is here: \n",
        "# https://github.com/estnltk/estnltk/blob/8bf10c92c17556287441cf2af6745f480f3d59a7/tutorials/nlp_pipeline/B_morphology/00_tables_of_morphological_categories.ipynb\n",
        "texts_1['morph_analysis']"
      ],
      "metadata": {
        "colab": {
          "base_uri": "https://localhost:8080/",
          "height": 623
        },
        "id": "QN4ubmKLvQ9k",
        "outputId": "f0a99ae9-4523-49ea-e5c7-a63ddb134c60"
      },
      "execution_count": 47,
      "outputs": [
        {
          "output_type": "execute_result",
          "data": {
            "text/plain": [
              "Layer(name='morph_analysis', attributes=('normalized_text', 'lemma', 'root', 'root_tokens', 'ending', 'clitic', 'form', 'partofspeech'), spans=SL[Span('Oskus', [{'normalized_text': 'Oskus', 'lemma': 'oskus', 'root': 'oskus', 'root_tokens': ['oskus'], 'ending': '0', 'clitic': '', 'form': 'sg n', 'partofspeech': 'S'}]),\n",
              "Span('mõista', [{'normalized_text': 'mõista', 'lemma': 'mõistma', 'root': 'mõist', 'root_tokens': ['mõist'], 'ending': 'a', 'clitic': '', 'form': 'da', 'partofspeech': 'V'}]),\n",
              "Span('ja', [{'normalized_text': 'ja', 'lemma': 'ja', 'root': 'ja', 'root_tokens': ['ja'], 'ending': '0', 'clitic': '', 'form': '', 'partofspeech': 'J'}]),\n",
              "Span('kasutada', [{'normalized_text': 'kasutada', 'lemma': 'kasutama', 'root': 'kasuta', 'root_tokens': ['kasuta'], 'ending': 'da', 'clitic': '', 'form': 'da', 'partofspeech': 'V'}]),\n",
              "Span('digitaalseid', [{'normalized_text': 'digitaalseid', 'lemma': 'digitaalne', 'root': 'digitaalne', 'root_tokens': ['digitaalne'], 'ending': 'id', 'clitic': '', 'form': 'pl p', 'partofspeech': 'A'}]),\n",
              "Span('süsteeme', [{'normalized_text': 'süsteeme', 'lemma': 'süsteem', 'root': 'süsteem', 'root_tokens': ['süsteem'], 'ending': 'e', 'clitic': '', 'form': 'pl p', 'partofspeech': 'S'}]),\n",
              "Span(',', [{'normalized_text': ',', 'lemma': ',', 'root': ',', 'root_tokens': [','], 'ending': '', 'clitic': '', 'form': '', 'partofspeech': 'Z'}]),\n",
              "Span('tööriistu', [{'normalized_text': 'tööriistu', 'lemma': 'tööriist', 'root': 'töö_riist', 'root_tokens': ['töö', 'riist'], 'ending': 'u', 'clitic': '', 'form': 'pl p', 'partofspeech': 'S'}]),\n",
              "Span('ja', [{'normalized_text': 'ja', 'lemma': 'ja', 'root': 'ja', 'root_tokens': ['ja'], 'ending': '0', 'clitic': '', 'form': '', 'partofspeech': 'J'}]),\n",
              "Span('rakendusi', [{'normalized_text': 'rakendusi', 'lemma': 'rakendus', 'root': 'rakendus', 'root_tokens': ['rakendus'], 'ending': 'i', 'clitic': '', 'form': 'pl p', 'partofspeech': 'S'}]),\n",
              "Span('ning', [{'normalized_text': 'ning', 'lemma': 'ning', 'root': 'ning', 'root_tokens': ['ning'], 'ending': '0', 'clitic': '', 'form': '', 'partofspeech': 'J'}]),\n",
              "Span('töödelda', [{'normalized_text': 'töödelda', 'lemma': 'töötlema', 'root': 'töötle', 'root_tokens': ['töötle'], 'ending': 'da', 'clitic': '', 'form': 'da', 'partofspeech': 'V'}]),\n",
              "Span('digitaalset', [{'normalized_text': 'digitaalset', 'lemma': 'digitaalne', 'root': 'digitaalne', 'root_tokens': ['digitaalne'], 'ending': 't', 'clitic': '', 'form': 'sg p', 'partofspeech': 'A'}]),\n",
              "Span('teavet', [{'normalized_text': 'teavet', 'lemma': 'teave', 'root': 'teave', 'root_tokens': ['teave'], 'ending': 't', 'clitic': '', 'form': 'sg p', 'partofspeech': 'S'}]),\n",
              "Span('.', [{'normalized_text': '.', 'lemma': '.', 'root': '.', 'root_tokens': ['.'], 'ending': '', 'clitic': '', 'form': '', 'partofspeech': 'Z'}])])"
            ],
            "text/html": [
              "<h4>Layer</h4>\n",
              "\n",
              "\n",
              "<table border=\"1\" class=\"dataframe\">\n",
              "  <thead>\n",
              "    <tr style=\"text-align: right;\">\n",
              "      <th>layer name</th>\n",
              "      <th>attributes</th>\n",
              "      <th>parent</th>\n",
              "      <th>enveloping</th>\n",
              "      <th>ambiguous</th>\n",
              "      <th>span count</th>\n",
              "    </tr>\n",
              "  </thead>\n",
              "  <tbody>\n",
              "    <tr>\n",
              "      <td>morph_analysis</td>\n",
              "      <td>normalized_text, lemma, root, root_tokens, ending, clitic, form, partofspeech</td>\n",
              "      <td>words</td>\n",
              "      <td>None</td>\n",
              "      <td>True</td>\n",
              "      <td>15</td>\n",
              "    </tr>\n",
              "  </tbody>\n",
              "</table>\n",
              "<table border=\"1\" class=\"dataframe\">\n",
              "  <thead>\n",
              "    <tr style=\"text-align: right;\">\n",
              "      <th>text</th>\n",
              "      <th>normalized_text</th>\n",
              "      <th>lemma</th>\n",
              "      <th>root</th>\n",
              "      <th>root_tokens</th>\n",
              "      <th>ending</th>\n",
              "      <th>clitic</th>\n",
              "      <th>form</th>\n",
              "      <th>partofspeech</th>\n",
              "    </tr>\n",
              "  </thead>\n",
              "  <tbody>\n",
              "    <tr>\n",
              "      <td>Oskus</td>\n",
              "      <td>Oskus</td>\n",
              "      <td>oskus</td>\n",
              "      <td>oskus</td>\n",
              "      <td>['oskus']</td>\n",
              "      <td>0</td>\n",
              "      <td></td>\n",
              "      <td>sg n</td>\n",
              "      <td>S</td>\n",
              "    </tr>\n",
              "    <tr>\n",
              "      <td>mõista</td>\n",
              "      <td>mõista</td>\n",
              "      <td>mõistma</td>\n",
              "      <td>mõist</td>\n",
              "      <td>['mõist']</td>\n",
              "      <td>a</td>\n",
              "      <td></td>\n",
              "      <td>da</td>\n",
              "      <td>V</td>\n",
              "    </tr>\n",
              "    <tr>\n",
              "      <td>ja</td>\n",
              "      <td>ja</td>\n",
              "      <td>ja</td>\n",
              "      <td>ja</td>\n",
              "      <td>['ja']</td>\n",
              "      <td>0</td>\n",
              "      <td></td>\n",
              "      <td></td>\n",
              "      <td>J</td>\n",
              "    </tr>\n",
              "    <tr>\n",
              "      <td>kasutada</td>\n",
              "      <td>kasutada</td>\n",
              "      <td>kasutama</td>\n",
              "      <td>kasuta</td>\n",
              "      <td>['kasuta']</td>\n",
              "      <td>da</td>\n",
              "      <td></td>\n",
              "      <td>da</td>\n",
              "      <td>V</td>\n",
              "    </tr>\n",
              "    <tr>\n",
              "      <td>digitaalseid</td>\n",
              "      <td>digitaalseid</td>\n",
              "      <td>digitaalne</td>\n",
              "      <td>digitaalne</td>\n",
              "      <td>['digitaalne']</td>\n",
              "      <td>id</td>\n",
              "      <td></td>\n",
              "      <td>pl p</td>\n",
              "      <td>A</td>\n",
              "    </tr>\n",
              "    <tr>\n",
              "      <td>süsteeme</td>\n",
              "      <td>süsteeme</td>\n",
              "      <td>süsteem</td>\n",
              "      <td>süsteem</td>\n",
              "      <td>['süsteem']</td>\n",
              "      <td>e</td>\n",
              "      <td></td>\n",
              "      <td>pl p</td>\n",
              "      <td>S</td>\n",
              "    </tr>\n",
              "    <tr>\n",
              "      <td>,</td>\n",
              "      <td>,</td>\n",
              "      <td>,</td>\n",
              "      <td>,</td>\n",
              "      <td>[',']</td>\n",
              "      <td></td>\n",
              "      <td></td>\n",
              "      <td></td>\n",
              "      <td>Z</td>\n",
              "    </tr>\n",
              "    <tr>\n",
              "      <td>tööriistu</td>\n",
              "      <td>tööriistu</td>\n",
              "      <td>tööriist</td>\n",
              "      <td>töö_riist</td>\n",
              "      <td>['töö', 'riist']</td>\n",
              "      <td>u</td>\n",
              "      <td></td>\n",
              "      <td>pl p</td>\n",
              "      <td>S</td>\n",
              "    </tr>\n",
              "    <tr>\n",
              "      <td>ja</td>\n",
              "      <td>ja</td>\n",
              "      <td>ja</td>\n",
              "      <td>ja</td>\n",
              "      <td>['ja']</td>\n",
              "      <td>0</td>\n",
              "      <td></td>\n",
              "      <td></td>\n",
              "      <td>J</td>\n",
              "    </tr>\n",
              "    <tr>\n",
              "      <td>rakendusi</td>\n",
              "      <td>rakendusi</td>\n",
              "      <td>rakendus</td>\n",
              "      <td>rakendus</td>\n",
              "      <td>['rakendus']</td>\n",
              "      <td>i</td>\n",
              "      <td></td>\n",
              "      <td>pl p</td>\n",
              "      <td>S</td>\n",
              "    </tr>\n",
              "    <tr>\n",
              "      <td>ning</td>\n",
              "      <td>ning</td>\n",
              "      <td>ning</td>\n",
              "      <td>ning</td>\n",
              "      <td>['ning']</td>\n",
              "      <td>0</td>\n",
              "      <td></td>\n",
              "      <td></td>\n",
              "      <td>J</td>\n",
              "    </tr>\n",
              "    <tr>\n",
              "      <td>töödelda</td>\n",
              "      <td>töödelda</td>\n",
              "      <td>töötlema</td>\n",
              "      <td>töötle</td>\n",
              "      <td>['töötle']</td>\n",
              "      <td>da</td>\n",
              "      <td></td>\n",
              "      <td>da</td>\n",
              "      <td>V</td>\n",
              "    </tr>\n",
              "    <tr>\n",
              "      <td>digitaalset</td>\n",
              "      <td>digitaalset</td>\n",
              "      <td>digitaalne</td>\n",
              "      <td>digitaalne</td>\n",
              "      <td>['digitaalne']</td>\n",
              "      <td>t</td>\n",
              "      <td></td>\n",
              "      <td>sg p</td>\n",
              "      <td>A</td>\n",
              "    </tr>\n",
              "    <tr>\n",
              "      <td>teavet</td>\n",
              "      <td>teavet</td>\n",
              "      <td>teave</td>\n",
              "      <td>teave</td>\n",
              "      <td>['teave']</td>\n",
              "      <td>t</td>\n",
              "      <td></td>\n",
              "      <td>sg p</td>\n",
              "      <td>S</td>\n",
              "    </tr>\n",
              "    <tr>\n",
              "      <td>.</td>\n",
              "      <td>.</td>\n",
              "      <td>.</td>\n",
              "      <td>.</td>\n",
              "      <td>['.']</td>\n",
              "      <td></td>\n",
              "      <td></td>\n",
              "      <td></td>\n",
              "      <td>Z</td>\n",
              "    </tr>\n",
              "  </tbody>\n",
              "</table>"
            ]
          },
          "metadata": {},
          "execution_count": 47
        }
      ]
    },
    {
      "cell_type": "code",
      "source": [
        "skill_names = [(text[1]) for text in data]\n",
        "print(skill_names[1:])"
      ],
      "metadata": {
        "id": "zUieVbSJyO4M",
        "colab": {
          "base_uri": "https://localhost:8080/"
        },
        "outputId": "54088196-0def-43a3-f2bb-451ce90cbc5e"
      },
      "execution_count": 48,
      "outputs": [
        {
          "output_type": "stream",
          "name": "stdout",
          "text": [
            "['Digitaalne kirjaoskus', 'Analüüsioskus', 'Seadmete kasutamine ja käitamine', 'Juhistest ja nõuetest lähtumine', 'Meeskonnatöö- ja koostööoskus', 'Meeskonna juhtimine', 'Seadistamine, kasutuseks valmis seadmine ja hooldamine', 'Kavade, strateegiate ja plaanide väljatöötamine', 'Suhtlemisoskus', 'Märgisüsteemide kasutamine ja/või koostamine', 'Ergonoomiliste töövõtete rakendamine', 'Eesmärgi saavutamine', 'Valdkonna arengu jälgimine', 'Detailide kokkupanemine', 'Protsessi ja muudatuste juhtimine', 'Õppimisoskus', 'Keeleoskus', 'Suhete loomine ja hoidmine', 'Mõõtmine', 'Toodete või teenuste turundamine', 'Probleemi lahendamine', 'Tegevuste algatamine', 'Ruumiline mõtlemine', 'Muutustega kohanemine', 'Prioriteetide seadmine ja eesmärkide püstitamine', 'Teiste motiveerimine', 'Matemaatiline kirjaoskus', 'Töövahendite või materjalide valimine', 'Kaastöötajate juhendamine', 'Varude juhtimine', 'Iseseisev tegutsemine', 'Toodete ja teenuste hankimine ja siseostmine', 'Parandamine ja tehniliste tõrgete eemaldamine', 'Toodete või teenuste levitamine ja müümine', 'Tehnoloogia juhtimine', 'Juhendmaterjali väljatöötamine', 'Tulemuste kvaliteedi hindamine', 'Empaatiline käitumine', 'Teabe esitamine', 'Teiste inimeste kootsing ja arendamine', 'Vastutuse võtmine', 'Personaliarendus ja meeskonna komplekteerimine', 'Loov ja uuenduslik tegutsemine', 'Kommunikatsioonijuhtimine', 'Riskijuhtimine', 'Materjalide vormimine', 'Kooskõlastamine', 'Eelarve- või finantshaldus', 'Testimine', 'Andmeanalüüs']\n"
          ]
        }
      ]
    },
    {
      "cell_type": "code",
      "source": [
        "from estnltk import Text\n",
        "# create an object of the class Text\n",
        "texts_1 = Text(texts[1])\n",
        "\n",
        "names = [Text(skill_name) for skill_name in skill_names[1:]]\n",
        "for name in names:\n",
        "    name.tag_layer()\n",
        "    name['tokens']\n",
        "    name.words\n",
        "    name['morph_analysis']\n"
      ],
      "metadata": {
        "id": "0VVMiVPiECUe"
      },
      "execution_count": 49,
      "outputs": []
    },
    {
      "cell_type": "code",
      "source": [
        "with open('texts_about_skills.csv', 'r') as f:\n",
        "    reader = csv.reader(f)\n",
        "    texts_data = list(reader)"
      ],
      "metadata": {
        "id": "kJQbzUrSECC4"
      },
      "execution_count": 50,
      "outputs": []
    },
    {
      "cell_type": "code",
      "source": [
        "texts_descriptions = [(text[1]) for text in texts_data]\n",
        "print(texts_descriptions[1:])"
      ],
      "metadata": {
        "id": "XPUKJOQmEBu0",
        "colab": {
          "base_uri": "https://localhost:8080/"
        },
        "outputId": "6861cf48-938b-456b-982a-67b4d1fabb93"
      },
      "execution_count": 51,
      "outputs": [
        {
          "output_type": "stream",
          "name": "stdout",
          "text": [
            "['Võistlusülesande lahendamiseks vajalikud erialased teadmised ja oskused: elektroonikakomponentide formeerimine ja paigaldamine trükkplaadile, elektroonikakomponentide trükkplaadilt maha jootmine, elektroonikakomponentide trükkplaadile jootmine, jooteseadmete kasutamine, jootematerjalide kasutamine, elektroonikakomponentide ohutus.', 'Võistlusülesandena tuli elektroonikutel etteantud komponentidest kokku monteerida pindmontaaž- ja läbiviiktehnoloogiaid kasutav elektroonikaseadme trükkplaat. ', 'See on väga hea ja positiivne alus, kust kõrgemaid probleemilahenduse ja tehnoloogia kasutuse oskusi edasi arendada. ', '“Töövõtted ja ohutustehnika olid kõigil võistlejatel selged ja nende eest said kõik maksimumpunktid,” tunnustas Kolk.', 'Enamasti on nendeks pigem eraisikud ja väikese suurusega ettevõtjad, kel tihti puudub ka oskus, võimekus ja eelarve oma dokumentide pikaajalise turvalisuse tagamiseks.', '“Täpsust ja osavust nõudvat käsijootmise ülesannet jälgisid IPC meisterkoolitaja sertifikaatidega kohtunikud Tallinna Polütehnikumist, kes rahvusvahelistele IPC standarditele tuginedes hindasid valminud trükkplaadi töövõimet ja koostamise kvaliteeti,” selgitab Kolk võistlustööde hindamise parameetreid ning lisab, et võidutöö tulemus oli ideaalilähedane.', 'Ühiselt vaadatakse üle, kuidas ja milline eesmärkide puu luua ning kuidas tulemusi hinnata ning tagada edusammudega seotud kommunikatsioon.', 'LIKTA kutsub inimesi kõigis kolmes Balti riigis üles osalema projekti “Virtual Internships in the Baltics” raames tasuta digioskuste kursustel, pakkudes kokku 30 000 inimesele võimalust tasuta oma teadmisi parandada ja seeläbi tuleviku karjäärivõimalusi edendada.', '15% eestimaalastest nentis värske uuringu kohaselt, et neilt on tööle kandideerides oodatud enamat kui vaid digitaalseid põhioskusi – küsitud on teadmisi andmeanalüüsist, oodatud on programmeerimisoskust või muid keerukamaid digioskusi.', '„Digitaalsest kirjaoskusest on saanud meie igapäevaelu osa. ', 'Lähiaastatel hakkavad tööandjad üleüldise digipöörde tulemusena digioskustele veelgi enam tähelepanu pöörama.', 'On väga teretulnud, et täiskasvanud saavad tasuta kursustel nii oma praktilisi kui teoreetilisi IT-teadmisi arendada, kasvatades nii oma konkurentsivõimet. ', 'Nõudlus digiteenuste ja -oskuste järele on kiiresti kasvanud kõikjal Euroopa Liidus, nii ka Balti riikides, kus nii palgad kui tööjõuvajadus kasvavad kõige kiiremini just IT-sektoris.', 'ellest saavad aru ka töötajad: et oma professionaalseid oskusi edendada, on 31,8% Läti, 28,4% Leedu ja 25% Eesti elanikest värske uuringu kohaselt valmis oma digioskusi parandama.', 'Vahemere Liidu konverentsil fookuses digipööre ja tuleviku digioskuste edendamine', 'Konverentsile kogunes 50 osalejat Euroopa ja Vahemere piirkonnast, kelle hulgas oli valitsusametnikke, erasektori esindajaid, ettevõtjaid, teadlasi ja teiste sidusrühmade esindajaid, et arutada mitmeid teemasid, nagu e-valitsemine, e-teenused, digimajandus ja digioskused.', 'President Ilves tudengitele: inimeste digitaalne kirjaoskus on möödapääsmatu', '“Kui digimaailm kolib üha enam nn pärismaailma või, täpsemalt öeldes, kui pärismaailm muutub digitaalseks, on iseenesestmõistetav, et kõik inimesed peavad omandama digitaalse kirjaoskuse,” ütles president Toomas Hendrik Ilves Tallinna Tehnikaülikooli aulas peetud avalikus loengus, kus ta analüüsis meie igapäevaelu paratamatut ja aina kiiremini kasvavat sõltuvust digimaailmast.', 'Paananen: ka keskealistele töötajatele tuleks anda IKT oskused', 'Skype Eesti endise juhi sõnul tuleks ka juba keskealistele töötajatele anda IKT oskused. ', '“Me saame anda täiendavad IKT oskused, logistikutele, keeletehnoloogidele, kellele iganes,” ütles Paananen, kelle sõnul oleks just elukestev õpe üheks võtmesõnaks Eesti majanduse edendamisel ning rahvusvahelises konkurentsis hoidmisel.', 'Kampaania eesmärk on tõsta kodanike teadlikkust tööalaste e-oskuste täiendamise vajadusest. ', 'Kampaania algatamise põhjuseks on üha kasvav nõudlus IKT (info- ja kommunikatsioonitehnoloogia) oskustega töötajate järele, mis on rahuldamata vaatamata kõrgele töötuse tasemele Euroopas. ', 'Kampaania näol on tegemist üleeuroopalise, mitut huvirühma liitva partnerlusega, mille eesmärgiks on vähendada puudujääki Euroopa elanike IKT-alastes oskustes ning aidata rakendada IKT potentsiaali tööhõive kujundamisel.', 'Kampaania põhirõhk on teadlikkuse tõstmisel haridusest, väljaõppest, töökohtadest ning teistest võimalustest, mis on kättesaadavad e-oskustega inimestele – inimestele, kes teavad, kuidas digitaaltehnoloogiat tõhusalt kasutada.', 'E-oskused on vajalikud väikeste või keskmise suurusega ettevõtete töötajatele, noortele inimestele ning tööturule siseneda soovivatele töötutele. Samuti on e-oskused üliolulised ettevõtetele, mis vajavad kõrgetasemelist tööjõudu. Kuna Euroopa võitleb pikaajalise majanduslangusega, on e-oskused majanduse jaluleaitamisel olulisemad kui kunagi varem. Heade e-oskustega inimesed mängivad keskset rolli uuendusliku ning konkurentsivõimelise Euroopa kujundamisel.', 'Mida saame ühiselt teha IKT oskuste arendamiseks Eestis?', 'PIAAC-i uuring „Täiskasvanute oskused Eestis ja maailmas“, mis avaldati 8. oktoobril, toob selgelt esile vajaduse suurendada Eestis infotöötluse mahukate töökohtade arvu ja tõsta meie elanikkonna professionaalseid IKT oskusi.', 'Kui me teame, et valdav osa Eesti elanikkonnast kasutab pidevalt igapäevaseid e-teenuseid (Internetipank, tuludeklaratsiooni esitamine, jne) vaatamata sellele, et suurel osal inimestest puuduvad kõrgemad IKT-ga seonduvad probleemilahendusoskused, siis on see kinnituseks: meie e-teenused on mugavad ja kasutajasõbalikud. ', 'On ilmselge, et nõudmised töötajate oskustele kasvavad kiiresti. Palju sellest, mis viis aastat tagasi oli IT spetsialistide mängumaa, on täna vajalik kõigile arvutiga töötajatele. Vastavaid oskusi tuleb sihipäraselt õpetada nii noortele kui täiskasvanuile selleks, et olla edukas riikide konkurentsis.', 'Vajalik on sihipärane IKT oskuste õpetamine ja hindamine alates põhikoolist. ', 'Tööstussektori juht, saada töötaja tasuta digioskuste koolitusele', 'Majandus- ja kommunikatsiooniministeerium (MKM) viib Euroopa Sotsiaalfondi 2014–2020 toel ellu toetusskeemi „Digitaalse kirjaoskuse suurendamine“, mille käigus viiakse tuhandetele tööstussektori töötajale läbi tasuta koolitused digioskuste parandamiseks.', 'Lähtuvalt antud eesmärgist tellis MKM digitaalse kirjaoskuse baaskoolituse tööstussektori töötajatele ning IKT-oskuste vajalikkust põhjendavad teadlikkuse tõstmise tegevused ettevõtete juhtidele – projekti nimi on DigiABC ja projekt viiakse ellu perioodil 2017-2020.', 'Digioskuste puudumine takistab arengut', 'Töötajate digitaalse kirjaoskuse puudumine on takistuseks tööalases arengus.', 'Üks sektor, kus digitaalne kirjaoskus võiks suurimat mõju avaldada, on just  töötlev tööstus. ', 'TASUTA koolitusprogramm digioskuste arendamiseks', 'Google pakub koostöös Majandus- ja kommunikatsiooniministeeriumi (MKM), Ettevõtluse Arendamise Sihtasutuse (EAS) ja Maakondlike Arenduskeskustega kõigile huvilistele tasuta koolitusi, et suurendada nende teadmisi näiteks veebilehe või -poe arendamisest, digimaailmas nähtavuse tõstmisest, sotsiaalmeedia turundusest, digistrateegiate koostamisest ja paljust muust.', 'Lisaks annetab Google Eesti Ametiühingute Keskliidule 150 000 dollarit ehk umbes 125 000 eurot, et tõsta spetsiifilisemalt 1000 madalapalgalise töötaja digioskusi.', 'Virtuaalne tööandjate teabepäev koolitustoetuse kohta töötajate IKT alaste oskuste arendamiseks', 'Käesolevast aastast saab töötukassalt taotleda koolitustoetust töötajate informatsiooni- ja kommunikatsioonitehnoloogia (IKT) alaste oskuste arendamiseks. ', 'Kutsekojal valmis uuring, mis annab ülevaate, milliste digioskuste järele erinevates majandusvaldkondades vajadus kasvab ja milliseid IKT oskusi tasub töötajatele õpetada. ', 'Võib oletada, et peamiseks põhjuseks on väikeettevõtjate (eriti mikroettevõtjate) väiksem haldussuutlikus ning vajalike kompetentside puudumine (muuhulgas puudub paljudel mikroettevõtjatel piisav arvutikasutamise oskus ja/või piisavad vahendid ettevõttevälise teenuse sisseostmiseks).', 'Äriandmete analüüsi oskusi saab omandada kursusel “Äri- ja andmeanalüüs”', 'Uuring kinnitab meie noorte tipptasemel oskusi funktsionaalses lugemisoskuses ja matemaatilises kirjaoskuses. ', 'Suure pildi nägemises ja muutuse elluviimisel on inimesel jätkuvalt juhtroll ning sellele tänavu keskendumegi.', 'Veel rõhutab RIA kahte asja. Esiteks soovitatakse ettevõtetel hinnata, milliseid dokumente üldse on vaja üle tembeldada ning kas kinnitada dokumente templiga ühe- või sajakaupa.', 'Aga ka käsu koostamise ja andmise oskus on tsiviilelus kasulik, sest tegu on konkreetse juhisega ülesande lahendamiseks ning selle andmisega kaasneb ka enesekindlus ja usk sellesse, et ülesanne saab lahendatud.', 'Sealjuures on oluline osata enda õpikogemusi mõtestada, mida väärtuslikku saadi ja kuidas seda rakendada.', 'Lisaks erialasele professionaalsusele toodi kandidaatide juures välja ka rida isikuomadusi, mis on olulised hea tulemuse saavutamiseks - süsteemne tegevus, eesmärgile pühendumine, põhjalikkus, hea suhtlemisoskus, operatiivsus, innovatiivsus, soov end pidevalt erialaselt täiendada”, lausus Ehitusinseneride Liidu tegevdirektor Tiia Ruben.', 'Levinud on müüt, et IT-sektoris töötamiseks on vaja väga head matemaatikaoskust. ', '„Kõrgharidus on läinud liiga „pehmeks“ ja kui matemaatikat ei õpita, siis inseneriks ei saada.“ Veskimägi rääkis ka võõrtööliste värbamise kitsaskohtadest nii riiklikul kui ettevõtte tasandil.', 'Personali hulgas korraldati küsitlus, millest muu hulgas selgus, et suurenenud oli arusaamine ettevõtte eesmärkidest, stressiga toime tulemise oskus ja soov panustada raskemate probleemide lahendamisse.', 'Tegelikult on märksa olulisem probleemi lahendamise oskus ja tahe õppida, aga ka julgus eksperimenteerida ja eksida. ', 'Tema tugevusteks on koostööle orienteeritus, uuendusmeelsus ning oskus lahendada probleeme kõigile osapooltele sobivalt.', 'Töökohtades võib kujundada n-ö õpipesasid ja korraldada virtuaalseid õpiringe või juhendatud probleemi lahendamise arutelusid.', 'TEPP koostööplatvorm ilmestab hästi Eesti kerksust ning oskust vastata kriisidele ja väljakutsetele uuenduslike lahendustega. ', 'EY Aasta Ettevõtja konkursi patroon president Alar Karis lausus oma videotervituses, et Eesti ettevõtjad on vastupidavad ja sihikindlad, kes oskavad näha ja kasutada uusi võimalusi ka seal, kus teised käega löövad.', 'näidata, et kolmikpöörde kriitiline eeldus on juhtimise kvaliteet ja muutuse juhtimise oskus;', 'Meeskonnaliikmed arendavad oma teadmisi järgmistes ärivaldkondades:\\nTurundus- ja müügijuhtimine\\nOstu- ja logistika juhtimine\\nTootmise- ja kvaliteedijuhtimine\\nFinantsjuhtimine\\nPersonalijuhtimine', 'Oskuse luua selge ja kaasav strateegia, saavutada inimeste pühendumus, et viia ellu püstitatud eesmärgid ning juhtida muutusi.', 'Meil on hea meel teada anda, et EAS pakub koos Majandus- ja Kommunikatsiooniministeerumiga sellel kevadel teile personaalseid koolitusi oma organisatsiooni turundusvõimekuste ja kommunikatsioonioskuste arendamiseks.  ', 'Turunduskoolituse eesmärk on anda osalejatele edasi praktilisi oskusi ja nippe oma organisatsiooni turundustegevuste elluviimiseks (kas turundustegevusi ise tehes või olles tark tellija).', 'Tasub tuua esile oma toote eelised ja faktorid, miks see eristub turul olevatest toodetest.', 'Suhtles aktiivselt, leidis õige Prantsuse esindaja, panustas ja panustab endiselt sotsiaalmeediasse, toodete degustatsioonidesse, erinevatesse võimalustesse tooteid esile tõsta.', 'Ei tasu unustada, et poeketti saamine on vaid esimene etapp, seejärel tuleb sama intensiivselt panustada sellesse, et toode riiulitel püsiks.', 'Facebookil on nüüd Eestis oma esindaja, kes kutsus EVEAd Facebookiga koostööd tegema, et aidata väikeettevõtjatel parandada oma digiturunduse ja e-kauplemise oskusi sotsiaalmeedias.', 'Ära jäta kasutamata võimalust omandada oskused, kuidas arendada oma äri veebis!', 'Kommunikatsioonikoolitus on mõeldud neile, kelle tööülesannete hulka kuulub organisatsiooni tegevuste, saavutuste, eesmärkide jne osas info suuremale avalikkusele edastamine.', 'Ühest küljest on oluline oma valdkonda tunda ja teisalt peaks seda sisu suutma ka oma õpilastele nii edasi anda, et nad nende teadmiste ja oskustega töökeskkonnas toime tuleks.', 'Aktiivse ja innuka uuendajana lööb tema silm kohe särama, kui on võimalik lastele millegi uue õpetamisel kasutada uudseid meetodeid ja vahendeid.', 'Kutseõppe juhid peavad suutma kutseõpetajaid motiveerida pikaajaliselt, korraldama töö nii, et anda aega pidevaks enesearenguks ja täiendamiseks ning proovida minimaliseerida läbipõlemist.', 'Meeskondade juhtimine nõuab sootuks teistmoodi oskusi kui produktiivsuse kasvatamine ja tootmisliini timmimine. ', 'Kui varem sooviti kedagi, kes ütleb, kuidas tuleb teha ja kui mitu korda, siis nüüd eelistatakse neid juhte, kes lasevad endal mõelda ja samas toetavad töötajaid (põhimõte coach vs. Boss). ', 'Tulemuslik meeskonnajuhtimine kaugtööl', 'Veebiseminaril räägib Indrek Maripuu, kuidas efektiivselt juhtida sõltumata sellest, kus meeskonnaliikmed tööd teevad.', 'Kõige suurem proovikivi on järelkasvu tagamine nii, et inimesed, kes jätkavad organisatsioonis pärast sind, on tunduvalt paremad või vähemalt sama head, et tagada organisatsiooni areng ja püsimajäämine. Sellega on seotud ka oma meeskonna eest hoolitsemine.', 'Kindlasti juhtimiskogemused ja -oskused, sest me koolitame suurest osast noortest juhte.', 'Võtmesõnad on märkamine ja töötajaga suhtlemine, seda nii igapäevatöös kui ka juhina regulaarselt selleks aega võttes.', 'Päeva tulemusena arendate:\\nMeeskonnatööd\\nStrateegilist mõtlemist\\nJuhtimisoskust\\nOtsustusoskus', 'Kui küsida juhtidelt, kuidas motiveerida töötajaid, siis kõige rohkem vastatakse, et tuleb palka juurde panna. ', 'Tegelikult on meie töö ikkagi suures osas seotud läbirääkimiste ja koostööga ning seda me ka õpetame. ', 'Marje on innustanud õpilasi läbi viima erinevaid koostööprojekte.', '5 kauneima Eesti lasteraamatu žürii esinaine Anu Kalm rõõmustab ilusate lasteraamatute rohkuse üle ning nendib, et nutiajastul on üha olulisem visuaalne kirjaoskus, oskus valida sobivat kirjatüüpi ning kõike tervikuks kokku panna.', 'Võistlused kestavad mitu päeva ning igal võistlusalal hinnatakse nii tehnilist sooritust, meeskonnatööd kui ka suhtlemist ja oskust töötada projektidega.', 'Diana ütles, et ettevõtted võiksid rohkem teha koostööd. Näiteks klientide koos teenindamine ja selles ühisosa leidmine võiks olla mõlemale poolele kasulik.', 'Äri tehakse inimeste vahel. Naiste tugevuseks on sotsiaalsed oskused, mis tulevad ärimaailmas alati kasuks.', 'Me anname neile planeerimisoskuse, grupidünaamikast arusaamise ja veel väga palju teoreetilisi teadmisi.', 'Kolmandaks oskavad nad kollektiivis toime tulla ja on orienteeritud meeskonnatööle, et täita ühist eesmärki.', 'Meie noored oskavad üksteisega paremini arvestada ja stressirohketes olukordades toime tulla nii, et meeskond jätkab efektiivset tegutsemist.', 'Võttes arvesse logistikasektori ettevõtete sidusust äriprotsesside läbiviimisel tarneahelas, samuti paralleelsete tarneahelate olemasolu, on koostöö kaudu võimalik luua märgatavat ressursside kokkuhoidu ning tõsta efektiivsust.', 'Varasemate projektide käigus on saavutatud oskused koostööks ning suudetud kaardistada olulisemad ning tulemuslikumad sihtriigid. ', 'Ehitame üles koostööd, mitte ei võistle omavahel, sest Euroopas teatakse meie tootjaid Baltikumi nime all,“ rääkis Grikis.', '“Parimates meeskondades kuulavad meeskonna liikmed üksteist ning mõistavad teiste tundeid ja vajadusi.”', 'Samuti kirjeldatakse, et virtuaalne juht peaks olema hea suhtleja, algatusvõimeline, paindlik ning demonstreerima õppimis- ja muutumisvõimet.', 'Tundsin, et pean muutuma paremaks inimestega suhtlemises, ja saada sellises koguses kogemust ühe suvega tundus hea plaan. ', 'Eestlasele on kontaktide leidmine ja suhtlemine üritustel keeruline ülesanne, kuid kõik networkingu põhitõed on õpitavad.', 'See on oskus olla teadlik end mõjutavatest emotsioonidest, võime seda teadmist kasutada arusaadavalt ning mõistlikult nii eneseväljendamisel kui ka suhetes teistega. ', 'Nüüd soovitakse selle asemel saada pidevat tagasisidet jutuajamiste, mitte nõrkuste analüüsi teel. ', 'Paljud ettevõtted on võtnud aluseks coaching conversations’i põhimõtted, mis keskenduvad eesmärkidele ja töötajate võimestamisele.', 'Töötaja võib näiteks ise märku anda, et praeguses rollis on lagi käes ja vaja oleks karjäärisihid üle vaadata. Või on tunda süvenevat rahulolematust, kuid puudub selgus, mida saaks teisiti teha. Siin saavad abiks olla ka väljastpoolt organisatsiooni kaasatud karjäärinõustajad ja coach’id.', 'International Coaching Federation toob välja järgmised erinevused: kui team building tegeleb põhiliselt suhete arendamisega ja treening uute oskuste omandamisega, siis team coaching arendab eesmärkide saavutamise oskusi ja meeskonna jätkusuutlikkust.', 'Mitmekülgne ja ennastjuhtiv töötaja on väärtus igale organisatsioonile ning arengu toetamine oluline osa töötaja karjääriteekonna kujundamisest.', 'Tisleritööd iseloomustab pigem iseseisev tegutsemine, mis nõuab oskust oma tegevust kavandada ja suurt enesedistsipliini.', 'Karin Künnapas: julgust asju ette võtta ei tasu alahinnata.', 'Tegemist on inimesega, kes on avatud muutustele nii koolis kui ka iseendas, alati valmis uuteks väljakutseteks ning leiab võimaluse ka kõige keerulisemate ideede elluviimiseks. ', '„Faktiteadmiste kõrval on üha olulisem õppimise vorm ning oskus erinevates olukordades hakkama saada,“ ütles Laidmets.', '72% juhtidest tõi kõige tähtsama tegurina välja oma töötajate kohanemisvõime, valmisoleku uusi oskusi omandada ja liikuda uude tööalasesse rolli. ', 'Sagedased muutused tööelus tähendavad ka valmisolekut töö käigus pidevalt uusi oskusi ja teadmisi omandada ning arengueesmärke seada, et suurendada nn karjääri kohanemisvõimet.', 'On leitud, et kõige enam suurendab töötaja karjääri kohanemisvõimet oskus vastavalt vajadusele kasutada erinevaid enda arendamise viise. Näiteks kogenumatelt kolleegidelt tagasisidet küsides, iseseisvalt infot juurde otsides, võimaluste avanedes täiendus- ja ümberõppes osaledes.', 'Ameerika on oma müügioskustelt Euroopast väga palju ees. ', 'Palju on juttu sellest, et eestlased pole head müügimehed ning meie müügioskused jätavad pehmelt öeldes soovida', 'Müügitöö on ühelt poolt töökus ja teiselt poolt oskus. ', 'Müümine on oskus ning maailmas on väga vähe ettevõtteid, mille kogemustepagas selles valdkonnas on suurem kui Southwesternil.', 'Vaatame seminaril otsa esinemishirmu tekkemehhanismidele ja viisidele, kuidas lühikeses ja pikas perspektiivis ärevusega paremini toime tulla.', 'Samuti vaatame, milline on hea avalik esinemine ja kuidas oma esinemisoskust parandada.', 'Kui soovid oma avaliku esinemise oskusi parandada ning esinemisärevuse seljatada, on seminar sulle heaks sissejuhatuseks teema ettevõtmisel.', 'Töötoas saad teada, kuidas tunda ennast networkingu käigus enesekindlana ning leida sobivaid kontakte.', 'Töötoa turvalises keskkonnas õpid looma tugevaid ja väärtuslikke võrgustikke ning lisaks saad teada, milliseid vigu networkimisel vältida.', 'Tule arenda ennast ning koos sellega oma ettevõtlust - välisturgudele minekul tuleb networkingu oskus ainult kasuks.', 'Kokkulepped paljude piirkonna ettevõtetega parktikabaasideks olemiseks ja arvukad külalisõpetajad erinevatelt elualadelt kinnitavad õpetaja oskust luua toimivaid koostöösuhteid eelkõige õpilaste arengueesmärke silmas pidades. ', 'Suurepärane planeerimisoskus ja teiste soovidega arvestamine on teinud temast kõrgelt hinnatud noorte ja haridusasutustega suhtleja.', 'Kuidas püstitada meeskonnaga eesmärke nii, et see toetab nende saavutamist sõltumata asukohast?', 'Tähelepanu väärib tema oskus leida rahvusvahelise ambitsiooniga ideedele erinevate projektide kaudu rahastus.', 'Teiseks on mõistlik luua just oma ettevõttele sobiv ajatemplite kasutamise lahendus, sest tembeldamine ei ole ühekordne ja see vajadus tekib järgnevate dokumentide suhtes ka tulevikus.', 'Ent tulevikus muutub edukaks saamisel järjest olulisemaks ka kaugemale ja enda kõrvale nägemine, tulevikusignaalide tajumine ja sellega arvestamise oskus,” ütles president Kersti Kaljulaid.', 'Üks külg on kindlasti hanketegevused. Eesti ettevõtjad tagavad meile suure osa vajalikust materjalist, alates toidust sööklas kuni kasarmute ehituseni. ', 'Kõige suurem ja tähtsam osa on koostöö seoses reservväega, sest me tahame ettevõtjatelt erinevates olukordades saada inimressurssi.', 'Seda enam, et kui peaks tekkima reaalne olukord, kus reservvägi tuleb kokku kutsuda üleöö ja teadmata perioodiks, siis normaalne elu ning ka äritegevus saavad tugevalt häiritud, kuid selle vältimiseks me saame juba praegu plaani pidada ja võimalikke riske maandada.', 'Oluline on tähelepanu pöörata teeninduskultuurile, sest mitte alati ei ole Keeleametile laekunud kaebuse peamiseks põhjuseks keeleoskuse puudumine, vaid teeninduskultuuri puudumine.', 'Kõik töökollektiivid, kuhu asub tööle Ukraina sõjapõgenikke, võiksid neid toetada eesti keele õppimisel.', 'Kui aga aja möödudes selgub, et sõjapõgenikust töötajal tuleb jääda Eestisse pikemaks ajaks, näiteks mitmeks aastaks, ootame ka tööandjalt initsiatiivi, et tagada et nende töötajate nõutaval tasemel eesti keele oskus.', 'Meeskond FictionFeel on näidanud üles sihikindlust idee arendamisel ja elluviimisel, tulnud pühendunud meeskonnana hästi toime alustava ettevõtja väljakutsetega ja kasutanud oskuslikult lisaks STARTER programmile kogu start-up ökosüsteemi võimalusi idee arendamisel ning teadmiste ja kogemuste omandamisel.', 'Marje Vaan on Pärnu Vanalinna Põhikooli huvijuht, kes innovaatilise ja ettevõtliku õpetajana on   ettevõtlusõppe oskuslikult lõiminud erinevate õppeainetega. Marje on loonud koolis süsteemi õpilaste ettevõtlikkuse arendamiseks ja ettevõtlusõppe juurutamiseks. Ta teeb koostööd erinevate partneritega väljapool kooli ning nõustab ja toetab kolleege ettevõtlusõppe lõimimisel ainetundidesse.', 'Modernworkplacelearning.com-i küsitluse järgi on töötajate kõige eelistatumad viisid õppida igapäevase töö käigus, kolleegidega kogemuste jagamine (peer learning), ise veebist teadmisi kogudes, aga ka juhi tagasiside ja juhendamine.', 'Metsanduse juhtide ja tippspetsialistide, sh ostu- ja müügijuhtide olulisteks erialasteks oskusteks ja teadmisteks on laiaulatuslikud metsabioloogia ja mullastikualased teadmised, metsaressursi pikaajalise strateegilise planeerimise oskus ja kontseptuaalne mõtlemisoskus. Neil on võime käsitleda metsa majandamist ühe osana majandusest ja ettevõtlusest ning näha ja planeerida kaugele ette, sest metsanduses ei toimu protsessid ühe inimpõlve jooksul.', 'Metsanduse juhtidel ja tippspetsialistidel jääb praegu enim puudu oskusest näha metsamajandamist ja puidutööstust ühe osana kogu majandusest ja ettevõtlusest, probleemilahendamise oskusest, ideede genereerimise ning inimeste juhtimise oskusest.', 'Samuti on puudu ruumilise ja strateegilise planeerimise võimekusest, kontseptuaalsest mõtlemisoskusest ning finantsnäitajate lugemise oskusest.', 'Nende kasvava tähtsusega üldiseks oskuseks on strateegilise planeerimise oskus, kontseptuaalne mõtlemisoskus, suhtlemisoskus ja valdkondlike õigusaktide tundmine ning IKT-lahenduste rakendamine. ', 'Üldistest oskustest jääb puudu analüütilise mõtlemise võimest, algteadmistest ruumilise planeerimise kohta ja kontseptuaalsest mõtlemisoskusest.', 'Puidu- või mööblitööstuse juhtide kasvava tähtsusega erialasteks oskusteks on valdkonnaspetsiifilise ettevõtluse hea tundmine, pikaajaline planeerimine, tööstuse tootmisprotsessi tundmine ja selle töö korraldamine tootmises algusest lõpuni.', 'Kasvava tähtsusega üldisteks oskusteks on analüüsivõime , läbirääkimise ja veenmise oskus, sihikindlus , eesmärkide seadmine, probleemilahendamise, meeskonnatöö ja koostööoskus ning oskus tellida ja rakendada valdkonnaspetsiifilisi IKT-lahendusi.', 'Puitkonstruktsioonide projekteerijate kasvava tähtsusega erialasteks oskusteks ja teadmisteks on toodete, sh puitmajade projekteerimise eripärade tundmine, puitmaterjali eripärade ja materjalitehnoloogia tundmine, tööprotsesside tundmine, jooniste koostamine ja konstrueerimine, jooniste lugemise oskus nii käsitsi kui arvutil, CNC töötlemiskeskustele programmide koostamine, toodete projekteerimine, joonestamise ja projekteerimistarkvaraga töötamine, sh targa tellija kompetents – milline tarkvara, milliseks lahenduseks ja milliste tingimustega sobib, millised kulutused on efektiivsed  ning millist infot süsteemist koguda tasub.', 'Tootearendajate kasvava tähtsusega erialasteks oskusteks ja teadmisteks on puitmaterjali eripärade ja materjalitehnoloogia tundmine, tootmistehnoloogia tundmine, joonestamine ja projekteerimine, sh CAD-CAM-i, MathCAD-i ja 3D projekteerimine.', 'Nende kasvava tähtsusega üldisteks oskusteks ja hoiakuteks on analüüsivõime, ruumiline mõtlemine, planeerimise oskus, finantside lugemisoskus ja eelarvestamine , ajajuhtimine, suhtlemisoskus ja töötamine inimestega ning kirjutamine ja raporteerimine.', 'Tehnoloogi, sh mööblitoodete tehnoloogi kasvava tähtsusega erialasteks oskusteks ja teadmisteks on oma valdkonna toodete tootearenduse tehniliste eripärade tundmine, puitmaterjali eripärade ja materjalitehnoloogia tundmine, tööprotsesside tundmine, jooniste koostamine ja konstrueerimine, jooniste lugemise oskus nii käsitsi kui arvutil  ning joonestamise ja projekteerimistarkvaraga töötamine.', 'Tehnik-joonestajate kasvava tähtsusega erialasteks oskusteks ja teadmisteks on toodete, sh puitmajade projekteerimise eripärade tundmine, puitmaterjali eripärade ja materjalitehnoloogia tundmine, tööprotsesside tundmine, jooniste koostamine ja konstrueerimine, jooniste lugemise oskus (nii käsitsi kui arvutil joonistatud ) ning joonestamise ja projekteerimistarkvaraga töötamine.', 'Pehme mööbli valmistajatel on puudu tööstuses uue pehme mööbli või selle osade koostamisega seotud käelistest oskustest   ja oma osa mõistmisest tootmise tervikprotsessis.', 'Olulised on teadmised puidukuivatamisest, aspiratsioonist, arusaamine detailide ja toodete valmistamise ja viimistlemise tsüklist ning mõistmine, mida tehti enne, kui detail või toode viimistlusse läheb.', 'Vajaka jääb ka materjalide tundmisest  ja materjalide säästlikust kasutamisest, teadmistest puidukuivatamisest ja aspiratsioonist, arusaamisest detailide ja toodete valmistamise ja viimistlemise tsüklist, mõistmisest, mida tehti enne, kui detail või toode viimistlusse läheb.', 'Puitdetailide viimistlejate kasvava tähtsusega erialasteks oskusteks ja teadmisteks on materjalide tundmine  ja säästlikult kasutamine, puidukuivatamine, aspiratsioon, arusaamine detailide ja toodete valmistamise ja viimistlemise tsüklist ning detailidele ja toodetele esitatavatest kvaliteedinõuetest, mõistmine, mida tehti enne, kui detail või toode viimistlusse läheb.', 'Puidupingioperaatoritel jääb puudu teadmistest tootmisprotsessidest ja nende juhtimisest, materjalide ja toodete tundmisest, selle kohta, milline puit sobib milliseks tooteks  ning kuidas seda kõige efektiivsemalt saada.', 'Puitplaatide tootmise, vineeri töötlemisega ja saematerjalide tootmisega seotud liinioperaatoritel jääb puudu teadmistest tootmisprotsessidest ja nende juhtimise, materjalide  ja toodete tundmisest, selle kohta, milline puit sobib milliseks tooteks ja kuidas seda kõige efektiivsemalt saada.', 'Lisaks headele metsamajanduslikele teadmistele on olulised teadmised puidu omadustest, toodetest ning nende turustamisest, aga ka logistika põhimõtete tundmine ja ladude  ning teede planeerimise oskus.', 'Müügi- ja ostujuhtidel on eriti tähtsal kohal üldised oskused ja teadmised. Kasvava tähtsusega üldisteks oskusteks on võõrkeelte valdamine, riskide juhtimine, logistika põhimõtete tundmine ja strateegiline ladude planeerimise oskus, meeskonnatöö oskus ning järjest kasvav valdkonnaspetsiifiliste IKT-lahenduste tellimise  ja rakendamise oskus.', 'Üldistest teadmistest, oskustest ja hoiakutest jätavad soovida kohuse ja vastutustunne ja erialaste IKT-lahenduste kasutamine  –programmide kirjutamise oskus  (programmeerimine), teadmised matemaatikast, läbirääkimiste oskus ja ettevõtlikkus.', 'Üldistest oskustest ja hoiakutest on kasva tähtsusega IKT-lahenduste kasutamine ja rutiinitaluvus.', 'Kasvavateks üldisteks oskusteks on protsesside, ressursside, riskide ja inimeste juhtimise oskus, läbirääkimise oskus, sihikindlus ja eesmärkide seadmine, meeskonnatöö oskus, keelte valdamine ning oskus tellida ja rakendada valdkonnaspetsiifilisi IKT-lahendusi. ', 'Üldistest oskustest ja hoiakutest on puudu teadmistest töö efektiivsemaks muutmise võimalustest, materjali efektiivsest kasutamisest, planeerimise oskusest ja ajajuhtimisest, suhtlemisoskusest, meeskonnatöö organiseerimisest ning tööohutusest ja töötervishoidust ning isikukaitsevahendite kasutamisest.', 'Vähesed on oskused puiduvarumise korraldamise ja puidu mahu mõõtmise osas.', 'Nende kasvava tähtsusega üldisteks oskusteks, teadmisteks ja hoiakuteks on meeskonnatöö oskus.', 'Kasvava tähtsusega üldisteks oskusteks, teadmisteks ja hoiakuteks on meeskonnatöö oskus.', 'Ta töötab meeskonna liikmena, jälgib tööprotsessist kinnipidamist, tootlikkust, hoiab toodangu kvaliteeti ning järgib töö- ja keskkonnaohutuse nõudeid.', 'Puidu- ja mööblitööstuse müügi- ja ostujuhtidel jääb puudu eksportturgude kultuuri tundmisest ja vahetust suhtlemisoskusest välisturgudel. Täiendamist vajavad valdkonnaspetsiifiliste IKT-lahenduste tellimise ja rakendamise oskus ning selge ja korrektne eesti keel.', 'Puidu- ja mööblitööstuse juhtidel jääb puudu ettevõtlust ja juhtimist puudutavatest oskustest, probleemilahendamise oskusest, finantsnäitajate lugemise oskusest ja ideede genereerimise võimest  koos elluviimise oskusega.', 'Forvarderioperaatori kasvava tähtsusega erialasteks oskusteks on oskus forvarderiga ergonoomiliselt sõita ja töötada hüdrotõstukiga, hinnata laaditud ja ladustatud puidu kogust ning tunda puidurikkeid, vedada bioenergeetika toorainet, mis on veidi erinev tavapärasest ümarpuidu kokkuveost, hooldada masinat igapäevaselt ning sooritada töövõtteid ohutult ja turvaliselt.', 'Forvarderioperaatoritel jääb puudu elektriskeemi lugemise oskustest juhtmekatkestuste välja selgitamiseks, sortimentide ja puidurikete tundmisest, koormasse laaditud puidu mahu hindamise ja virnatäiuse koefitsiendi määramise oskusest ning väiksemate remonttööde tegemiseks masina mehhaanika tundmisest, aga ka efektiivsete ja ergonoomiliste töövõtete ning IKT-lahenduste rakendamisest (vanema põlvkonna töötajatel).', 'Puudu jääb koormasse laaditud puidu mahu hindamise  ja virnatäiuse koefitsiendi määramise oskusest, puidurikete tundmisest, IKT-lahenduste (nutikad pardaarvutid, e-veoselehed, navigeerimine ehk oskus sõita koordinaatide järgi)  ning efektiivsete ja ergonoomiliste töövõtete rakendamisest.', 'Arboristi kasvava tähtsusega erialasteks oskusteks ja teadmisteks on tööohutus ja -turvalisus, ökoloogia ja diagnostika, töötamine tõstukitelt ja tööplatvormidelt , võsa- ja kettsaega töötamine ja saele esmase hoolduse tegemine. Suureneb nutiseadmete ja IKT-lahenduste kasutamine.', 'Suureneb nutiseadmete ja IKT-lahenduste kasutamine.', 'Harvesterioperaatoritel jääb puudu elektriskeemi lugemise oskustest juhtmekatkestuste välja selgitamiseks, sortimentide ja puidurikete tundmisest, kalibreerimise ja järkamisfaili koostamise oskusest, väiksemate remonttööde tegemiseks masina mehhaanika tundmisest ja rikete tuvastamise oskusest, IKT-lahenduste (eriti vanema põlvkonna töötajatel) ning efektiivsete ja ergonoomiliste töövõtete rakendamisest.', 'Metsaveo ja puiduhakkuri veokijuhtide kasvava tähtsusega oskusteks on hüdrotõstukiga töötamine, oskus tagurdada kitsal metsateel, puidu sortimentide ja puidurikete tundmine, IKT-lahenduste rakendamine (nutikad pardaarvutid, e-veoselehed, navigeerimine ehk sõitmine koordinaatide järgi) ja võime sooritada töövõtteid ohutult, turvaliselt ning ergonoomiliselt. ', 'Olulised on teadmised tugevusarvutustest ja matemaatikast, mehhanismidest, tööstustehnoloogiast, erialastest IKT-lahendustest — raalprojekteerimise ja muu tarkvara, sh majandustarkvara kasutamise oskus, CNC töötlemiskeskustele programmide koostamine ja targa tellija kompetents ehk teadmised selle kohta, milline tarkvara, milliseks lahenduseks ja milliste tingimustega sobib, samuti millised kulutused on efektiivsed ning millist infot süsteemist koguda tasub.', 'Puudu jääb jooniste koostamise ja konstrueerimise  ning joonestamise ja projekteerimistarkvaraga töötamise oskusest.', 'Tootmisseadmete tehnikute kasvava tähtsusega erialasteks oskusteks ja teadmisteks on tootmismasinate, -protsesside, -automaatika, -süsteemide, -liinide ja robotite seadistamine, töös hoidmine, hooldamine ja programmeerimine, lõikeriistade teritustehnoloogiate tundmine, elektrivoolu jooniste lugemise oskus, erialaste IKT-lahenduste kasutamine, sh programmide ja masinatega seotud patenditud seadmete kasutamise reeglite tundmine.', 'Raietöölise kasvava tähtsusega erialasteks oskusteks on võsa- ja kettsae kasutamine ning hooldamine, tööohutus ja -turvalisus, sh töö- ja turvavahendite kasutamine ning ergonoomiliste töövõtete kasutamine.', 'Harvesterioperaatori kasvava tähtsusega erialasteks oskusteks on võime iseseisvalt valida langetatavad puud, oskus harvesteriga ergonoomiliselt sõita, kalibreerida harvesteri mõõtmissüsteeme, tunda puidurikkeid, ohjata tarka masinat, teha masina igapäevast hooldust, kasutada võsagiljotiini (bioenergeetika seade) ning sooritada töövõtteid ohutult ja turvaliselt.', 'Tootmisseadmete tehnikutel jääb puudu tootmismasinate ja -liinide seadistamise, töös hoidmise, hoolduse ja programmeerimise oskusest ning tööohutuse ja töötervishoiu ning isikukaitsevahendite kasutamise reeglite järgimisest.', 'Tislerite kasvava tähtsusega erialasteks oskusteks ja teadmisteks on jooniste ja tehnoloogiakaardi lugemise ning koostamise oskus, detailidele ja toodetele esitatavate kvaliteedinõuete tundmine ning materjalide tundmine.', 'Tisleritel on puudu jooniste ja tehnoloogiakaardi lugemise ning koostamise oskusest ja teadmistest detailidele ja toodetele esitatavatest kvaliteedinõuetest.', 'Metsaveo ja puiduhakkuri veokijuhtidel on probleemiks kitsal metsateel tagurdamine ja väiksemate remonttööde tegemine.', 'Puitkonstruktsioonide püstitajate kasvava tähtsusega erialasteks oskusteks ja teadmisteks on projektdokumentatsiooni lugemise oskus, elementide õigesse konstruktsiooni lõikamise oskus CNC töötlemiskeskusel ning tööriistade-seadmete kasutamise, hooldamise ja remontimise oskus.', 'Puitmaja (sh käsitöö palkmaja) ehitaja või tootja kasvava tähtsusega erialasteks oskusteks ja teadmisteks on mootorsae (kettsaag) kasutamise oskus (käsitsi tootjal), projektdokumentatsiooni lugemise oskus ning tööriistade-seadmete kasutamise, hooldamise ja remontimise oskus. ', 'Liinioperaatorite kasvava tähtsusega erialasteks oskusteks ja teadmisteks on masinate ja liinide tööpõhimõtete ning tehnoloogiate tundmine, programmide kasutamine, tootmisliinide tootlikkuse tõhustamine, puitmaterjali tundmine.', 'Puudu jääb puu bioloogiaga arvestamisest puude hooldusel, teadmistest lõikuse spetsiifilistest viisidest, suurte puude ümberistutamisest, puude sanitaarse seisundi määramisest (mädanike ja nende leviku ulatuse määramine tomograafiga)  kahjurputukate tundmisest.', 'Puidupingioperaatori kasvava tähtsusega erialasteks oskusteks ja teadmisteks on puidutöötlemispinkide ja -seadmete ehituse ning tööpõhimõtete tundmine (sh CNC töötlemiskeskused), detailide lõiketöötlemise režiimide ning kasutatavate puit- ja puidupõhiste materjalide ning toodete omaduste ja kvaliteedi tundmine, tööjoonisete lugemise  ja materjalide ökonoomse kasutamise oskus. ', 'Raietöölistel jääb puudu noore metsa kasvamise ja kasvatamise teadmistest, ergonoomiliste töövõtete kasutamisest võsasaega töötamisel ja töö kvaliteedi hindamise oskusest.', 'Üheks peamiseks arendamist vajavaks oskuseks on efektiivsete ja ergonoomiliste töövõtete rakendamine.', 'Kasvavaks oskuseks on ka efektiivsete ja ergonoomiliste töövõtete omamise oskus.', 'Ka siin on peamiseks kasvavaks oskuseks efektiivsete ja ergonoomiliste töövõtete omamise oskus.', 'Kuigi vaja läheb lihtsamate remonttööde tegemise oskust, on masinate remontimine tulevikus tõenäoliselt eraldi amet, mis tähendab, et masinaoperaatoritel selle oskuse järele vajadus väheneb.', 'Kuigi vaja läheb lihtsamate remonttööde tegemise oskust, on masinate remontimine eraldi amet, mis tähendab, et autojuhid ei pea sellega ise nii palju tegelema.', 'Samas kasvab vajadus osata harvesteri rikkeid tuvastada.', 'Samas kasvab vajadus osata forvarderi rikkeid tuvastada.', 'Üldistest teadmistest, oskustest ja hoiakutest on jätkuvalt olulised teadmised matemaatikast ning kohuse- ja vastutustunne.', 'Võsalõikaja. Tööülesanded - võsalõikus teeservadest ja muudelt aladelt; - hekkide pügamine; - ohtlike puude langetamine ja koristus; - okste purustamine oksapurustajaga ja/või äravedu; - vajadusel muud haljastustööd', 'Nõuded kandidaadile Haridustase põhiharidus Keeleoskus Keel\\tKõnes\\tKirjas eesti keel - nõutud\\tB1 - keskmine\\tA2 – vähene Juhiload B Arvutioskus algtase Muud nõuded - soov ja valmisolek töötada välitingimustes erinevate ilmastikuolude korral (välja arvata laussadu, torm, muud ekstreemsused); - hea tervis ja vastupidavus füüsilisel tööl', 'Kasutab oma töös inglise keelt A1 tasemel, lisa 2 – Keelte oskustasemete kirjeldused.', 'Mõistab töövahendite ja masinate juhistes kasutatavaid tähistusi.\\nMõistab seadme juhtpaneeli nuppude, lülitite ja märgutulede funktsioone.1) Teeb seadmetele ja/või töövahenditele kasutamiseelse kontrolli. \\n2) Käivitab tööseadmed vastavalt kasutusjuhendis toodud järjekorrale. \\n3) Valib tööks sobiva juhtprogrammi.Lülitab välja seadmed ja abiseadmed vastavalt kasutusjuhendis toodud järjekorrale, mõistes lülitusjärjekorra kriitilisust.1) Määrab telgede referentspunktid.\\n2) Lähtestab teljed (nullistamine).\\n3) Mõistab jõuallika ja abiseadmete funktsioone ja tööpõhimõtteid.Mõistab seadme arvjuhitavate telgede tähistusi ja nende liikumist.\\n4) Jälgib seadme tööprotsessi ja vajadusel peatab programmi, et korrigeerida masinas parameetreid ja/või materjali paigutust.1) Vajadusel korrigeerib lõikeparameetreid, mõistes erinevate lõikeparameetrite mõju lõiketulemusele.\\n2) Vajadusel muudab võimaluste piires kompensatsiooni väärtusi, saades aru kompensatsiooni mõjust detaili mõõtmetele.\\n3) Peale lõikeprogrammi lõppemist eemaldab detailid ja jäägid töölaualt.Mõõdab mõõtevahendite abil paindenurkade ja paindeservade väärtusi ning vajadusel korrigeerib neid, mõistes materjalide tagasivetrumise olemust ja korrektsioonide mõju painutuspingi telgede liikumisele.', 'Kasutab oma igapäevatöös arvutit infotöötluse ja kommunikatsiooni osas algtasemel kasutaja tasemel, lisa 1 – Digipädevuste enesehindamise skaala. \\xa0', '\\xa0Kasutab ettevõtte infohalduse tarkvara.', 'Kontrollib töö- ja mõõteriistade ning isikukaitsevahendite korrasolekut.1) Valib tööülesandele vastava juhtprogrammi, mõistes juhtprogrammi koostamisel kasutatud masinkoodi struktuuri.\\n2) Hindab juhtprogrammis kasutatud paigutusest (nesting) lähtuvat detailide ja laserpea kokkupõrke ohtu.\\n3) Paigaldab materjalilehe seadmesse manuaalselt, abiseadmete või seadmega ühendatud automaatse laadimisseadme abil materjali kahjustamata.\\n4) Paigaldab juhtprogrammis ettenähtud läätse ja düüsi, kontrollib ja vajadusel korrigeerib laserkiire tsentreeringut, mõistes laseri lõikepea seadistuse mõju lõiketulemustele.\\n5) Kalibreerib z-telje, käivitades vastava kalibreerimisprogrammi, mõistes jälgimisanduri tööpõhimõtet.1) Valib tööülesandele vastava juhtprogrammi, mõistes juhtprogrammi koostamisel kasutatud masinkoodi struktuuri.\\n2) Hindab juhtprogrammis kasutatud paigutusest (nesting) lähtuvat detailide ja laserpea kokkupõrke ohtu.\\n3) Paigaldab materjalilehe seadmesse manuaalselt, abiseadmete või seadmega ühendatud automaatse laadimisseadme abil materjali kahjustamata.\\n4) Paigaldab juhtprogrammis ettenähtud läätse ja düüsi, kontrollib ja vajadusel korrigeerib laserkiire tsentreeringut, mõistes laseri lõikepea seadistuse mõju lõiketulemustele.\\n5) Kalibreerib z-telje, käivitades vastava kalibreerimisprogrammi, mõistes jälgimisanduri tööpõhimõtet.\\n1) Koostab juhtpaneelil tööülesandele vastava juhtprogrammi,  kasutades painutusteooria alusteadmiseid (painutusmeetodid, painutusjärjekord, tööriistade määramise põhimõtted vastavalt materjalidele), peab kinni tööriistade tonnaaži piirangutest. \\n2) Tuvastab (teeb kindlaks) korrektse pinnalaotuse mõõtmed, mõistes painde mahaarvamisväärtuste (Bend deduction) mõju detaili mõõtmetele.\\n3) Paigaldab ja tsentreerib juhtprogrammis määratud painutustööriistad, mõistes painutustööriistade ja nende kinnitussüsteemide ohutu käsitlemise aluseid.\\n4) Seadistab seadme valguskaitse, mõistes valguskaitse kasutamise olulisust ja toimimise põhimõtet.', '1) Mõistab ohutusseadmete tööpõhimõtteid.\\n2) Seadmetel ja/või töövahenditel puuduste esinemisel teavitab viivitamatult vastutavat isikut.', 'Saab aru ettevõtte rollist tööstuses.', '1) Peab kinni tähtaegadest ja kokkulepetest.\\n2) Kasutab aega efektiivselt.', 'Kasutab võimalusi enesetäiendamiseks.', 'Osaleb aktiivselt parendusettepanekute tegemisel.', 'On teadlik oma tegevuse tagajärgedest.', 'Teeb koostööd kaastöötajatega.\\xa0 Annab oma panuse ühise tulemuse saavutamiseks.\\xa0', 'Annab konstruktiivset tagasisidet protsessi suutlikkuse kohta.', 'Järgib kõikides tööprotsessi etappides ettevõttes kehtestatud ohutusnõudeid (tuletööde eeskirjad, tõsteseadmete kasutus- ja ohutusnõuded ning käsitsi raskuste teisaldamisel kehtestatud nõuded). Järgib kõikides tööprotsessi etappides tööohutuse nõudeid.Järgib kõikides tööprotsessi etappides keskkonnahoiu nõudeid.Järgib kõikides tööprotsessi etappides keskkonnahoiu nõudeid.', 'Dokumenteerib tehtud kontroll- ja hooldustoimingud', 'Orienteerub tehnilistes joonistes.', 'Kontrollib detaili joonisele vastavust mõõtevahendite abil. (Detaili joonisele mittevastavuse korral tegutseb vastavalt ettevõttes kehtestatud reeglitele.)', 'Hindab visuaalselt materjali kvaliteeti, vältides defektse või kahjustatud materjali kasutamist.', 'Valib tööülesandele vastava materjali.Mõistab materjali standardites kasutatavaid tähistusi.', 'Ladustab tooteid, töövahendeid vm esemeid manuaalselt.', 'Valmistab ette tööprotsessist lähtuva ohutu töökoha.', 'cnc tootmissüsteemid', 'kiirprototüüpimise', 'tööstusdisaini', 'alamsüsteemide käitlemine', 'intellektuaalse omandi õigus', 'tööjuhiseid', 'ohutusnõuded', 'hangib infotehnoloogilisi vahendeid', 'cad programm', 'computer aided engineering', 'ruumikujutlusvõimet', 'mõtlemisoskust', 'LOOGILIST analüütilist mõtlemist', 'alusteadmised', 'vormistada', 'tehniliste jooniste vormistamise', 'paigaldab alamsüsteeme', 'paigaldamine', 'iseseisvalt', 'meeskonnatöös', 'hankida teavet', 'kavandab karjääri', 'tehniliste jooniste koostamise', 'koostejoonised', 'algatusvõime', 'andmebaas', 'äriplaan', 'automatiseerimine', 'elekter', 'elektriskeem', 'elektromehaanika', 'jootemeetodid', 'metallitöötlemispingid', 'poltühendus', 'kütteautomaatika', 'liikumisandur', 'hooneautomaatika', 'fotoelektriline andur', 'vastuvool', 'transistorid', 'eesti keel', 'ehitus', 'eneseväljendusoskus', 'hooldus', 'juhendamine', 'keevitamine', 'lukksepatööd', 'matemaatika', 'mõõtmine', 'mõõteriistad', 'mõõtkavad', 'elektronmõõteriistad', 'digitaalmõõteriistad', 'probleemsituatsiooni lahendamine', 'Sellesse gruppi kuuluvad valdkondlikes ettevõtetes töötavad müügi-, turundus-, kvaliteedi-, toote-, tarneala-, tootmis-, tsehhi- ja tehnikajuhid. Juhiks saamise eelduseks on ekspertide hinnangul ennekõike sobivad isikuomadused, piisav töökogemus ja erialane (soovitatavalt tehnikaalane) haridus. Juhtival positsioonil edukaks toimetulekuks on lisaks erialasele kompetentsile tarvis ka soovi ja oskust inimesi juhtida. MMT juhtide olulisteks oskusteks ja teadmisteks on laiapõhjalised tehnikaalased teadmised, analüüsioskus, strateegilise planeerimise oskus , protsesside juhtimise oskus, koostöövõime (sh oskus mõista klientide ja koostööpartnerite vajadusi), argumenteerimisoskus, keelteoskus ja kontseptuaalne mõtlemisoskus. ', 'Oluliseks peeti üleminekut varem tööstuses levinud pigem autoritaarselt juhtimisstiililt nn kaasavale juhtimisstiilile ning uute müügistrateegiate rakendamise oskust.', 'MMT juhtidel jääb ekspertide hinnangul enim puudu oskusest protsesse, ressursse  ja inimesi juhtida.', 'Kuna üha suurem osa tootmisest on projektipõhine, kus töötajad kuuluvad sageli erinevatesse projektimeeskondadesse või vahetuvad meeskonnaliikmed tihti, siis on järjest vajalikum suhtlemisoskus, meeskonna juhtimise oskus, strateegiline mõtlemine ja keelteoskus.', 'Seoses kasvava projektipõhise tootmise mahuga on ka oskustöötajatel suurenev vajadus osata olla meeskonnajuht ja uute töötajate juhendaja.', 'Projektipõhise tootmise mahu kasv eeldab ka oskustöötajatelt oskust olla meeskonnajuht ja uute töötajate juhendaja.', 'Projektipõhise tootmise mahu kasv eeldab ka oskustöötajatelt valmisolekut olla meeskonnajuht ja uute töötajate juhendaja.', 'Samuti rõhutati dokumentide koostamise oskust seoses vajadusega koostada nt tootmisjuhendeid ja kvaliteedistandardite lugemise ja mõistmise oskust.', 'Hetkel puuduolevate ja arendamist vajavate oskustena toodi inseneride puhul esile oskust hinnata oma tööd ettevõtja ja juhi perspektiivist, mõista tootmisprotsesse, oskust nendega oma töös arvestada ja strateegiliselt mõelda.', 'Meistritelt ja töödejuhatajatelt oodatakse erialaste IKT-lahenduste tundmist ja rakendamist ning esmatasandi juhtidena ka oskust personali planeerida ja mõista tootmiskulusid ja nende juhtimist.', 'Ettevõtjate hinnangul vajavad selle põhikutseala puhul täiendamist näiteks personali planeerimise, tootmiskulude mõistmise ja juhtimisega seotud teadmised.', 'Järjest enam nõutakse keevitajatelt n-ö tervikpildi nägemise oskust ja oskust teha kõrgema kvaliteediga keevisõmblusi.', 'Järjest enam nõutakse tooteid koostavatel töötajatel n-ö tervikpildi nägemise oskust üksikute töövõtete valdamise asemel, suuremat rõhku pannakse tööohutuse alaste nõuete tundmisele ja järgmisele.', 'Varasemast enam pannakse rõhku tööohutuse alaste nõuete tundmisele ja järgimisele, töö efektiivsusele ning tootmisprotsessi laiemale mõistmisele.', 'Tehnikaalaste teadmiste osas on kasvava tähtsusega uute tehnoloogiate ja materjalide tundmine, läbivalt rõhutati kõikide juhtide puhul aina olulisemaks erialaste IKT-lahenduste tundmist. Viimast peeti eriti tähtsaks otseselt tootmise juhtimisega seotud ametikohtadel.', 'Eraldi rõhutati müügi- ja turundusjuhtide puhul oskust planeerida tehnoloogia arengust lähtuvalt tulevikku, ehk oskust hinnata, mida ettevõte saaks ja võiks müüa nt 5 aasta pärast. ', 'Kasvava tähtsusega üldisteks oskusteks on protsesside, ressursside ja riskide juhtimise oskus, võõrkeelte (eelkõige inglise, saksa, vene keele) valdamine.', 'Inseneride puhul toodi kasvava tähtsusega üldiste oskustena välja meeskonnatöö, võõrkeelte ja suhtlemisoskust, mis on seotud projektipõhise tootmise kasvu ja rahvusvahelise koostööga.', 'Üldistest oskustest on kasvava olulisusega suhtlemisoskus, sh oskus ja julgus küsida vajadusel juhendamist (täiendavaid selgitusi) ja juhendada uusi töötajaid.', 'Seoses vajadusega kasutada töös võõrkeelseid dokumente ja osaleda välisfirmade poolt korraldatud koolitustel, on järjest suurema tähtsusega ka vähemalt ühe võõrkeele (inglise või saksa) oskus oma eriala piires.', 'Kasvava ja olulise trendina rõhutati oskust juhtida ettevõtte tööd läbi ettevõtte väärtuste ja võimet töötajaid motiveerida.', 'Valdkonna ja üldiste majandustrendide tundmisel ja mõistmisel on juhtidel samuti arenguruumi ning lisaks trendide tunnetamisele on tarvis juhtidel ka õppida nendega kohanduma ja ettevõtte tegevust majanduse üldiste suundumustega sobitama.', 'Seoses tehnoloogia arenguga on keevituses kasvav nõudlus uuemate keevitusmeetodite (nt hõõrdkeevitus, laserkeevitus) valdamise järele ja oluline uus oskus on keevitusrobotitega töötamine.', 'Traditsiooniliste keevitusmeetodite (elektroodkeevitus) kõrval, mis annavad keevitajale baasoskused, tuleb enam tähelepanu pöörata uutele keevitusmeetoditele ning töös kasutatavate abivahendite (rakiste) kasutamisele.', 'Ka siin leidsid eksperdid, et seoses tehnoloogia arenguga on valdkonnas kasvav nõudlus uuemaid keevitusmeetodeid valdavate töötajate järele ja lähitulevikus kasvab keevitusroboti operaatorite  vajadus.', 'Traditsiooniliste keevitusmeetodite (elektroodkeevitus) kõrval, mis annavad toodete ja konstruktsioonide valmistajatele keevitaja baasoskused, tuleb enam tähelepanu pöörata uutele keevitusmeetoditele ning töös kasutatavate abivahendite (rakiste) kasutamisele.', 'Lisaks erialastele IKT-oskustele ehk erinevate programmide tundmise ja rakendamise oskusele vajavad arendamist seadmete kiirseadistamise oskused (nt SMED oskused), teadmised uutest lõiketehnoloogiatest ja -instrumentidest, tööriistade ja -pinkide tarvikutest.', 'Viimistlustehnoloogiad on pidevas arenduses ja viimistlejate puhul on oluline erinevate pinnakatete ja tehnoloogiate tundmine.', 'Ettevõtete konkurentsivõime tagamiseks peavad juhid õppima rakendama tööstuses enam levinud juhtimisstrateegiate rakendamist (nt LEAN-juhtimine, erinevad kvaliteedialased süsteemid) ja täiendama ennast finantsjuhtimise põhitõdede vallas.', 'Muutused inseneridelt eeldatavatelt erialastelt oskustelt on seotud eelkõige nn neljanda tööstusrevolutsiooni (Industry 4.0) arengutega. Peamiste märksõnadena toodi intervjuudes ja grupitöödes välja üha laienevat robotite kasutamist  tootmises ning erialaste IKT-lahenduste tundmist ja rakendamist. Viimase puhul on oluline, et insenerid ei valdaks mitte ainult joonestus- ja seadmete juhtimisprogramme, vaid tunneks ka ettevõtte infohalduse tarkvarasid (nt PLM – Product Lifecycle Management) ja tootmise juhtimise (nt ERM – Enterprise Risk Management) lahendusi.', 'Kasvav vajadus on keevitajate järele, kes oskavad opereerida keevitusroboteid.', 'Kasvav vajadus on keevitusrobotite operaatorite oskuste järele.', 'Valdkonna ettevõtetes toimub üleminek konventsionaalsetelt metallitöö pinkidelt arvjuhtimisega tööpinkidele, mistõttu vajab valdkond üha enam APJ-pinkide seadistamist ja opereerimist  valdavaid oskustöölisi.', 'Ekspertide hinnangul ei valda kooli lõpetajad piisaval määral tööstuses kasutatavaid programmeerimiskeeli ja neil puuduvad praktilised oskused, et tulla edukalt toime arvprogrammjuhtimisega seadmetel töötamise ja seadmete seadistamisega.', 'Seoses tootmise automatiseerimisega tekib ka koostelukkseppadel vajadus õppida opereerima tootmisroboteid.', 'Mehhatroonikud täidavad lisaks hoolduse ja remondiga seotud ülesannetele sageli ka seadmete programmeerimise ja seadistamisega seotud ülesandeid ning seetõttu on nende puhul kasvava tähtsusega robotite seadistamise oskus, erinevate programmeerimiskeelte õppimise kogemus ja nt SMED põhioskuste omandamine ', 'Hooldustehnikute ja mehhatroonikute arendamist vajavad oskused on seotud erialase IKT ja tehnoloogia arenguga.', 'Mehaanikute ja lukkseppade töö muutub seoses tehnoloogia arenguga mehhatroonikute tööle üha sarnasemaks ning sellest tingituna on kasvava vajadusega erialased IKT oskused.', 'Ettevõtjad otsivad praktilise kogemusega spetsialiste, kes oleks kiiresti muutuvas tehnoloogilises keskkonnas õpi- ja kohanemisvõimelised.', 'Käsitsitöö asendub üha rohkem tööpinkide jälgimise ja haldamisega. See eeldab oskust mõista ja kasutada levinumaid tootmises kasutatavaid pinkide juhtimise tarkvarasid ja võimekust spetsialiseeruda vajadusel ümber ka tootmisrobotite operaatoriks või seadistajaks.', 'Praegustel inseneridel napib ekspertide hinnangul kvaliteedistandardite lugemise, mõistmise ja rakendamise oskusi.', 'Järjest rohkem pannakse rõhku tööohutuse alaste nõuete tundmisele ja järgimisele.', 'Lisaks erialastele oskustele on järjest olulisem tööohutusnõuete mõistmine ja järgimine.', 'Jätkuvalt olulised erialased oskused on jooniste, skeemide lugemise ja mõistmise oskus ning montaažioskus; tööohutusalaste nõuete mõistmine ja järgimine.', 'Tänastel meistritel ja töödejuhatajatel on arenguruumi üldistes tootmise korraldamist ja juhtimist puudutavates küsimustes. ', 'Kasvava tähtsusega on (tööstus)robotite hoolduse ja seadistamise oskused.', 'Ettevõtjad otsivad töökogemusega spetsialiste, kes oleks kiiresti muutuvas tehnoloogilises keskkonnas õpi- ja kohanemisvõimelised.', 'Samas ei kao IKT-oskuste kõrval vajadus n-ö traditsiooniliste oskuste järele, nagu jooniste lugemise ja montaažioskus.', 'Ettevõtjate hinnangul vajavad koolilõpetajate puhul arendamist jooniste lugemise, ruumilise mõtlemise ja montaažioskused.', 'Ettevõtjate hinnangul vajavad ka siin koolilõpetajate puhul arendamist jooniste lugemise, ruumilise mõtlemise ja montaažioskused.', 'Erialastest oskustest vajavad arendamist jooniste lugemise ja montaažioskused.', 'Olulisemaks muutub oskus töötada samaaegselt erinevate seadmetega, kuna IKT-lahenduste kasutuselevõtt võimaldab ühel inimesel töötada korraga mitmel tööpingil.', 'Seoses valdkonna kiire arenguga on pidev vajadus erialaseid oskusi täiendada, õppida juurde uusi tehnoloogiaid.']\n"
          ]
        }
      ]
    },
    {
      "cell_type": "code",
      "source": [
        "descriptions = [Text(text_description) for text_description in texts_descriptions[1:]]\n",
        "for description in descriptions:\n",
        "    description.tag_layer()\n",
        "    description['tokens']\n",
        "    description.words\n",
        "    description['morph_analysis']"
      ],
      "metadata": {
        "id": "SdcYi85vJNKs"
      },
      "execution_count": 52,
      "outputs": []
    },
    {
      "cell_type": "code",
      "source": [
        "\n",
        "words_skill_description = []\n",
        "\n",
        "for sentence in texts_descriptions:\n",
        "    text = Text(sentence)\n",
        "    text.tag_layer(['words'])\n",
        "    words_skill_description.append(text.words)"
      ],
      "metadata": {
        "id": "SqiGc0Mk8073"
      },
      "execution_count": 53,
      "outputs": []
    },
    {
      "cell_type": "code",
      "source": [
        "bag_of_words = []\n",
        "\n",
        "for sentence in words_skill_description:\n",
        "    for word in sentence:\n",
        "        bag_of_words.append(word.text)\n",
        "bag_of_words = list(set(bag_of_words))\n",
        "print(bag_of_words)"
      ],
      "metadata": {
        "colab": {
          "base_uri": "https://localhost:8080/"
        },
        "id": "yKii8-jd9fVg",
        "outputId": "c06a6635-c6e6-483a-b66d-6eae7004edc8"
      },
      "execution_count": 54,
      "outputs": [
        {
          "output_type": "stream",
          "name": "stdout",
          "text": [
            "['andmeanalüüsist', 'e-valitsemine', 'Sellega', 'erialased', 'meie', 'arendamisest', 'tähtsaks', 'võsasaega', 'kasutamata', 'piisaval', 'isikuomadusi', 'pikas', 'tagamiseks', 'elektriskeem', 'Puidupingioperaatori', 'mittevastavuse', 'selles', 'väärib', 'olevatest', 'kogemuste', 'koostööpartnerite', 'projektidega', 'ergonoomiliselt', 'EY', 'suhtlemises', 'aspiratsioon', 'parameetreid', 'ERM', 'hooldus', 'tihti', 'tööturule', 'inimressurssi', 'kontrolli', 'haridus', 'IKT-oskustele', 'EAS', 'mõõtmise', 'järelkasvu', 'kohaselt', 'tootmisprotsessidest', 'tähendab', 'kauneima', 'puiduhakkuri', 'suhetes', 'Kokkulepped', 'ühe-', 'pärast', 'rõõmustab', 'füüsilisel', 'defektse', 'valguskaitse', 'saanud', 'strateegilise', 'puhul', 'tasemele', 'detail', 'IKT-ga', 'Oskuse', 'räägib', 'ideaalilähedane', 'Seoses', 'kogemustepagas', 'ettevõtetega', 'juhtimise', 'Töövõtted', 'sobiv', 'Ettevõtluse', 'saavutada', 'partneritega', 'valdkonna', 'kriitilisust', 'tehtud', 'seadmete', 'mängumaa', 'avaldada', 'Tule', 'olulisemaks', 'õpetaja', 'vormistamise', 'karjääri', 'Tisleritööd', 'e-oskuste', 'CNC', 'läbiviimisel', 'võsagiljotiini', 'Keelte', 'juhtimisstiililt', 'koordinaatide', 'Mehaanikute', 'tööohutusest', 'vältides', 'kitsal', 'lõimimisel', 'finantsnäitajate', 'viis', 'puuduste', 'erialaseid', 'asukohast', 'kasutav', 'rahvusvahelistele', 'hoidmisel', 'koolitustoetust', 'võõrtööliste', 'rõhutati', 'Puidu-', 'paindenurkade', 'saaks', 'leitud', 'tõhusalt', 'teisaldamisel', 'jätkusuutlikkust', 'keskkonnahoiu', 'ning', 'Leedu', 'ressursside', 'paralleelsete', 'jõuallika', 'panuse', 'aga', 'lasteraamatu', 'kompetentsile', 'kahjustamata', 'kommunikatsioonioskuste', 'kaugemale', 'mitmeid', 'Esiteks', 'pindmontaaž-', 'sortimentide', 'küsides', 'väiksem', 'ilmestab', 'soovitatakse', 'programm', 'mõlemale', 'hooneautomaatika', 'ettevõtluse', 'valdkonnaspetsiifilise', 'suurendada', 'nutiajastul', 'Mõistab', 'tööohutusalaste', 'muu', 'soovitakse', 'kvaliteedi', 'Google', 'suurimat', 'omandamisega', 'juhistes', 'otseselt', 'kiirseadistamise', 'Seda', 'tegurina', 'aru', 'esinaine', 'mehhanismidest', 'kandideerides', 'vanema', 'juhendatud', 'teede', 'pikaajaline', 'järjekorrale', 'dokumentide', 'sihikindlust', 'äriprotsesside', 'kinni', 'kohanduma', 'Ehitusinseneride', 'rolli', 'efektiivsete', 'võttes', 'joonestamise', 'mõistmisest', 'tark', 'reservväega', 'visuaalne', 'valdaks', 'töödejuhatajatelt', 'piires', 'positsioonil', 'avatud', 'soovivatele', 'ekstreemsused', 'riskide', 'kasutanud', 'Keeleametile', 'abiseadmete', 'tööohutus', 'logistikasektori', 'Suhtles', 'meeskonnajuhtimine', 'nõutud', 'abiks', 'matemaatika', 'vajadus', 'inimestest', 'ettevõtetes', 'algatamise', 'tasuta', 'juhtimine', 'juhte', 'International', 'tähistusi', 'seadistuse', 'eriala', 'planeerimisoskus', 'finantside', 'pehmeks', 'remontimine', 'asendub', 'Käesolevast', 'Kuidas', 'seminar', 'funktsionaalses', 'Samas', 'Puitplaatide', 'igapäevase', 'inimestele', 'tugevuseks', 'arendamise', 'valda', 'pakub', ';', 'kalibreerimise', 'vältimiseks', '4', 'müügimehed', 'detailide', 'koostada', 'teadmisi', 'grupidünaamikast', 'lühikeses', 'küsitluse', 'joonistatud', 'Töötoas', 'opereerimist', 'Palju', 'materjalist', 'kohuse', 'viib', 'Boss', 'tõsteseadmete', 'vajadusega', 'mikroettevõtjate', 'tegevused', 'finantsjuhtimise', 'kutsub', 'siis', 'valdkonnas', 'kasutatud', 'avalikus', 'operatiivsus', 'leidis', 'andmise', '̈', 'kirjeldatakse', 'muutused', 'uus', 'sellises', '!', 'tsentreeringut', 'küsitud', 'seadmega', 'teiste', 'digimaailm', 'esinemise', '—', 'tootlikkust', 'kõige', 'tegevuste', 'müügioskused', 'korral', 'jutuajamiste', 'Vajadusel', 'iseenesestmõistetav', 'toob', 'Hetkel', 'pildi', 'väljakutsetele', 'pidevalt', 'korda', 'ärimaailmas', 'toimivaid', 'tähtsama', 'esimene', 'Tehnik-joonestajate', 'õppimise', 'juhtimisstrateegiate', 'varem', 'lõiketulemusele', 'käitlemine', 'Sagedased', ')', 'töö', 'mõistmisel', 'Digioskuste', 'kõrgema', 'uuendusmeelsus', 'hüdrotõstukiga', 'olulise', 'tulevikusignaalide', 'praegu', 'küsida', 'Ukraina', 'koristus', 'tähtsusega', 'ühendatud', 'Läti', 'inseneride', 'ettevõtmisel', 'käega', 'tundmise', 'sulle', 'käsitsi', 'lõpuni', 'mõelda', 'IKT-lahendustest', 'langetamine', 'ühist', 'digioskused', 'kandidaatide', 'koostööplatvorm', 'joonestamine', 'kultuuri', 'efektiivsusele', 'veelgi', 'alustava', 'mõtlemist', 'digioskusi', 'tuleb', 'hanketegevused', 'protsessid', 'koolitustoetuse', 'konstruktsioonide', 'asemel', 'uuenduslike', 'kevadel', 'Internetipank', 'puidutööstust', 'jälgimisanduri', 'saamine', 'efektiivsed', 'omandama', 'arendamist', 'genereerimise', 'algusest', 'ellest', 'huvirühma', 'Euroopas', 'teada', 'võrgustikke', 'efektiivsemaks', 'eelistatakse', 'Sellesse', 'kaasav', 'suures', 'siseneda', 'teeb', 'igale', 'kompetentside', 'oskustes', 'milliste', 'kaugele', 'vajalikkust', 'parendusettepanekute', 'tööpinkide', 'tsentreerib', 'neljanda', 'läbirääkimiste', 'ennastjuhtiv', 'keevituses', 'tööandjalt', 'töötajal', 'töötlemiskeskused', 'pidevaks', 'Viimast', 'tööohutusnõuete', 'Tema', 'võiksid', 'pidada', 'IT-teadmisi', 'nüüd', 'kolleegidega', 'puudutavatest', 'inimesega', 'kuuluvad', 'lagi', 'puiduvarumise', 'pärismaailma', 'Majandus-', 'teised', 'haridusasutustega', 'tänavu', 'erialasteks', 'tugevaid', 'lõpetajad', 'spetsiifilistest', 'personali', 'näiteks', 'kinnitavad', 'konstrueerimine', 'kasutamine', 'vajalikum', 'lahendus', 'valminud', 'pinkide', 'vajavate', '/', 'sellesse', 'MathCAD-i', 'algatusvõimeline', 'meeskonnatöö', 'eesmärkidest', 'arvutiga', 'teema', 'Karis', 'jätkavad', 'enesearenguks', 'ütles', 'töötlemisega', 'oskusega', 'keskkonnas', 'end', 'tellija', 'võimalust', 'Valib', 'jagamine', 'töökogemus', 'laienevat', 'korraga', 'süsteemist', 'kestavad', 'arvutil', 'paindeservade', 'majandustarkvara', 'tarneahelas', 'võõrkeelseid', 'seljatada', 'lukksepatööd', 'digistrateegiate', 'Tegemist', 'toimu', 'programmide', 'paigutust', 'mõõtmine', 'töökohtade', 'võistlustööde', 'suurendamine', 'töötukassalt', 'unustada', 'rakendada', 'seadistamise', 'käelistest', 'neil', 'kogemusega', 'õpetajana', 'tööriistade-seadmete', 'jälgimise', 'tehnikajuhid', 'Digitaalsest', 'organisatsiooni', 'sellega', 'meeskonnatööle', 'enamat', 'osa', 'väärtuslikku', 'tootmisliini', 'lõikeparameetreid', 'veebilehe', 'Paigaldab', 'puidu', 'ülesannetele', 'puidutöötlemispinkide', 'ehitus', 'Arendamise', 'töötajale', 'teistega', 'infotöötluse', 'mahuga', 'hulgas', 'Pärnu', 'teatakse', 'Kampaania', 'suutma', 'vorm', 'oskusteks', 'lõikuse', 'toodete', 'teavad', 'teadmata', 'et', 'digioskuste', 'tõi', 'meisterkoolitaja', 'täiendavad', 'mikroettevõtjatel', 'ettevõtjatelt', 'põhitõed', 'kõikide', 'tuleviku', 'aladelt', 'kasuks', 'õpetame', 'kasutamisele', 'tajumine', 'oskust', 'järgmistes', 'aidata', 'toodangu', 'tõstmisel', 'valdkonnaspetsiifilisi', 'märku', 'Tähelepanu', 'konkurentsis', 'möödapääsmatu', 'ees', 'protsesside', 'head', 'koostamise', '25%', 'koostööks', 'positiivne', 'nõustab', 'püsimajäämine', 'ootame', 'vigu', 'tegemine', 'Seadistab', 'engineering', 'Balti', 'kasva', 'muutub', 'tööalaste', 'saavutatud', 'teile', 'tööstuses', 'suuremat', 'mugavad', 'vastavust', 'kvaliteedijuhtimine', 'probleemsituatsiooni', 'tootmistehnoloogia', 'professionaalseid', 'arengus', 'LIKTA', 'joonestus-', 'tasandil', 'erinevatelt', 'igapäevaseid', 'Ühest', 'töötajaid', 'ümberõppes', 'Ilves', 'tellida', 'matemaatikast', 'juhendaja', 'juhtimisest', 'väga', 'mõtlemine', 'Vajaka', 'pannakse', 'ka', 'elanikkonna', 'oskavad', '1', 'töötutele', 'virnatäiuse', 'kaasatud', 'ainetundidesse', 'leiab', 'jooksul', 'Ekspertide', 'oskusi', 'inseneriks', 'otsivad', 'ühisosa', 'Äri-', 'lausus', 'tsehhi-', 'äravedu', 'eneseväljendamisel', 'Keel', 'kasutamiseelse', 'elu', 'Tiia', 'Üheks', 'meetodeid', 'läbi', 'ettenähtud', 'standarditele', 'analüüsis', 'põhirõhk', 'asub', 'keevitajale', 'elekter', 'ohutusnõuded', 'meeskonnana', 'standardites', 'kvaliteet', 'napib', 'Kersti', 'kellele', 'juurutamiseks', 'läätse', 'vajalik', 'mida', 'ametikohtadel', 'tegelema', 'iseseisvalt', 'lahenduseks', 'tehes', 'kõrgetasemelist', 'kinnitussüsteemide', 'lõiketehnoloogiatest', 'muutusi', 'kedagi', 'saab', 'palka', 'kõrgemad', 'elementide', 'digiteenuste', 'väikese', 'partnerlusega', 'paljudel', 'valdkonda', 'tööstustehnoloogiast', 'seisundi', 'oskustöötajatel', '2017', 'materjalide', 'Levinud', 'virtuaalseid', 'müügi-,', 'kommunikatsioon', 'lähtuva', 'alusteadmised', 'töötajate', 'tulevikku', 'Metsaveo', 'ohtu', 'tööandjad', 'usk', 'osalejat', 'Mida', 'näidata', 'üritustel', 'säästlikult', 'konkreetse', 'edendada', 'väljapool', 'üksikute', 'võitleb', 'traditsiooniliste', 'puidupõhiste', 'vältida', 'paremaks', 'turvalisus', 'ainult', 'kahjurputukate', 'peer', 'keevitusrobotitega', 'kvaliteedinõuetest', 'kuna', 'in', 'väheneb', 'start-up', 'kaudu', 'Kontrollib', 'joonistes', 'suhtlemisoskus', 'Müügitöö', 'säästlikust', 'ehituseni', 'asju', 'tehakse', 'toetamine', 'muud', ':', 'strateegiline', 'tööseadmed', 'järgmisele', 'coach’id', 'team', 'tööstussektori', 'juhtidele', 'läbipõlemist', 'milliseid', 'igapäevaselt', 'täiskasvanud', 'koostavatel', 'Raietöölise', 'kogust', 'programmi', 'poe', 'toimub', 'viimistlejate', 'Muutused', 'operaatoriks', 'ei', 'töötajatele', 'ettevõttevälise', 'panustab', 'püsiks', 'digimaailmas', 'tööjõudu', 'laseri', 'uute', 'hinnatakse', 'ehitaja', 'juhtmekatkestuste', 'kasutuselevõtt', 'haridusest', 'nendeks', 'painutustööriistade', 'kontaktide', 'isikuomadused', 'ruumilise', 'Valmistab', 'ettevõtjad', 'veenmise', 'julgus', 'oskustest', 'tegutsemine', 'juhtprogrammi', 'töökoha', 'lahendustega', 'sellest', 'mistõttu', 'meile', 'soovidega', 'vaatame', 'ohjata', 'enam', 'mööblitoodete', 'esindajaid', 'järgimisest', 'haljastustööd', 'tundmisel', 'kahte', 'infotehnoloogilisi', 'virtuaalne', 'tehnilist', 'jäägid', 'käsitleda', 'alates', 'tööstuse', 'juttu', 'värske', 'sõnul', 'kontseptuaalsest', 'motiveerida', 'kasutamise', 'peab', 'keevitusmeetodite', 'Peamiste', 'analüüsi', 'nende', 'piisavad', 'viisidele', 'endise', 'omamise', 'Ei', 'võib', 'rahvusvahelise', 'laiemale', 'üliolulised', 'välisturgudele', 'learning', 'mitmel', 'koostamisest', 'väljakutseteks', 'Annab', 'ajaks', 'vahendeid', 'omandamisel', 'täiendamist', 'teadlikkust', 'selge', 'tulemus', 'leidmine', 'olemust', 'meeskond', 'kohanemisvõimelised', 'ohutu', 'Tislerite', 'Üks', 'tuhandetele', 'pikemaks', 'kujundamisest', 'kontakte', 'digiturunduse', 'tippspetsialistide', 'mõistmisele', 'keevitusmeetodeid', 'antud', 'mõju', 'esinemisoskust', 'heaks', 'olles', 'hooldustoimingud', 'kogemus', 'minimaliseerida', 'lõikeriistade', 'mis', 'lihtsamate', 'masinkoodi', 'samas', 'korrigeerida', 'Personalijuhtimine', 'arvu', 'detailidele', 'kasvavaks', 'tööks', 'vajadusel', 'koostööprojekte', 'turvaliselt', 'õpetamine', 'matemaatikaoskust', 'osapooltele', 'erinev', 'mõtlemise', 'juhid', 'kvaliteedialased', 'sotsiaalsed', 'tonnaaži', 'tuvastamise', 'neile', 'ütleb', 'mööblitööstuse', 'Haridustase', 'juhtroll', 'Kui', 'enim', 'paremad', 'viimistlemise', 'müügi-', 'tootearenduse', 'korrasolekut', 'jätkuvalt', 'Southwesternil', 'jälgib', 'enesehindamise', 'automatiseerimine', 'kõikides', 'Maakondlike', 'Siin', 'Harvesterioperaatori', 'saele', 'hinnangul', 'juhendamine', 'tuua', 'ühe', 'Erialastest', 'kogu', 'uuendusliku', 'oodatud', '(', 'samaaegselt', 'sihipäraselt', 'värbamise', 'Ametiühingute', 'kuni', 'enda', 'lõikepea', 'programmeerimise', 'alamsüsteemide', 'arvutikasutamise', 'tagasiside', 'kokkupõrke', 'trükkplaadi', 'tulemuse', 'eesmärkide', 'Toomas', 'anda', 'harvesteri', 'turundusest', 'sõjapõgenikke', 'turundus-,', 'oskustega', 'hooldada', 'Ka', '3', 'kasutus-', 'nuppude', 'vajab', 'teabepäev', 'läheb', 'ehk', 'hangib', 'Aga', 'Lülitab', 'seadmed', 'kasutamisest', 'insenerid', 'inimeste', 'toimetulekuks', 'APJ-pinkide', 'toidust', 'oskustöölisi', 'ülesande', 'konverentsil', '„', 'Viimase', 'sobivat', 'saamise', 'hakkavad', 'aulas', 'Puudu', 'koostejoonised', 'tehti', 'arvukad', 'soov', 'konkurentsivõime', 'muust', 'tehnikutel', 'edasi', 'Veel', 'meeskondades', 'meeskonnaga', 'läbivalt', 'kehtestatud', 'majanduse', 'kõrgelt', 'nõuded', 'erialastelt', 'võtmesõnaks', 'lugemisoskus', 'oskustelt', 'Tundsin', 'arutelusid', 'koostöövõime', 'korraldamist', 'määral', 'uudseid', 'planeerimisoskuse', 'Ettevõtete', 'Kindlasti', 'degustatsioonidesse', 'nõudmised', 'viisid', 'masinaoperaatoritel', 'valdav', 'viimistlusse', 'tööpingil', 'mädanike', 'pärismaailm', 'suurenenud', 'nõudlus', 'elanike', 'dokumente', 'forvarderi', 'lähtuvalt', 'probleemilahenduse', 'pidevas', 'meeskonnatööd', 'mitu', 'eksperdid', 'organisatsioonile', 'mitmeks', 'kasvava', 'töötlemiskeskustele', 'kasvu', 'arenguga', 'Kõige', 'Koostab', 'algteadmistest', 'töökus', 'iseendas', 'tööelus', 'Teiseks', 'parandama', 'sooviti', 'oli', 'Kuna', 'riiklikul', 'probleeme', 'metsateel', 'avalik', 'Täpsust', 'Neil', 'tegemiseks', 'operaatorite', 'said', 'korrektne', 'veebist', 'tööandjate', 'vajaduse', 'tõstmise', 'sooritust', 'projektdokumentatsiooni', 'teadmistele', 'kandidaadile', 'tagurdada', 'annavad', 'kavandada', 'intellektuaalse', 'töötaja', 'konkurentsivõimet', 'esinemishirmu', 'üldised', 'kuhu', 'vaadata', 'tehnoloogi', 'Ehitame', 'montaažioskused', 'Käsitsitöö', 'rõhku', 'võistlusalal', 'rahastus', 'nähtavuse', 'sotsiaalmeediasse', 'MKM', 'lülitite', 'probleemi', 'digioskustele', 'Praegustel', 'materjalidele', 'teiselt', 'tuginedes', 'ideedele', 'lõppemist', 'arendamiseks', 'lisa', 'suure', 'projekt', 'riigis', 'Polütehnikumist', 'pea', 'Eestisse', 'näha', 'kontrollib', 'tootmissüsteemid', 'ümarpuidu', 'vallas', 'projekteerimistarkvaraga', 'puuduvad', 'liinide', 'puit', 'digitaalseks', 'eelised', 'peetud', 'soovida', 'kasvamise', 'kunagi', 'Ameerika', 'valdkonnaspetsiifiliste', 'loonud', 'juures', 'ülesandeid', 'tõsta', 'iseloomustab', 'võimaluse', 'eeldab', 'suudetud', 'haldussuutlikus', 'puudujääki', 'areng', 'kõrvale', 'korrektsioonide', 'juhtprogrammis', 'miks', 'navigeerimine', 'selgub', 'tööpinkidele', 'IKT-lahendusi', 'kuulub', 'andmisega', 'meel', 'õpilasi', 'järgmised', 'konstruktiivset', 'metsabioloogia', 'muudelt', 'koostööd', 'hekkide', 'arvestamine', 'arengueesmärke', 'poeketti', 'strateegia', 'seadmetega', 'vormistada', 'tippspetsialistidel', 'Suurepärane', 'n-ö', 'üldiseks', 'analüütilist', 'võime', 'klientide', 'meeskonna', 'saavutamist', 'püstitajate', 'Olulisemaks', 'Ettevõtja', 'elluviimiseks', 'parandada', 'riske', 'hoolduse', 'süsteemide', 'ajatemplite', 'puudub', 'kasvavat', 'kirjaoskus', 'funktsioone', 'kooli', 'Võistlusülesandena', 'tehnoloogiate', 'tervikpildi', 'Jätkuvalt', 'liitva', 'ohutusnõudeid', 'teistmoodi', 'arvprogrammjuhtimisega', 'A1', 'vahendid', 'uuemate', 'ettevõtetele', 'äri', 'iganes', 'ärevusega', 'mitut', 'võimalustesse', 'sisseostmiseks', 'toodud', '125 000', 'raalprojekteerimise', 'endal', 'täidavad', 'kas', 'kust', 'kolib', 'see', 'See', 'turundusvõimekuste', 'selged', 'püstitada', 'ohutusseadmete', 'Seadmetel', 'lisaks', 'uuringu', 'nimi', 'ellu', 'teenindamine', 'Mehhatroonikud', 'käivitades', 'omavahel', 'Bend', 'vastuvool', 'Vähesed', 'laaditud', 'pean', 'kindlaks', 'millist', 'Juhtival', 'välitingimustes', 'kokkulepetest', 'Liinioperaatorite', 'turustamisest', 'levinumaid', 'PLM', 'kohanemisvõimet', 'palju', 'Lisaks', 'ennast', 'kujundamisel', 'programmile', 'uutest', 'Hendrik', 'vaatamata', 'oskusele', 'üksteisega', 'ettevõtte', 'põhimõtet', 'erinevate', 'koostamisega', 'võõrkeelte', 'töökollektiivid', 'ohtlike', 'sellel', 'vs', 'probleemide', 'Suureneb', 'valdavaid', 'logistika', 'erialasele', 'kasvab', 'tehnoloogia', 'viisidest', 'edendamine', 'suhtleja', 'võimest', 'referentspunktid', 'ehituse', 'kaastöötajatega', 'sama', 'väärtus', 'põlvkonna', 'selleks', 'ökonoomse', 'efektiivset', 'Keskliidule', 'osas', 'langetatavad', 'meeskonnaliikmed', 'kogudes', 'tahe', 'korraldama', 'olla', 'kasvatamine', 'väikeettevõtjate', 'tootmisliinide', 'aasta', 'kriitiline', 'tekkemehhanismidele', 'silmas', 'puudu', 'arvestamisest', 'masinat', 'neid', 'projekteerimise', 'tunnetamisele', 'tuvastada', 'müüt', 'Ühiselt', 'puudumine', 'sööklas', 'valdavate', 'Juhiks', 'Me', 'häiritud', 'toetavad', 'Baltikumi', 'Kasutab', 'nutikad', 'vajalikud', 'Turundus-', 'ühekordne', 'suurem', 'turvalisuse', 'olukord', 'Tehnikaülikooli', 'märksõnadena', 'mõistlik', 'pühendumine', 'ohutult', 'On', 'efektiivsemalt', 'ette', 'jootematerjalide', 'ettevõtted', 'tehniliste', 'pügamine', 'produktiivsuse', 'liikumist', 'ökosüsteemi', 'lõiketulemustele', 'viia', 'siin', 'oksapurustajaga', 'mõõtmissüsteeme', 'eripärade', 'soovi', 'sanitaarse', 'kõrval', 'koostöö', 'minekul', 'digitaalmõõteriistad', 'olulised', 'automaatika', 'reaalne', 'liikmed', 'Osaleb', 'Järjest', 'teadmist', 'elualadelt', 'küljest', 'hea', 'Tallinna', 'Olulised', 'toode', 'tööplatvormidelt', 'üle', 'ise', 'avalikkusele', 'temast', 'inseneridel', 'keeleoskuse', 'arengu', 'levinud', 'jootemeetodid', 'sest', 'kirjutamise', 'muudab', 'kasulik', 'laiaulatuslikud', 'teeservadest', 'järgimine', 'müügioskustelt', 'FictionFeel', 'sobiva', 'väärtuslikke', 'Metsanduse', 'opereerida', 'puitmajade', 'töötajad', 'võimalik', 'tootmises', 'pidev', 'omadustest', '”', 'coaching', 'maha', 'juhendamist', 'uuring', 'põhioskusi', 'Turunduskoolituse', 'PIAAC-i', 'arvestamise', 'töötlemiskeskusel', 'Varasemast', 'väärtuste', 'olemiseks', 'e-oskused', 'ülevaate', 'lahendada', 'arvesse', 'algtasemel', 'painutustööriistad', 'ole', 'ideede', 'arenduses', 'kel', 'jääda', 'Ruben', 'vähemalt', 'metallitöötlemispingid', 'sarnasemaks', '4.0', 'erinevatesse', 'Nõuded', 'võistlejatel', 'ajajuhtimisest', 'teinud', 'eelistatumad', 'tuli', 'kogemust', 'proovikivi', 'Federation', 'erialastele', 'käsitlemise', 'soovitatavalt', 'oskuse', 'peavad', 'ruumiline', 'kasutada', 'tööprotsessi', 'Virtual', 'palgad', 'tasemel', 'sh', 'seadistamine', 'võimalustest', 'koefitsiendi', 'infohalduse', 'määratud', 'projektimeeskondadesse', 'Otsustusoskus', 'kindlasti', 'elektronmõõteriistad', 'kolleegidelt', 'võõrkeele', 'elektroonikaseadme', 'järjest', 'Meistritelt', 'töövahenditel', 'teadmised', 'põhjuseks', 'sektor', 'avanedes', 'muutmise', 'e-veoselehed', 'perioodiks', 'kitsaskohtadest', 'vajadusi', 'tööstus', 'õppimis-', 'poolt', 'Müügi-', 'seotud', 'suhtlemisoskusest', 'tuletööde', 'mõtlemisoskust', 'kasutatavaid', 'tööpõhimõtteid', 'tööülesandele', 'edukalt', 'teoreetilisi', 'kuidas', 'kalibreerimisprogrammi', 'teisalt', 'tundus', 'igapäevast', 'Teeb', 'ühise', 'eksperimenteerida', 'B', 'mõtestada', 'the', 'Facebookil', 'kirjaoskuse', 'suurel', 'Arenduskeskustega', 'läbiviiktehnoloogiaid', 'valdamine', 'trükkplaat', 'öeldes', '̃', 'toetab', 'Puidupingioperaatoritel', 'lahendusi', 'väljakutsetega', 'Hindab', 'muutuse', 'e-oskustega', 'laserkeevitus', 'muutustele', '50', 'pühendunud', 'masinate', 'lahendamine', 'maandada', 'majandustrendide', 'probleemiks', 'aided', 'alus', 'noored', 'rahvusvahelises', 'vastupidavus', 'koostöös', 'riikide', 'z-telje', 'mõjutavatest', 'kahjustatud', 'juhtimisprogramme', 'paigaldamine', 'tellis', 'valmisoleku', 'korraldati', 'seonduvad', 'ennekõike', 'osal', 'pinnakatete', 'juhisega', 'samuti', 'analüüsivõime', 'palkmaja', 'viiakse', 'info', 'hõõrdkeevitus', 'maksimumpunktid', 'kirjatüüpi', 'keel', 'kasvavad', 'IKT', 'ettevõtlikkus', 'pardaarvutid', 'üleeuroopalise', 'teistest', 'networkingu', 'kirjutamine', 'etapp', 'põhimõtete', 'Tehnoloogi', 'rohkem', 'valitsusametnikke', 'mõistmine', 'viivitamatult', 'edukas', 'Liidus', 'täiendus-', 'erialane', 'noore', 'regulaarselt', 'patenditud', 'kasutusjuhendis', 'kinnitada', 'Meeskondade', 'detailid', 'ökoloogia', 'puitmaterjali', 'tegevust', 'piirkonnast', 'Tulemuslik', 'kettsaag', 'Aasta', 'tsüklist', 'baasoskused', 'Vaan', 'osade', 'Paljud', 'tööohutuse', 'kasarmute', 'suhtlemisoskust', 'ettevõtetel', 'nii', 'kvaliteediga', 'digitaalseid', 'tagajärgedest', 'osana', 'töötervishoidust', 'Vanalinna', 'suurte', 'juhtidest', 'elektrivoolu', 'eesmärke', 'normaalne', 'rohkuse', 'tulnud', 'nõuete', 'spetsialiste', 'tuleks', 'eestlased', 'tundmine', 'tööriistade', 'me', 'seda', 'juba', 'seadistajaks', 'pehme', 'keevitusroboti', 'rakendamist', 'spetsialistide', 'pikaajalise', 'edukaks', 'liinioperaatoritel', 'valdkondlikes', 'erinevaid', 'liikmena', 'tööpõhimõtet', 'välja', 'töölaualt', 'täpsemalt', 'müügijuhtide', 'seadmetel', 'teavet', 'tööjoonisete', 'rollis', 'juhtidena', 'kättesaadavad', 'kaebuse', 'laussadu', 'sihipärane', 'Detaili', 'karjäärisihid', 'ettevõtlusõppe', 'uuemaid', 'õpilastele', 'olulisteks', 'kursustel', 'suurendab', 'teadlikkuse', 'kasutuse', 'vo', 'esinemisärevuse', 'muuhulgas', 'noortest', 'on', 'hoiakuteks', 'meeskonnatöös', 'programmeerimisoskust', 'ettevõtlusest', 'grupitöödes', 'juhtimiskogemused', 'oskus', 'eeskirjad', 'probleemilahendamise', 'rikkeid', 'parandamiseks', 'igal', 'toel', 'vahetust', 'kirjeldused', 'noorte', 'keelt', 'välisturgudel', 'Eestis', 'painutusjärjekord', 'tagada', 'deduction', 'treening', 'tootlikkuse', 'arengut', 'kasvatades', 'kommunikatsiooniministeeriumi', 'uude', 'valmis', 'valdamise', 'nad', 'aega', 'olulisusega', 'tugevalt', 'metsamajanduslikele', 'väljaõppest', 'nõudeid', 'abiseadmed', 'tootmiskulude', 'laiapõhjalised', 'nendib', 'telgede', 'sisu', 'lukkseppade', 'Tegelikult', 'alahinnata', 'hindamine', 'teadmisteks', 'takistab', 'digipööre', 'kettsae', 'raames', 'töötamiseks', 'arusaadavalt', 'Juhiload', 'vajavad', 'Kalibreerib', 'võimaldab', 'Kutsekojal', 'küsimustes', 'Puitkonstruktsioonide', 'IKT-alastes', 'kohtunikud', 'noortele', 'Suure', 'näidanud', 'Puitdetailide', 'elektroonikakomponentide', 'otsides', 'tõstukitelt', 'seal', 'edastamine', 'bioenergeetika', 'Tootmisseadmete', 'oskustele', 'päeva', 'aluseks', 'kompensatsiooni', 'Vaatame', 'projektipõhine', 'töökogemusega', 'eeldus', 'sõita', 'võimaluste', 'nõutaval', 'Traditsiooniliste', 'Kirjas', 'keevitusmeetoditele', 'juhtpaneelil', 'mõistavad', 'tööülesannete', 'tarneahelate', 'võimekusest', 'Keeleoskus', 'teenuse', 'saades', 'paratamatut', 'Tuvastab', 'aja', 'projekteerimine', 'Indrek', 'hästi', 'omandi', 'tudengitele', 'turundustegevuste', 'aastat', 'Eraldi', 'Äri', 'süsteemid', 'omandada', 'Skype', 'Tehnikaalaste', 'saada', 'inimesed', 'seada', 'trükkplaadilt', 'turul', 'esinemine', 'koolitusi', 'nägemise', 'võistle', 'stressiga', 'ladustatud', 'nippe', 'etteantud', 'Uuring', 'B1', 'võidutöö', 'kaugtööl', 'RIA', 'Kasvavaks', 'Vastavaid', 'enesetäiendamiseks', 'kasvav', 'toodi', 'Grikis', 'juhtidel', 'töökohtadest', 'coach', 'tööalasesse', 'eksida', 'kavandab', 'pinnalaotuse', 'inimesi', 'just', 'kontseptuaalne', 'kulutused', 'oskused', 'vastupidavad', 'pöörama', 'materjalilehe', 'Järgib', 'takistuseks', 'töötajaga', 'väikeettevõtjatel', 'Orienteerub', 'ajajuhtimine', 'IT-sektoris', 'alaste', 'lastele', 'Künnapas', 'Internships', 'piirkonna', 'Nüüd', 'õpetamisel', 'tunda', 'koolitustel', 'toime', 'täiskasvanuile', 'analüütilise', 'Kasvava', 'projekti', 'painutusmeetodid', 'põhikutseala', 'orienteeritus', 'praktilised', 'õpetada', 'silm', 'võsa-', 'võimalikke', 'põhimõte', 'nentis', 'võimestamisele', 'sõltuvust', 'müügijuhtimine', 'lugemisoskuses', 'Ära', 'kasutamist', 'teritustehnoloogiate', 'lahendamise', 'režiimide', 'lahendamiseks', 'Ladustab', 'reservvägi', 'trendina', 'tehnoloogilises', 'Üldistest', 'üldse', 'Product', 'üldiste', 'tagamine', 'karjäärivõimalusi', 'teadlasi', 'kasvatamise', 'teevad', 'Päeva', 'andmeanalüüs', 'koormasse', 'madalapalgalise', 'ergonoomiliste', 'tööprotsessist', 'E-oskused', 'veokijuhtidel', 'tootmisprotsesse', 'matemaatilises', 'täiendama', 'arusaamisest', 'tulevad', 'tegevdirektor', 'lõikeparameetrite', 'tellimise', 'majandamist', 'laadimisseadme', 'süsteemi', 'kõik', 'tehnikute', 'kvaliteedistandardite', 'tähelepanu', 'küsitlus', 'arvestada', 'arendab', 'perspektiivis', 'Tisleritel', 'piisav', 'algatusvõime', 'milliseks', 'tarvikutest', 'intervjuudes', 'kogunes', 'nesting', 'nõrkuste', 'juhtimisega', 'Tööstussektori', 'töövõimet', 'toote', 'tingituna', 'alati', '31,8%', 'valmisolekut', 'Oluline', 'vajalikust', 'töötada', 'tulemusena', 'Konverentsile', 'koolitusprogramm', 'eesma', 'keelteoskus', 'toorainet', 'määramine', 'juhi', '2020.', 'ümberistutamisest', 'ohutustehnika', 'meeskonnajuht', '“', 'Kommunikatsiooniministeerumiga', 'juhtpaneeli', 'tööstusrevolutsiooni', 'käsitöö', 'kutsus', 'uue', 'teavitab', 'igapäevaelu', 'Tööülesanded', 'Kolk', 'Anu', 'kuulavad', 'võtta', 'arvata', 'tehnikaalased', 'eest', 'innuka', 'õigesse', 'muutuma', 'koostamine', 'Sihtasutuse', 'täiendamiseks', 'tema', 'arendamisel', 'Peab', 'kollektiivis', 'kütteautomaatika', 'tegemist', 'nõutakse', 'koolis', 'tarka', 'mängivad', 'metsanduses', 'koolilõpetajate', 'käigus', 'kõigis', 'IT', 'valdkond', 'Management', 'jooniste', 'ikkagi', 'käsu', 'tembeldada', 'oskuseks', 'alamsüsteeme', 'Lähtestab', 'lõikeprogrammi', 'tähtsal', 'peaks', 'müüa', 'millised', 'väiksemate', 'omaduste', 'suurema', 'ettevõttele', 'suurenev', 'üksteist', 'sidusrühmade', 'rikete', 'koostööle', 'esinemisel', 'esitamine', 'kaasavale', 'Arboristi', 'tegevuse', 'ühiselt', 'otsa', 'soovid', 'painutuspingi', 'arendavad', 'turundustegevusi', 'masina', 'düüsi', 'nt', 'oskustöötajatelt', 'tomograafiga', 'arendada', 'üha', 'töövahendeid', 'tunnustas', 'millegi', 'fotoelektriline', 'sõltumata', 'keskealistele', 'keeletehnoloogidele', 'Coaching', 'lööb', 'saematerjalide', 'plaan', 'vedada', 'puudutavates', 'cad', 'rahulolematust', 'töötervishoiu', 'professionaalsusele', 'planeerida', 'arvutit', 'tulemuslikumad', 'laserkiire', 'tarkvarasid', 'Meil', 'eesmärkidele', 'demonstreerima', 'koos', 'õpid', 'perspektiivist', 'keelte', 'conversations’i', 'tehnoloogiakaardi', 'formeerimine', 'annetab', 'hakkama', 'Kasvavateks', 'kokkuhoidu', 'mitte', 'pühendumus', 'puuduolevate', 'seadmesse', 'pigem', 'konkurentsivõimelise', 'põhioskuste', 'viise', 'pole', 'teeninduskultuurile', 'keskkonnaohutuse', 'veidi', 'keevitajate', 'turvavahendite', 'viima', 'konstruktsiooni', 'tootjal', 'meistritel', 'purustamine', 'jooteseadmete', 'Forvarderioperaatoritel', 'üldisteks', 'mehhaanika', 'hoidmine', 'erialaselt', 'kommunikatsioonitehnoloogia', 'juhtide', 'rakendamine', 'Diana', 'lõiminud', 'tegevus', '28,4%', 'olid', 'möödudes', 'sajakaupa', 'töövõtteid', 'liikumisandur', 'arendamisega', 'paremini', 'keskset', 'personaalseid', 'cnc', 'konkursi', 'president', 'teadmistest', 'kes', 'täiendamise', 'süvenevat', 'kvaliteedi-,', 'digimajandus', 'uutele', 'laekunud', 'nõudvat', 'tõenäoliselt', 'üles', 'ohutus', 'rollist', 'võiks', 'Juhtimisoskust', 'mõõtmed', 'žürii', 'orienteeritud', 'mõõtevahendite', 'järele', 'TEPP', 'vaadatakse', 'välisfirmade', 'loengus', 'vähendada', 'igapäevatöös', 'juhtimisstiilile', 'ta', 'Naiste', 'osast', 'all', 'kerksust', 'seadmine', 'ettevõttes', 'keevitusroboteid', 'õppeainetega', 'mahukate', 'võsalõikus', 'montaažioskus', 'osavust', 'hulka', 'eksportturgude', 'dollarit', 'tooteid', 'parktikabaasideks', 'tootmisprotsessi', 'Äriandmete', 'sõitmine', 'tegeleb', 'rakiste', 'seadistamist', 'esile', 'paigutusest', 'uuteks', 'oskuslikult', 'kogenumatelt', 'suurusega', 'tegema', 'sobitama', 'puud', 'kodanike', 'töötajatel', 'eelarvestamine', 'saadi', 'building', 'Ta', 'metallitöö', 'Veskimägi', '5', 'seetõttu', 'arusaamise', 'muid', 'sellele', 'kirjaoskusest', 'või', 'avaliku', 'plaani', 'remonttööde', 'väärtusi', 'juhendada', 'mõtlemisoskusest', 'kriisidele', 'keevisõmblusi', 'keevitusrobotite', 'peamiseks', 'õpe', 'Marje', 'tagurdamine', 'Kasvav', 'majandusest', 'reeglite', 'ettevõtlikkuse', 'Kolmandaks', 'sobivaid', 'Võib', 'ilusate', 'suuremale', 'informatsiooni-', 'Aktiivse', 'IPC', 'templiga', 'innustanud', 'Lifecycle', 'kutsuda', 'hooldamise', 'töötamisel', 'karjääriteekonna', 'abivahendite', 'äritegevus', 'lõiketöötlemise', 'millest', 'seeläbi', 'Kommunikatsioonikoolitus', 'saavutamise', 'kõrgele', 'lähtuvat', 'Digitaalse', 'spetsiifilisemalt', 'õpipesasid', 'Veebiseminaril', 'innovatiivsus', 'arenguruumi', 'andmebaas', 'Puitmaja', 'skeemide', 'Saab', 'eelduseks', 'luua', 'paljude', 'tööpõhimõtete', 'Mõõdab', 'hindasid', 'tööle', 'inimesel', 'oktoobril', 'kinnipidamist', '?', 'üleüldise', 'mõõtkavad', 'pidades', 'sobivalt', 'annab', 'reeglitele', 'Kutseõppe', 'anname', 'väikeste', 'isikut', 'ettevõtlust', 'Ostu-', 'DigiABC', 'pakkudes', 'kõigile', 'Meeskonnatööd', 'spetsialiseeruda', 'sobib', 'kasutajasõbalikud', 'laserpea', 'peeti', 'osata', 'Peale', 'arengutega', 'osaleda', 'sootuks', 'märgatavat', 'täna', 'Euroopast', 'robotite', 'oodatakse', 'patroon', 'osalema', 'turvalises', 'pikaajaliselt', 'jne', 'programmeerimiskeelte', 'õpikogemusi', 'automaatse', 'Facebookiga', 'Sealjuures', 'andur', 'remondiga', 'Liidu', 'innovaatilise', 'teemasid', 'sidusust', 'visuaalselt', 'Täiendamist', 'mõeldud', 'planeerimise', 'LOOGILIST', 'matemaatikat', 'mille', 'nutiseadmete', 'tooteks', 'ostujuhtidel', 'lasteraamatute', 'toimimise', 'vene', 'kohe', 'organiseerimisest', 'saamisel', 'Lähiaastatel', 'kasv', 'töötuse', 'julgust', 'MMT', 'mehhatroonikute', 'kalibreerida', 'Meeskond', 'kompetents', 'ühelt', 'selgelt', 'teadlik', 'karjäärinõustajad', 'eelkõige', 'huvijuht', 'hoiakutest', 'õpilaste', 'üleöö', 'proovida', 'pehmelt', 'projekteerijate', 'põhiharidus', 'liikuda', 'puu', 'mõõteriistade', 'korraldada', 'suurest', 'stressirohketes', 'transistorid', 'baaskoolituse', 'tootmis-,', 'ostu-', 'Täiskasvanute', 'sageli', 'tegutsemist', 'digipöörde', 'rakendamisest', 'koguses', 'erinevates', 'tööprotsesside', 'juht', 'tootmisroboteid', 'ülesannet', 'networkimisel', 'kelle', 'Virtuaalne', 'keskmine', 'näol', 'forvarderiga', 'projektide', 'koostööga', 'Faktiteadmiste', 'seadmetele', 'painutusteooria', 'looma', 'sihikindlad', 'tagasisidet', 'tekib', 'vähene', 'abil', 'erialase', 'enne', 'rahuldamata', 'kolleege', 'sotsiaalmeedia', 'tööl', 'õppima', 'hooldusel', 'keevitajatelt', 'praktilise', 'põhitõdede', 'sind', 'tegu', 'oskusest', 'pinkidelt', 'tundmisest', '30 000', 'eurot', 'Tasub', '8.', 'saavutuste', 'tunduvalt', 'seminaril', 'efektiivselt', 'ettevõte', 'raskemate', 'oskustena', 'enesekindlana', 'kasvanud', 'selgitusi', 'täita', 'turundusjuhtide', 'teame', 'leida', 'jäta', 'kutseõpetajaid', 'kaardistada', '1000', 'trendide', 'püstitatud', 'eesti', 'jaluleaitamisel', 'tulemise', 'korraldamine', 'rk', 'võimet', 'juurde', 'erialastest', 'konstrueerimise', 'organisatsioonis', 'ülesanne', 'üldistes', 'eeldatavatelt', 'kiire', 'elukestev', 'võimalusi', 'löövad', 'töövahenditele', 'praeguses', 'Sotsiaalfondi', 'tugevusteks', 'alusteadmiseid', 'puude', 'iseseisev', 'lahendatud', 'mahu', 'saame', 'kiiresti', 'digitaaltehnoloogiat', 'Määrab', 'suurt', 'üheks', 'IKT-lahenduste', 'mööbli', 'efektiivsest', 'paljust', 'ulatuse', 'õpita', 'piirangutest', 'trükkplaadile', 'potentsiaali', 'läinud', 'vineeri', 'jootmine', 'kohta', 'mõjust', 'Karin', 'kinnituseks', 'tundeid', 'majandusvaldkondades', 'computer', 'võimekus', 'Vajalik', 'tootmiskulusid', 'Alar', 'raporteerimine', 'Modernworkplacelearning.com-i', 'töödejuhatajatel', 'arengust', 'kinnitab', 'tehnikaalane', 'argumenteerimisoskus', 'tundmisele', 'eesmärgile', 'Heade', 'keevitaja', 'monteerida', 'käsijootmise', 'mõistes', 'Tootmise-', 'automatiseerimisega', 'etappides', '2020', 'TASUTA', 'aastaks', 'tootmisrobotite', 'põhjalikkus', 'tavapärasest', 'Töötaja', 'muutumisvõimet', 'logistikutele', 'toodetest', 'nägemine', 'Kõnes', 'eesmärki', 'tööjuhiseid', 'Enamasti', 'Personali', 'valmistajatele', 'tasu', 'põhimõtted', 'digitaalse', 'veebis', 'neilt', 'opereerima', 'tõstmisest', 'võimekust', 'Forvarderioperaatori', 'esitatavate', 'kolmikpöörde', 'Maripuu', 'vajadusele', 'koostööoskus', 'efektiivsust', 'CAD-CAM-i', 'seoses', 'tootmismasinate', 'mõõteriistad', 'kvaliteeti', 'skaala', 'protsessi', 'üleminekut', 'elektromehaanika', 'i', 'kõrgemaid', 'töös', 'arvjuhtimisega', 'teeninduskultuuri', 'töövõtete', 'videotervituses', 'ettevõtete', 'olema', 'paigaldab', 'Muud', 'märgutulede', 'digimaailmast', 'joonisele', 'tootjaid', 'vastavalt', 'autojuhid', 'jääb', 'järkamisfaili', 'õpiringe', 'vajadusest', 'eesmärgid', 'programmeerimine', 'materjali', 'mõistmise', 'eelarve', 'Ent', 'poltühendus', '3D', 'tulemusi', 'masinatega', 'tsiviilelus', 'tasub', 'strateegiliselt', 'nagu', 'remontimise', 'hinnatud', 'Digipädevuste', 'põhikoolist', 'Tänastel', 'Võistlusülesande', 'juhina', 'esmase', 'ettevõtliku', 'praktilisi', 'Finantsjuhtimine', 'töötlev', 'jälgisid', 'Strateegilist', 'oma', 'elanikest', 'läbirääkimise', 'ärivaldkondades', 'töötamine', 'vaja', 'kõike', 'uuendajana', 'Prantsuse', 'konventsionaalsetelt', 'külalisõpetajad', 'selgitab', 'suundumustega', 'juhtida', 'erinevused', 'tootja', 'oskuste', 'õpi-', 'Nõudlus', 'rutiinitaluvus', 'protsesse', 'külg', 'märksa', 'kõikjal', 'üleminek', 'Käivitab', 'mõtlemisoskus', 'seadme', 'valmisolek', 'Lähtuvalt', 'Jälgib', 'kokku', 'oskustasemete', 'töötamise', 'toetada', 'aspiratsioonist', 'inglise', 'õppimisel', 'äriplaan', 'korrigeerib', 'materjalitehnoloogia', '2', 'õige', 'tegemise', 'koostelukkseppadel', 'vastava', 'Nende', 'metsa', 'lähitulevikus', 'keskmise', 'Hooldustehnikute', 'korraldatud', 'IKT-oskuste', 'järgib', 'süsteemne', 'keskenduvad', 'rõhutab', 'puit-', '2014', 'kokkuveost', 'ekspertide', 'tehnoloogiaid', 'suvega', 'teha', 'Laidmets', 'headele', 'Raietöölistel', 'hooldust', 'sihtriigid', 'kontroll-', 'endiselt', 'erialaste', 'metsaressursi', 'suhtlemist', 'Harvesterioperaatoritel', ',', 'koolitame', 'ettevõtja', 'teljed', 'õigus', 'puidukuivatamine', 'Või', 'algtase', 'peatab', 'leidsid', 'painde', 'saksa', 'ettevõtjaid', 'emotsioonidest', 'kirjaoskuses', 'töö-', 'kvaliteedinõuete', 'mahaarvamisväärtuste', 'suhtlemine', 'inimestega', 'Valdkonna', 'komponentidest', 'kommunikatsiooniministeerium', 'eesmärgist', 'tekkima', 'inimesele', 'kohanemisvõime', 'eestimaalastest', 'saad', 'ressursse', 'harvesteriga', 'nullistamine', 'info-', 'tembeldamine', 'Töötajate', 'nõuab', 'seade', 'tööd', 'text', 'tarvis', 'hooldamine', 'instrumentidest', 'kus', 'leviku', 'põhjendavad', 'arvjuhitavate', 'tervikprotsessis', 'koguda', 'fookuses', 'masinas', 'planeerimine', 'tagasi', 'juhtimist', '72%', 'vähe', 'valmistamise', 'A2', 'suutlikkuse', 'tähendavad', 'kommunikatsiooni', 'tegutseb', 'omandamine', 'idee', 'korrektse', 'ruumikujutlusvõimet', 'isikukaitsevahendite', 'käes', 'keele', 'asja', 'probleemilahendusoskused', 'tööalases', 'timmimine', 'perioodil', 'tähtaegadest', 'rakendama', 'tugevusarvutustest', 'kujundada', 'seejärel', 'Võistlused', 'Töötoa', 'mootorsae', 'vastata', 'elanikkonnast', 'vastatakse', 'Eesti', 'määramisest', 'valmistajatel', 'eesmärk', 'põhiliselt', 'mõista', 'tagasivetrumise', 'ja', 'kaasneb', 'lisab', 'targa', 'tööjõuvajadus', 'tuludeklaratsiooni', 'tipptasemel', 'hoolitsemine', 'Kuigi', 'järgi', 'ambitsiooniga', 'selle', 'Tootearendajate', 'töövahendite', 'särama', 'sobivad', 'kasutaja', 'lugemise', 'kuid', 'kursusel', 'suhete', 'Paananen', 'kolmes', 'erasektori', 'võtnud', 'olukordades', 'erinevad', 'tahame', 'tarkvara', 'analüüsioskus', 'esindaja', 'Kõrgharidus', 'eemaldab', 'autoritaarselt', 'umbes', 'Töökohtades', 'SMED', 'eraldi', 'pöörata', 'arendate', 'toote-,', 'uusi', 'tootmisega', 'raskuste', 'Industry', 'rakendamise', 'lõikamise', 'müügistrateegiate', 'Baltics', 'osaledes', '150 000', 'arusaamine', 'riiulitel', 'inseneridelt', 'Meeskonnaliikmed', 'valida', 'oletada', 'tulla', 'määramise', 'täiendavaid', 'diagnostika', 'e-teenuseid', 'eriti', 'Ettevõtjad', 'eristub', 'elluviimisel', 'olulisem', 'hoidmise', 'keerulisemate', 'Risk', 'teretulnud', 'STARTER', 'aastast', 'eraisikud', 'LEAN-juhtimine', 'Inseneride', 'milline', 'ilmastikuolude', 'lahendamisse', 'ilmselge', 'torm', 'esitatavatest', 'kao', 'tundmist', 'kõigil', 'mõistlikult', 'kohal', 'ümber', '-', 'rida', 'intensiivselt', 'arenda', 'sotsiaalmeedias', 'koolitusele', 'rääkis', 'President', 'tööhõive', 'teisiti', 'toodetele', 'järgimisele', 'elektroodkeevitus', 'vaid', 'saavad', 'vahetuvad', 'hoiab', 'oleks', 'kohuse-', 'mõõtmetele', 'ladude', 'kasutades', 'inimpõlve', 'puidurikkeid', 'juhtidelt', 'keeruline', 'esmatasandi', 'osalejatele', 'töötavad', 'oluline', 'tingimustega', 'kasutab', 'veokijuhtide', 'huvilistele', 'infot', 'panustas', 'kettsaega', 'koostamisel', 'Näiteks', 'okste', 'Mitmekülgne', 'valdkondlike', 'märkamine', 'Võttes', 'Arvutioskus', 'saavutamiseks', 'täiendada', 'elektriskeemi', 'aluseid', 'struktuuri', 'õppida', 'lülitusjärjekorra', 'nn', 'nime', 'Varasemate', 'keerukamaid', 'muutuvas', 'majanduslangusega', 'Viimistlustehnoloogiad', 'sertifikaatidega', 'õigusaktide', 'esemeid', 'manuaalselt', 'poolele', 'vastutustunne', 'ettevõtteid', 'programmeerimiskeeli', 'väljastpoolt', 'hinnata', 'korraldamise', 'mullastikualased', 'liikumisele', 'lasevad', 'avaldati', 'Kalm', 'vastutavat', 'töötab', 'maailmas', 'Samuti', 'olemasolu', 'Ettevõtjate', 'vm', 'suhtes', 'kiirprototüüpimise', 'Võtmesõnad', 'õpitavad', 'tegemisel', 'riikides', 'Vahemere', 'puidurikete', 'Projektipõhise', 'sooritada', 'edusammudega', 'digitaalne', 'gruppi', 'kiiremini', 'e-kauplemise', 'enesedistsipliini', 'olulisust', 'sõjapõgenikust', 'tõhustamine', 'töökeskkonnas', 'vahel', 'tööstusdisaini', 'selgitamiseks', 'Enterprise', 'kui', 'e-teenused', 'nendega', 'tervikuks', 'hindamise', '–', 'vajavaks', 'Kaljulaid', 'Meie', 'Dokumenteerib', 'Oluliseks', 'aktiivselt', 'seadistamisega', 'Euroopa', 'pidevat', 'tagavad', '.', 'vajalike', 'olulisemad', 'enesekindlus', 'tähtsam', '15%', 'kasutatavate', 'panna', 'tunneks', 'elektroonikutel', 'tarneala-,', 'tulevikus', 'aina', 'tootmise', 'sihikindlus', 'Kõik', 'edendamisel', 'detaili', 'taotleda', 'selgus', 'hankida', 'haldamisega', 'initsiatiivi', 'EVEAd', 'eesmärgiks', 'Eestlasele', 'projektipõhise', 'ühel', 'teel', 'koostöösuhteid', 'bioloogiaga', 'arutada', 'keskendumegi', 'Pehme', 'tootmisjuhendeid', 'toetusskeemi', 'liiga', 'tehnilistes', 'paindlik', 'keevitamine', 'puidukuivatamisest', 'faktorid', 'teadmiste', 'panustada', 'amet', 'tervis', 'metsamajandamist', 'jätkab', 'veel', 'sissejuhatuseks', 'Võsalõikaja', 'elluviimise', 'tootmisest', 'nägemises', 'Müümine', 'jätavad', 'eneseväljendusoskus', 'Parimates', 'järgnevate', 'Põhikooli', 'koolitused']\n"
          ]
        }
      ]
    },
    {
      "cell_type": "code",
      "source": [
        "uploaded = files.upload()\n",
        "\n"
      ],
      "metadata": {
        "colab": {
          "base_uri": "https://localhost:8080/",
          "height": 72
        },
        "id": "Y-UVclFnBQcl",
        "outputId": "e397b8e1-f2c6-4e3d-ea0d-72e7539d6aa2"
      },
      "execution_count": 55,
      "outputs": [
        {
          "output_type": "display_data",
          "data": {
            "text/plain": [
              "<IPython.core.display.HTML object>"
            ],
            "text/html": [
              "\n",
              "     <input type=\"file\" id=\"files-d5bd77f1-f431-4116-b6fa-42a8efa7a2d7\" name=\"files[]\" multiple disabled\n",
              "        style=\"border:none\" />\n",
              "     <output id=\"result-d5bd77f1-f431-4116-b6fa-42a8efa7a2d7\">\n",
              "      Upload widget is only available when the cell has been executed in the\n",
              "      current browser session. Please rerun this cell to enable.\n",
              "      </output>\n",
              "      <script>// Copyright 2017 Google LLC\n",
              "//\n",
              "// Licensed under the Apache License, Version 2.0 (the \"License\");\n",
              "// you may not use this file except in compliance with the License.\n",
              "// You may obtain a copy of the License at\n",
              "//\n",
              "//      http://www.apache.org/licenses/LICENSE-2.0\n",
              "//\n",
              "// Unless required by applicable law or agreed to in writing, software\n",
              "// distributed under the License is distributed on an \"AS IS\" BASIS,\n",
              "// WITHOUT WARRANTIES OR CONDITIONS OF ANY KIND, either express or implied.\n",
              "// See the License for the specific language governing permissions and\n",
              "// limitations under the License.\n",
              "\n",
              "/**\n",
              " * @fileoverview Helpers for google.colab Python module.\n",
              " */\n",
              "(function(scope) {\n",
              "function span(text, styleAttributes = {}) {\n",
              "  const element = document.createElement('span');\n",
              "  element.textContent = text;\n",
              "  for (const key of Object.keys(styleAttributes)) {\n",
              "    element.style[key] = styleAttributes[key];\n",
              "  }\n",
              "  return element;\n",
              "}\n",
              "\n",
              "// Max number of bytes which will be uploaded at a time.\n",
              "const MAX_PAYLOAD_SIZE = 100 * 1024;\n",
              "\n",
              "function _uploadFiles(inputId, outputId) {\n",
              "  const steps = uploadFilesStep(inputId, outputId);\n",
              "  const outputElement = document.getElementById(outputId);\n",
              "  // Cache steps on the outputElement to make it available for the next call\n",
              "  // to uploadFilesContinue from Python.\n",
              "  outputElement.steps = steps;\n",
              "\n",
              "  return _uploadFilesContinue(outputId);\n",
              "}\n",
              "\n",
              "// This is roughly an async generator (not supported in the browser yet),\n",
              "// where there are multiple asynchronous steps and the Python side is going\n",
              "// to poll for completion of each step.\n",
              "// This uses a Promise to block the python side on completion of each step,\n",
              "// then passes the result of the previous step as the input to the next step.\n",
              "function _uploadFilesContinue(outputId) {\n",
              "  const outputElement = document.getElementById(outputId);\n",
              "  const steps = outputElement.steps;\n",
              "\n",
              "  const next = steps.next(outputElement.lastPromiseValue);\n",
              "  return Promise.resolve(next.value.promise).then((value) => {\n",
              "    // Cache the last promise value to make it available to the next\n",
              "    // step of the generator.\n",
              "    outputElement.lastPromiseValue = value;\n",
              "    return next.value.response;\n",
              "  });\n",
              "}\n",
              "\n",
              "/**\n",
              " * Generator function which is called between each async step of the upload\n",
              " * process.\n",
              " * @param {string} inputId Element ID of the input file picker element.\n",
              " * @param {string} outputId Element ID of the output display.\n",
              " * @return {!Iterable<!Object>} Iterable of next steps.\n",
              " */\n",
              "function* uploadFilesStep(inputId, outputId) {\n",
              "  const inputElement = document.getElementById(inputId);\n",
              "  inputElement.disabled = false;\n",
              "\n",
              "  const outputElement = document.getElementById(outputId);\n",
              "  outputElement.innerHTML = '';\n",
              "\n",
              "  const pickedPromise = new Promise((resolve) => {\n",
              "    inputElement.addEventListener('change', (e) => {\n",
              "      resolve(e.target.files);\n",
              "    });\n",
              "  });\n",
              "\n",
              "  const cancel = document.createElement('button');\n",
              "  inputElement.parentElement.appendChild(cancel);\n",
              "  cancel.textContent = 'Cancel upload';\n",
              "  const cancelPromise = new Promise((resolve) => {\n",
              "    cancel.onclick = () => {\n",
              "      resolve(null);\n",
              "    };\n",
              "  });\n",
              "\n",
              "  // Wait for the user to pick the files.\n",
              "  const files = yield {\n",
              "    promise: Promise.race([pickedPromise, cancelPromise]),\n",
              "    response: {\n",
              "      action: 'starting',\n",
              "    }\n",
              "  };\n",
              "\n",
              "  cancel.remove();\n",
              "\n",
              "  // Disable the input element since further picks are not allowed.\n",
              "  inputElement.disabled = true;\n",
              "\n",
              "  if (!files) {\n",
              "    return {\n",
              "      response: {\n",
              "        action: 'complete',\n",
              "      }\n",
              "    };\n",
              "  }\n",
              "\n",
              "  for (const file of files) {\n",
              "    const li = document.createElement('li');\n",
              "    li.append(span(file.name, {fontWeight: 'bold'}));\n",
              "    li.append(span(\n",
              "        `(${file.type || 'n/a'}) - ${file.size} bytes, ` +\n",
              "        `last modified: ${\n",
              "            file.lastModifiedDate ? file.lastModifiedDate.toLocaleDateString() :\n",
              "                                    'n/a'} - `));\n",
              "    const percent = span('0% done');\n",
              "    li.appendChild(percent);\n",
              "\n",
              "    outputElement.appendChild(li);\n",
              "\n",
              "    const fileDataPromise = new Promise((resolve) => {\n",
              "      const reader = new FileReader();\n",
              "      reader.onload = (e) => {\n",
              "        resolve(e.target.result);\n",
              "      };\n",
              "      reader.readAsArrayBuffer(file);\n",
              "    });\n",
              "    // Wait for the data to be ready.\n",
              "    let fileData = yield {\n",
              "      promise: fileDataPromise,\n",
              "      response: {\n",
              "        action: 'continue',\n",
              "      }\n",
              "    };\n",
              "\n",
              "    // Use a chunked sending to avoid message size limits. See b/62115660.\n",
              "    let position = 0;\n",
              "    do {\n",
              "      const length = Math.min(fileData.byteLength - position, MAX_PAYLOAD_SIZE);\n",
              "      const chunk = new Uint8Array(fileData, position, length);\n",
              "      position += length;\n",
              "\n",
              "      const base64 = btoa(String.fromCharCode.apply(null, chunk));\n",
              "      yield {\n",
              "        response: {\n",
              "          action: 'append',\n",
              "          file: file.name,\n",
              "          data: base64,\n",
              "        },\n",
              "      };\n",
              "\n",
              "      let percentDone = fileData.byteLength === 0 ?\n",
              "          100 :\n",
              "          Math.round((position / fileData.byteLength) * 100);\n",
              "      percent.textContent = `${percentDone}% done`;\n",
              "\n",
              "    } while (position < fileData.byteLength);\n",
              "  }\n",
              "\n",
              "  // All done.\n",
              "  yield {\n",
              "    response: {\n",
              "      action: 'complete',\n",
              "    }\n",
              "  };\n",
              "}\n",
              "\n",
              "scope.google = scope.google || {};\n",
              "scope.google.colab = scope.google.colab || {};\n",
              "scope.google.colab._files = {\n",
              "  _uploadFiles,\n",
              "  _uploadFilesContinue,\n",
              "};\n",
              "})(self);\n",
              "</script> "
            ]
          },
          "metadata": {}
        },
        {
          "output_type": "stream",
          "name": "stdout",
          "text": [
            "Saving estonian-stopwords.txt to estonian-stopwords (1).txt\n"
          ]
        }
      ]
    },
    {
      "cell_type": "code",
      "source": [
        "stopwords_array = []\n",
        "with open('estonian-stopwords.txt') as f:\n",
        "    for line in f.readlines():\n",
        "      stopwords_array.append(line.strip())\n",
        "    \n",
        "print(stopwords_array)\n",
        "print(len(stopwords_array))\n",
        "    "
      ],
      "metadata": {
        "colab": {
          "base_uri": "https://localhost:8080/"
        },
        "id": "lAGwThgGBgGU",
        "outputId": "789e347a-1731-4139-abc1-0f90a8349fe1"
      },
      "execution_count": 56,
      "outputs": [
        {
          "output_type": "stream",
          "name": "stdout",
          "text": [
            "['minutaolisteks', 'veeres', 'samadeks', 'karkääksti', 'mihukeste', 'ii-ha-ha', 'milliseist', 'selleks', 'mõlemate', 'praeguseiks', 'prõmm', 'mingisugustest', 'mihukeses', 'neilsamuseil', 'puuh', 'niimitmeisse', 'hõhõh', 'kõikidena', 'plauh', 'enamas', 'säherdusi', 'nendekssamusteks', 'määrastele', 'tere', 'teisel', 'jalus', 'minusuguseni', 'isesugusteks', 'neist', 'temasuguseisse', 'kätte', 'midagideta', 'prauhh', 'mitu-mitmest', 'seesuguseina', 'hakkaks', 'eelmistes', 'enimates', 'samas', 'milletaoliseks', 'nendetaolisteni', 'väljapoole', 'saadetusel', 'teinuksime', 'pliks-plaks', 'teeksid', 'omataoliseta', 'nanuu', 'kellel', 'mõlema', 'vinki-vinki', 'muid', 'pole', 'samu', 'kukeleegu', 'mõni', 'teiesugusest', 'mihukestelt', 'eelmisel', 'küüsis', 'mõlemale', 'muini', 'muuna', 'enesele', 'lähe', 'missugustel', 'võigu', 'eelmistelt', 'hee', 'viudi', 'milliseta', 'ih-ih-hii', 'siuks', 'sellekssinaseks', 'nendetaolistesse', 'mitmeis', 'samataoliste', 'sääraseid', 'omataolisis', 'huist', 'eimiskisse', 'plõmdi', 'igasuguse', 'utu', 'mõnesugune', 'lonksti', 'enesteni', 'niimitmetelt', 'mihukest', 'mõnesugusele', 'säherdusele', 'mitmesugusele', 'järgmisteta', 'mitu-mitmeist', 'lähevad', 'lärtsti', 'millise', 'milliseilt', 'miskisuguseis', 'suhkat-sahkat', 'enimani', 'niimitut', 'samataoliseis', 'issake', 'ptruu', 'omaga', 'selleltsamuselt', 'nisukesteks', 'praegustes', 'sinul', 'ükskõik', 'nihukestena', 'minakeseta', 'meieta', 'uka', 'praeguseks', 'omataolistes', 'ah', 'pää', 'muiks', 'meietaolistena', 'nendetaolisis', 'omata', 'oijeh', 'eimiskeil', 'mõnedesse', 'sauhti', 'mäherduse', 'eas', 'auh', 'niikaua', 'poolidele', 'neiltsinaseilt', 'võiksid', 'igasugusena', 'minutaolise', 'miskisuguse', 'nendeta', 'teiesuguseini', 'pidin', 'bingo', 'määraseks', 'sellessesinasesse', 'läinuksin', 'omadeta', 'enne', 'jalust', 'kumbadele', 'poolisid', 'seesuguseiks', 'nilpsti', 'käekõrval', 'siukesiks', 'tegid', 'servus', 'misukestega', 'mingeile', 'fuih', 'mitmesugusesse', 'üksteised', 'robaki', 'leelo', 'vurra-vurra', 'mäts', 'missuguseina', 'niisuguseilt', 'mingisugustele', 'milledeta', 'mõningast', 'omataolisele', 'phäh', 'sellessamases', 'järgmiseilt', 'sapsti', 'selleta', 'mitmesuguseile', 'korral', 'selliseni', 'mõningasest', 'sihukesel', 'neil', 'samades', 'teiesugusteks', 'isver', 'praegusteks', 'i', 'meis', 'tagant', 'endal', 'kraa', 'plõks', 'sinusuguseis', 'eemal', 'omade', 'sellestsinatsest', 'omakorda', 'pidanuksin', 'nendetaolisilt', 'kõks', 'pot', 'mitmendast', 'missuguseta', 'hihii', 'tonks', 'kumbadeks', 'missugusteni', 'mõningatelt', 'säherduses', 'kummana', 'sihukestest', 'minusuguseist', 'üksteisteni', 'sipsti', 'minani', 'platsti', 'killadi|-kolladi', 'määrased', 'samasugustelt', 'röhh', 'uhtsa', 'hah', 'hakkasin', 'igasugustelt', 'seesugune', 'säherdustele', 'mauhti', 'samasuguse', 'temakesiks', 'milleta', 'tuldud', 'nisukest', 'plats', 'teisesse', 'praeguseil', 'niisugusesse', 'missugustena', 'urr', 'enimatel', 'mingitel', 'mitmesugustes', 'sinusugusteks', 'seesamane', 'naasuguste', 'praegu', 'nendetaoliseist', 'toosamaseilt', 'sestsinatsest', 'mingisuguseid', 'omadest', 'milliseis', 'väärtki', 'niimitmeini', 'kuni', 'miks', 'niisugustelt', 'teistsugusena', 'sellistel', 'säärastena', 'kohale', 'minusugusesse', 'teistsuguseta', 'nendest', 'nendetaoliseile', 'tuldi', 'eimiskilt', 'neile', 'temasugustes', 'aegu', 'mõningaselt', 'sinusugusteta', 'nihukesilt', 'nendetaolisele', 'miskiks', 'nondelt', 'möh-öh-ää', 'tegime', 'järgmiselt', 'toosamastest', 'toosamastes', 'sinutaoliseid', 'järgi', 'mitmete-setmetega', 'omilt', 'nisukestesse', 'omataolisesse', 'mõlematele', 'miskisuguseist', 'toosamastega', 'milletaoliseis', 'manu', 'meiesugusteks', 'üksteisele', 'sinasid', 'minutaolisteta', 'temataolistesse', 'säärasteni', 'sinutaolised', 'võib-olla', 'kirr-kõrr', 'partsti', 'omasuguseis', 'järgmisega', 'eelmisesse', 'mõninga', 'trah', 'nendestsamastest', 'enamais', 'midagina', 'ühtedel', 'siukesele', 'kumbadest', 'igasuguseni', 'partsumm', 'omataolisile', 'miskita', 'kukilt', 'urjah', 'samana', 'sellessesinatsesse', 'siukesega', 'mihukesisse', 'mõnesuguseist', 'sinusugustest', 'meietaolisel', 'mõningaisse', 'enamata', 'oli', 'mjaa', 'nuuts', 'sääraselt', 'limpsti', 'isesugusele', 'sihka-sahka', 'pidage', 'nahka', 'sihukestelt', 'samani', 'uist', 'tulemast', 'põksti', 'mõlemaini', 'misukesena', 'niisugusel', 'omaenda', 'temataoliseiks', 'vaatamata', 'ühtlasi', 'kestes', 'meiesuguseta', 'võrd', 'temakestel', 'plaksti', 'mõningates', 'soo', 'poolega', 'mitmesuguseisse', 'omataolistel', 'mõnesugustelt', 'omasugustes', 'sinusugustelt', 'olnuksite', 'jooksul', 'esialgu', 'kääksti', 'müta-mäta', 'päntsti', 'eikellekski', 'prrr', 'sessesamusesse', 'minakesesse', 'sihukesisse', 'saaduks', 'nõksti', 'mitmete-setmetena', 'ei', 'plörtsat', 'sisse', 'asemel', 'teisest', 'milletaolisil', 'mõlematel', 'omadeni', 'meiesugusena', 'tulla', 'omataoliseis', 'samasugusest', 'temasugusel', 'minadest', 'priuhh', 'kiiks', 'sellisteks', 'määraseini', 'kss', 'kok', 'lörtsti', 'üks', 'nendestsamadest', 'võiks', 'kustpoolt', 'võiksite', 'enamad', 'väga', 'midagiks', 'pooleks', 'võiv', 'mitmeteks', 'mõningail', 'eh', 'kauh', 'läts', 'omasuguses', 'taolisest', 'kriuks', 'pakaa', 'prõntsti', 'hulgast', 'järgmiseisse', 'samalt', 'mitmendal', 'ärge', 'temakesil', 'mõlemas', 'üleval', 'mitmeilt-setmeilt', 'kromps', 'üksteistelt', 'kaapsti', 'meiesuguseisse', 'meiesuguse', 'teistsuguste', 'mis', 'polnud', 'eelmisi', 'karnaps', 'ühtedena', 'minakesil', 'millistest', 'teistsugustele', 'miskitelt', 'nihukene', 'minutaolisteni', 'eimiskit', 'kripa-krõpa', 'põnks', 'tuldav', 'nendetaoline', 'mõnesugustel', 'minutaolistel', 'iial', 'meietaoliseta', 'teed', 'sinusuguseks', 'mitmetest-setmetest', 'priks', 'sellesinaseta', 'b', 'järgmiseni', 'missuguseks', 'mh', 'juurest', 'sinusugustena', 'teiesugusesse', 'sellesamata', 'seesuguseil', 'nihukeselt', 'aijeh', 'kapsti', 'olevat', 'äss', 'mütt', 'taolistes', 'milleski', 'mitmesuguseilt', 'üksteistega', 'eikelletagi', 'nonoh', 'nooks', 'nühkat-nühkat', 'midagidena', 'sinad', 'nisukeseks', 'mõningastega', 'mitu-mitmetesse', 'minusugusteks', 'taolisis', 'mitmetena', 'nõnda', 'endas', 'eneselt', 'omataolised', 'omasugusega', 'minakesis', 'karmauhti', 'nendetaolisesse', 'läksite', 'krõpa', 'omataolisega', 'miskisugust', 'omasugusesse', 'niisuguseks', 'poolisse', 'ss', 'säherdust', 'mitmendatest', 'teistsuguseilt', 'sinutaoliseist', 'sinuna', 'niisamasugusena', 'plirtsti', 'temataolisiks', 'olduks', 'eimiskeina', 'samasuguseiks', 'sedasamast', 'mõnesuguseina', 'igale', 'siuhti', 'mäherdusega', 'etteotsa', 'nihukestel', 'sinusuguseta', 'tehta', 'samata', 'proosit', 'enamani', 'enestel', 'järgmiseiks', 'hurjuh', 'teistes', 'noilsamul', 'issakene', 'säärasesse', 'tagaselja', 'tagantotsast', 'seas', 'lõmps', 'peetav', 'kõigil', 'igaühes', 'meietaolisisse', 'teiesugustena', 'kolks', 'haa', 'minusuguste', 'omataoliseisse', 'temasugusesse', 'kummalegi', 'noh', 'kilks-kolks', 'noodsamad', 'kelledele', 'ole', 'võib', 'tulev', 'taoliseni', 'igasuguseis', 'nondesamadeta', 'nendesuguseil', 'minutaoliseta', 'ühtede', 'läheb', 'oma', 'sääraseiks', 'olev', 'vaeh', 'temasuguseil', 'üheni', 'mõmm', 'hass', 'ehhee', 'naks', 'omasugust', 'sellesinatseni', 'siukeselt', 'sääraseks', 'üksteiselt', 'enestena', 'isesugustes', 'tilulii', 'naasugustele', 'miskisugusel', 'sinutaoliseis', 'vahetsi', 'võidi', 'enimaiks', 'karpauhti', 'taolisiks', 'mõningani', 'need', 'nendelt', 'omile', 'mäherdustes', 'trahh', 'siin', 'oldavat', 'phuuh', 'mõningastes', 'praeguseilt', 'järgmiseta', 'keegi', 'samasugused', 'nihukeseni', 'juba', 'tohhoo', 'niisamasuguseist', 'midagidest', 'te', 'mingisuguseis', 'nendesugusteni', 'kellenagi', 'taoliseisse', 'nendetaoliste', 'pidades', 'skool', 'pöörd', 'hakkame', 'võidud', 'mitme-setmeta', 'kõikideni', 'mõnesuguses', 'mõnesugustes', 'toosamases', 'milletaoliseile', 'ühtedeni', 'minevat', 'lähedalt', 'teda', 'klõps', 'väel', 'seesugusest', 'säärastel', 'põnt', 'kriiks', 'kolk', 'tulles', 'läks', 'vahepealt', 'vahel', 'eelmisteni', 'peetud', 'omast', 'säuhti', 'mitme', 'isesugusest', 'enesest', 'muga', 'tost', 'toosamasele', 'khm', 'mõnena', 'sellestsamasest', 'pliu', 'mingisugustena', 'summat-summat', 'mitu-mitmes', 'omasugusele', 'kõrvas', 'alt', 'ülespoole', 'mitmeiks', 'enamatega', 'miskisugustes', 'mäherdusilt', 'tsuhh', 'pahh', 'mingist', 'samasugustest', 'ise', 'kumbade', 'mitmendate', 'praegusile', 'nondega', 'millisteta', 'tümps', 'põrr', 'nendesugune', 'saanuvat', 'sinusugustesse', 'nihukese', 'uhuh', 'asemele', 'sessesinatsesse', 'saaksite', 'kõikideks', 'sinutaoliseilt', 'säherduste', 'omataoliseilt', 'temataolisi', 'nisukestest', 'määraseis', 'säherdusteks', 'mõlemaiks', 'millest', 'millenagi', 'kuhugi', 'sinutaolistes', 'milletaolisisse', 'vaak', 'puhh', 'sulpsti', 'niimitmelt', 'niisamasugusel', 'nisukesi', 'pele', 'kraak', 'milles', 'endi', 'millistesse', 'niimitmeist', 'sellesinatse', 'meietaoliste', 'õrr', 'plõnn', 'eh-eh-ee', 'temakesed', 'sulksti', 'minusugust', 'teiesuguseta', 'mihukeseta', 'määraseiks', 'kraps', 'isesugusel', 'teise', 'järgmistes', 'mõlemaisse', 'olgem', 'milliseks', 'nendetaolised', 'minutaolistega', 'eelmiseis', 'olgugi', 'ähhähhää', 'kõikidel', 'plõksti', 'patst', 'mõlemana', 'muudeta', 'samataolisteta', 'jaoks', 'pantsti', 'mõningateta', 'nendestsinastest', 'sinades', 'miskeid', 'misukestel', 'siukestega', 'millelegi', 'eikellenagi', 'meietaoliseni', 'määrasele', 'seespool', 'kõrva', 'jeerum', 'samasugustesse', 'millises', 'minutaoliseid', 'meiesugused', 'seesugustega', 'võimaks', 'kurnäu', 'temataoliseks', 'minule', 'taolistesse', 'sääraseil', 'nondestsamadest', 'teinuksite', 'hakati', 'omasugusena', 'mõne', 'minnes', 'omaette', 'oleksime', 'kimps-komps', 'mitu-mitmeini', 'olema', 'läinuksid', 'veelgi', 'lorts', 'mingisuguseilt', 'mingisuguseil', 'naasugusel', 'kalpsti', 'ärgem', 'mitu-mitu', 'igasuguseisse', 'seesugust', 'meiesugustesse', 'niimitmeis', 'jaa-ah', 'sirts', 'minusugusele', 'tuutu-luutu', 'omataolistesse', 'pidasin', 'enimailt', 'tegemas', 'küüsist', 'kuivõrd', 'omasuguseni', 'millel', 'minusugused', 'kilk', 'misukestes', 'niisamasuguseina', 'neidsinaseid', 'k', 'samataoliseks', 'eelmisisse', 'oleksite', 'vutt', 'minadeks', 'psst', 'kumb', 'särts', 'teieni', 'eelmisest', 'temalt', 'todasama', 'minusuguseisse', 'praeguseis', 'killa-kõlla', 'pimm', 'ök', 'tollesse', 'määraseisse', 'nendekssinasteks', 'muide', 'riks-raks', 'heaks', 'totsti', 'teistega', 'kartsumm', 'muil', 'nendesamade', 'minata', 'hõissassa', 'tsst', 'pealt', 'selliste', 'tehtaks', 'ühtedeks', 'naasugusteni', 'mihukesi', 'kõlksti', 'temaks', 'nendesuguse', 'needsinased', 'isesugusena', 'enimatesse', 'nendesuguseilt', 'hakatud', 'toosamasel', 'meietaoliseil', 'teiesugusteni', 'mõneks', 'soss-soss', 'mispärast', 'mitut', 'pooltesse', 'kummastki', 'omis', 'sihukesiks', 'ilmaski', 'omiks', 'saa', 'jaah', 'musse', 'nendesugustega', 'tollesamata', 'mõnedes', 'iseenesest', 'säärasteks', 'sihukeselt', 'plinn', 'tullakse', 'eales', 'millessegi', 'eimiskita', 'vaat', 'sinutaolisesse', 'tehtav', 'minusugusega', 'sinutaolisteni', 'uijeh', 'missugusega', 'neistsamuseist', 'tutki', 'sealpool', 'sips', 'selliseks', 'omataolistest', 'peetama', 'võe', 'hah-hah-hah', 'poolidelt', 'sinadel', 'isesugusteni', 'kummagi', 'siukest', 'eelmisega', 'niimitmeile', 'praeguseist', 'samadega', 'misukesed', 'temasuguseiks', 'kipp', 'muus', 'jestas', 'tollele', 'kuhupoole', 'tirtsti', 'samadena', 'teiesugust', 'pooliga', 'eimiskeile', 'võime', 'tsurr', 'man', 'larts', 'ääres', 'kõigina', 'milletaoliseilt', 'niimitme', 'voh', 'liiga', 'kõiki', 'temal', 'köksti', 'mäherdustest', 'siukestesse', 'enim', 'misukesis', 'säherdusilt', 'säärastele', 'nendesamusteni', 'minakesteta', 'hakkad', 'ühestükkis', 'samataoliseil', 'määrastest', 'miskitel', 'praksti', 'sihukesteta', 'milledest', 'miskil', 'tss', 'nisukesed', 'heh', 'meie', 'hä-hä-hää', 'võisid', 'samataoliselt', 'sellele', 'mitu-mitmetest', 'niisuguseina', 'nendesugustelt', 'raksti', 'eimiskeid', 'minusuguseis', 'päralt', 'mõlemaid', 'samade', 'samasuguste', 'tollesamana', 'sinusuguseilt', 'kummani', 'saaksid', 'niisamasugusteta', 'tuldagu', 'kõikidest', 'eimillenagi', 'kill-kõll', 'tolt', 'meietaolisest', 'muul', 'misukesesse', 'napsti', 'piiri-pääri', 'nätsti', 'taevake', 'kärts', 'endata', 'killas', 'tulite', 'milleks', 'praegustest', 'sellesamase', 'misukesega', 'miau', 'ahaa', 'minutaolises', 'prantsaki', 'õits', 'kõigele', 'enamateta', 'meietaoliseis', 'seesugused', 'mõningalt', 'millede', 'mürr', 'määraseni', 'temataolisele', 'säherduse', 'sellessesamasse', 'noile', 'midagidele', 'klõmdi', 'tohoo', 'nihukeseks', 'mulle', 'minad', 'meile', 'minduks', 'olla', 'mitmetelt', 'pihta', 'mingisuguseisse', 'noid', 'kaasas', 'kaudu', 'endaga', 'säherdusesse', 'nendetaolistena', 'temasugusest', 'pooliks', 'ohoi', 'east', 'susse', 'too', 'eelmisist', 'enamaina', 'nihukeste', 'sinutaolistel', 'teiesuguseile', 'teete', 'seesugusel', 'mõnesugustele', 'omataoliseil', 'kokku', 'nendesamastena', 'missuguseile', 'karniuhti', 'tehtavat', 'elik', 'minakesega', 'võisime', 'endina', 'karkääks', 'teiesuguseiks', 'minuks', 'midagit', 'umbes', 'kummanigi', 'minusse', 'turtsti', 'järele', 'mitmendat', 'just', 'mõnesugusega', 'nipsti', 'kumbki', 'sinusuguseile', 'kallalt', 'igaühte', 'nihukesi', 'mäherdusisse', 'kellega', 'minev', 'meiesugustel', 'mitmetesse', 'eelmist', 'milleni', 'jeever', 'naasuguseks', 'tulnuksime', 'hakataks', 'peaksime', 'sellelesamusele', 'mõningasisse', 'niisuguseis', 'müksti', 'plarts', 'uraa', 'järgmiseist', 'teineteise', 'sops', 'mingid', 'nendesamusteta', 'mitmest-setmest', 'siukestelt', 'olda', 'isesugustena', 'sellestsamast', 'meiesuguseist', 'kohva-kohva', 'lortsti', 'mitmendatesse', 'hakatuvat', 'hohoo', 'omasuguseil', 'tinn', 'nihukestest', 'enimaga', 'eelmistele', 'mihukestest', 'sessamuses', 'sinutaoliseisse', 'määrastelt', 'seesuguseta', 'veel', 'silks', 'misukest', 'müts', 'tõttu', 'kõigiks', 'sutsti', 'kelles', 'ma', 'mõlemates', 'järgmist', 'veerde', 'mkm', 'tuk', 'kuigi', 'mõnesuguseni', 'samataolisega', 'kõigini', 'millistega', 'tegema', 'nõjal', 'teiesugustesse', 'minnakse', 'teiesugusteta', 'tsolk', 'omataolist', 'sulle', 'temasugusega', 'nendesugustes', 'mindi', 'misukeselt', 'minutaolisena', 'mõningaga', 'niisugusteta', 'teeme', 'sinadelt', 'säherdustena', 'kellede', 'kelledeni', 'aga', 'köh', 'samataolist', 'võid', 'igati', 'taolisist', 'mitmeta', 'järgmised', 'nendega', 'temataoliselt', 'tänu', 'ae', 'enamat', 'prr', 'kellele', 'sinusugune', 'mitmeteni', 'säherdusest', 'mitmendatega', 'mitu-mitmetel', 'meietaolisis', 'enama', 'sellesamuse', 'tulnud', 'sihukesteni', 'sellepärast', 'mauh', 'noist', 'krõksti', 'mitmendasse', 'sinutaolisi', 'eelkõige', 'ü', 'klõksti', 'eelmise', 'siis', 'tollest', 'hakatakse', 'mitmendaini', 'eeli', 'hakatagu', 'nondena', 'virdi', 'sinusuguste', 'eimiskile', 'igasuguselt', 'seesugustelt', 'mühüh', 'õkk', 'mihukestele', 'hõi', 'neissesinaseisse', 'mõnede', 'pooltele', 'nendesinasteni', 'sellessesamusesse', 'nahkas', 'mingisugusega', 'krauh', 'sekka', 'temasugusena', 'enamaga', 'kellessegi', 'selsamal', 'sääraseisse', 'sellel', 'fui', 'kääks', 'poolidega', 'sinaga', 'mingeil', 'kuidagi', 'endani', 'kumbadeni', 'hmjah', 'sirr-sorr', 'samataolisist', 'emma-kummani', 'minakestena', 'pähh', 'teiesuguseisse', 'säärasest', 'enimateks', 'emmasse-kummasse', 'emmaks-kummaks', 'missuguselt', 'kellegagi', 'nisukesesse', 'kõik', 'mõnesuguseks', 'teiseni', 'tuuris', 'teeksite', 'üksteistele', 'tegev', 'karprauh', 'müh-müh', 'võida', 'niisamasugusele', 'karkäuh', 'teistsuguseni', 'kummale', 'aituma', 'nendesugusena', 'säärastelt', 'tst', 'mõnedega', 'teistsuguses', 'kõigis', 'temasugustest', 'millisesse', 'meietaoline', 'millisteni', 'nihukestes', 'miskitele', 'põks', 'meiesugustega', 'niisugusega', 'milliseid', 'miskisugusteks', 'niisuguseist', 'ligidalt', 'meiesuguseid', 'sellest', 'olnud', 'samataolisena', 'siiani', 'kut', 'nooh', 'ülevalt', 'neikssinaseiks', 'vat', 'pidavat', 'tulnuksite', 'mõningase', 'meietaolises', 'mitut-setut', 'järgmine', 'teinuvat', 'kuhu', 'teinud', 'selle', 'endist', 'käes', 'allpool', 'sinuta', 'teistsuguselt', 'missuguseilt', 'endaks', 'mõningasesse', 'temasugustele', 'sellesinase', 'praegust', 'karpauh', 'kukil', 'eimiskil', 'tos', 'mulksti', 'millistes', 'lartsti', 'mingiga', 'mitmetel', 'noikssamuks', 'kõmps', 'saamata', 'ette', 'eimiskitele', 'nõka-nõka', 'trallallaa', 'minakeses', 'enamale', 'atsih', 'mingisugustes', 'praegusi', 'selsinasel', 'muuks', 'misukestelt', 'põrra-põrra', 'sinani', 'lool', 'miskeini', 'nendetaoliselt', 'samasugusena', 'sinutaolistesse', 'niuhti', 'milledesse', 'kummanagi', 'igas', 'niimitmel', 'mõningatena', 'seesugusteni', 'jälil', 'mitmed', 'midagidega', 'teiesugusel', 'viuh', 'sellelsamal', 'sääraseni', 'üksteiseta', 'w', 'minade', 'mõningaini', 'määraste', 'kriuh', 'temasugust', 'sinu', 'temakesteta', 'mitmesugustele', 'kõss', 'temakene', 'eelmiseist', 'niisuguseni', 'järgmisena', 'nendesuguseid', 'popp', 'palju-palju', 'tolleltsamalt', 'pärast', 'nendesinasteta', 'näpsti', 'omasuguseist', 'mitu-mitmega', 'mäherdusist', 'minutaoline', 'teiesuguseil', 'koos', 'mingisugusest', 'sull', 'nisukesega', 'vurtsti', 'sekssamaks', 'eimillelgi', 'niimitmest', 'kimpu', 'sellesinatsena', 'tagast', 'niisugust', 'miskeiks', 'igatahes', 'mitmendateni', 'muudelt', 'samataolisteni', 'mõnesuguselt', 'niimitmena', 'meiesugustele', 'miskitega', 'oih', 'määraseilt', 'niimitmeteks', 'niisamasugused', 'seni', 'teisteta', 'olnuvat', 'kel', 'viuhti', 'minemata', 'sooh', 'minakesi', 'temasugused', 'misukeseks', 'urjuh', 'niisuguses', 'marss', 'mats', 'mitmete-setmeteta', 'siiski', 'eelmises', 'eelmisteks', 'eimiskite', 'mäherdusile', 'kannul', 'omasugusel', 'seesuguselt', 'mitmesuguseid', 'mäherdusiks', 'säherdusteni', 'tagaotsas', 'järgmisis', 'tuleksite', 'minuni', 'muilt', 'kõiges', 'minakesteni', 'samataolistena', 'heldeke(ne)', 'purts', 'mul', 'missugustes', 'mitu-mitmeiks', 'nendetaolisil', 'igaüht', 'likat-lõkat', 'igaühe', 'brr', 'temakeseta', 'sessinatses', 'bai-bai', 'kõigist', 'kotsu', 'toosamaseks', 'sihukest', 'missuguseist', 'niimitmetesse', 'taoliste', 'allapoole', 'toosamased', 'läheksid', 'poole', 'seesuguseks', 'sinana', 'üksteisena', 'vooh', 'eimiskeisse', 'naasuguseilt', 'mingisugune', 'eel', 'hoolimata', 'igasuguste', 'ringi', 'teine', 'temataolisist', 'meietaolistelt', 'praeguseisse', 'ega', 'mitmeiks-setmeiks', 'igasuguseilt', 'nendeltsamadelt', 'juhhei', 'nendesugust', 'tegemaks', 'mõnedelt', 'eelmiseisse', 'nendesamasteta', 'ühtesid', 'enimaid', 'üksteise', 'minutaolisist', 'urjoh', 'kestel', 'hopp', 'keskele', 'mitu-mitmelt', 'missugused', 'nisukestega', 'vist', 'supsti', 'nälpsti', 'm', 'toosamaseta', 'mäherduseta', 'meieks', 'siukestest', 'sinata', 'omaenese', 'samasuguseina', 'praeguseni', 'sellised', 'selt', 'naasuguseil', 'omale', 'temakesel', 'poolel', 'endalt', 'hakatavat', 'kõigi', 'muudel', 'nendetaoliseni', 'lööpsti', 'minutaolistesse', 'seesugusteks', 'temataolistes', 'm-mh', 'samasugusele', 'järgmisile', 'endil', 'temataoliseile', 'temale', 'mille', 'sissepoole', 'kriiksti', 'määraseile', 'teistsuguseile', 'adaa', 'mõnele', 'sinutaoliseta', 'säärase', 'otsast', 'üksteistest', 'isesuguseisse', 'mõlematega', 'nisukese', 'saadud', 'olen', 'üksi', 'mitmesugusteks', 'minutaolistelt', 'seltsamalt', 'pläuh', 'mihuke', 'pott', 'minal', 'mitu-mitmele', 'selles', 'phuh', 'mitmendail', 'teen', 'järelt', 'enimana', 'temasuguse', 'määrast', 'võidama', 'isesuguseni', 'isesuguseile', 'sellesamuseta', 'mnjah', 'mõningasiks', 'hakanuksite', 'naasugustesse', 'muu', 'selliseisse', 'pean', 'sellelsamasel', 'lõnks', 'järgmistesse', 'temasuguste', 'peal', 'taoliseta', 'hakkasime', 'enimaist', 'missugusel', 'sellesse', 'nendesamaste', 'milletaoliseta', 'teile', 'suss', 'sinuks', 'ses', 'temasuguseks', 'niimitmetel', 'seesuguseisse', 'eimillelegi', 'igasuguseini', 'olnuksid', 'tsuk', 'võisin', 'täiesti', 'minakesest', 'eimiskiteni', 'meiesugustelt', 'sihukesest', 'tilk', 'pardonks', 'midagid', 'nendesugusest', 'mõningatega', 'muust', 'omataoliseiks', 'milledeks', 'mihukeseni', 'nendesamadega', 'mõnesugusena', 'mõnesuguseta', 'sinult', 'määrastes', 'sääraseini', 'mull-mull-mull', 'mitmendaks', 'isesugustega', 'äh-hää', 'emmalt-kummalt', 'mitmetele', 'kukku', 'enimaina', 'naasugustest', 'neistsamaseist', 'nendesinaste', 'priuh-prauh', 'temataoliseilt', 'teeksime', 'minutaoliseilt', 'eelmisteta', 'sääraste', 'mindavat', 'saad', 'kompsti', 'näts', 'nondessamades', 'sind', 'samataolistesse', 'selmet', 'miskisuguselt', 'väljastpoolt', 'minakeseks', 'kärr', 'omataolisilt', 'mnjaa', 'ropsaki', 'minaga', 'teistele', 'tulin', 'sealt', 'isesugustele', 'krõps', 'parts', 'sinadesse', 'suht', 'seltsis', 'omasuguseilt', 'oo-ohh', 'nisukesena', 'volks', 'mitu-mitmeteks', 'milt', 'kruu', 'nisukesele', 'midagita', 'üht', 'tulete', 'plauhh', 'järgmistelt', 'see', 'käuks', 'siu', 'ž', 'väljaspool', 'igasugustes', 'mõningaina', 'läinuksite', 'sihukesena', 'võiduks', 'ahah', 'ennäe', 'kõtt', 'kummaga', 'ploks', 'nendetaoliseil', 'hakanud', 'kellegi', 'säärasel', 'oh-oh-oo', 'eelmistena', 'proost', 'igaühena', 'mõned', 'hakanuksin', 'naasuguseini', 'sellelesamasele', 'kumbi', 'poldud', 'pooleta', 'mäherdusis', 'paiku', 'ratataa', 'keda', 'minutaolist', 'teiesuguseilt', 'toosamastesse', 'mõlemaga', 'lähen', 'lõnksti', 'hakanuvat', 'huu', 'õ', 'igaühest', 'kõikides', 'miskitesse', 'mus', 'kärtsti', 'sääraseis', 'taolised', 'mõlematelt', 'omataolisteta', 'teiesuguseina', 'isesuguseta', 'minul', 'mingisuguseni', 'tulime', 'läinud', 'mind', 'sinast', 'saanuksid', 'enimas', 'igal', 'oeh', 'virr', 'turts', 'minakesteks', 'kalps', 'minutaolisisse', 'kraks', 'poolides', 'seesuguseis', 'poolest', 'määrasteta', 'tulid', 'nõks-nõks', 'määrastena', 'kelletagi', 'samasugusteta', 'killadi', 'millistele', 'enimal', 'niisamasuguste', 'tulevat', 'tutkit', 'milletaolistest', 'plumpsti', 'sama', 'temataolistel', 'polevat', 'teiesugune', 'külge', 'mõlemalt', 'igasugustest', 'samataoliseile', 'risti', 'sääraseist', 'minusuguseina', 'uhal', 'mõlemais', 'alles', 'põmm', 'kõigesse', 'mihukesil', 'muile', 'niisugustega', 'tuldama', 'vilks', 'kõmm', 'eelmiseile', 'võidagu', 'nendesamasteni', 'kraapsti', 'mõlemateni', 'tulgu', 'kõigel', 'mäherdusi', 'minutaolisel', 'muusse', 'säärasega', 'nendesamastega', 'tuldavat', 'enimatest', 'määraseta', 'omadega', 'peetaks', 'praegune', 'mine', 'kui', 'kih', 'sulpa-sulpa', 'teiseta', 'peaksite', 'hakkamata', 'sihukestele', 'omasugustest', 'milliseini', 'nendekssamasteks', 'niisamasuguse', 'saame', 'miskisugustele', 'nondesamadeni', 'seejärel', 'mitmeist-setmeist', 'ee', 'seesugustesse', 'huh', 'teis', 'eks', 'eh-eh-hee', 'määrane', 'sinusugustega', 'naasugustes', 'v', 'kellelegi', 'teistsuguseiks', 'kõigilt', 'milletaoliseil', 'minakestes', 'muudena', 'niisuguste', 'sellistele', 'läksid', 'mõnedeta', 'nahas', 'igaüheta', 'nendesuguseile', 'toosamaseile', 'siukeste', 'mitmetele-setmetele', 'poolidena', 'samataoliseta', 'samasugustel', 'ärgu', 'samadelt', 'niisugusest', 'oleks', 'nendetaoliseilt', 'viisi', 'milletaolistes', 'minutaolistest', 'temasuguseis', 'õss', 'teistsuguseist', 'alutsi', 'sinas', 'neissinaseis', 'aitüma', 'küljes', 'minusugusteni', 'naksti', 'määrasteks', 'nendetaoliseid', 'sinusuguseist', 'niisuguseil', 'peavad', 'minakesed', 'tollesamaga', 'tibi-tibi', 'misukesi', 'sellesamaseta', 'samasuguseini', 'saati', 'millelgi', 'missugune', 'slepis', 'meiesuguses', 'miskisugusteni', 'niimitmeil', 'laks', 'teistsugusteni', 'järgmisest', 'teinuksid', 'teiesuguste', 'pikku', 'tiu', 'plärts', 'meietaolisele', 'järelikult', 'missuguseid', 'samataoliseilt', 'eikelleltki', 'miskit', 'kellelt', 'sellesinatsega', 'temataoliseni', 'enamaile', 'millistel', 'taoline', 'hakatama', 'igasugused', 'praegused', 'kumbadega', 'samadele', 'nendetaolisega', 'enamatelt', 'said', 'mitmesugusteta', 'omasugusest', 'minasid', 'kummaks', 'teiesugusele', 'sinutaolisele', 'praegustele', 'teistel', 'pidanuksime', 'kuspool', 'klõmm', 'plärtsti', 'miskisuguses', 'sinutaolisilt', 'nendesugustele', 'pidanuksid', 'lõksti', 'tššš', 'mingisuguseks', 'mitmesuguseta', 'naasuguselt', 'teistsuguseisse', 'tip-tap', 'sealtpoolt', 'mitmendateta', 'mujalt', 'siukesesse', 'mõlemal', 'kallale', 'emba-kumba', 'minutaolisiks', 'ülevalpool', 'teistena', 'noisse', 'tsahh', 'ometi', 'mõnesugust', 'altpoolt', 'kohalt', 'samast', 'so-soo', 'missuguseiks', 'nihukesiks', 'sinusuguseini', 'särtsti', 'samasugustega', 'samasugusega', 'lähed', 'käekõrvale', 'pimm-põmm', 'temakestest', 'kumbasid', 'enamatena', 'sessesinasesse', 'teiste', 'mäh', 'mitu-mitmeisse', 'teinuksin', 'võrra', 'ikkagi', 'mitmetega', 'minakeste', 'temaga', 'nondele', 'mihukesist', 'eelmisile', 'minadena', 'ahoi', 'väele', 'mäherdusena', 'enimata', 'mõningaid', 'teispoole', 'minusuguseile', 'mõningatel', 'sihkadi-sahkadi', 'üksteiseks', 'temataolistena', 'eimilletagi', 'lipsti', 'ai', 'milliseni', 'nendesuguste', 'isesuguseks', 'müta-müta', 'määraseid', 'nihukesteni', 'omasuguseiks', 'lähvad', 'ees', 'samasugusesse', 'sinuga', 'olin', 'ülal', 'ui', 'omataolisi', 'tulge', 'temataolisel', 'kikerii', 'mõnedeni', 'niisamasuguseisse', 'krapsti', 'omataoline', 'teisteni', 'eikeegi', 'pumm', 'enestest', 'at-at-at', 'mäherduselt', 'meiesugusesse', 'saaduvat', 'sinale', 'lähedal', 'iganes', 'tuut', 'niisamasuguses', 'vältel', 'midagidesse', 'sellessinatses', 'toosamase', 'mitu-mitmed', 'kräu', 'piu-pau', 'pardon', 'kõigeta', 'tollega', 'teiesuguseis', 'sellelesamale', 'sestsamast', 'olite', 'meiesuguseile', 'upsti', 'poolesse', 'temataolist', 'kussu', 'mõningastesse', 'toda', 'niimitmeiks', 'poolena', 'd', 'enimasse', 'igasuguseiks', 'popsti', 'eimidagi', 'neissamuseis', 'missuguseni', 'mihukesena', 'mäherduseks', 'samasuguses', 'kelledes', 'mõnesugusteta', 'omadeks', 'peeta', 'puksti', 'minadele', 'niisuguseini', 'noiltsamult', 'praegusest', 'muude', 'toosamasteta', 'mitmesuguseks', 'taolistele', 'milledega', 'klu-kluu', 'kõikideta', 'kesk', 'taolistena', 'muudega', 'mingisuguses', 'samataoliseist', 'nihukesteks', 'miskeil', 'lärts', 'poolita', 'äähh', 'mõningata', 'nihukesisse', 'sihukeses', 'otsekui', 'keskis', 'endid', 'tulevad', 'omataolistelt', 'eneses', 'minakestele', 'siinpool', 'hallo', 'põntsti', 'igaühesse', 'misukesteni', 'mitu-mitmeilt', 'niisamasuguseini', 'kannult', 'mõningased', 'millisel', 'mõningana', 'oldama', 'kilks-kõlks', 'kõrvale', 'minust', 'määrasega', 'näu', 'mõningateks', 'samataolisilt', 'miskiga', 'praegusena', 'sellistes', 'mujal', 'mitmeilt', 'šlepis', 'phähh', 'viiks', 'samataolisele', 'saanud', 'igasuguseid', 'tšao', 'tprr', 'järgmisel', 'mõnesuguseisse', 'müt-müt', 'mitmel', 'pimm-pomm', 'sekssamaseks', 'naasugustega', 'tuleb', 'nood', 'alalt', 'pläu', 'isesugustesse', 'meiega', 'meiesuguseks', 'riips', 'mhmh', 'mitmesugustelt', 'pooled', 'nihukesteta', 'minusugustel', 'tilla-talla', 'sihkat-sahkat', 'jumalime', 'eesotsas', 'vuih', 'tast', 'nendesuguseis', 'eelmiseiks', 'omataolistele', 'mitmetest', 'vahepeal', 'muuga', 'mürts', 'nendetaolist', 'omasugused', 'kõrvalt', 'millestki', 'tpruu', 'teiesugusena', 'vupsaki', 'mitmeks', 'lehva', 'takk', 'nendesugusteta', 'peagi', 'hoi', 'mõnelt', 'pliks', 'enesesse', 'kaupa', 'miskisugusele', 'järgmisilt', 'teiesugustes', 'sinutaolistele', 'enamaid', 'sessinases', 'mihukesteks', 'temasuguseile', 'samuti', 'võite', 'vae', 'eneste', 'muusid', 'mõnesugusesse', 'temasuguseta', 'otsenagu', 'uit', 'eimiskitega', 'siukesist', 'miskisugusest', 'kogu', 'üksteisega', 'sihukestega', 'ruik', 'teistsugused', 'võinuks', 'hakanuks', 'tulnuvat', 'pooltega', 'samasugustena', 'taolist', 'võidav', 'mitmendaist', 'hakkamast', 'kimpus', 'varale', 'mil', 'säu', 'lähedale', 'mihukesega', 'mingitega', 'minusuguseid', 'samasugustes', 'saadav', 'samataolistega', 'väärt', 'ih-ah-haa', 'millegagi', 'sääraseina', 'nisukestelt', 'naasugusesse', 'meiesuguseiks', 'ennem', 'ealeski', 'pidasid', 'ülalpool', 'pauh', 'midagi', 'millekski', 'kõikide', 'eheh', 'misukesile', 'milletaolistesse', 'parlartsti', 'hmh', 'nendetaolisteta', 'seesugusele', 'temataoliseil', 'paigu', 'pidid', 'trrr', 'niisuguseta', 'vups', 'omasuguseile', 'nonäh', 'miskisuguseile', 'niisamasugusesse', 'nonoo', 'sinusugusel', 'ohh', 'mõnes', 'krõpsti', 'muidugi', 'sinust', 'teistsugustega', 'kappadi', 'ääre', 'minutaoliselt', 'enamatest', 'nihukestelt', 'põmdi', 'eimilleltki', 'naasugustel', 'lätsti', 'enima', 'poolile', 'sihukesilt', 'omas', 'temataolisteks', 'omasugustele', 'võiduvat', 'järgmisiks', 'eelmiseni', 'kõigeni', 'noissesamusse', 'karprauhti', 'olime', 'siinkohal', 'ning', 'plartsti', 'temakesteks', 'pidas', 'siukesisse', 'vau', 'millistena', 'nondelesamadele', 'aptsih', 'kõigita', 'mingisugusteta', 'teiesuguses', 'klõnks', 'nendesamustega', 'mõnd', 'minale', 'seltsinaselt', 'säärases', 'niisamasuguseis', 'temataolisisse', 'päris', 'saime', 'naasugustena', 'misukestena', 'uhh', 'omadele', 'tollesama', 'sinusuguse', 'mäherdusest', 'solksti', 'samataolistest', 'kõrvast', 'mitmesuguseni', 'milliseina', 'minakestega', 'omavahel', 'praeguste', 'nendekssamadeks', 'minakesel', 'sinutaolisisse', 'isesugustelt', 'mõningasis', 'eelmisena', 'mõningasist', 'eelmisil', 'ülevaltpoolt', 'piuks', 'vilksti', 'seltsamaselt', 'mitmendad', 'ligidale', 'hollallaa', 'samataolised', 'siukestena', 'eimiskini', 'teeks', 'mingisugusena', 'nisukeste', 'sinutaolisega', 'mõningaseni', 'kelleni', 'kõigisse', 'kummast', 'minutaoliseisse', 'mäu', 'mitmeks-setmeks', 'saadama', 'missugustesse', 'taolisteks', 'et', 'misukestele', 'poolteta', 'võeh', 'tollekssamaks', 'patsti', 'minusugusena', 'seesuguseid', 'minakesile', 'läksime', 'suhtes', 'mõnesugusteks', 'kellest', 'sinadeni', 'hakanuksime', 'ühtedes', 'omasugune', 'järgmisil', 'mihukene', 'r', 'eikellegi', 'pidamata', 'š', 'nendesamadeni', 'läheksime', 'emmas-kummas', 'mõlematest', 'enge', 'minus', 'toosamasteni', 'selliseiks', 'näeh', 'liiri-lõõri', 'nendetaolisiks', 'samadeni', 'mäherduses', 'seesugustena', 'mõningas', 'nendesuguseks', 'midagides', 'needsamad', 'sinutaoliseile', 'kaske', 'mingisuguseina', 'mitmete-setmete', 'missugusesse', 'mingi', 'muidu', 'seega', 'tšš', 'seekord', 'isegi', 'miski', 'milletaolisteta', 'oh-hoi', 'omataolisil', 'mitmelt', 'puh', 'l', 'nah', 'õhtupoole', 'temakesena', 'nisukestena', 'seesuguste', 'seesugusteta', 'mõningane', 'säherdustest', 'kummakski', 'tuleme', 'millisest', 'läinuvat', 'tuuri', 'kiiss', 'plää', 'milletaolistel', 'nõks', 'nigu', 'lops', 'mütaku', 'isesuguseina', 'mitmeil-setmeil', 'neissesamaseisse', 'lurtsti', 'endana', 'enimaisse', 'sellena', 'ossa', 'nendesugusesse', 'hahaa', 'minusuguseilt', 'vot', 'mõnedest', 'toosamane', 'teiesugustega', 'esitsi', 'isesuguseist', 'sinutaolises', 'üle', 'meietaolistele', 'minadelt', 'eimiskitest', 'mitu-mitut', 'kummassegi', 'teiselt', 'hurjeh', 'eimiskeiks', 'üksteistesse', 'noil', 'kusjuures', 'emma-kummana', 'omasuguselt', 'teistsugusteta', 'missuguseisse', 'taolisteta', 'kaps', 'eimillegi', 'taolisilt', 'omasuguseta', 'sss', 'sinutaolisil', 'kelt', 'sst', 'võides', 'muudesse', 'säherdusel', 'mitmesuguses', 'äiu-ää', 'eimiskeilt', 'saite', 'ust', 'sopsti', 'eelmiseid', 'samasuguseis', 'temataolisilt', 'seltsinatselt', 'eeh', 'teistsuguseina', 'plõmm', 'poolteni', 'naasugusest', 'toosamaseis', 'mäherdustesse', 'üksteiste', 'pea', 'teistsugusega', 'a', 'nolpsti', 'oo', 'milletaolistelt', 'olemata', 'missugusena', 'nendetaolistel', 'vupsaku', 'samaks', 'sinadele', 'võima', 'säherdusiks', 'mitu-mitmeteta', 'nendeltsamastelt', 'mingite', 'omadelt', 'ja-ah', 'uih', 'meiesuguseina', 'milletaoliseist', 'säherdustes', 'oo-oh', 'ühtedega', 'plotsti', 'mitmendani', 'sessesamasse', 'nendetaolistelt', 'temata', 'igasuguseina', 'mitmel-setmel', 'meiesugusel', 'samataolises', 'nendesuguseina', 'kuku', 'sestsamusest', 'niimitmeks', 'mitmed-setmed', 'tsah', 'meiesugune', 'endita', 'teiesugustel', 'neikssamuks', 'teel', 'eneseks', 'eelmiselt', 'kumba', 'järgmiseil', 'mäherdusteni', 'ohoh', 'kops', 'eelmisele', 'siukesed', 'mitu-mitmetes', 'sihuke', 'ehk', 'endilt', 'tulnuksid', 'mitu-mitmeteni', 'lõks', 'mõnesuguseilt', 'hakkaksid', 'ühel', 'mihukestega', 'võinuksite', 'teises', 'meietaolistes', 'lirts', 'tehtuvat', 'mingeid', 'poolis', 'ülesse', 'säherduseks', 'säärane', 'taga', 'võih', 'põnn', 'atsihh', 'pidi', 'urjeh', 'tee', 'siitpoolt', 'enimast', 'samasuguseist', 'enimatelt', 'temasuguseini', 'muuh', 'või', 'üh', 'midagide', 'enamal', 'karviuh', 'naasuguseina', 'tutulutu', 'taolisisse', 'tõesti', 'temakesesse', 'minusugustelt', 'seks', 'ää', 'siiapoole', 'mitme-setme', 'mõningaseta', 'sääraseta', 'sihukesist', 'toosamaseini', 'minutaolisega', 'norr', 'nõksat-nõksat', 'üksteisteks', 'sellesinaseni', 'ühes', 'omasid', 'praeguseile', 'minult', 'kluk', 'hakka', 'klõmpsti', 'säherdusist', 'paigale', 'siit', 'sinusuguseil', 'nendessinastes', 'meiesuguste', 'klaps', 'milledel', 'sedasinast', 'naasugusega', 'enimatena', 'meiesugustest', 'plirts', 'peaksin', 'pidamast', 'minduvat', 'minutaolistele', 'nendeks', 'sinutaolistena', 'partsumdi', 'mõningal', 'nonde', 'tuled', 'sedapuhku', 'niisugusele', 'mitu-mitmeis', 'mõnedena', 'järgmisi', 'käsikäes', 'lötsti', 'niisamasugust', 'omaeneste', 'kräuh', 'mitmesuguseina', 'üksteisteta', 'vastas', 'mõningasel', 'mitu-mitmeile', 'laksti', 'minutaolisesse', 'keskpaiku', 'sellesamani', 'mihukesis', 'eimiskeini', 'krahh', 'meietaolisi', 'mõnesuguseis', 'midagideni', 'temataolistelt', 'hõkk', 'sinusuguselt', 'mõnesugustena', 'sinutaolist', 'käest', 'enamast', 'olemaks', 'eelmisis', 'naasuguseisse', 'nirr', 'kummalgi', 'läksin', 'mõnedeks', 'teie', 'teistsugune', 'jumalaga', 'missuguseis', 'mitmesuguseis', 'missugustest', 'nondeltsamadelt', 'pamm', 'nendesuguselt', 'tol', 'tolleta', 'sirr', 'miskisugustesse', 'tok', 'temataolistest', 'on', 'minakesist', 'mitmesugusel', 'karsumdi', 'rips-raps', 'tehkem', 'oleksid', 'meiesuguseini', 'omisse', 'taoliseis', 'hakkasite', 'muis', 'klõnksti', 'meilt', 'poolide', 'samadest', 'võinuksin', 'milliseil', 'igasse', 'temani', 'kumbades', 'enimaks', 'minalt', 'vulks', 'nondessesamadesse', 'mitu-mitmetena', 'teiesuguseks', 'mihukesile', 'meiesugusteta', 'neiltsamaseilt', 'peetakse', 'enimad', 'samal', 'mina', 'selleltsinaselt', 'till-tall', 'pst', 'sinus', 'sinusugustel', 'miskilt', 'milletaoliste', 'sinutaolisile', 'saadavat', 'mingem', 'teistsuguseid', 'sortsti', 'mütsti', 'võidaks', 'so-oh', 'samataolise', 'säherdustega', 'üksteiseni', 'järgmiste', 'pidanuksite', 'saadik', 'kikerikii', 'neilsamaseil', 'tuli', 'isesuguseini', 'kummata', 'seesugustel', 'kläu', 'säherdusil', 'taolisi', 'ühtedelt', 'meiesugustena', 'näuksti', 'endale', 'tolsamal', 'nihuke', 'meietaolisteni', 'omaendi', 'praegusega', 'mindagu', 'olge', 'igasugusest', 'igasugusteni', 'miskisugustega', 'muina', 'ühte', 'kartsumdi', 'milletaolisilt', 'teilt', 'järgmise', 'miskile', 'teieks', 'eelmistest', 'lups', 'toosamaseiks', 'võin', 'eimiskiks', 'midagile', 'toosamast', 'üksteisel', 'eimiskiteta', 'nende', 'lips', 'säärasele', 'eelmised', 'nõõh', 'tjah', 'samaga', 'midagis', 'temakeste', 'taolistelt', 'saatel', 'ä', 'kolladi', 'oh', 'mingis', 'praeguses', 'praegusele', 'ümber', 'eimiskis', 'mitmendatena', 'nendetaoliseis', 'ollakse', 'seal', 'omataolistega', 'teiesuguseist', 'koksti', 'mitmes', 'keskelt', 'milletaoliseiks', 'mingites', 'pimm-pamm', 'äärest', 'taolistest', 'seesuguse', 'taolistega', 'mingeilt', 'peeti', 'naasugused', 'teiega', 'sihukeseta', 'määrastel', 'supsaku', 'kaasike', 'ühtedele', 'komps', 'minusuguselt', 'säuh', 'vahepeale', 'sähke', 'mingisse', 'selliseta', 'najalt', 'jumalukene', 'amps', 'kelleltki', 'sellisega', 'minakesiks', 'niimitmetest', 'mitmesuguste', 'x', 'pead', 'läbi', 'naa', 'keksti', 'selliseid', 'sinadeta', 'krauhti', 'teiesuguseid', 'isesugused', 'järgmistele', 'nondesamade', 'eikellelgi', 'eimillessegi', 'järgmiseid', 'nendesugustesse', 'peale', 'kohati', 'plumps', 'kõike', 'nendetaolisel', 'mingitena', 'nendetaolisest', 'samataolisesse', 'millele', 'tehtuks', 'temasugustel', 'matsti', 'eelmiseil', 'pooles', 'endini', 'neikssamaseiks', 'mitmesse-setmesse', 'saaks', 'milletaolisteks', 'sellisele', 'kah', 'palju', 'väljast', 'mõlemasse', 'meietaolist', 'sessamases', 'niisamasuguseiks', 'mitmendaid', 'järgmiseks', 'prassai', 'samataoliseni', 'võibolla', 'igasugusega', 'niisiis', 'selleltsinatselt', 'sellise', 'kumbadelt', 'võigem', 'mitmenda', 'ühele', 'niimitmetele', 'miskeilt', 'mitmesugustega', 'sinusugusega', 'paljuke', 'nondel', 'mitu-mitmetega', 'isesugustest', 'minakesilt', 'juures', 'najal', 'minutaoliste', 'niisamasuguseil', 'ass', 'kumbadena', 'teiesugustest', 'kassa', 'needsinatsed', 'selsamasel', 'taolisesse', 'enesteta', 'vastast', 'kellena', 'temataoliseid', 'eikellestki', 'niisuguseid', 'samataolisis', 'mingisuguseini', 'taolisele', 'mingiteta', 'mõningastele', 'kellelgi', 'miskisuguseina', 'mõlematena', 'poolideta', 'solpsti', 'minakesena', 'nendeni', 'saan', 'pidite', 'temakesilt', 'temasuguseina', 'vastu', 'peaaegu', 'väljas', 'nondest', 'niisuguselt', 'olnuksin', 'niisamasugusest', 'sihukesele', 'igata', 'sellekssamuseks', 'mitte', 'minutaolisis', 'mitmeteta', 'nendestsamustest', 'võidakse', 'hoplaa', 'mitmesugusest', 'hakakem', 'praeguselt', 'tikk-takk', 'äh-äh-hää', 'ent', 'solks', 'eimiskites', 'ehkki', 'nihukesist', 'sellestsinasest', 'hurjah', 'niisamasugusteks', 'niimitmed', 'eestotsast', 'siukestel', 'midagiga', 'teisse', 'niimitmeilt', 'mitmendates', 'kiriküüt', 'siukestes', 'toksti', 'mitu-mitmesse', 'milletaolisesse', 'hulka', 'eimiski', 'oled', 'eelmistega', 'praeguse', 'ühestükis', 'teistsugusele', 'isesuguseid', 'mäherdusteta', 'mihukestesse', 'meietaoliselt', 'noksti', 'mitmele', 'milletaolises', 'sellesamusena', 'praegustel', 'põnnadi', 'eimiskina', 'nendesugusega', 'niisamasugustele', 'miskisuguseilt', 'taolisile', 'kummal', 'naasugusena', 'temakesi', 'tegemata', 'seejuures', 'eimiskiteks', 'muuni', 'muisse', 'niimitmeteta', 'mindud', 'sellistega', 'temakesisse', 'olemas', 'uuh', 'igaks', 'äärde', 'taolisteni', 'saagu', 'nendesamustena', 'nihukesile', 'isesuguseiks', 'kriips', 'moens', 'minakeselt', 'teistesse', 'teistsugusteks', 'milledeni', 'mihukesilt', 'mingeisse', 'ta', 'selliseini', 'poolidest', 'mõlemaina', 'pidav', 'kõmdi', 'siukeses', 'meietaolisteks', 'tutu-lutu', 'võrdki', 'sult', 'kurluu', 'milletaolisi', 'sinutaolisist', 'mihukeselt', 'lirtsti', 'kelledest', 'kellekski', 'samadel', 'emmast-kummast', 'omataoliseni', 'oldaks', 'sinutaoliseil', 'omaks', 'kilk-kõlk', 'omadena', 'naasuguseid', 'priuh', 'sinutaoliseni', 'ühed', 'mitmendata', 'ehei', 'toks', 'temataoliseta', 'seesugusega', 'mitu-mitmeid', 'killast', 'mingu', 'üksteises', 'vopsti', 'sinutaoliselt', 'säherdused', 'nõh', 'stopp', 'pidagem', 'sinusugustes', 'võivat', 'selsinatsel', 'kulu', 'miskisuguseni', 'mäherdustelt', 'niimitmetena', 'nendesamadena', 'aidu-raidu', 'enamatele', 'niisuguseiks', 'omataolisteks', 'he-he-hee', 'minutaoliseile', 'misukeseta', 'mõnesid', 'kumbagi', 'pidagu', 'sinusugusele', 'sinusugusest', 'siukesilt', 'nihukeseta', 'igat', 'sina', 'teistsugusesse', 'nõhh', 'toosamasest', 'mäherdustega', 'temataolise', 'mingisugustesse', 'meelest', 'sest', 'vahele', 'ühtedest', 'kuss', 'mitmendas', 'samadesse', 'igasugustele', 'perrä', 'teiesugused', 'otsas', 'taoliseilt', 'mäherdused', 'kumbadesse', 'teiesugustele', 'ülale', 'hurjoh', 'niisamasugune', 'piraki', 'mäherdustele', 'meietaolisena', 'kõldi', 'mingina', 'kummaltki', 'kõpp', 'mäherdust', 'enamatel', 'mingiteks', 'miskid', 'mingisuguseile', 'muudele', 'kohaselt', 'praks', 'sinutaoline', 'temasugustena', 'niisamasugustes', 'naasuguses', 'milletaolisiks', 'kräuhti', 'sinutaolisiks', 'nendesugusteks', 'toosamasena', 'meiesugusteni', 'samasuguseisse', 'mõnesugusel', 'omal', 'isesuguse', 'temasuguselt', 'teieta', 'soh', 'mää', 'omataolisiks', 'niisamasugustel', 'samataolistele', 'samataolisel', 'vaid', 'mäherdustel', 'minusugustes', 'samataoliseid', 'iialgi', 'niimitu', 'jälile', 'pool', 'praeguseta', 'põraki', 'ka', 'kummalt', 'määrasena', 'tegi', 'temataolisega', 'miskisugustest', 'hakkaksite', 'haaval', 'samataolisi', 'koll', 'klõpsti', 'plauhti', 'siuh-säuh', 'temana', 'omalt', 'samataoline', 'hõissa', 'sellessinases', 'naasugustelt', 'neilsamul', 'eikellenigi', 'arvel', 'nihukesega', 'minusugustele', 'milletaoliseid', 'nendeltsinastelt', 'endast', 'mitmesugustel', 'säärasteta', 'vurdi', 'emb-kumb', 'oh-hoo', 'omataoliseks', 'järgmistest', 'läheksite', 'sinusuguseni', 'miskitest', 'käekõrvalt', 'muist', 'minakestel', 'siuh-sauh', 'meietaolistesse', 'tskae', 'tollestsamast', 'y', 'mitmeil', 'taoliseil', 'z', 'taolise', 'prantsti', 'temasuguses', 'seesugusesse', 'minutaoliseist', 'saamas', 'saadaks', 'sinutaolistelt', 'piki', 'nendele', 'pisut', 'mhh', 'enimalt', 'mingiks', 'mitu-mitme', 'seesama', 'milletaoliseni', 'mingitesse', 'minusugustest', 'niisamasugusega', 'miskisugustelt', 'neid', 'hakkamas', 'mõnda', 'mihukesesse', 'tegite', 'sedakorda', 'riipsti', 'siukesil', 'millisteks', 'mitmendailt', 'alguni', 'taoliseist', 'mihukese', 'võis', 'temakestesse', 'muudeni', 'killa-kolla', 'hops', 'vääks', 'kelleski', 'määrasteni', 'latsti', 'niisugustel', 'misukesteta', 'miskis', 'samasuguseid', 'räntsti', 'puhul', 'niimitmes', 'samasuguseil', 'järgmiseis', 'nisukesiks', 'temataolisil', 'mäherdusteks', 'omataolise', 'mingitest', 'taolisega', 'läinuks', 'tsumm', 'ikka', 'kust', 'mingisugusel', 'kolaki', 'mitmes-setmes', 'sedasamust', 'siukese', 'enamateni', 'h', 'miskisse', 'lööps', 'sihukese', 'eimiskiga', 'temakeseks', 'neis', 'pooltel', 'taolises', 'talt', 'pikuti', 'naasugune', 'mõningate', 'minasse', 'järgmistega', 'kõikidega', 'miskini', 'taevakene', 'mõnel', 'samale', 'enamate', 'minusugustesse', 'minemast', 'minakest', 'sinutaoliseks', 'neidsamuseid', 'nisukene', 'eimiskitesse', 'kelledelt', 'võidavat', 'omataoliseist', 'mingitele', 'minana', 'till', 'teistsuguseis', 'sestsinasest', 'igaüheks', 'temakest', 'nendesuguseist', 'hüvasti', 'enesega', 'missugustele', 'siukesteks', 'päh', 'sellekssamaks', 'olgu', 'näuh', 'igaühele', 'mihukestena', 'muudest', 'pealtpoolt', 'misukesest', 'mäherdusesse', 'kolksti', 'mitmendatele', 'ennast', 'kõigena', 'minusugusest', 'hei', 'mihukesteta', 'poolelt', 'nendelsamastel', 'sihukestel', 'eikellessegi', 'mõnesse', 'sees', 'prauhti', 'sinusugused', 'omataolisena', 'säärast', 'üksteisi', 'sinusuguseid', 'nendessamustes', 'milletaolisist', 'meiks', 'kummagagi', 'minadeni', 'temataolisteta', 'tolle', 'pooleni', 'samasid', 'teistsuguseil', 'minusuguses', 'nisuke', 'nendessesamadesse', 'praegusteni', 'sinusugusena', 'mitmesugustena', 'tokk', 'selleltsamalt', 'võrr', 'poolina', 'temasugusteta', 'mitmesuguselt', 'niisamasugustesse', 'seesuguses', 'selleni', 'isesugustel', 'mitu-mitmeta', 'eimiskitena', 'teid', 'sinuni', 'nendetaolise', 'sellestsamusest', 'isesugune', 'misukesist', 'milletaoline', 'pots', 'sus', 'meietaolisil', 'sinadena', 'temasugusteks', 'sinusugusesse', 'kedagi', 'mõnesugustest', 'mingisuguse', 'oi', 'põmmadi', 'sai', 'trr', 'teiesuguse', 'miskisugusega', 'järgmises', 'lupsti', 'sinadest', 'teiena', 'pidamas', 'komp', 'säärasena', 'samad', 'mäherduste', 'toosamasega', 'klirr', 'temakesele', 'mõlemaile', 'samataolisteks', 'räts', 'alates', 'mingisugustel', 'nihukesis', 'enimatega', 'nendesugusel', 'hakkas', 'säärastesse', 'meietaoliseiks', 'kellesse', 'mõningasile', 'tulnuks', 'miskisugusteta', 'sedasama', 'enimail', 'siukesest', 'viu', 'klapsti', 'niisamasugustest', 'selleltsamaselt', 'hakkan', 'olnuksime', 'võisite', 'eneseta', 'pooli', 'niisamasugustelt', 'saadagu', 'hakatav', 'seesugustest', 'miskisuguseisse', 'mõningaseks', 'ääh', 'igaühelt', 'poolteks', 'seesuguseile', 'mitmesuguseiks', 'samadeta', 'kannäe', 'ena', 'kõmaki', 'möh', 'tollessesamasse', 'milletaolistele', 'temasugustesse', 'tehtud', 'enese', 'isesugusesse', 'miskisugune', 'minuta', 'mingisuguselt', 'nendetaoliseisse', 'ainult', 'koppadi', 'kelledesse', 'siukesis', 'sellesamusega', 'minakese', 'häh', 'ühtedeta', 'muult', 'olemast', 'klirdi', 'mõningaiks', 'sumdi', 'eest', 'temataolisena', 'sinutaolisteta', 'möö', 'millist', 'mõlemat', 'missugusteta', 'tuleksin', 'alla', 'trillallaa', 'enestele', 'omani', 'küüsi', 'mingisugusteni', 'mitmena', 'minutaoliseiks', 'seltsist', 'ähh', 'minutaolisele', 'mitmendana', 'minakesisse', 'nendesinastena', 'säherdusis', 'järgmisteni', 'nisukeseni', 'misukesisse', 'säherdustel', 'prauh', 'õe', 'saaksin', 'sahkat', 'hakake', 'hakkamaks', 'järgmisesse', 'mitmesugust', 'mingeina', 'kummas', 'mõningais', 'niisuguseisse', 'oleme', 'nääks', 'nendel', 'pup-pup-pup', 'sellessamuses', 'igasugusesse', 'seesinane', 'nondesamadena', 'krips-kraps', 'mitmesse', 'teistsugustelt', 'enestega', 'nisukesile', 'midagist', 'mitu-mitmel', 'mõlemast', 'sellisesse', 'teistest', 'taoliseiks', 'kirts', 'ot', 'eelmine', 'milletaoliselt', 'mihukesest', 'igasugustel', 'saavat', 'pooltena', 'misukesiks', 'meietaolisesse', 'eimilleski', 'temasuguseilt', 'enamail', 'mitmendatelt', 'milledes', 'praegustega', 'plaks', 'ptüi', 'minaks', 'peetagu', 'ellik', 'üheks', 'nisukestel', 'sellesinatseta', 'kõigelt', 'igasugustega', 'järgmisteks', 'mistab', 'kop', 'nendetaolisteks', 'pidime', 'pastoi', 'miskeina', 'sulks', 'meietaoliseile', 'peaks', 'missuguses', 'ennäh', 'nendetaolistest', 'mihukesiks', 'sihukesil', 'sinutaolisis', 'määrase', 'f', 'kõrra-kõrra', 'volksti', 'sinutaoliseiks', 'kips-kõps', 'tegevat', 'pidasime', 'oldi', 'naasuguseta', 'nendesuguseisse', 'ümbert', 'mitmendaiks', 'at', 'kohal', 'nendeltsamustelt', 'mõlemad', 'summ', 'naasuguseis', 'nendesuguses', 'võimast', 'saavad', 'sellekssamaseks', 'eimillenigi', 'mitmeini', 'klõks', 'karpartsaki', 'milletaolisel', 'säherdusena', 'enesena', 'samasugust', 'küljest', 'mürtsaki', 'muudeks', 'järgmiseile', 'mõnesugustega', 'välja', 'mitmendale', 'mõningastelt', 'temakesile', 'mõnesugusest', 'kelledel', 'kilks', 'niisugustele', 'tehti', 'määrasesse', 'minna', 'tollelesamale', 'temakeseni', 'võinuksid', 'teispool', 'p', 'kriuksti', 'eikellegagi', 'uih-aih', 'mitu', 'nämm-nämm', 'ühesse', 'nisukeseta', 'meiena', 'eelmiseks', 'enamaiks', 'pidasite', 'kõpsadi', 'meietaolise', 'e', 'niimitmeteni', 'igasugust', 'mõningases', 'toosamaseist', 'mitmetel-setmetel', 'muule', 'tulemata', 'piiks', 'käuksti', 'riks', 'teinuks', 'nendetaolistes', 'sel', 'neissamus', 'müt-müt-müt', 'uhtsaa', 'krõuh', 'enamana', 'sellistelt', 'tulgem', 'mihukestel', 'üksteisesse', 'kõrval', 'järgmisele', 'enimaini', 'mitmesuguseil', 'nääh', 'pidama', 'päri', 'tolleni', 'määraseil', 'igana', 'tsiuh', 'ühelt', 'minusuguseks', 'toosamastele', 'samataolisest', 'näuhti', 'temataolistele', 'näh', 'mingisugustelt', 'igasuguses', 'peetavat', 'misukeste', 'peetuks', 'nondeta', 'rivitult', 'nendelesamastele', 'ligi', 'tulen', 'seda', 'omasuguste', 'praeguseid', 'ühe', 'rapsti', 'sihukestes', 'milletaolised', 'kili', 'misukesele', 'kas', 'igaüheni', 'nisukesest', 'enimateta', 'saanuksite', 'oot', 'kelleks', 'minusugune', 'pfui', 'mihukeseks', 'mitmendaina', 'samasuguselt', 'plärtsat', 'nendelesamustele', 'lörts', 'prõksti', 'mitu-mitmeil', 'lähte', 'sestap', 'hosianna', 'sääraseile', 'enamatesse', 'minda', 'sellega', 'uijah', 'mult', 'poolideni', 'saada', 'omasugustega', 'poleks', 'puksiiris', 'kääga', 'enimale', 'kumbadel', 'mitmete-setmeteni', 'tasse', 'sekssinatseks', 'minusuguseil', 'kilda', 'mäherdusel', 'mõnega', 'kus', 'niimitmete', 'kõigile', 'siuts', 'teistsugustel', 'pliraki', 'tagutsi', 'üksteist', 'milledelt', 'muud', 'enamates', 'küll', 'toosamasesse', 'öh', 'susti', 'missuguseini', 'sellelesinasele', 'teistsugusel', 'olduvat', 'võivad', 'sinadeks', 'teistelt', 'fuh', 'lampsti', 'nendetaolistele', 'kiiksti', 'mihukesel', 'toosamaseisse', 'kräuks', 'milledena', 'tulemas', 'toosama', 'samasugune', 'kronks', 'mõnedele', 'kumbadeta', 'noissamus', 'adjöö', 'temas', 'nendesse', 'kohe', 'sellelt', 'mõnesuguseil', 'hakata', 'saamaks', 'kallal', 'tiks', 'tollena', 'terekest', 'samataoliseisse', 'sopp', 'milletaolisega', 'mitu-mitmetelt', 'prääk', 'justkui', 'mingini', 'temast', 'teistsugustesse', 'sinutaoliste', 'temataolisis', 'võimas', 'millesse', 'siuh', 'niimoodi', 'sinasse', 'lõmpsti', 'ühega', 'tehtama', 'minake', 'mitmest', 'tulduks', 'seesuguseini', 'seesuguseilt', 'poolid', 'sellesamaga', 'needsamased', 'o', 'minema', 'kaaps', 'mõningatele', 'neistsinaseist', 'meist', 'samataolistes', 'selliseilt', 'teistsugustest', 'urraa', 'milletaolistega', 'temataolisile', 'samataolistel', 'krooks', 'nendena', 'eneseni', 'su', 'mõningasilt', 'sihukesile', 'minutaoliseni', 'toosamaseina', 'hakates', 'otsa', 'tolleks', 'mitu-mitmetele', 'millisena', 'nondelsamadel', 'uh', 'mõningasega', 'millal', 'mihukestes', 'sihukesi', 'minusuguse', 'sinutaolistega', 'teistsuguse', 'neiks', 'temataoliste', 'ligidal', 'omataoliseile', 'mingisugustega', 'karmauh', 'ju', 'hakkab', 'niisama', 'milletaolist', 'samasuguseks', 'neidsamu', 'naps', 'jalgu', 'uhuu', 'minutaoliseil', 'igasuguseta', 'tuldaks', 'kummaski', 'seltsamuselt', 'vahelt', 'nisukesilt', 'üksteistel', 'niisugustena', 'nendesugused', 'tehes', 'enesteks', 'samasuguseta', 'mõningat', 'miskeisse', 'igasugusele', 'temakesteni', 'päras', 'saate', 'miskites', 'mõningaile', 'abil', 'kelleta', 'miskeile', 'rops', 'miskiteks', 'sinutaolisteks', 'saadi', 'enda', 'omataolisel', 'üksteisest', 'missugustelt', 'pidada', 'ropsti', 'nondeks', 'enam', 'omasuguseini', 'miskisuguseks', 'sellises', 'toosamaste', 'tollessamas', 'mõlemateks', 'läinuksime', 'praegustena', 'sauh', 'misukestest', 'endis', 'seast', 'mõnest', 'mõnesugustesse', 'mingeini', 'samasuguseile', 'noistsamust', 'oldagu', 'mööda', 'g', 'kestahes', 'hõk', 'sulk', 'mõlemani', 'noo', 'kellestki', 'omana', 'niisugused', 'milletaolisis', 'temataolised', 'ja', 'kukile', 'omataoliste', 'milletaolise', 'sust', 'enamaisse', 'misuke', 'soo-oh', 'minakeseni', 'miskist', 'mingil', 'voeh', 'endiga', 'määrasest', 'hulgas', 'teistsugust', 'muudkui', 'kelledega', 'mõnesugusteni', 'mitu-setu', 'säärastest', 'milletagi', 'enamaks', 'mitmeina', 'mitmetes-setmetes', 'tollesamani', 'milliseiks', 'omataolisist', 'sinusse', 'mõningailt', 'säherduseta', 'taoliseks', 'nendessamades', 'meiesugusest', 'sirtsti', 'omasugustelt', 'tsilk-tsolk', 'poolele', 'sinusuguses', 'mõningateni', 'sihukene', 'eimiskitel', 'vulksti', 'öhh', 'igasugusteks', 'mihukesteni', 'misukestesse', 'omist', 'kõikidele', 'sellist', 'iseenese', 'minadel', 'võige', 'misukesel', 'mitmendateks', 'ehee', 'teisega', 'silk-solk', 'minakesele', 'minusuguseta', 'seepärast', 'mõningale', 'mõningatest', 'omasugustel', 'missugusele', 'nisukesel', 'tolles', 'hakkav', 'milline', 'meietaoliseist', 'mingisuguste', 'minakestesse', 'saades', 'misukeseni', 'mitme-setmeni', 'niisamasuguselt', 'ülimalt', 'oleksin', 'siukene', 'taoliseile', 'sellesama', 'sinutaolisel', 'nisukesteta', 'sellisteta', 'peaksid', 'mitmeteks-setmeteks', 'omataolisteni', 'niisugusteni', 'kauhti', 'kasvõi', 'taolistel', 'miskiteni', 'alati', 'minemaks', 'toosamaseni', 'mitmendaisse', 'samataolisile', 'mitmetes', 'mitmetesse-setmetesse', 'kõikidesse', 'milleltki', 'praegusel', 'samataolisisse', 'olnuks', 'nendesamuste', 'missuguste', 'mitmeist', 'pah', 'lähme', 'aitäh', 'omataolistena', 'mulks', 'teeb', 'meiesugust', 'enamaist', 'sinade', 'meietaoliseilt', 'tirr', 'tohoh', 'tsirr', 'hommikupoole', 'meietaoliseks', 'mitmeisse-setmeisse', 'praegusisse', 'oldav', 'meietaoliseisse', 'nihukesesse', 'isesuguses', 'temataolisteni', 'omataoliseid', 'jeeh', 'hakkaksime', 'kõrr', 'naasuguseni', 'enamaini', 'teistsugustes', 'nendelesamadele', 'kõigepealt', 'minutaolised', 'naasugusteks', 'miskina', 'mõningasteks', 'mõnedel', 'enimat', 'sinadega', 'jah', 'võinuksime', 'võiksime', 'sinal', 'poolidesse', 'kuid', 'poolidel', 'säärased', 'mindaks', 'mindama', 'tsilk', 'mäherdusil', 'mõningaist', 'omasuguseina', 'nihukesed', 'mingisugusele', 'mõningasele', 'sekssamuseks', 'sihukestesse', 'tollel', 'tjaa', 'võtt', 'selliseist', 'mitu-mitmeks', 'tollelsamal', 'mitmesuguse', 'miskite', 'nendesamadeta', 'millelt', 'igasugustesse', 'seesugustele', 'läheme', 'milletaolisteni', 'võinud', 'isesugust', 'misukeses', 'nendetaolisena', 'meieni', 'luks', 'mõnesuguseid', 't', 'nendesuguseini', 'kõikidelt', 'teised', 'temasuguseid', 'miskisugused', 'neisse', 'omataolisest', 'nihukesel', 'omasugustesse', 'tosse', 'tip', 'millisele', 'säherdune', 'mitmeid-setmeid', 'nemad', 'teha', 'olles', 'lats', 'milletaolisele', 'mõningasse', 'piku', 'järgmisist', 'karplauhti', 'kõlks', 'pats', 'mujale', 'khe', 'tulnuksin', 'nendetaoliseks', 'nendetaoliseiks', 'naasugusele', 'enestes', 'minadeta', 'omasuguseks', 'temataoline', 'põiki', 'naasuguse', 'mitu-mitmeni', 'säherdusteta', 'võiksin', 'nendetaoliseta', 'omil', 'pidanud', 'tagantpoolt', 'pidanuks', 'prants', 'niimitmeta', 'nisukeselt', 'potsti', 'praegusil', 'samataolisil', 'temasuguseist', 'niuh-näuh', 'mõningastel', 'alguks', 'nendessesinastesse', 'kelledeta', 'igaühega', 'poolist', 'kusagil', 'legoo', 'miskisuguste', 'u', 'omasugusteks', 'temakesist', 'igaühel', 'juhul', 'seljataga', 'missugusest', 'nisukestele', 'meiesugusega', 'niimitmesse', 'poolte', 'lisaks', 'lopsti', 'enimais', 'ülaltpoolt', 'mida', 'sellesinasena', 'sellesinasega', 'mitmesugustest', 'millised', 'killadi-kõlladi', 'muudes', 'nendelsamadel', 'minge', 'mõneta', 'enimaile', 'pealpool', 'meietaolisilt', 'minusugusteta', 'siukesi', 'olid', 'sinnapoole', 'teisele', 'temataolistega', 'juurde', 'seest', 'sellesamasena', 'niisamasuguseni', 'mõnesuguseini', 'kopp', 'milliseile', 'mitmeile', 'nendetaolisile', 'prõmdi', 'mingit', 'ooh', 'saagem', 'mõlemailt', 'meietaolistest', 'sellessesamasesse', 'säherdusile', 'kraaps', 'pomm', 'tehakse', 'omasuguseisse', 'lika-lõka', 'minutaoliseks', 'üksteistes', 'nendetaolises', 'sellessamas', 'siia', 'teiesugusega', 'mõlemaist', 'nõõ', 'milletaolisile', 'neidsamaseid', 'nendesuguseta', 'siukesteta', 'sa', 'niimitmega', 'toosamastel', 'minu', 'teeksin', 'taolisena', 'omataolisisse', 'miskiteta', 'sellekssinatseks', 'hakaku', 'naasuguseist', 'nihukestesse', 'tota', 'tollelt', 'minutaolistes', 'tal', 'midagidel', 'mõningasteni', 'neilsinaseil', 'taoliseid', 'klopsti', 'vohh', 'pauhti', 'minutaolisest', 'pau', 'aih', 'nurr', 'meil', 'igasugusteta', 'missugusteks', 'naasuguseiks', 'tegemast', 'kraaks', 'kõigega', 'nisukeses', 'nõjale', 'millega', 'selliseina', 'selliseis', 'enesel', 'sellesamasega', 'milledele', 'niisugustes', 'olete', 'tasa', 'ohoo', 'vurts', 'mäherdustena', 'uu', 'miskisuguseiks', 'niisamasugustena', 'emmale-kummale', 'kamul', 'meietaolisteta', 'nüüd', 'edasi', 'sellelsamusel', 'taha', 'eal', 'meietaolisile', 'mõningaks', 'minas', 'niimitmeina', 'halloo', 'isesuguselt', 'temataoliseis', 'minades', 'teil', 'mõningasteta', 'mitmeid', 'midagisse', 'teiseks', 'teisena', 'hakkavat', 'sellelsinasel', 'nii', 'mihukesele', 'enestelt', 'minakestest', 'sihukesed', 'nondeni', 'saav', 'lähete', 'vulpsti', 'peetuvat', 'hoopis', 'kõpsat', 'püh', 'nagu', 'tema', 'sessesamasesse', 'siuke', 'tulema', 'paitsi', 'ära', 'lirtsaki', 'naah', 'igalt', 'endasse', 'niisamasugustega', 'tegin', 'temakesest', 'all', 'omataolises', 'enimatele', 'neilt', 'ülalt', 'mitmega', 'pidamaks', 'siukesena', 'mitmetelt-setmetelt', 'niisamasuguseile', 'keset', 'sumaki', 'eimillekski', 'kellenigi', 'ptrr', 'nihukesil', 'neiltsamuseilt', 'siukeseta', 'kiis', 'siukesteni', 'temasugustelt', 'mõningaste', 'samasugustele', 'kelledeks', 'minuna', 'muuta', 'minutaolistena', 'enestesse', 'minusugustena', 'mitu-mitmeina', 'mingisugusteks', 'noilt', 'pliuh', 'miskisugusena', 'millegi', 'missugustega', 'poolilt', 'nihukesele', 'miskeist', 'kannule', 'kunagi', 'eimillegagi', 'nendetaolisi', 'nihukestega', 'sinutaolistest', 'miskisuguseini', 'midagini', 'pealepoole', 'tuleksime', 'kiuste', 'pigem', 'selliseile', 'samasugusteks', 'aegus', 'aidaa', 'jutas', 'misukese', 'endisse', 'määrasel', 'ilma', 'mitmeile-setmeile', 'minusuguseiks', 'sellisena', 'kõõksti', 'oijee', 'tuks', 'niimitmeid', 'sihukesesse', 'mõningastena', 'põnts', 'emma-kumma', 'nendes', 'mitme-setmena', 'mingisugust', 's', 'ühena', 'surtsti', 'neissesamuseisse', 'nondesamadega', 'hakkavad', 'omadesse', 'rohkem', 'igast', 'teistsugustena', 'tagapool', 'saps', 'kulul', 'sihukesteks', 'seetõttu', 'sinule', 'isesugusega', 'milletaolisena', 'kõigeks', 'kummad', 'teiesuguselt', 'samasuguseilt', 'c', 'niisugustest', 'niivõrd', 'koks', 'kohta', 'minutaolisilt', 'sellesamaseni', 'isesugusteta', 'soss', 'mingeist', 'heureka', 'poolideks', 'mingisuguseist', 'nendelsinastel', 'selliselt', 'temakestega', 'tulduvat', 'mitmesuguseist', 'milliselt', 'tulda', 'suts', 'meietaolisist', 'ärme', 'tehtagu', 'mingisugused', 'tuleks', 'aa', 'taolisel', 'algul', 'samasse', 'pooltest', 'mingeiks', 'sääraseilt', 'praegustelt', 'hakatuks', 'halleluuja', 'minusugusel', 'sihukesis', 'naasugusteta', 'meiesuguseis', 'samasuguseni', 'igaüks', 'kepsti', 'üheta', 'nendelesinastele', 'temakestele', 'niimitmetes', 'algult', 'mõningasi', 'eimiskeist', 'mistahes', 'sessamas', 'sups', 'mürtsti', 'j', 'millalgi', 'meiesuguselt', 'niisamasugusteni', 'millena', 'temasugusele', 'sellelesinatsele', 'nondekssamadeks', 'säherdustesse', 'praegustesse', 'lurts', 'mõnikord', 'tarvis', 'määrastega', 'selline', 'siukeseni', 'varul', 'sah', 'karsumm', 'üles', 'nendetaolisist', 'selliseil', 'tükkis', 'mitmesugune', 'temakeses', 'ammuu', 'vidiit', 'eimillestki', 'samasugusteni', 'minast', 'määraseist', 'eikelleski', 'sinusuguseisse', 'temataoliseist', 'missuguse', 'peamiselt', 'niisamasuguseilt', 'sinusugusteni', 'isesuguseilt', 'kelle', 'mõneni', 'sekssinaseks', 'omasuguseid', 'endiks', 'naasugust', 'sellisest', 'teistsuguseini', 'hip-hip-hurraa', 'ampsti', 'toosamaseid', 'kõigest', 'samataolistelt', 'eespool', 'mõlemateta', 'mõnesuguste', 'säherduselt', 'eelmiste', 'mitmete', 'hakanuksid', 'praegusesse', 'järgmisisse', 'millisega', 'mingile', 'enamasse', 'temakeselt', 'pooltes', 'siukeseks', 'niisugustesse', 'meietaolised', 'kill', 'üksteistena', 'kossu', 'nois', 'n', 'niisugusena', 'niisamasuguseid', 'nisukesist', 'tuleksid', 'paa', 'vai', 'minadesse', 'oldud', 'enamalt', 'milliseisse', 'mõningastest', 'hakkate', 'koguni', 'hakkaksin', 'hakkasid', 'mõlematesse', 'sahh', 'mitmendaile', 'prõks', 'igasugustena', 'needsamused', 'toosamasteks', 'miskisuguseta', 'sestsamasest', 'klonks', 'isesuguseil', 'niisugune', 'mitu-mitmete', 'mitmeni', 'nisukesil', 'mõningatesse', 'praegusiks', 'neistsamust', 'niisamasuguseks', 'temataolises', 'omi', 'eikedagi', 'omasuguse', 'praegusteta', 'temakestes', 'pumps', 'sellesamana', 'kõige', 'vull', 'õk', 'mihukesed', 'minusuguseini', 'sihukesega', 'mitmendatel', 'määrastesse', 'temake', 'mingita', 'risust', 'niisugusteks', 'mitmendalt', 'ehh', 'järel', 'eimiskitelt', 'eelmistel', 'poolt', 'kuskil', 'määraselt', 'iseenda', 'mingeis', 'kõll', 'miskisugustena', 'sellistesse', 'tehke', 'midagil', 'mingilt', 'temasuguseni', 'klops', 'eelmiseilt', 'mitmesugused', 'teiesuguseni', 'igaga', 'temasugustega', 'mõningasil', 'õuh', 'temakestelt', 'aina', 'saaksime', 'igani', 'mitmele-setmele', 'mitmendaga', 'näuks', 'sihukeseks', 'enimateni', 'toosamastena', 'võts', 'mingiteni', 'säh', 'määraseina', 'minuga', 'nondesse', 'niimitmeni', 'krõks', 'nendelsamustel', 'emmal-kummal', 'kummatagi', 'nendesugustel', 'kuidas', 'seesuguseni', 'meietaoliseid', 'teiesugustelt', 'saanuksime', 'meietaolistega', 'sellistena', 'temakesega', 'siukesile', 'najale', 'temasse', 'sellisel', 'taolisil', 'temasugusteni', 'sinusuguseiks', 'toosamaseil', 'sorts', 'sinutaolisest', 'pidanuvat', 'sinna', 'hopsti', 'sorr', 'hopsassaa', 'siukestele', 'mitmelt-setmelt', 'tule', 'sellesamuseni', 'must', 'sinalt', 'pooltelt', 'samataoliseiks', 'saanuks', 'neiltsamult', 'iga', 'meiesugusele', 'seltsi', 'endile', 'seesamune', 'vuhti', 'nondes', 'kõksti', 'tahaotsa', 'kõigiga', 'teist', 'minusugustega', 'karviuhti', 'minadega', 'polnuks', 'raks', 'saadakse', 'praegusist', 'mõnesuguseile', 'keskel', 'kõps', 'omad', 'sihukeste', 'üsna', 'sinusugustele', 'läheks', 'einoh', 'missuguseil', 'mitmesugusena', 'igasugune', 'saab', 'meietaolisiks', 'saama', 'plärr', 'sul', 'tohhoh', 'eelmisiks', 'meietaolisega', 'mäherdusele', 'milletaolistena', 'raps', 'sellistest', 'meid', 'enamateks', 'miskisugustel', 'pähe', 'pops', 'tot-tot', 'saage', 'igasugusel', 'ah-haa', 'mingisuguseta', 'igasuguseil', 'midagidelt', 'määrases', 'nihukeses', 'minutaolisi', 'mõnesugused', 'lappi', 'vupsti', 'võinuvat', 'niimitmele', 'ah-ah-ah', 'missugust', 'mõh', 'seesuguseist', 'ö', 'nihukesena', 'teistsuguseks', 'teisi', 'karplauh', 'peate', 'sinutaolisena', 'sesse', 'siukesel', 'naasuguseile', 'säherdusega', 'end', 'mõningad', 'nendetaolisisse', 'mingitelt', 'oh-oh-hoo', 'mu', 'janäe', 'mitu-mitmena', 'meiesugustes', 'vuh', 'mitmeisse', 'neikssamuseiks', 'saamast', 'piip', 'miskitena', 'nendetaolistega', 'misukesteks', 'me', 'neissesamusse', 'ohhh', 'kopsti', 'neidsinatseid', 'samasugusel', 'hoo', 'röh', 'sinutaolise', 'tilks', 'kriips-kraaps', 'igasuguseile', 'niisamasuguseta', 'milletaoliseisse', 'tagasi', 'sestab', 'nihukesest', 'eimiskist', 'temataoliseisse', 'enimate', 'mäherduseni', 'niimitmetega', 'võimata', 'teevad', 'niisuguseile', 'nendesuguseiks', 'so', 'ühtedesse', 'sulps', 'kuna', 'tulemaks', 'emma-kummaga', 'omataoliselt', 'ports', 'mindav', 'eelmiseta', 'poolini', 'tötsti', 'mõnesuguse', 'sinusugust', 'tagapidi', 'peab', 'jessas', 'samataolisiks', 'eelmistesse', 'eelmisilt', 'kelledena', 'kraksti', 'temakese', 'minutaoliseis', 'nad', 'mitmesuguseini', 'müraki', 'kes', 'eimiskid', 'minutaolisile', 'tonksti', 'peame', 'nisukesteni', 'seesugusena', 'temakestena', 'kõpsti', 'emma-kummata', 'milletaolisest', 'mäherdune', 'mingisuguseiks', 'noidsamu', 'temataolisesse', 'saanuksin', 'säärastes', 'äh', 'nihukestele', 'millistelt', 'talle', 'meietaolistel', 'sain', 'perra', 'äiu', 'teisteks', 'vhüüt', 'sinaks', 'tehku', 'omasugusteni', 'midagilt', 'mistõttu', 'nihukest', 'jumaluke', 'sulla-sulla', 'mitmesugusega', 'misukesil', 'nendesugustena', 'taoliselt', 'läheksin', 'rauh', 'nendessesamastesse', 'müks', 'mingisugusesse', 'toosamaselt', 'omasugusteta', 'kumma', 'mant', 'omadel', 'ata', 'sellisteni', 'trill', 'omasse', 'säherduseni', 'midagideks', 'miskisuguseil', 'nendessesamustesse', 'kirra-kõrra', 'midagisid', 'meisse', 'nisukesis', 'mull-mull', 'niipaljuke', 'mõlemata', 'minutaolisil', 'praegusis', 'temasugune', 'igasuguseks', 'takka', 'nendesugusele', 'hakkama', 'sellelsinatsel', 'miskisuguseid', 'köki-möki', 'omades', 'surts', 'vähemalt', 'edaspidi', 'kanäe', 'tas', 'isesuguseis', 'meiesuguseilt', 'nisukestes', 'mõlemail', 'mitmesugusteni', 'miskisugusesse', 'isesuguste', 'huidii', 'kae', 'karnapsti', 'hurraa', 'millenigi', 'miskeis', 'sihukeseni', 'toosamastelt', 'nendessamastes', 'nendesuguseni', 'sihukestena', 'braavo', 'mitmesugustesse', 'minemas', 'nendesinastega', 'järgmistel', 'mitme-setmega', 'võidu', 'ennegu', 'niuh', 'mõlemaks', 'mõningasena', 'ühest', 'eimiskeis', 'enamailt', 'säherdusisse', 'niisuguse', 'igasuguseist', 'säherdustelt', 'algule', 'järgmistena', 'mõnesuguseiks', 'selsamusel', 'tahapoole', 'temataolisest', 'eikellelegi', 'tõks', 'omasugustena', 'poolil', 'vurr', 'teistsugusest', 'neissamaseis', 'sinusuguseina', 'seesugustes', 'ringis', 'hoh-hoh-hoo', 'kronk', 'mitmendais', 'võrragi', 'prääks', 'säärastega', 'uh-huu', 'minakestelt', 'tsäuh', 'mitmeis-setmeis', 'temakesis', 'meiesuguseil', 'praegusilt', 'keh', 'kummasse', 'nendesugustest', 'karkõmm', 'vops', 'meiesuguseni', 'milliste', 'nisukesisse', 'misukesilt', 'varal', 'alul']\n",
            "5025\n"
          ]
        }
      ]
    },
    {
      "cell_type": "code",
      "source": [
        "new_data = []\n",
        "for word in bag_of_words:\n",
        "    flag = True\n",
        "    for s in stopwords_array:\n",
        "       if word == s:\n",
        "          flag =False\n",
        "    if flag==True:\n",
        "           new_data.append(word)\n",
        "print(new_data)\n",
        "print(len(bag_of_words))\n",
        "print(len(new_data))"
      ],
      "metadata": {
        "colab": {
          "base_uri": "https://localhost:8080/"
        },
        "id": "siU7CTzBBnY4",
        "outputId": "97e5322e-27c5-43dc-e6c7-70f594a9be4a"
      },
      "execution_count": 57,
      "outputs": [
        {
          "output_type": "stream",
          "name": "stdout",
          "text": [
            "['andmeanalüüsist', 'e-valitsemine', 'Sellega', 'erialased', 'arendamisest', 'tähtsaks', 'võsasaega', 'kasutamata', 'piisaval', 'isikuomadusi', 'pikas', 'tagamiseks', 'elektriskeem', 'Puidupingioperaatori', 'mittevastavuse', 'väärib', 'olevatest', 'kogemuste', 'koostööpartnerite', 'projektidega', 'ergonoomiliselt', 'EY', 'suhtlemises', 'aspiratsioon', 'parameetreid', 'ERM', 'hooldus', 'tihti', 'tööturule', 'inimressurssi', 'kontrolli', 'haridus', 'IKT-oskustele', 'EAS', 'mõõtmise', 'järelkasvu', 'tootmisprotsessidest', 'tähendab', 'kauneima', 'puiduhakkuri', 'suhetes', 'Kokkulepped', 'ühe-', 'rõõmustab', 'füüsilisel', 'defektse', 'valguskaitse', 'strateegilise', 'tasemele', 'detail', 'IKT-ga', 'Oskuse', 'räägib', 'ideaalilähedane', 'Seoses', 'kogemustepagas', 'ettevõtetega', 'juhtimise', 'Töövõtted', 'sobiv', 'Ettevõtluse', 'saavutada', 'partneritega', 'valdkonna', 'kriitilisust', 'seadmete', 'mängumaa', 'avaldada', 'Tule', 'olulisemaks', 'õpetaja', 'vormistamise', 'karjääri', 'Tisleritööd', 'e-oskuste', 'CNC', 'läbiviimisel', 'võsagiljotiini', 'Keelte', 'juhtimisstiililt', 'koordinaatide', 'Mehaanikute', 'tööohutusest', 'vältides', 'kitsal', 'lõimimisel', 'finantsnäitajate', 'viis', 'puuduste', 'erialaseid', 'asukohast', 'kasutav', 'rahvusvahelistele', 'hoidmisel', 'koolitustoetust', 'võõrtööliste', 'rõhutati', 'Puidu-', 'paindenurkade', 'leitud', 'tõhusalt', 'teisaldamisel', 'jätkusuutlikkust', 'keskkonnahoiu', 'Leedu', 'ressursside', 'paralleelsete', 'jõuallika', 'panuse', 'lasteraamatu', 'kompetentsile', 'kahjustamata', 'kommunikatsioonioskuste', 'kaugemale', 'Esiteks', 'pindmontaaž-', 'sortimentide', 'küsides', 'väiksem', 'ilmestab', 'soovitatakse', 'programm', 'hooneautomaatika', 'ettevõtluse', 'valdkonnaspetsiifilise', 'suurendada', 'nutiajastul', 'Mõistab', 'tööohutusalaste', 'soovitakse', 'kvaliteedi', 'Google', 'suurimat', 'omandamisega', 'juhistes', 'otseselt', 'kiirseadistamise', 'Seda', 'tegurina', 'aru', 'esinaine', 'mehhanismidest', 'kandideerides', 'vanema', 'juhendatud', 'teede', 'pikaajaline', 'järjekorrale', 'dokumentide', 'sihikindlust', 'äriprotsesside', 'kinni', 'kohanduma', 'Ehitusinseneride', 'rolli', 'efektiivsete', 'võttes', 'joonestamise', 'mõistmisest', 'tark', 'reservväega', 'visuaalne', 'valdaks', 'töödejuhatajatelt', 'piires', 'positsioonil', 'avatud', 'soovivatele', 'ekstreemsused', 'riskide', 'kasutanud', 'Keeleametile', 'abiseadmete', 'tööohutus', 'logistikasektori', 'Suhtles', 'meeskonnajuhtimine', 'nõutud', 'abiks', 'matemaatika', 'vajadus', 'inimestest', 'ettevõtetes', 'algatamise', 'tasuta', 'juhtimine', 'juhte', 'International', 'tähistusi', 'seadistuse', 'eriala', 'planeerimisoskus', 'finantside', 'pehmeks', 'remontimine', 'asendub', 'Käesolevast', 'Kuidas', 'seminar', 'funktsionaalses', 'Samas', 'Puitplaatide', 'igapäevase', 'inimestele', 'tugevuseks', 'arendamise', 'valda', 'pakub', ';', 'kalibreerimise', 'vältimiseks', '4', 'müügimehed', 'detailide', 'koostada', 'teadmisi', 'grupidünaamikast', 'lühikeses', 'küsitluse', 'joonistatud', 'Töötoas', 'opereerimist', 'Palju', 'materjalist', 'kohuse', 'viib', 'Boss', 'tõsteseadmete', 'vajadusega', 'mikroettevõtjate', 'tegevused', 'finantsjuhtimise', 'kutsub', 'valdkonnas', 'kasutatud', 'avalikus', 'operatiivsus', 'leidis', 'andmise', '̈', 'kirjeldatakse', 'muutused', 'uus', '!', 'tsentreeringut', 'küsitud', 'seadmega', 'digimaailm', 'esinemise', '—', 'tootlikkust', 'tegevuste', 'müügioskused', 'jutuajamiste', 'Vajadusel', 'iseenesestmõistetav', 'toob', 'Hetkel', 'pildi', 'väljakutsetele', 'pidevalt', 'korda', 'ärimaailmas', 'toimivaid', 'tähtsama', 'esimene', 'Tehnik-joonestajate', 'õppimise', 'juhtimisstrateegiate', 'varem', 'lõiketulemusele', 'käitlemine', 'Sagedased', ')', 'töö', 'mõistmisel', 'Digioskuste', 'kõrgema', 'uuendusmeelsus', 'hüdrotõstukiga', 'olulise', 'tulevikusignaalide', 'küsida', 'Ukraina', 'koristus', 'tähtsusega', 'ühendatud', 'Läti', 'inseneride', 'ettevõtmisel', 'käega', 'tundmise', 'käsitsi', 'lõpuni', 'mõelda', 'IKT-lahendustest', 'langetamine', 'ühist', 'digioskused', 'kandidaatide', 'koostööplatvorm', 'joonestamine', 'kultuuri', 'efektiivsusele', 'alustava', 'mõtlemist', 'digioskusi', 'hanketegevused', 'protsessid', 'koolitustoetuse', 'konstruktsioonide', 'uuenduslike', 'kevadel', 'Internetipank', 'puidutööstust', 'jälgimisanduri', 'saamine', 'efektiivsed', 'omandama', 'arendamist', 'genereerimise', 'algusest', 'ellest', 'huvirühma', 'Euroopas', 'teada', 'võrgustikke', 'efektiivsemaks', 'eelistatakse', 'Sellesse', 'kaasav', 'suures', 'siseneda', 'kompetentside', 'oskustes', 'kaugele', 'vajalikkust', 'parendusettepanekute', 'tööpinkide', 'tsentreerib', 'neljanda', 'läbirääkimiste', 'ennastjuhtiv', 'keevituses', 'tööandjalt', 'töötajal', 'töötlemiskeskused', 'pidevaks', 'Viimast', 'tööohutusnõuete', 'Tema', 'IT-teadmisi', 'kolleegidega', 'puudutavatest', 'inimesega', 'kuuluvad', 'lagi', 'puiduvarumise', 'pärismaailma', 'Majandus-', 'haridusasutustega', 'tänavu', 'erialasteks', 'tugevaid', 'lõpetajad', 'spetsiifilistest', 'personali', 'näiteks', 'kinnitavad', 'konstrueerimine', 'kasutamine', 'vajalikum', 'lahendus', 'valminud', 'pinkide', 'vajavate', '/', 'MathCAD-i', 'algatusvõimeline', 'meeskonnatöö', 'eesmärkidest', 'arvutiga', 'teema', 'Karis', 'jätkavad', 'enesearenguks', 'ütles', 'töötlemisega', 'oskusega', 'keskkonnas', 'tellija', 'võimalust', 'Valib', 'jagamine', 'töökogemus', 'laienevat', 'korraga', 'süsteemist', 'kestavad', 'arvutil', 'paindeservade', 'majandustarkvara', 'tarneahelas', 'võõrkeelseid', 'seljatada', 'lukksepatööd', 'digistrateegiate', 'Tegemist', 'toimu', 'programmide', 'paigutust', 'mõõtmine', 'töökohtade', 'võistlustööde', 'suurendamine', 'töötukassalt', 'unustada', 'rakendada', 'seadistamise', 'käelistest', 'kogemusega', 'õpetajana', 'tööriistade-seadmete', 'jälgimise', 'tehnikajuhid', 'Digitaalsest', 'organisatsiooni', 'meeskonnatööle', 'osa', 'väärtuslikku', 'tootmisliini', 'lõikeparameetreid', 'veebilehe', 'Paigaldab', 'puidu', 'ülesannetele', 'puidutöötlemispinkide', 'ehitus', 'Arendamise', 'töötajale', 'infotöötluse', 'mahuga', 'Pärnu', 'teatakse', 'Kampaania', 'suutma', 'vorm', 'oskusteks', 'lõikuse', 'toodete', 'teavad', 'teadmata', 'digioskuste', 'tõi', 'meisterkoolitaja', 'täiendavad', 'mikroettevõtjatel', 'ettevõtjatelt', 'põhitõed', 'tuleviku', 'aladelt', 'kasuks', 'õpetame', 'kasutamisele', 'tajumine', 'oskust', 'aidata', 'toodangu', 'tõstmisel', 'valdkonnaspetsiifilisi', 'märku', 'Tähelepanu', 'konkurentsis', 'möödapääsmatu', 'protsesside', 'head', 'koostamise', '25%', 'koostööks', 'positiivne', 'nõustab', 'püsimajäämine', 'ootame', 'vigu', 'tegemine', 'Seadistab', 'engineering', 'Balti', 'kasva', 'muutub', 'tööalaste', 'saavutatud', 'tööstuses', 'suuremat', 'mugavad', 'vastavust', 'kvaliteedijuhtimine', 'probleemsituatsiooni', 'tootmistehnoloogia', 'professionaalseid', 'arengus', 'LIKTA', 'joonestus-', 'tasandil', 'erinevatelt', 'igapäevaseid', 'Ühest', 'töötajaid', 'ümberõppes', 'Ilves', 'tellida', 'matemaatikast', 'juhendaja', 'juhtimisest', 'mõtlemine', 'Vajaka', 'pannakse', 'elanikkonna', 'oskavad', '1', 'töötutele', 'virnatäiuse', 'kaasatud', 'ainetundidesse', 'leiab', 'Ekspertide', 'oskusi', 'inseneriks', 'otsivad', 'ühisosa', 'Äri-', 'lausus', 'tsehhi-', 'äravedu', 'eneseväljendamisel', 'Keel', 'kasutamiseelse', 'elu', 'Tiia', 'Üheks', 'meetodeid', 'ettenähtud', 'standarditele', 'analüüsis', 'põhirõhk', 'asub', 'keevitajale', 'elekter', 'ohutusnõuded', 'meeskonnana', 'standardites', 'kvaliteet', 'napib', 'Kersti', 'juurutamiseks', 'läätse', 'vajalik', 'ametikohtadel', 'tegelema', 'iseseisvalt', 'lahenduseks', 'kõrgetasemelist', 'kinnitussüsteemide', 'lõiketehnoloogiatest', 'muutusi', 'palka', 'kõrgemad', 'elementide', 'digiteenuste', 'väikese', 'partnerlusega', 'paljudel', 'valdkonda', 'tööstustehnoloogiast', 'seisundi', 'oskustöötajatel', '2017', 'materjalide', 'Levinud', 'virtuaalseid', 'müügi-,', 'kommunikatsioon', 'lähtuva', 'alusteadmised', 'töötajate', 'tulevikku', 'Metsaveo', 'ohtu', 'tööandjad', 'usk', 'osalejat', 'Mida', 'näidata', 'üritustel', 'säästlikult', 'konkreetse', 'edendada', 'väljapool', 'üksikute', 'võitleb', 'traditsiooniliste', 'puidupõhiste', 'vältida', 'paremaks', 'turvalisus', 'kahjurputukate', 'peer', 'keevitusrobotitega', 'kvaliteedinõuetest', 'in', 'väheneb', 'start-up', 'Kontrollib', 'joonistes', 'suhtlemisoskus', 'Müügitöö', 'säästlikust', 'ehituseni', 'asju', 'toetamine', ':', 'strateegiline', 'tööseadmed', 'coach’id', 'team', 'tööstussektori', 'juhtidele', 'läbipõlemist', 'igapäevaselt', 'täiskasvanud', 'koostavatel', 'Raietöölise', 'kogust', 'programmi', 'poe', 'toimub', 'viimistlejate', 'Muutused', 'operaatoriks', 'töötajatele', 'ettevõttevälise', 'panustab', 'püsiks', 'digimaailmas', 'tööjõudu', 'laseri', 'uute', 'hinnatakse', 'ehitaja', 'juhtmekatkestuste', 'kasutuselevõtt', 'haridusest', 'painutustööriistade', 'kontaktide', 'isikuomadused', 'ruumilise', 'Valmistab', 'ettevõtjad', 'veenmise', 'julgus', 'oskustest', 'tegutsemine', 'juhtprogrammi', 'töökoha', 'lahendustega', 'soovidega', 'vaatame', 'ohjata', 'mööblitoodete', 'esindajaid', 'järgimisest', 'haljastustööd', 'tundmisel', 'kahte', 'infotehnoloogilisi', 'virtuaalne', 'tehnilist', 'jäägid', 'käsitleda', 'tööstuse', 'juttu', 'värske', 'sõnul', 'kontseptuaalsest', 'motiveerida', 'kasutamise', 'keevitusmeetodite', 'Peamiste', 'analüüsi', 'piisavad', 'viisidele', 'endise', 'omamise', 'Ei', 'rahvusvahelise', 'laiemale', 'üliolulised', 'välisturgudele', 'learning', 'koostamisest', 'väljakutseteks', 'Annab', 'ajaks', 'vahendeid', 'omandamisel', 'täiendamist', 'teadlikkust', 'selge', 'tulemus', 'leidmine', 'olemust', 'meeskond', 'kohanemisvõimelised', 'ohutu', 'Tislerite', 'Üks', 'tuhandetele', 'pikemaks', 'kujundamisest', 'kontakte', 'digiturunduse', 'tippspetsialistide', 'mõistmisele', 'keevitusmeetodeid', 'antud', 'mõju', 'esinemisoskust', 'hooldustoimingud', 'kogemus', 'minimaliseerida', 'lõikeriistade', 'lihtsamate', 'masinkoodi', 'korrigeerida', 'Personalijuhtimine', 'arvu', 'detailidele', 'kasvavaks', 'tööks', 'vajadusel', 'koostööprojekte', 'turvaliselt', 'õpetamine', 'matemaatikaoskust', 'osapooltele', 'erinev', 'mõtlemise', 'juhid', 'kvaliteedialased', 'sotsiaalsed', 'tonnaaži', 'tuvastamise', 'ütleb', 'mööblitööstuse', 'Haridustase', 'juhtroll', 'Kui', 'paremad', 'viimistlemise', 'müügi-', 'tootearenduse', 'korrasolekut', 'jätkuvalt', 'Southwesternil', 'jälgib', 'enesehindamise', 'automatiseerimine', 'Maakondlike', 'Siin', 'Harvesterioperaatori', 'saele', 'hinnangul', 'juhendamine', 'tuua', 'Erialastest', 'uuendusliku', 'oodatud', '(', 'samaaegselt', 'sihipäraselt', 'värbamise', 'Ametiühingute', 'lõikepea', 'programmeerimise', 'alamsüsteemide', 'arvutikasutamise', 'tagasiside', 'kokkupõrke', 'trükkplaadi', 'tulemuse', 'eesmärkide', 'Toomas', 'anda', 'harvesteri', 'turundusest', 'sõjapõgenikke', 'turundus-,', 'oskustega', 'hooldada', 'Ka', '3', 'kasutus-', 'nuppude', 'vajab', 'teabepäev', 'hangib', 'Aga', 'Lülitab', 'seadmed', 'kasutamisest', 'insenerid', 'inimeste', 'toimetulekuks', 'APJ-pinkide', 'toidust', 'oskustöölisi', 'ülesande', 'konverentsil', '„', 'Viimase', 'sobivat', 'saamise', 'aulas', 'Puudu', 'koostejoonised', 'arvukad', 'soov', 'konkurentsivõime', 'tehnikutel', 'Veel', 'meeskondades', 'meeskonnaga', 'läbivalt', 'kehtestatud', 'majanduse', 'kõrgelt', 'nõuded', 'erialastelt', 'võtmesõnaks', 'lugemisoskus', 'oskustelt', 'Tundsin', 'arutelusid', 'koostöövõime', 'korraldamist', 'määral', 'uudseid', 'planeerimisoskuse', 'Ettevõtete', 'Kindlasti', 'degustatsioonidesse', 'nõudmised', 'viisid', 'masinaoperaatoritel', 'valdav', 'viimistlusse', 'tööpingil', 'mädanike', 'pärismaailm', 'suurenenud', 'nõudlus', 'elanike', 'dokumente', 'forvarderi', 'lähtuvalt', 'probleemilahenduse', 'pidevas', 'meeskonnatööd', 'eksperdid', 'organisatsioonile', 'kasvava', 'töötlemiskeskustele', 'kasvu', 'arenguga', 'Kõige', 'Koostab', 'algteadmistest', 'töökus', 'iseendas', 'tööelus', 'Teiseks', 'parandama', 'sooviti', 'Kuna', 'riiklikul', 'probleeme', 'metsateel', 'avalik', 'Täpsust', 'Neil', 'tegemiseks', 'operaatorite', 'korrektne', 'veebist', 'tööandjate', 'vajaduse', 'tõstmise', 'sooritust', 'projektdokumentatsiooni', 'teadmistele', 'kandidaadile', 'tagurdada', 'annavad', 'kavandada', 'intellektuaalse', 'töötaja', 'konkurentsivõimet', 'esinemishirmu', 'üldised', 'vaadata', 'tehnoloogi', 'Ehitame', 'montaažioskused', 'Käsitsitöö', 'rõhku', 'võistlusalal', 'rahastus', 'nähtavuse', 'sotsiaalmeediasse', 'MKM', 'lülitite', 'probleemi', 'digioskustele', 'Praegustel', 'materjalidele', 'tuginedes', 'ideedele', 'lõppemist', 'arendamiseks', 'lisa', 'suure', 'projekt', 'riigis', 'Polütehnikumist', 'Eestisse', 'näha', 'kontrollib', 'tootmissüsteemid', 'ümarpuidu', 'vallas', 'projekteerimistarkvaraga', 'puuduvad', 'liinide', 'puit', 'digitaalseks', 'eelised', 'soovida', 'kasvamise', 'Ameerika', 'valdkonnaspetsiifiliste', 'loonud', 'ülesandeid', 'tõsta', 'iseloomustab', 'võimaluse', 'eeldab', 'suudetud', 'haldussuutlikus', 'puudujääki', 'areng', 'korrektsioonide', 'juhtprogrammis', 'navigeerimine', 'selgub', 'tööpinkidele', 'IKT-lahendusi', 'kuulub', 'andmisega', 'meel', 'õpilasi', 'konstruktiivset', 'metsabioloogia', 'koostööd', 'hekkide', 'arvestamine', 'arengueesmärke', 'poeketti', 'strateegia', 'seadmetega', 'vormistada', 'tippspetsialistidel', 'Suurepärane', 'n-ö', 'üldiseks', 'analüütilist', 'klientide', 'meeskonna', 'saavutamist', 'püstitajate', 'Olulisemaks', 'Ettevõtja', 'elluviimiseks', 'parandada', 'riske', 'hoolduse', 'süsteemide', 'ajatemplite', 'puudub', 'kasvavat', 'kirjaoskus', 'funktsioone', 'kooli', 'Võistlusülesandena', 'tehnoloogiate', 'tervikpildi', 'Jätkuvalt', 'liitva', 'ohutusnõudeid', 'teistmoodi', 'arvprogrammjuhtimisega', 'A1', 'vahendid', 'uuemate', 'ettevõtetele', 'äri', 'ärevusega', 'võimalustesse', 'sisseostmiseks', 'toodud', '125 000', 'raalprojekteerimise', 'täidavad', 'kolib', 'See', 'turundusvõimekuste', 'selged', 'püstitada', 'ohutusseadmete', 'Seadmetel', 'uuringu', 'nimi', 'ellu', 'teenindamine', 'Mehhatroonikud', 'käivitades', 'Bend', 'vastuvool', 'Vähesed', 'laaditud', 'kindlaks', 'Juhtival', 'välitingimustes', 'kokkulepetest', 'Liinioperaatorite', 'turustamisest', 'levinumaid', 'PLM', 'kohanemisvõimet', 'Lisaks', 'kujundamisel', 'programmile', 'uutest', 'Hendrik', 'oskusele', 'ettevõtte', 'põhimõtet', 'erinevate', 'koostamisega', 'võõrkeelte', 'töökollektiivid', 'ohtlike', 'vs', 'probleemide', 'Suureneb', 'valdavaid', 'logistika', 'erialasele', 'kasvab', 'tehnoloogia', 'viisidest', 'edendamine', 'suhtleja', 'võimest', 'referentspunktid', 'ehituse', 'kaastöötajatega', 'väärtus', 'põlvkonna', 'ökonoomse', 'efektiivset', 'Keskliidule', 'osas', 'langetatavad', 'meeskonnaliikmed', 'kogudes', 'tahe', 'korraldama', 'kasvatamine', 'väikeettevõtjate', 'tootmisliinide', 'aasta', 'kriitiline', 'tekkemehhanismidele', 'silmas', 'puudu', 'arvestamisest', 'masinat', 'projekteerimise', 'tunnetamisele', 'tuvastada', 'müüt', 'Ühiselt', 'puudumine', 'sööklas', 'valdavate', 'Juhiks', 'Me', 'häiritud', 'toetavad', 'Baltikumi', 'Kasutab', 'nutikad', 'vajalikud', 'Turundus-', 'ühekordne', 'suurem', 'turvalisuse', 'olukord', 'Tehnikaülikooli', 'märksõnadena', 'mõistlik', 'pühendumine', 'ohutult', 'On', 'efektiivsemalt', 'jootematerjalide', 'ettevõtted', 'tehniliste', 'pügamine', 'produktiivsuse', 'liikumist', 'ökosüsteemi', 'lõiketulemustele', 'viia', 'oksapurustajaga', 'mõõtmissüsteeme', 'eripärade', 'soovi', 'sanitaarse', 'koostöö', 'minekul', 'digitaalmõõteriistad', 'olulised', 'automaatika', 'reaalne', 'liikmed', 'Osaleb', 'Järjest', 'teadmist', 'elualadelt', 'hea', 'Tallinna', 'Olulised', 'toode', 'tööplatvormidelt', 'avalikkusele', 'inseneridel', 'keeleoskuse', 'arengu', 'levinud', 'jootemeetodid', 'kirjutamise', 'muudab', 'kasulik', 'laiaulatuslikud', 'teeservadest', 'järgimine', 'müügioskustelt', 'FictionFeel', 'sobiva', 'väärtuslikke', 'Metsanduse', 'opereerida', 'puitmajade', 'töötajad', 'võimalik', 'tootmises', 'pidev', 'omadustest', '”', 'coaching', 'maha', 'juhendamist', 'uuring', 'põhioskusi', 'Turunduskoolituse', 'PIAAC-i', 'arvestamise', 'töötlemiskeskusel', 'Varasemast', 'väärtuste', 'olemiseks', 'e-oskused', 'ülevaate', 'lahendada', 'arvesse', 'algtasemel', 'painutustööriistad', 'ideede', 'arenduses', 'jääda', 'Ruben', 'metallitöötlemispingid', 'sarnasemaks', '4.0', 'erinevatesse', 'Nõuded', 'võistlejatel', 'ajajuhtimisest', 'eelistatumad', 'kogemust', 'proovikivi', 'Federation', 'erialastele', 'käsitlemise', 'soovitatavalt', 'oskuse', 'ruumiline', 'kasutada', 'tööprotsessi', 'Virtual', 'palgad', 'tasemel', 'sh', 'seadistamine', 'võimalustest', 'koefitsiendi', 'infohalduse', 'määratud', 'projektimeeskondadesse', 'Otsustusoskus', 'kindlasti', 'elektronmõõteriistad', 'kolleegidelt', 'võõrkeele', 'elektroonikaseadme', 'järjest', 'Meistritelt', 'töövahenditel', 'teadmised', 'põhjuseks', 'sektor', 'avanedes', 'muutmise', 'e-veoselehed', 'perioodiks', 'kitsaskohtadest', 'vajadusi', 'tööstus', 'õppimis-', 'Müügi-', 'seotud', 'suhtlemisoskusest', 'tuletööde', 'mõtlemisoskust', 'kasutatavaid', 'tööpõhimõtteid', 'tööülesandele', 'edukalt', 'teoreetilisi', 'kalibreerimisprogrammi', 'teisalt', 'tundus', 'igapäevast', 'Teeb', 'ühise', 'eksperimenteerida', 'B', 'mõtestada', 'the', 'Facebookil', 'kirjaoskuse', 'suurel', 'Arenduskeskustega', 'läbiviiktehnoloogiaid', 'valdamine', 'trükkplaat', 'öeldes', '̃', 'toetab', 'Puidupingioperaatoritel', 'lahendusi', 'väljakutsetega', 'Hindab', 'muutuse', 'e-oskustega', 'laserkeevitus', 'muutustele', '50', 'pühendunud', 'masinate', 'lahendamine', 'maandada', 'majandustrendide', 'probleemiks', 'aided', 'alus', 'noored', 'rahvusvahelises', 'vastupidavus', 'koostöös', 'riikide', 'z-telje', 'mõjutavatest', 'kahjustatud', 'juhtimisprogramme', 'paigaldamine', 'tellis', 'valmisoleku', 'korraldati', 'seonduvad', 'ennekõike', 'osal', 'pinnakatete', 'juhisega', 'analüüsivõime', 'palkmaja', 'viiakse', 'info', 'hõõrdkeevitus', 'maksimumpunktid', 'kirjatüüpi', 'keel', 'kasvavad', 'IKT', 'ettevõtlikkus', 'pardaarvutid', 'üleeuroopalise', 'networkingu', 'kirjutamine', 'etapp', 'põhimõtete', 'Tehnoloogi', 'valitsusametnikke', 'mõistmine', 'viivitamatult', 'edukas', 'Liidus', 'täiendus-', 'erialane', 'noore', 'regulaarselt', 'patenditud', 'kasutusjuhendis', 'kinnitada', 'Meeskondade', 'detailid', 'ökoloogia', 'puitmaterjali', 'tegevust', 'piirkonnast', 'Tulemuslik', 'kettsaag', 'Aasta', 'tsüklist', 'baasoskused', 'Vaan', 'osade', 'Paljud', 'tööohutuse', 'kasarmute', 'suhtlemisoskust', 'ettevõtetel', 'kvaliteediga', 'digitaalseid', 'tagajärgedest', 'osana', 'töötervishoidust', 'Vanalinna', 'suurte', 'juhtidest', 'elektrivoolu', 'eesmärke', 'normaalne', 'rohkuse', 'nõuete', 'spetsialiste', 'eestlased', 'tundmine', 'tööriistade', 'seadistajaks', 'pehme', 'keevitusroboti', 'rakendamist', 'spetsialistide', 'pikaajalise', 'edukaks', 'liinioperaatoritel', 'valdkondlikes', 'erinevaid', 'liikmena', 'tööpõhimõtet', 'töölaualt', 'täpsemalt', 'müügijuhtide', 'seadmetel', 'teavet', 'tööjoonisete', 'rollis', 'juhtidena', 'kättesaadavad', 'kaebuse', 'laussadu', 'sihipärane', 'Detaili', 'karjäärisihid', 'ettevõtlusõppe', 'uuemaid', 'õpilastele', 'olulisteks', 'kursustel', 'suurendab', 'teadlikkuse', 'kasutuse', 'vo', 'esinemisärevuse', 'muuhulgas', 'noortest', 'hoiakuteks', 'meeskonnatöös', 'programmeerimisoskust', 'ettevõtlusest', 'grupitöödes', 'juhtimiskogemused', 'oskus', 'eeskirjad', 'probleemilahendamise', 'rikkeid', 'parandamiseks', 'toel', 'vahetust', 'kirjeldused', 'noorte', 'keelt', 'välisturgudel', 'Eestis', 'painutusjärjekord', 'tagada', 'deduction', 'treening', 'tootlikkuse', 'arengut', 'kasvatades', 'kommunikatsiooniministeeriumi', 'uude', 'valmis', 'valdamise', 'aega', 'olulisusega', 'tugevalt', 'metsamajanduslikele', 'väljaõppest', 'nõudeid', 'abiseadmed', 'tootmiskulude', 'laiapõhjalised', 'nendib', 'telgede', 'sisu', 'lukkseppade', 'Tegelikult', 'alahinnata', 'hindamine', 'teadmisteks', 'takistab', 'digipööre', 'kettsae', 'raames', 'töötamiseks', 'arusaadavalt', 'Juhiload', 'vajavad', 'Kalibreerib', 'võimaldab', 'Kutsekojal', 'küsimustes', 'Puitkonstruktsioonide', 'IKT-alastes', 'kohtunikud', 'noortele', 'Suure', 'näidanud', 'Puitdetailide', 'elektroonikakomponentide', 'otsides', 'tõstukitelt', 'edastamine', 'bioenergeetika', 'Tootmisseadmete', 'oskustele', 'päeva', 'aluseks', 'kompensatsiooni', 'Vaatame', 'projektipõhine', 'töökogemusega', 'eeldus', 'sõita', 'võimaluste', 'nõutaval', 'Traditsiooniliste', 'Kirjas', 'keevitusmeetoditele', 'juhtpaneelil', 'mõistavad', 'tööülesannete', 'tarneahelate', 'võimekusest', 'Keeleoskus', 'teenuse', 'paratamatut', 'Tuvastab', 'aja', 'projekteerimine', 'Indrek', 'hästi', 'omandi', 'tudengitele', 'turundustegevuste', 'aastat', 'Eraldi', 'Äri', 'süsteemid', 'omandada', 'Skype', 'Tehnikaalaste', 'inimesed', 'seada', 'trükkplaadilt', 'turul', 'esinemine', 'koolitusi', 'nägemise', 'võistle', 'stressiga', 'ladustatud', 'nippe', 'etteantud', 'Uuring', 'B1', 'võidutöö', 'kaugtööl', 'RIA', 'Kasvavaks', 'Vastavaid', 'enesetäiendamiseks', 'kasvav', 'toodi', 'Grikis', 'juhtidel', 'töökohtadest', 'coach', 'tööalasesse', 'eksida', 'kavandab', 'pinnalaotuse', 'inimesi', 'kontseptuaalne', 'kulutused', 'oskused', 'vastupidavad', 'pöörama', 'materjalilehe', 'Järgib', 'takistuseks', 'töötajaga', 'väikeettevõtjatel', 'Orienteerub', 'ajajuhtimine', 'IT-sektoris', 'alaste', 'lastele', 'Künnapas', 'Internships', 'piirkonna', 'Nüüd', 'õpetamisel', 'tunda', 'koolitustel', 'toime', 'täiskasvanuile', 'analüütilise', 'Kasvava', 'projekti', 'painutusmeetodid', 'põhikutseala', 'orienteeritus', 'praktilised', 'õpetada', 'silm', 'võsa-', 'võimalikke', 'põhimõte', 'nentis', 'võimestamisele', 'sõltuvust', 'müügijuhtimine', 'lugemisoskuses', 'Ära', 'kasutamist', 'teritustehnoloogiate', 'lahendamise', 'režiimide', 'lahendamiseks', 'Ladustab', 'reservvägi', 'trendina', 'tehnoloogilises', 'Üldistest', 'üldse', 'Product', 'üldiste', 'tagamine', 'karjäärivõimalusi', 'teadlasi', 'kasvatamise', 'Päeva', 'andmeanalüüs', 'koormasse', 'madalapalgalise', 'ergonoomiliste', 'tööprotsessist', 'E-oskused', 'veokijuhtidel', 'tootmisprotsesse', 'matemaatilises', 'täiendama', 'arusaamisest', 'tegevdirektor', 'lõikeparameetrite', 'tellimise', 'majandamist', 'laadimisseadme', 'süsteemi', 'tehnikute', 'kvaliteedistandardite', 'tähelepanu', 'küsitlus', 'arvestada', 'arendab', 'perspektiivis', 'Tisleritel', 'piisav', 'algatusvõime', 'tarvikutest', 'intervjuudes', 'kogunes', 'nesting', 'nõrkuste', 'juhtimisega', 'Tööstussektori', 'töövõimet', 'toote', 'tingituna', '31,8%', 'valmisolekut', 'Oluline', 'vajalikust', 'töötada', 'tulemusena', 'Konverentsile', 'koolitusprogramm', 'eesma', 'keelteoskus', 'toorainet', 'määramine', 'juhi', '2020.', 'ümberistutamisest', 'ohutustehnika', 'meeskonnajuht', '“', 'Kommunikatsiooniministeerumiga', 'juhtpaneeli', 'tööstusrevolutsiooni', 'käsitöö', 'kutsus', 'uue', 'teavitab', 'igapäevaelu', 'Tööülesanded', 'Kolk', 'Anu', 'kuulavad', 'võtta', 'arvata', 'tehnikaalased', 'innuka', 'õigesse', 'muutuma', 'koostamine', 'Sihtasutuse', 'täiendamiseks', 'arendamisel', 'Peab', 'kollektiivis', 'kütteautomaatika', 'tegemist', 'nõutakse', 'koolis', 'tarka', 'mängivad', 'metsanduses', 'koolilõpetajate', 'käigus', 'IT', 'valdkond', 'Management', 'jooniste', 'käsu', 'tembeldada', 'oskuseks', 'alamsüsteeme', 'Lähtestab', 'lõikeprogrammi', 'tähtsal', 'müüa', 'väiksemate', 'omaduste', 'suurema', 'ettevõttele', 'suurenev', 'sidusrühmade', 'rikete', 'koostööle', 'esinemisel', 'esitamine', 'kaasavale', 'Arboristi', 'tegevuse', 'ühiselt', 'soovid', 'painutuspingi', 'arendavad', 'turundustegevusi', 'masina', 'düüsi', 'nt', 'oskustöötajatelt', 'tomograafiga', 'arendada', 'üha', 'töövahendeid', 'tunnustas', 'fotoelektriline', 'sõltumata', 'keskealistele', 'keeletehnoloogidele', 'Coaching', 'lööb', 'saematerjalide', 'plaan', 'vedada', 'puudutavates', 'cad', 'rahulolematust', 'töötervishoiu', 'professionaalsusele', 'planeerida', 'arvutit', 'tulemuslikumad', 'laserkiire', 'tarkvarasid', 'Meil', 'eesmärkidele', 'demonstreerima', 'õpid', 'perspektiivist', 'keelte', 'conversations’i', 'tehnoloogiakaardi', 'formeerimine', 'annetab', 'Kasvavateks', 'kokkuhoidu', 'pühendumus', 'puuduolevate', 'seadmesse', 'konkurentsivõimelise', 'põhioskuste', 'viise', 'teeninduskultuurile', 'keskkonnaohutuse', 'veidi', 'keevitajate', 'turvavahendite', 'viima', 'konstruktsiooni', 'tootjal', 'meistritel', 'purustamine', 'jooteseadmete', 'Forvarderioperaatoritel', 'üldisteks', 'mehhaanika', 'hoidmine', 'erialaselt', 'kommunikatsioonitehnoloogia', 'juhtide', 'rakendamine', 'Diana', 'lõiminud', 'tegevus', '28,4%', 'möödudes', 'sajakaupa', 'töövõtteid', 'liikumisandur', 'arendamisega', 'paremini', 'keskset', 'personaalseid', 'cnc', 'konkursi', 'president', 'teadmistest', 'täiendamise', 'süvenevat', 'kvaliteedi-,', 'digimajandus', 'uutele', 'laekunud', 'nõudvat', 'tõenäoliselt', 'ohutus', 'rollist', 'Juhtimisoskust', 'mõõtmed', 'žürii', 'orienteeritud', 'mõõtevahendite', 'TEPP', 'vaadatakse', 'välisfirmade', 'loengus', 'vähendada', 'igapäevatöös', 'juhtimisstiilile', 'Naiste', 'osast', 'kerksust', 'seadmine', 'ettevõttes', 'keevitusroboteid', 'õppeainetega', 'mahukate', 'võsalõikus', 'montaažioskus', 'osavust', 'eksportturgude', 'dollarit', 'tooteid', 'parktikabaasideks', 'tootmisprotsessi', 'Äriandmete', 'sõitmine', 'tegeleb', 'rakiste', 'seadistamist', 'esile', 'paigutusest', 'uuteks', 'oskuslikult', 'kogenumatelt', 'suurusega', 'sobitama', 'puud', 'kodanike', 'töötajatel', 'eelarvestamine', 'building', 'Ta', 'metallitöö', 'Veskimägi', '5', 'arusaamise', 'kirjaoskusest', 'avaliku', 'plaani', 'remonttööde', 'väärtusi', 'juhendada', 'mõtlemisoskusest', 'kriisidele', 'keevisõmblusi', 'keevitusrobotite', 'peamiseks', 'õpe', 'Marje', 'tagurdamine', 'Kasvav', 'majandusest', 'reeglite', 'ettevõtlikkuse', 'Kolmandaks', 'sobivaid', 'Võib', 'ilusate', 'suuremale', 'informatsiooni-', 'Aktiivse', 'IPC', 'templiga', 'innustanud', 'Lifecycle', 'kutsuda', 'hooldamise', 'töötamisel', 'karjääriteekonna', 'abivahendite', 'äritegevus', 'lõiketöötlemise', 'seeläbi', 'Kommunikatsioonikoolitus', 'saavutamise', 'kõrgele', 'lähtuvat', 'Digitaalse', 'spetsiifilisemalt', 'õpipesasid', 'Veebiseminaril', 'innovatiivsus', 'arenguruumi', 'andmebaas', 'Puitmaja', 'skeemide', 'Saab', 'eelduseks', 'luua', 'paljude', 'tööpõhimõtete', 'Mõõdab', 'hindasid', 'tööle', 'inimesel', 'oktoobril', 'kinnipidamist', '?', 'üleüldise', 'mõõtkavad', 'sobivalt', 'annab', 'reeglitele', 'Kutseõppe', 'anname', 'väikeste', 'isikut', 'ettevõtlust', 'Ostu-', 'DigiABC', 'pakkudes', 'Meeskonnatööd', 'spetsialiseeruda', 'sobib', 'kasutajasõbalikud', 'laserpea', 'osata', 'Peale', 'arengutega', 'osaleda', 'sootuks', 'märgatavat', 'täna', 'Euroopast', 'robotite', 'oodatakse', 'patroon', 'osalema', 'turvalises', 'pikaajaliselt', 'jne', 'programmeerimiskeelte', 'õpikogemusi', 'automaatse', 'Facebookiga', 'Sealjuures', 'andur', 'remondiga', 'Liidu', 'innovaatilise', 'teemasid', 'sidusust', 'visuaalselt', 'Täiendamist', 'mõeldud', 'planeerimise', 'LOOGILIST', 'matemaatikat', 'nutiseadmete', 'tooteks', 'ostujuhtidel', 'lasteraamatute', 'toimimise', 'vene', 'organiseerimisest', 'saamisel', 'Lähiaastatel', 'kasv', 'töötuse', 'julgust', 'MMT', 'mehhatroonikute', 'kalibreerida', 'Meeskond', 'kompetents', 'selgelt', 'teadlik', 'karjäärinõustajad', 'huvijuht', 'hoiakutest', 'õpilaste', 'üleöö', 'proovida', 'pehmelt', 'projekteerijate', 'põhiharidus', 'liikuda', 'puu', 'mõõteriistade', 'korraldada', 'suurest', 'stressirohketes', 'transistorid', 'baaskoolituse', 'tootmis-,', 'ostu-', 'Täiskasvanute', 'sageli', 'tegutsemist', 'digipöörde', 'rakendamisest', 'koguses', 'erinevates', 'tööprotsesside', 'juht', 'tootmisroboteid', 'ülesannet', 'networkimisel', 'Virtuaalne', 'keskmine', 'näol', 'forvarderiga', 'projektide', 'koostööga', 'Faktiteadmiste', 'seadmetele', 'painutusteooria', 'looma', 'sihikindlad', 'tagasisidet', 'tekib', 'vähene', 'erialase', 'rahuldamata', 'kolleege', 'sotsiaalmeedia', 'tööl', 'õppima', 'hooldusel', 'keevitajatelt', 'praktilise', 'põhitõdede', 'tegu', 'oskusest', 'pinkidelt', 'tundmisest', '30 000', 'eurot', 'Tasub', '8.', 'saavutuste', 'tunduvalt', 'seminaril', 'efektiivselt', 'ettevõte', 'raskemate', 'oskustena', 'enesekindlana', 'kasvanud', 'selgitusi', 'täita', 'turundusjuhtide', 'teame', 'leida', 'jäta', 'kutseõpetajaid', 'kaardistada', '1000', 'trendide', 'püstitatud', 'eesti', 'jaluleaitamisel', 'tulemise', 'korraldamine', 'rk', 'võimet', 'erialastest', 'konstrueerimise', 'organisatsioonis', 'ülesanne', 'üldistes', 'eeldatavatelt', 'kiire', 'elukestev', 'võimalusi', 'löövad', 'töövahenditele', 'Sotsiaalfondi', 'tugevusteks', 'alusteadmiseid', 'puude', 'iseseisev', 'lahendatud', 'mahu', 'kiiresti', 'digitaaltehnoloogiat', 'Määrab', 'suurt', 'IKT-lahenduste', 'mööbli', 'efektiivsest', 'paljust', 'ulatuse', 'õpita', 'piirangutest', 'trükkplaadile', 'potentsiaali', 'vineeri', 'jootmine', 'mõjust', 'Karin', 'kinnituseks', 'tundeid', 'majandusvaldkondades', 'computer', 'võimekus', 'Vajalik', 'tootmiskulusid', 'Alar', 'raporteerimine', 'Modernworkplacelearning.com-i', 'töödejuhatajatel', 'arengust', 'kinnitab', 'tehnikaalane', 'argumenteerimisoskus', 'tundmisele', 'eesmärgile', 'Heade', 'keevitaja', 'monteerida', 'käsijootmise', 'mõistes', 'Tootmise-', 'automatiseerimisega', 'etappides', '2020', 'TASUTA', 'aastaks', 'tootmisrobotite', 'põhjalikkus', 'tavapärasest', 'Töötaja', 'muutumisvõimet', 'logistikutele', 'toodetest', 'nägemine', 'Kõnes', 'eesmärki', 'tööjuhiseid', 'Enamasti', 'Personali', 'valmistajatele', 'tasu', 'põhimõtted', 'digitaalse', 'veebis', 'opereerima', 'tõstmisest', 'võimekust', 'Forvarderioperaatori', 'esitatavate', 'kolmikpöörde', 'Maripuu', 'vajadusele', 'koostööoskus', 'efektiivsust', 'CAD-CAM-i', 'seoses', 'tootmismasinate', 'mõõteriistad', 'kvaliteeti', 'skaala', 'protsessi', 'üleminekut', 'elektromehaanika', 'kõrgemaid', 'töös', 'arvjuhtimisega', 'teeninduskultuuri', 'töövõtete', 'videotervituses', 'ettevõtete', 'paigaldab', 'Muud', 'märgutulede', 'digimaailmast', 'joonisele', 'tootjaid', 'vastavalt', 'autojuhid', 'jääb', 'järkamisfaili', 'õpiringe', 'vajadusest', 'eesmärgid', 'programmeerimine', 'materjali', 'mõistmise', 'eelarve', 'Ent', 'poltühendus', '3D', 'tulemusi', 'masinatega', 'tsiviilelus', 'tasub', 'strateegiliselt', 'remontimise', 'hinnatud', 'Digipädevuste', 'põhikoolist', 'Tänastel', 'Võistlusülesande', 'juhina', 'esmase', 'ettevõtliku', 'praktilisi', 'Finantsjuhtimine', 'töötlev', 'jälgisid', 'Strateegilist', 'elanikest', 'läbirääkimise', 'ärivaldkondades', 'töötamine', 'vaja', 'uuendajana', 'Prantsuse', 'konventsionaalsetelt', 'külalisõpetajad', 'selgitab', 'suundumustega', 'juhtida', 'erinevused', 'tootja', 'oskuste', 'õpi-', 'Nõudlus', 'rutiinitaluvus', 'protsesse', 'külg', 'märksa', 'kõikjal', 'üleminek', 'Käivitab', 'mõtlemisoskus', 'seadme', 'valmisolek', 'Lähtuvalt', 'Jälgib', 'oskustasemete', 'töötamise', 'toetada', 'aspiratsioonist', 'inglise', 'õppimisel', 'äriplaan', 'korrigeerib', 'materjalitehnoloogia', '2', 'õige', 'tegemise', 'koostelukkseppadel', 'vastava', 'Nende', 'metsa', 'lähitulevikus', 'keskmise', 'Hooldustehnikute', 'korraldatud', 'IKT-oskuste', 'järgib', 'süsteemne', 'keskenduvad', 'rõhutab', 'puit-', '2014', 'kokkuveost', 'ekspertide', 'tehnoloogiaid', 'suvega', 'Laidmets', 'headele', 'Raietöölistel', 'hooldust', 'sihtriigid', 'kontroll-', 'endiselt', 'erialaste', 'metsaressursi', 'suhtlemist', 'Harvesterioperaatoritel', ',', 'koolitame', 'ettevõtja', 'teljed', 'õigus', 'puidukuivatamine', 'Või', 'algtase', 'peatab', 'leidsid', 'painde', 'saksa', 'ettevõtjaid', 'emotsioonidest', 'kirjaoskuses', 'töö-', 'kvaliteedinõuete', 'mahaarvamisväärtuste', 'suhtlemine', 'inimestega', 'Valdkonna', 'komponentidest', 'kommunikatsiooniministeerium', 'eesmärgist', 'tekkima', 'inimesele', 'kohanemisvõime', 'eestimaalastest', 'ressursse', 'harvesteriga', 'nullistamine', 'info-', 'tembeldamine', 'Töötajate', 'nõuab', 'seade', 'tööd', 'text', 'hooldamine', 'instrumentidest', 'leviku', 'põhjendavad', 'arvjuhitavate', 'tervikprotsessis', 'koguda', 'fookuses', 'masinas', 'planeerimine', 'juhtimist', '72%', 'vähe', 'valmistamise', 'A2', 'suutlikkuse', 'tähendavad', 'kommunikatsiooni', 'tegutseb', 'omandamine', 'idee', 'korrektse', 'ruumikujutlusvõimet', 'isikukaitsevahendite', 'keele', 'asja', 'probleemilahendusoskused', 'tööalases', 'timmimine', 'perioodil', 'tähtaegadest', 'rakendama', 'tugevusarvutustest', 'kujundada', 'Võistlused', 'Töötoa', 'mootorsae', 'vastata', 'elanikkonnast', 'vastatakse', 'Eesti', 'määramisest', 'valmistajatel', 'eesmärk', 'põhiliselt', 'mõista', 'tagasivetrumise', 'kaasneb', 'lisab', 'targa', 'tööjõuvajadus', 'tuludeklaratsiooni', 'tipptasemel', 'hoolitsemine', 'Kuigi', 'ambitsiooniga', 'Tootearendajate', 'töövahendite', 'särama', 'sobivad', 'kasutaja', 'lugemise', 'kursusel', 'suhete', 'Paananen', 'kolmes', 'erasektori', 'võtnud', 'olukordades', 'erinevad', 'tahame', 'tarkvara', 'analüüsioskus', 'esindaja', 'Kõrgharidus', 'eemaldab', 'autoritaarselt', 'Töökohtades', 'SMED', 'eraldi', 'pöörata', 'arendate', 'toote-,', 'uusi', 'tootmisega', 'raskuste', 'Industry', 'rakendamise', 'lõikamise', 'müügistrateegiate', 'Baltics', 'osaledes', '150 000', 'arusaamine', 'riiulitel', 'inseneridelt', 'Meeskonnaliikmed', 'valida', 'oletada', 'määramise', 'täiendavaid', 'diagnostika', 'e-teenuseid', 'eriti', 'Ettevõtjad', 'eristub', 'elluviimisel', 'olulisem', 'hoidmise', 'keerulisemate', 'Risk', 'teretulnud', 'STARTER', 'aastast', 'eraisikud', 'LEAN-juhtimine', 'Inseneride', 'ilmastikuolude', 'lahendamisse', 'ilmselge', 'torm', 'esitatavatest', 'kao', 'tundmist', 'mõistlikult', '-', 'rida', 'intensiivselt', 'arenda', 'sotsiaalmeedias', 'koolitusele', 'rääkis', 'President', 'tööhõive', 'teisiti', 'toodetele', 'järgimisele', 'elektroodkeevitus', 'vahetuvad', 'hoiab', 'kohuse-', 'mõõtmetele', 'ladude', 'kasutades', 'inimpõlve', 'puidurikkeid', 'juhtidelt', 'keeruline', 'esmatasandi', 'osalejatele', 'töötavad', 'oluline', 'tingimustega', 'kasutab', 'veokijuhtide', 'huvilistele', 'infot', 'panustas', 'kettsaega', 'koostamisel', 'Näiteks', 'okste', 'Mitmekülgne', 'valdkondlike', 'märkamine', 'Võttes', 'Arvutioskus', 'saavutamiseks', 'täiendada', 'elektriskeemi', 'aluseid', 'struktuuri', 'õppida', 'lülitusjärjekorra', 'nn', 'nime', 'Varasemate', 'keerukamaid', 'muutuvas', 'majanduslangusega', 'Viimistlustehnoloogiad', 'sertifikaatidega', 'õigusaktide', 'esemeid', 'manuaalselt', 'vastutustunne', 'ettevõtteid', 'programmeerimiskeeli', 'hinnata', 'korraldamise', 'mullastikualased', 'liikumisele', 'lasevad', 'avaldati', 'Kalm', 'vastutavat', 'töötab', 'maailmas', 'Samuti', 'olemasolu', 'Ettevõtjate', 'vm', 'kiirprototüüpimise', 'Võtmesõnad', 'õpitavad', 'tegemisel', 'riikides', 'Vahemere', 'puidurikete', 'Projektipõhise', 'sooritada', 'edusammudega', 'digitaalne', 'gruppi', 'kiiremini', 'e-kauplemise', 'enesedistsipliini', 'olulisust', 'sõjapõgenikust', 'tõhustamine', 'töökeskkonnas', 'tööstusdisaini', 'selgitamiseks', 'Enterprise', 'e-teenused', 'tervikuks', 'hindamise', '–', 'vajavaks', 'Kaljulaid', 'Meie', 'Dokumenteerib', 'Oluliseks', 'aktiivselt', 'seadistamisega', 'Euroopa', 'pidevat', 'tagavad', '.', 'vajalike', 'olulisemad', 'enesekindlus', 'tähtsam', '15%', 'kasutatavate', 'panna', 'tunneks', 'elektroonikutel', 'tarneala-,', 'tulevikus', 'tootmise', 'sihikindlus', 'Kõik', 'edendamisel', 'detaili', 'taotleda', 'selgus', 'hankida', 'haldamisega', 'initsiatiivi', 'EVEAd', 'eesmärgiks', 'Eestlasele', 'projektipõhise', 'koostöösuhteid', 'bioloogiaga', 'arutada', 'keskendumegi', 'Pehme', 'tootmisjuhendeid', 'toetusskeemi', 'tehnilistes', 'paindlik', 'keevitamine', 'puidukuivatamisest', 'faktorid', 'teadmiste', 'panustada', 'amet', 'tervis', 'metsamajandamist', 'jätkab', 'sissejuhatuseks', 'Võsalõikaja', 'elluviimise', 'tootmisest', 'nägemises', 'Müümine', 'jätavad', 'eneseväljendusoskus', 'Parimates', 'järgnevate', 'Põhikooli', 'koolitused']\n",
            "2887\n",
            "2645\n"
          ]
        }
      ]
    },
    {
      "cell_type": "code",
      "source": [
        "final_cleaned_data = []\n",
        "removed = []\n",
        "stopword_list = [\"aga\",\"ei\",\"et\",\"ja\",\"jah\",\"kas\",\"kui\",\"kõik\",\"ma\",\"me\",\"mida\",\"midagi\",\"mind\",\"minu\",\"mis\",\"mu\",\"mul\",\"mulle\",\"nad\",\"nii\",\"oled\",\"olen\",\"oli\",\"oma\",\"on\",\"pole\",\"sa\",\"seda\",\"see\",\"selle\",\"siin\",\"siis\",\"ta\",\"te\",\"ära\"]\n",
        "\n",
        "for word in new_data:\n",
        "    flag = True\n",
        "    for s in stopword_list:\n",
        "       if word == s:\n",
        "          flag =False\n",
        "    if flag==True:\n",
        "           final_cleaned_data.append(word)\n",
        "print(final_cleaned_data)\n",
        "print(len(final_cleaned_data))\n",
        "# print(len())\n",
        "\n"
      ],
      "metadata": {
        "colab": {
          "base_uri": "https://localhost:8080/"
        },
        "id": "lwtCYGpG20jC",
        "outputId": "3b8f83e8-72dd-4a90-b9ae-d4c0a5527fea"
      },
      "execution_count": 58,
      "outputs": [
        {
          "output_type": "stream",
          "name": "stdout",
          "text": [
            "['andmeanalüüsist', 'e-valitsemine', 'Sellega', 'erialased', 'arendamisest', 'tähtsaks', 'võsasaega', 'kasutamata', 'piisaval', 'isikuomadusi', 'pikas', 'tagamiseks', 'elektriskeem', 'Puidupingioperaatori', 'mittevastavuse', 'väärib', 'olevatest', 'kogemuste', 'koostööpartnerite', 'projektidega', 'ergonoomiliselt', 'EY', 'suhtlemises', 'aspiratsioon', 'parameetreid', 'ERM', 'hooldus', 'tihti', 'tööturule', 'inimressurssi', 'kontrolli', 'haridus', 'IKT-oskustele', 'EAS', 'mõõtmise', 'järelkasvu', 'tootmisprotsessidest', 'tähendab', 'kauneima', 'puiduhakkuri', 'suhetes', 'Kokkulepped', 'ühe-', 'rõõmustab', 'füüsilisel', 'defektse', 'valguskaitse', 'strateegilise', 'tasemele', 'detail', 'IKT-ga', 'Oskuse', 'räägib', 'ideaalilähedane', 'Seoses', 'kogemustepagas', 'ettevõtetega', 'juhtimise', 'Töövõtted', 'sobiv', 'Ettevõtluse', 'saavutada', 'partneritega', 'valdkonna', 'kriitilisust', 'seadmete', 'mängumaa', 'avaldada', 'Tule', 'olulisemaks', 'õpetaja', 'vormistamise', 'karjääri', 'Tisleritööd', 'e-oskuste', 'CNC', 'läbiviimisel', 'võsagiljotiini', 'Keelte', 'juhtimisstiililt', 'koordinaatide', 'Mehaanikute', 'tööohutusest', 'vältides', 'kitsal', 'lõimimisel', 'finantsnäitajate', 'viis', 'puuduste', 'erialaseid', 'asukohast', 'kasutav', 'rahvusvahelistele', 'hoidmisel', 'koolitustoetust', 'võõrtööliste', 'rõhutati', 'Puidu-', 'paindenurkade', 'leitud', 'tõhusalt', 'teisaldamisel', 'jätkusuutlikkust', 'keskkonnahoiu', 'Leedu', 'ressursside', 'paralleelsete', 'jõuallika', 'panuse', 'lasteraamatu', 'kompetentsile', 'kahjustamata', 'kommunikatsioonioskuste', 'kaugemale', 'Esiteks', 'pindmontaaž-', 'sortimentide', 'küsides', 'väiksem', 'ilmestab', 'soovitatakse', 'programm', 'hooneautomaatika', 'ettevõtluse', 'valdkonnaspetsiifilise', 'suurendada', 'nutiajastul', 'Mõistab', 'tööohutusalaste', 'soovitakse', 'kvaliteedi', 'Google', 'suurimat', 'omandamisega', 'juhistes', 'otseselt', 'kiirseadistamise', 'Seda', 'tegurina', 'aru', 'esinaine', 'mehhanismidest', 'kandideerides', 'vanema', 'juhendatud', 'teede', 'pikaajaline', 'järjekorrale', 'dokumentide', 'sihikindlust', 'äriprotsesside', 'kinni', 'kohanduma', 'Ehitusinseneride', 'rolli', 'efektiivsete', 'võttes', 'joonestamise', 'mõistmisest', 'tark', 'reservväega', 'visuaalne', 'valdaks', 'töödejuhatajatelt', 'piires', 'positsioonil', 'avatud', 'soovivatele', 'ekstreemsused', 'riskide', 'kasutanud', 'Keeleametile', 'abiseadmete', 'tööohutus', 'logistikasektori', 'Suhtles', 'meeskonnajuhtimine', 'nõutud', 'abiks', 'matemaatika', 'vajadus', 'inimestest', 'ettevõtetes', 'algatamise', 'tasuta', 'juhtimine', 'juhte', 'International', 'tähistusi', 'seadistuse', 'eriala', 'planeerimisoskus', 'finantside', 'pehmeks', 'remontimine', 'asendub', 'Käesolevast', 'Kuidas', 'seminar', 'funktsionaalses', 'Samas', 'Puitplaatide', 'igapäevase', 'inimestele', 'tugevuseks', 'arendamise', 'valda', 'pakub', ';', 'kalibreerimise', 'vältimiseks', '4', 'müügimehed', 'detailide', 'koostada', 'teadmisi', 'grupidünaamikast', 'lühikeses', 'küsitluse', 'joonistatud', 'Töötoas', 'opereerimist', 'Palju', 'materjalist', 'kohuse', 'viib', 'Boss', 'tõsteseadmete', 'vajadusega', 'mikroettevõtjate', 'tegevused', 'finantsjuhtimise', 'kutsub', 'valdkonnas', 'kasutatud', 'avalikus', 'operatiivsus', 'leidis', 'andmise', '̈', 'kirjeldatakse', 'muutused', 'uus', '!', 'tsentreeringut', 'küsitud', 'seadmega', 'digimaailm', 'esinemise', '—', 'tootlikkust', 'tegevuste', 'müügioskused', 'jutuajamiste', 'Vajadusel', 'iseenesestmõistetav', 'toob', 'Hetkel', 'pildi', 'väljakutsetele', 'pidevalt', 'korda', 'ärimaailmas', 'toimivaid', 'tähtsama', 'esimene', 'Tehnik-joonestajate', 'õppimise', 'juhtimisstrateegiate', 'varem', 'lõiketulemusele', 'käitlemine', 'Sagedased', ')', 'töö', 'mõistmisel', 'Digioskuste', 'kõrgema', 'uuendusmeelsus', 'hüdrotõstukiga', 'olulise', 'tulevikusignaalide', 'küsida', 'Ukraina', 'koristus', 'tähtsusega', 'ühendatud', 'Läti', 'inseneride', 'ettevõtmisel', 'käega', 'tundmise', 'käsitsi', 'lõpuni', 'mõelda', 'IKT-lahendustest', 'langetamine', 'ühist', 'digioskused', 'kandidaatide', 'koostööplatvorm', 'joonestamine', 'kultuuri', 'efektiivsusele', 'alustava', 'mõtlemist', 'digioskusi', 'hanketegevused', 'protsessid', 'koolitustoetuse', 'konstruktsioonide', 'uuenduslike', 'kevadel', 'Internetipank', 'puidutööstust', 'jälgimisanduri', 'saamine', 'efektiivsed', 'omandama', 'arendamist', 'genereerimise', 'algusest', 'ellest', 'huvirühma', 'Euroopas', 'teada', 'võrgustikke', 'efektiivsemaks', 'eelistatakse', 'Sellesse', 'kaasav', 'suures', 'siseneda', 'kompetentside', 'oskustes', 'kaugele', 'vajalikkust', 'parendusettepanekute', 'tööpinkide', 'tsentreerib', 'neljanda', 'läbirääkimiste', 'ennastjuhtiv', 'keevituses', 'tööandjalt', 'töötajal', 'töötlemiskeskused', 'pidevaks', 'Viimast', 'tööohutusnõuete', 'Tema', 'IT-teadmisi', 'kolleegidega', 'puudutavatest', 'inimesega', 'kuuluvad', 'lagi', 'puiduvarumise', 'pärismaailma', 'Majandus-', 'haridusasutustega', 'tänavu', 'erialasteks', 'tugevaid', 'lõpetajad', 'spetsiifilistest', 'personali', 'näiteks', 'kinnitavad', 'konstrueerimine', 'kasutamine', 'vajalikum', 'lahendus', 'valminud', 'pinkide', 'vajavate', '/', 'MathCAD-i', 'algatusvõimeline', 'meeskonnatöö', 'eesmärkidest', 'arvutiga', 'teema', 'Karis', 'jätkavad', 'enesearenguks', 'ütles', 'töötlemisega', 'oskusega', 'keskkonnas', 'tellija', 'võimalust', 'Valib', 'jagamine', 'töökogemus', 'laienevat', 'korraga', 'süsteemist', 'kestavad', 'arvutil', 'paindeservade', 'majandustarkvara', 'tarneahelas', 'võõrkeelseid', 'seljatada', 'lukksepatööd', 'digistrateegiate', 'Tegemist', 'toimu', 'programmide', 'paigutust', 'mõõtmine', 'töökohtade', 'võistlustööde', 'suurendamine', 'töötukassalt', 'unustada', 'rakendada', 'seadistamise', 'käelistest', 'kogemusega', 'õpetajana', 'tööriistade-seadmete', 'jälgimise', 'tehnikajuhid', 'Digitaalsest', 'organisatsiooni', 'meeskonnatööle', 'osa', 'väärtuslikku', 'tootmisliini', 'lõikeparameetreid', 'veebilehe', 'Paigaldab', 'puidu', 'ülesannetele', 'puidutöötlemispinkide', 'ehitus', 'Arendamise', 'töötajale', 'infotöötluse', 'mahuga', 'Pärnu', 'teatakse', 'Kampaania', 'suutma', 'vorm', 'oskusteks', 'lõikuse', 'toodete', 'teavad', 'teadmata', 'digioskuste', 'tõi', 'meisterkoolitaja', 'täiendavad', 'mikroettevõtjatel', 'ettevõtjatelt', 'põhitõed', 'tuleviku', 'aladelt', 'kasuks', 'õpetame', 'kasutamisele', 'tajumine', 'oskust', 'aidata', 'toodangu', 'tõstmisel', 'valdkonnaspetsiifilisi', 'märku', 'Tähelepanu', 'konkurentsis', 'möödapääsmatu', 'protsesside', 'head', 'koostamise', '25%', 'koostööks', 'positiivne', 'nõustab', 'püsimajäämine', 'ootame', 'vigu', 'tegemine', 'Seadistab', 'engineering', 'Balti', 'kasva', 'muutub', 'tööalaste', 'saavutatud', 'tööstuses', 'suuremat', 'mugavad', 'vastavust', 'kvaliteedijuhtimine', 'probleemsituatsiooni', 'tootmistehnoloogia', 'professionaalseid', 'arengus', 'LIKTA', 'joonestus-', 'tasandil', 'erinevatelt', 'igapäevaseid', 'Ühest', 'töötajaid', 'ümberõppes', 'Ilves', 'tellida', 'matemaatikast', 'juhendaja', 'juhtimisest', 'mõtlemine', 'Vajaka', 'pannakse', 'elanikkonna', 'oskavad', '1', 'töötutele', 'virnatäiuse', 'kaasatud', 'ainetundidesse', 'leiab', 'Ekspertide', 'oskusi', 'inseneriks', 'otsivad', 'ühisosa', 'Äri-', 'lausus', 'tsehhi-', 'äravedu', 'eneseväljendamisel', 'Keel', 'kasutamiseelse', 'elu', 'Tiia', 'Üheks', 'meetodeid', 'ettenähtud', 'standarditele', 'analüüsis', 'põhirõhk', 'asub', 'keevitajale', 'elekter', 'ohutusnõuded', 'meeskonnana', 'standardites', 'kvaliteet', 'napib', 'Kersti', 'juurutamiseks', 'läätse', 'vajalik', 'ametikohtadel', 'tegelema', 'iseseisvalt', 'lahenduseks', 'kõrgetasemelist', 'kinnitussüsteemide', 'lõiketehnoloogiatest', 'muutusi', 'palka', 'kõrgemad', 'elementide', 'digiteenuste', 'väikese', 'partnerlusega', 'paljudel', 'valdkonda', 'tööstustehnoloogiast', 'seisundi', 'oskustöötajatel', '2017', 'materjalide', 'Levinud', 'virtuaalseid', 'müügi-,', 'kommunikatsioon', 'lähtuva', 'alusteadmised', 'töötajate', 'tulevikku', 'Metsaveo', 'ohtu', 'tööandjad', 'usk', 'osalejat', 'Mida', 'näidata', 'üritustel', 'säästlikult', 'konkreetse', 'edendada', 'väljapool', 'üksikute', 'võitleb', 'traditsiooniliste', 'puidupõhiste', 'vältida', 'paremaks', 'turvalisus', 'kahjurputukate', 'peer', 'keevitusrobotitega', 'kvaliteedinõuetest', 'in', 'väheneb', 'start-up', 'Kontrollib', 'joonistes', 'suhtlemisoskus', 'Müügitöö', 'säästlikust', 'ehituseni', 'asju', 'toetamine', ':', 'strateegiline', 'tööseadmed', 'coach’id', 'team', 'tööstussektori', 'juhtidele', 'läbipõlemist', 'igapäevaselt', 'täiskasvanud', 'koostavatel', 'Raietöölise', 'kogust', 'programmi', 'poe', 'toimub', 'viimistlejate', 'Muutused', 'operaatoriks', 'töötajatele', 'ettevõttevälise', 'panustab', 'püsiks', 'digimaailmas', 'tööjõudu', 'laseri', 'uute', 'hinnatakse', 'ehitaja', 'juhtmekatkestuste', 'kasutuselevõtt', 'haridusest', 'painutustööriistade', 'kontaktide', 'isikuomadused', 'ruumilise', 'Valmistab', 'ettevõtjad', 'veenmise', 'julgus', 'oskustest', 'tegutsemine', 'juhtprogrammi', 'töökoha', 'lahendustega', 'soovidega', 'vaatame', 'ohjata', 'mööblitoodete', 'esindajaid', 'järgimisest', 'haljastustööd', 'tundmisel', 'kahte', 'infotehnoloogilisi', 'virtuaalne', 'tehnilist', 'jäägid', 'käsitleda', 'tööstuse', 'juttu', 'värske', 'sõnul', 'kontseptuaalsest', 'motiveerida', 'kasutamise', 'keevitusmeetodite', 'Peamiste', 'analüüsi', 'piisavad', 'viisidele', 'endise', 'omamise', 'Ei', 'rahvusvahelise', 'laiemale', 'üliolulised', 'välisturgudele', 'learning', 'koostamisest', 'väljakutseteks', 'Annab', 'ajaks', 'vahendeid', 'omandamisel', 'täiendamist', 'teadlikkust', 'selge', 'tulemus', 'leidmine', 'olemust', 'meeskond', 'kohanemisvõimelised', 'ohutu', 'Tislerite', 'Üks', 'tuhandetele', 'pikemaks', 'kujundamisest', 'kontakte', 'digiturunduse', 'tippspetsialistide', 'mõistmisele', 'keevitusmeetodeid', 'antud', 'mõju', 'esinemisoskust', 'hooldustoimingud', 'kogemus', 'minimaliseerida', 'lõikeriistade', 'lihtsamate', 'masinkoodi', 'korrigeerida', 'Personalijuhtimine', 'arvu', 'detailidele', 'kasvavaks', 'tööks', 'vajadusel', 'koostööprojekte', 'turvaliselt', 'õpetamine', 'matemaatikaoskust', 'osapooltele', 'erinev', 'mõtlemise', 'juhid', 'kvaliteedialased', 'sotsiaalsed', 'tonnaaži', 'tuvastamise', 'ütleb', 'mööblitööstuse', 'Haridustase', 'juhtroll', 'Kui', 'paremad', 'viimistlemise', 'müügi-', 'tootearenduse', 'korrasolekut', 'jätkuvalt', 'Southwesternil', 'jälgib', 'enesehindamise', 'automatiseerimine', 'Maakondlike', 'Siin', 'Harvesterioperaatori', 'saele', 'hinnangul', 'juhendamine', 'tuua', 'Erialastest', 'uuendusliku', 'oodatud', '(', 'samaaegselt', 'sihipäraselt', 'värbamise', 'Ametiühingute', 'lõikepea', 'programmeerimise', 'alamsüsteemide', 'arvutikasutamise', 'tagasiside', 'kokkupõrke', 'trükkplaadi', 'tulemuse', 'eesmärkide', 'Toomas', 'anda', 'harvesteri', 'turundusest', 'sõjapõgenikke', 'turundus-,', 'oskustega', 'hooldada', 'Ka', '3', 'kasutus-', 'nuppude', 'vajab', 'teabepäev', 'hangib', 'Aga', 'Lülitab', 'seadmed', 'kasutamisest', 'insenerid', 'inimeste', 'toimetulekuks', 'APJ-pinkide', 'toidust', 'oskustöölisi', 'ülesande', 'konverentsil', '„', 'Viimase', 'sobivat', 'saamise', 'aulas', 'Puudu', 'koostejoonised', 'arvukad', 'soov', 'konkurentsivõime', 'tehnikutel', 'Veel', 'meeskondades', 'meeskonnaga', 'läbivalt', 'kehtestatud', 'majanduse', 'kõrgelt', 'nõuded', 'erialastelt', 'võtmesõnaks', 'lugemisoskus', 'oskustelt', 'Tundsin', 'arutelusid', 'koostöövõime', 'korraldamist', 'määral', 'uudseid', 'planeerimisoskuse', 'Ettevõtete', 'Kindlasti', 'degustatsioonidesse', 'nõudmised', 'viisid', 'masinaoperaatoritel', 'valdav', 'viimistlusse', 'tööpingil', 'mädanike', 'pärismaailm', 'suurenenud', 'nõudlus', 'elanike', 'dokumente', 'forvarderi', 'lähtuvalt', 'probleemilahenduse', 'pidevas', 'meeskonnatööd', 'eksperdid', 'organisatsioonile', 'kasvava', 'töötlemiskeskustele', 'kasvu', 'arenguga', 'Kõige', 'Koostab', 'algteadmistest', 'töökus', 'iseendas', 'tööelus', 'Teiseks', 'parandama', 'sooviti', 'Kuna', 'riiklikul', 'probleeme', 'metsateel', 'avalik', 'Täpsust', 'Neil', 'tegemiseks', 'operaatorite', 'korrektne', 'veebist', 'tööandjate', 'vajaduse', 'tõstmise', 'sooritust', 'projektdokumentatsiooni', 'teadmistele', 'kandidaadile', 'tagurdada', 'annavad', 'kavandada', 'intellektuaalse', 'töötaja', 'konkurentsivõimet', 'esinemishirmu', 'üldised', 'vaadata', 'tehnoloogi', 'Ehitame', 'montaažioskused', 'Käsitsitöö', 'rõhku', 'võistlusalal', 'rahastus', 'nähtavuse', 'sotsiaalmeediasse', 'MKM', 'lülitite', 'probleemi', 'digioskustele', 'Praegustel', 'materjalidele', 'tuginedes', 'ideedele', 'lõppemist', 'arendamiseks', 'lisa', 'suure', 'projekt', 'riigis', 'Polütehnikumist', 'Eestisse', 'näha', 'kontrollib', 'tootmissüsteemid', 'ümarpuidu', 'vallas', 'projekteerimistarkvaraga', 'puuduvad', 'liinide', 'puit', 'digitaalseks', 'eelised', 'soovida', 'kasvamise', 'Ameerika', 'valdkonnaspetsiifiliste', 'loonud', 'ülesandeid', 'tõsta', 'iseloomustab', 'võimaluse', 'eeldab', 'suudetud', 'haldussuutlikus', 'puudujääki', 'areng', 'korrektsioonide', 'juhtprogrammis', 'navigeerimine', 'selgub', 'tööpinkidele', 'IKT-lahendusi', 'kuulub', 'andmisega', 'meel', 'õpilasi', 'konstruktiivset', 'metsabioloogia', 'koostööd', 'hekkide', 'arvestamine', 'arengueesmärke', 'poeketti', 'strateegia', 'seadmetega', 'vormistada', 'tippspetsialistidel', 'Suurepärane', 'n-ö', 'üldiseks', 'analüütilist', 'klientide', 'meeskonna', 'saavutamist', 'püstitajate', 'Olulisemaks', 'Ettevõtja', 'elluviimiseks', 'parandada', 'riske', 'hoolduse', 'süsteemide', 'ajatemplite', 'puudub', 'kasvavat', 'kirjaoskus', 'funktsioone', 'kooli', 'Võistlusülesandena', 'tehnoloogiate', 'tervikpildi', 'Jätkuvalt', 'liitva', 'ohutusnõudeid', 'teistmoodi', 'arvprogrammjuhtimisega', 'A1', 'vahendid', 'uuemate', 'ettevõtetele', 'äri', 'ärevusega', 'võimalustesse', 'sisseostmiseks', 'toodud', '125 000', 'raalprojekteerimise', 'täidavad', 'kolib', 'See', 'turundusvõimekuste', 'selged', 'püstitada', 'ohutusseadmete', 'Seadmetel', 'uuringu', 'nimi', 'ellu', 'teenindamine', 'Mehhatroonikud', 'käivitades', 'Bend', 'vastuvool', 'Vähesed', 'laaditud', 'kindlaks', 'Juhtival', 'välitingimustes', 'kokkulepetest', 'Liinioperaatorite', 'turustamisest', 'levinumaid', 'PLM', 'kohanemisvõimet', 'Lisaks', 'kujundamisel', 'programmile', 'uutest', 'Hendrik', 'oskusele', 'ettevõtte', 'põhimõtet', 'erinevate', 'koostamisega', 'võõrkeelte', 'töökollektiivid', 'ohtlike', 'vs', 'probleemide', 'Suureneb', 'valdavaid', 'logistika', 'erialasele', 'kasvab', 'tehnoloogia', 'viisidest', 'edendamine', 'suhtleja', 'võimest', 'referentspunktid', 'ehituse', 'kaastöötajatega', 'väärtus', 'põlvkonna', 'ökonoomse', 'efektiivset', 'Keskliidule', 'osas', 'langetatavad', 'meeskonnaliikmed', 'kogudes', 'tahe', 'korraldama', 'kasvatamine', 'väikeettevõtjate', 'tootmisliinide', 'aasta', 'kriitiline', 'tekkemehhanismidele', 'silmas', 'puudu', 'arvestamisest', 'masinat', 'projekteerimise', 'tunnetamisele', 'tuvastada', 'müüt', 'Ühiselt', 'puudumine', 'sööklas', 'valdavate', 'Juhiks', 'Me', 'häiritud', 'toetavad', 'Baltikumi', 'Kasutab', 'nutikad', 'vajalikud', 'Turundus-', 'ühekordne', 'suurem', 'turvalisuse', 'olukord', 'Tehnikaülikooli', 'märksõnadena', 'mõistlik', 'pühendumine', 'ohutult', 'On', 'efektiivsemalt', 'jootematerjalide', 'ettevõtted', 'tehniliste', 'pügamine', 'produktiivsuse', 'liikumist', 'ökosüsteemi', 'lõiketulemustele', 'viia', 'oksapurustajaga', 'mõõtmissüsteeme', 'eripärade', 'soovi', 'sanitaarse', 'koostöö', 'minekul', 'digitaalmõõteriistad', 'olulised', 'automaatika', 'reaalne', 'liikmed', 'Osaleb', 'Järjest', 'teadmist', 'elualadelt', 'hea', 'Tallinna', 'Olulised', 'toode', 'tööplatvormidelt', 'avalikkusele', 'inseneridel', 'keeleoskuse', 'arengu', 'levinud', 'jootemeetodid', 'kirjutamise', 'muudab', 'kasulik', 'laiaulatuslikud', 'teeservadest', 'järgimine', 'müügioskustelt', 'FictionFeel', 'sobiva', 'väärtuslikke', 'Metsanduse', 'opereerida', 'puitmajade', 'töötajad', 'võimalik', 'tootmises', 'pidev', 'omadustest', '”', 'coaching', 'maha', 'juhendamist', 'uuring', 'põhioskusi', 'Turunduskoolituse', 'PIAAC-i', 'arvestamise', 'töötlemiskeskusel', 'Varasemast', 'väärtuste', 'olemiseks', 'e-oskused', 'ülevaate', 'lahendada', 'arvesse', 'algtasemel', 'painutustööriistad', 'ideede', 'arenduses', 'jääda', 'Ruben', 'metallitöötlemispingid', 'sarnasemaks', '4.0', 'erinevatesse', 'Nõuded', 'võistlejatel', 'ajajuhtimisest', 'eelistatumad', 'kogemust', 'proovikivi', 'Federation', 'erialastele', 'käsitlemise', 'soovitatavalt', 'oskuse', 'ruumiline', 'kasutada', 'tööprotsessi', 'Virtual', 'palgad', 'tasemel', 'sh', 'seadistamine', 'võimalustest', 'koefitsiendi', 'infohalduse', 'määratud', 'projektimeeskondadesse', 'Otsustusoskus', 'kindlasti', 'elektronmõõteriistad', 'kolleegidelt', 'võõrkeele', 'elektroonikaseadme', 'järjest', 'Meistritelt', 'töövahenditel', 'teadmised', 'põhjuseks', 'sektor', 'avanedes', 'muutmise', 'e-veoselehed', 'perioodiks', 'kitsaskohtadest', 'vajadusi', 'tööstus', 'õppimis-', 'Müügi-', 'seotud', 'suhtlemisoskusest', 'tuletööde', 'mõtlemisoskust', 'kasutatavaid', 'tööpõhimõtteid', 'tööülesandele', 'edukalt', 'teoreetilisi', 'kalibreerimisprogrammi', 'teisalt', 'tundus', 'igapäevast', 'Teeb', 'ühise', 'eksperimenteerida', 'B', 'mõtestada', 'the', 'Facebookil', 'kirjaoskuse', 'suurel', 'Arenduskeskustega', 'läbiviiktehnoloogiaid', 'valdamine', 'trükkplaat', 'öeldes', '̃', 'toetab', 'Puidupingioperaatoritel', 'lahendusi', 'väljakutsetega', 'Hindab', 'muutuse', 'e-oskustega', 'laserkeevitus', 'muutustele', '50', 'pühendunud', 'masinate', 'lahendamine', 'maandada', 'majandustrendide', 'probleemiks', 'aided', 'alus', 'noored', 'rahvusvahelises', 'vastupidavus', 'koostöös', 'riikide', 'z-telje', 'mõjutavatest', 'kahjustatud', 'juhtimisprogramme', 'paigaldamine', 'tellis', 'valmisoleku', 'korraldati', 'seonduvad', 'ennekõike', 'osal', 'pinnakatete', 'juhisega', 'analüüsivõime', 'palkmaja', 'viiakse', 'info', 'hõõrdkeevitus', 'maksimumpunktid', 'kirjatüüpi', 'keel', 'kasvavad', 'IKT', 'ettevõtlikkus', 'pardaarvutid', 'üleeuroopalise', 'networkingu', 'kirjutamine', 'etapp', 'põhimõtete', 'Tehnoloogi', 'valitsusametnikke', 'mõistmine', 'viivitamatult', 'edukas', 'Liidus', 'täiendus-', 'erialane', 'noore', 'regulaarselt', 'patenditud', 'kasutusjuhendis', 'kinnitada', 'Meeskondade', 'detailid', 'ökoloogia', 'puitmaterjali', 'tegevust', 'piirkonnast', 'Tulemuslik', 'kettsaag', 'Aasta', 'tsüklist', 'baasoskused', 'Vaan', 'osade', 'Paljud', 'tööohutuse', 'kasarmute', 'suhtlemisoskust', 'ettevõtetel', 'kvaliteediga', 'digitaalseid', 'tagajärgedest', 'osana', 'töötervishoidust', 'Vanalinna', 'suurte', 'juhtidest', 'elektrivoolu', 'eesmärke', 'normaalne', 'rohkuse', 'nõuete', 'spetsialiste', 'eestlased', 'tundmine', 'tööriistade', 'seadistajaks', 'pehme', 'keevitusroboti', 'rakendamist', 'spetsialistide', 'pikaajalise', 'edukaks', 'liinioperaatoritel', 'valdkondlikes', 'erinevaid', 'liikmena', 'tööpõhimõtet', 'töölaualt', 'täpsemalt', 'müügijuhtide', 'seadmetel', 'teavet', 'tööjoonisete', 'rollis', 'juhtidena', 'kättesaadavad', 'kaebuse', 'laussadu', 'sihipärane', 'Detaili', 'karjäärisihid', 'ettevõtlusõppe', 'uuemaid', 'õpilastele', 'olulisteks', 'kursustel', 'suurendab', 'teadlikkuse', 'kasutuse', 'vo', 'esinemisärevuse', 'muuhulgas', 'noortest', 'hoiakuteks', 'meeskonnatöös', 'programmeerimisoskust', 'ettevõtlusest', 'grupitöödes', 'juhtimiskogemused', 'oskus', 'eeskirjad', 'probleemilahendamise', 'rikkeid', 'parandamiseks', 'toel', 'vahetust', 'kirjeldused', 'noorte', 'keelt', 'välisturgudel', 'Eestis', 'painutusjärjekord', 'tagada', 'deduction', 'treening', 'tootlikkuse', 'arengut', 'kasvatades', 'kommunikatsiooniministeeriumi', 'uude', 'valmis', 'valdamise', 'aega', 'olulisusega', 'tugevalt', 'metsamajanduslikele', 'väljaõppest', 'nõudeid', 'abiseadmed', 'tootmiskulude', 'laiapõhjalised', 'nendib', 'telgede', 'sisu', 'lukkseppade', 'Tegelikult', 'alahinnata', 'hindamine', 'teadmisteks', 'takistab', 'digipööre', 'kettsae', 'raames', 'töötamiseks', 'arusaadavalt', 'Juhiload', 'vajavad', 'Kalibreerib', 'võimaldab', 'Kutsekojal', 'küsimustes', 'Puitkonstruktsioonide', 'IKT-alastes', 'kohtunikud', 'noortele', 'Suure', 'näidanud', 'Puitdetailide', 'elektroonikakomponentide', 'otsides', 'tõstukitelt', 'edastamine', 'bioenergeetika', 'Tootmisseadmete', 'oskustele', 'päeva', 'aluseks', 'kompensatsiooni', 'Vaatame', 'projektipõhine', 'töökogemusega', 'eeldus', 'sõita', 'võimaluste', 'nõutaval', 'Traditsiooniliste', 'Kirjas', 'keevitusmeetoditele', 'juhtpaneelil', 'mõistavad', 'tööülesannete', 'tarneahelate', 'võimekusest', 'Keeleoskus', 'teenuse', 'paratamatut', 'Tuvastab', 'aja', 'projekteerimine', 'Indrek', 'hästi', 'omandi', 'tudengitele', 'turundustegevuste', 'aastat', 'Eraldi', 'Äri', 'süsteemid', 'omandada', 'Skype', 'Tehnikaalaste', 'inimesed', 'seada', 'trükkplaadilt', 'turul', 'esinemine', 'koolitusi', 'nägemise', 'võistle', 'stressiga', 'ladustatud', 'nippe', 'etteantud', 'Uuring', 'B1', 'võidutöö', 'kaugtööl', 'RIA', 'Kasvavaks', 'Vastavaid', 'enesetäiendamiseks', 'kasvav', 'toodi', 'Grikis', 'juhtidel', 'töökohtadest', 'coach', 'tööalasesse', 'eksida', 'kavandab', 'pinnalaotuse', 'inimesi', 'kontseptuaalne', 'kulutused', 'oskused', 'vastupidavad', 'pöörama', 'materjalilehe', 'Järgib', 'takistuseks', 'töötajaga', 'väikeettevõtjatel', 'Orienteerub', 'ajajuhtimine', 'IT-sektoris', 'alaste', 'lastele', 'Künnapas', 'Internships', 'piirkonna', 'Nüüd', 'õpetamisel', 'tunda', 'koolitustel', 'toime', 'täiskasvanuile', 'analüütilise', 'Kasvava', 'projekti', 'painutusmeetodid', 'põhikutseala', 'orienteeritus', 'praktilised', 'õpetada', 'silm', 'võsa-', 'võimalikke', 'põhimõte', 'nentis', 'võimestamisele', 'sõltuvust', 'müügijuhtimine', 'lugemisoskuses', 'Ära', 'kasutamist', 'teritustehnoloogiate', 'lahendamise', 'režiimide', 'lahendamiseks', 'Ladustab', 'reservvägi', 'trendina', 'tehnoloogilises', 'Üldistest', 'üldse', 'Product', 'üldiste', 'tagamine', 'karjäärivõimalusi', 'teadlasi', 'kasvatamise', 'Päeva', 'andmeanalüüs', 'koormasse', 'madalapalgalise', 'ergonoomiliste', 'tööprotsessist', 'E-oskused', 'veokijuhtidel', 'tootmisprotsesse', 'matemaatilises', 'täiendama', 'arusaamisest', 'tegevdirektor', 'lõikeparameetrite', 'tellimise', 'majandamist', 'laadimisseadme', 'süsteemi', 'tehnikute', 'kvaliteedistandardite', 'tähelepanu', 'küsitlus', 'arvestada', 'arendab', 'perspektiivis', 'Tisleritel', 'piisav', 'algatusvõime', 'tarvikutest', 'intervjuudes', 'kogunes', 'nesting', 'nõrkuste', 'juhtimisega', 'Tööstussektori', 'töövõimet', 'toote', 'tingituna', '31,8%', 'valmisolekut', 'Oluline', 'vajalikust', 'töötada', 'tulemusena', 'Konverentsile', 'koolitusprogramm', 'eesma', 'keelteoskus', 'toorainet', 'määramine', 'juhi', '2020.', 'ümberistutamisest', 'ohutustehnika', 'meeskonnajuht', '“', 'Kommunikatsiooniministeerumiga', 'juhtpaneeli', 'tööstusrevolutsiooni', 'käsitöö', 'kutsus', 'uue', 'teavitab', 'igapäevaelu', 'Tööülesanded', 'Kolk', 'Anu', 'kuulavad', 'võtta', 'arvata', 'tehnikaalased', 'innuka', 'õigesse', 'muutuma', 'koostamine', 'Sihtasutuse', 'täiendamiseks', 'arendamisel', 'Peab', 'kollektiivis', 'kütteautomaatika', 'tegemist', 'nõutakse', 'koolis', 'tarka', 'mängivad', 'metsanduses', 'koolilõpetajate', 'käigus', 'IT', 'valdkond', 'Management', 'jooniste', 'käsu', 'tembeldada', 'oskuseks', 'alamsüsteeme', 'Lähtestab', 'lõikeprogrammi', 'tähtsal', 'müüa', 'väiksemate', 'omaduste', 'suurema', 'ettevõttele', 'suurenev', 'sidusrühmade', 'rikete', 'koostööle', 'esinemisel', 'esitamine', 'kaasavale', 'Arboristi', 'tegevuse', 'ühiselt', 'soovid', 'painutuspingi', 'arendavad', 'turundustegevusi', 'masina', 'düüsi', 'nt', 'oskustöötajatelt', 'tomograafiga', 'arendada', 'üha', 'töövahendeid', 'tunnustas', 'fotoelektriline', 'sõltumata', 'keskealistele', 'keeletehnoloogidele', 'Coaching', 'lööb', 'saematerjalide', 'plaan', 'vedada', 'puudutavates', 'cad', 'rahulolematust', 'töötervishoiu', 'professionaalsusele', 'planeerida', 'arvutit', 'tulemuslikumad', 'laserkiire', 'tarkvarasid', 'Meil', 'eesmärkidele', 'demonstreerima', 'õpid', 'perspektiivist', 'keelte', 'conversations’i', 'tehnoloogiakaardi', 'formeerimine', 'annetab', 'Kasvavateks', 'kokkuhoidu', 'pühendumus', 'puuduolevate', 'seadmesse', 'konkurentsivõimelise', 'põhioskuste', 'viise', 'teeninduskultuurile', 'keskkonnaohutuse', 'veidi', 'keevitajate', 'turvavahendite', 'viima', 'konstruktsiooni', 'tootjal', 'meistritel', 'purustamine', 'jooteseadmete', 'Forvarderioperaatoritel', 'üldisteks', 'mehhaanika', 'hoidmine', 'erialaselt', 'kommunikatsioonitehnoloogia', 'juhtide', 'rakendamine', 'Diana', 'lõiminud', 'tegevus', '28,4%', 'möödudes', 'sajakaupa', 'töövõtteid', 'liikumisandur', 'arendamisega', 'paremini', 'keskset', 'personaalseid', 'cnc', 'konkursi', 'president', 'teadmistest', 'täiendamise', 'süvenevat', 'kvaliteedi-,', 'digimajandus', 'uutele', 'laekunud', 'nõudvat', 'tõenäoliselt', 'ohutus', 'rollist', 'Juhtimisoskust', 'mõõtmed', 'žürii', 'orienteeritud', 'mõõtevahendite', 'TEPP', 'vaadatakse', 'välisfirmade', 'loengus', 'vähendada', 'igapäevatöös', 'juhtimisstiilile', 'Naiste', 'osast', 'kerksust', 'seadmine', 'ettevõttes', 'keevitusroboteid', 'õppeainetega', 'mahukate', 'võsalõikus', 'montaažioskus', 'osavust', 'eksportturgude', 'dollarit', 'tooteid', 'parktikabaasideks', 'tootmisprotsessi', 'Äriandmete', 'sõitmine', 'tegeleb', 'rakiste', 'seadistamist', 'esile', 'paigutusest', 'uuteks', 'oskuslikult', 'kogenumatelt', 'suurusega', 'sobitama', 'puud', 'kodanike', 'töötajatel', 'eelarvestamine', 'building', 'Ta', 'metallitöö', 'Veskimägi', '5', 'arusaamise', 'kirjaoskusest', 'avaliku', 'plaani', 'remonttööde', 'väärtusi', 'juhendada', 'mõtlemisoskusest', 'kriisidele', 'keevisõmblusi', 'keevitusrobotite', 'peamiseks', 'õpe', 'Marje', 'tagurdamine', 'Kasvav', 'majandusest', 'reeglite', 'ettevõtlikkuse', 'Kolmandaks', 'sobivaid', 'Võib', 'ilusate', 'suuremale', 'informatsiooni-', 'Aktiivse', 'IPC', 'templiga', 'innustanud', 'Lifecycle', 'kutsuda', 'hooldamise', 'töötamisel', 'karjääriteekonna', 'abivahendite', 'äritegevus', 'lõiketöötlemise', 'seeläbi', 'Kommunikatsioonikoolitus', 'saavutamise', 'kõrgele', 'lähtuvat', 'Digitaalse', 'spetsiifilisemalt', 'õpipesasid', 'Veebiseminaril', 'innovatiivsus', 'arenguruumi', 'andmebaas', 'Puitmaja', 'skeemide', 'Saab', 'eelduseks', 'luua', 'paljude', 'tööpõhimõtete', 'Mõõdab', 'hindasid', 'tööle', 'inimesel', 'oktoobril', 'kinnipidamist', '?', 'üleüldise', 'mõõtkavad', 'sobivalt', 'annab', 'reeglitele', 'Kutseõppe', 'anname', 'väikeste', 'isikut', 'ettevõtlust', 'Ostu-', 'DigiABC', 'pakkudes', 'Meeskonnatööd', 'spetsialiseeruda', 'sobib', 'kasutajasõbalikud', 'laserpea', 'osata', 'Peale', 'arengutega', 'osaleda', 'sootuks', 'märgatavat', 'täna', 'Euroopast', 'robotite', 'oodatakse', 'patroon', 'osalema', 'turvalises', 'pikaajaliselt', 'jne', 'programmeerimiskeelte', 'õpikogemusi', 'automaatse', 'Facebookiga', 'Sealjuures', 'andur', 'remondiga', 'Liidu', 'innovaatilise', 'teemasid', 'sidusust', 'visuaalselt', 'Täiendamist', 'mõeldud', 'planeerimise', 'LOOGILIST', 'matemaatikat', 'nutiseadmete', 'tooteks', 'ostujuhtidel', 'lasteraamatute', 'toimimise', 'vene', 'organiseerimisest', 'saamisel', 'Lähiaastatel', 'kasv', 'töötuse', 'julgust', 'MMT', 'mehhatroonikute', 'kalibreerida', 'Meeskond', 'kompetents', 'selgelt', 'teadlik', 'karjäärinõustajad', 'huvijuht', 'hoiakutest', 'õpilaste', 'üleöö', 'proovida', 'pehmelt', 'projekteerijate', 'põhiharidus', 'liikuda', 'puu', 'mõõteriistade', 'korraldada', 'suurest', 'stressirohketes', 'transistorid', 'baaskoolituse', 'tootmis-,', 'ostu-', 'Täiskasvanute', 'sageli', 'tegutsemist', 'digipöörde', 'rakendamisest', 'koguses', 'erinevates', 'tööprotsesside', 'juht', 'tootmisroboteid', 'ülesannet', 'networkimisel', 'Virtuaalne', 'keskmine', 'näol', 'forvarderiga', 'projektide', 'koostööga', 'Faktiteadmiste', 'seadmetele', 'painutusteooria', 'looma', 'sihikindlad', 'tagasisidet', 'tekib', 'vähene', 'erialase', 'rahuldamata', 'kolleege', 'sotsiaalmeedia', 'tööl', 'õppima', 'hooldusel', 'keevitajatelt', 'praktilise', 'põhitõdede', 'tegu', 'oskusest', 'pinkidelt', 'tundmisest', '30 000', 'eurot', 'Tasub', '8.', 'saavutuste', 'tunduvalt', 'seminaril', 'efektiivselt', 'ettevõte', 'raskemate', 'oskustena', 'enesekindlana', 'kasvanud', 'selgitusi', 'täita', 'turundusjuhtide', 'teame', 'leida', 'jäta', 'kutseõpetajaid', 'kaardistada', '1000', 'trendide', 'püstitatud', 'eesti', 'jaluleaitamisel', 'tulemise', 'korraldamine', 'rk', 'võimet', 'erialastest', 'konstrueerimise', 'organisatsioonis', 'ülesanne', 'üldistes', 'eeldatavatelt', 'kiire', 'elukestev', 'võimalusi', 'löövad', 'töövahenditele', 'Sotsiaalfondi', 'tugevusteks', 'alusteadmiseid', 'puude', 'iseseisev', 'lahendatud', 'mahu', 'kiiresti', 'digitaaltehnoloogiat', 'Määrab', 'suurt', 'IKT-lahenduste', 'mööbli', 'efektiivsest', 'paljust', 'ulatuse', 'õpita', 'piirangutest', 'trükkplaadile', 'potentsiaali', 'vineeri', 'jootmine', 'mõjust', 'Karin', 'kinnituseks', 'tundeid', 'majandusvaldkondades', 'computer', 'võimekus', 'Vajalik', 'tootmiskulusid', 'Alar', 'raporteerimine', 'Modernworkplacelearning.com-i', 'töödejuhatajatel', 'arengust', 'kinnitab', 'tehnikaalane', 'argumenteerimisoskus', 'tundmisele', 'eesmärgile', 'Heade', 'keevitaja', 'monteerida', 'käsijootmise', 'mõistes', 'Tootmise-', 'automatiseerimisega', 'etappides', '2020', 'TASUTA', 'aastaks', 'tootmisrobotite', 'põhjalikkus', 'tavapärasest', 'Töötaja', 'muutumisvõimet', 'logistikutele', 'toodetest', 'nägemine', 'Kõnes', 'eesmärki', 'tööjuhiseid', 'Enamasti', 'Personali', 'valmistajatele', 'tasu', 'põhimõtted', 'digitaalse', 'veebis', 'opereerima', 'tõstmisest', 'võimekust', 'Forvarderioperaatori', 'esitatavate', 'kolmikpöörde', 'Maripuu', 'vajadusele', 'koostööoskus', 'efektiivsust', 'CAD-CAM-i', 'seoses', 'tootmismasinate', 'mõõteriistad', 'kvaliteeti', 'skaala', 'protsessi', 'üleminekut', 'elektromehaanika', 'kõrgemaid', 'töös', 'arvjuhtimisega', 'teeninduskultuuri', 'töövõtete', 'videotervituses', 'ettevõtete', 'paigaldab', 'Muud', 'märgutulede', 'digimaailmast', 'joonisele', 'tootjaid', 'vastavalt', 'autojuhid', 'jääb', 'järkamisfaili', 'õpiringe', 'vajadusest', 'eesmärgid', 'programmeerimine', 'materjali', 'mõistmise', 'eelarve', 'Ent', 'poltühendus', '3D', 'tulemusi', 'masinatega', 'tsiviilelus', 'tasub', 'strateegiliselt', 'remontimise', 'hinnatud', 'Digipädevuste', 'põhikoolist', 'Tänastel', 'Võistlusülesande', 'juhina', 'esmase', 'ettevõtliku', 'praktilisi', 'Finantsjuhtimine', 'töötlev', 'jälgisid', 'Strateegilist', 'elanikest', 'läbirääkimise', 'ärivaldkondades', 'töötamine', 'vaja', 'uuendajana', 'Prantsuse', 'konventsionaalsetelt', 'külalisõpetajad', 'selgitab', 'suundumustega', 'juhtida', 'erinevused', 'tootja', 'oskuste', 'õpi-', 'Nõudlus', 'rutiinitaluvus', 'protsesse', 'külg', 'märksa', 'kõikjal', 'üleminek', 'Käivitab', 'mõtlemisoskus', 'seadme', 'valmisolek', 'Lähtuvalt', 'Jälgib', 'oskustasemete', 'töötamise', 'toetada', 'aspiratsioonist', 'inglise', 'õppimisel', 'äriplaan', 'korrigeerib', 'materjalitehnoloogia', '2', 'õige', 'tegemise', 'koostelukkseppadel', 'vastava', 'Nende', 'metsa', 'lähitulevikus', 'keskmise', 'Hooldustehnikute', 'korraldatud', 'IKT-oskuste', 'järgib', 'süsteemne', 'keskenduvad', 'rõhutab', 'puit-', '2014', 'kokkuveost', 'ekspertide', 'tehnoloogiaid', 'suvega', 'Laidmets', 'headele', 'Raietöölistel', 'hooldust', 'sihtriigid', 'kontroll-', 'endiselt', 'erialaste', 'metsaressursi', 'suhtlemist', 'Harvesterioperaatoritel', ',', 'koolitame', 'ettevõtja', 'teljed', 'õigus', 'puidukuivatamine', 'Või', 'algtase', 'peatab', 'leidsid', 'painde', 'saksa', 'ettevõtjaid', 'emotsioonidest', 'kirjaoskuses', 'töö-', 'kvaliteedinõuete', 'mahaarvamisväärtuste', 'suhtlemine', 'inimestega', 'Valdkonna', 'komponentidest', 'kommunikatsiooniministeerium', 'eesmärgist', 'tekkima', 'inimesele', 'kohanemisvõime', 'eestimaalastest', 'ressursse', 'harvesteriga', 'nullistamine', 'info-', 'tembeldamine', 'Töötajate', 'nõuab', 'seade', 'tööd', 'text', 'hooldamine', 'instrumentidest', 'leviku', 'põhjendavad', 'arvjuhitavate', 'tervikprotsessis', 'koguda', 'fookuses', 'masinas', 'planeerimine', 'juhtimist', '72%', 'vähe', 'valmistamise', 'A2', 'suutlikkuse', 'tähendavad', 'kommunikatsiooni', 'tegutseb', 'omandamine', 'idee', 'korrektse', 'ruumikujutlusvõimet', 'isikukaitsevahendite', 'keele', 'asja', 'probleemilahendusoskused', 'tööalases', 'timmimine', 'perioodil', 'tähtaegadest', 'rakendama', 'tugevusarvutustest', 'kujundada', 'Võistlused', 'Töötoa', 'mootorsae', 'vastata', 'elanikkonnast', 'vastatakse', 'Eesti', 'määramisest', 'valmistajatel', 'eesmärk', 'põhiliselt', 'mõista', 'tagasivetrumise', 'kaasneb', 'lisab', 'targa', 'tööjõuvajadus', 'tuludeklaratsiooni', 'tipptasemel', 'hoolitsemine', 'Kuigi', 'ambitsiooniga', 'Tootearendajate', 'töövahendite', 'särama', 'sobivad', 'kasutaja', 'lugemise', 'kursusel', 'suhete', 'Paananen', 'kolmes', 'erasektori', 'võtnud', 'olukordades', 'erinevad', 'tahame', 'tarkvara', 'analüüsioskus', 'esindaja', 'Kõrgharidus', 'eemaldab', 'autoritaarselt', 'Töökohtades', 'SMED', 'eraldi', 'pöörata', 'arendate', 'toote-,', 'uusi', 'tootmisega', 'raskuste', 'Industry', 'rakendamise', 'lõikamise', 'müügistrateegiate', 'Baltics', 'osaledes', '150 000', 'arusaamine', 'riiulitel', 'inseneridelt', 'Meeskonnaliikmed', 'valida', 'oletada', 'määramise', 'täiendavaid', 'diagnostika', 'e-teenuseid', 'eriti', 'Ettevõtjad', 'eristub', 'elluviimisel', 'olulisem', 'hoidmise', 'keerulisemate', 'Risk', 'teretulnud', 'STARTER', 'aastast', 'eraisikud', 'LEAN-juhtimine', 'Inseneride', 'ilmastikuolude', 'lahendamisse', 'ilmselge', 'torm', 'esitatavatest', 'kao', 'tundmist', 'mõistlikult', '-', 'rida', 'intensiivselt', 'arenda', 'sotsiaalmeedias', 'koolitusele', 'rääkis', 'President', 'tööhõive', 'teisiti', 'toodetele', 'järgimisele', 'elektroodkeevitus', 'vahetuvad', 'hoiab', 'kohuse-', 'mõõtmetele', 'ladude', 'kasutades', 'inimpõlve', 'puidurikkeid', 'juhtidelt', 'keeruline', 'esmatasandi', 'osalejatele', 'töötavad', 'oluline', 'tingimustega', 'kasutab', 'veokijuhtide', 'huvilistele', 'infot', 'panustas', 'kettsaega', 'koostamisel', 'Näiteks', 'okste', 'Mitmekülgne', 'valdkondlike', 'märkamine', 'Võttes', 'Arvutioskus', 'saavutamiseks', 'täiendada', 'elektriskeemi', 'aluseid', 'struktuuri', 'õppida', 'lülitusjärjekorra', 'nn', 'nime', 'Varasemate', 'keerukamaid', 'muutuvas', 'majanduslangusega', 'Viimistlustehnoloogiad', 'sertifikaatidega', 'õigusaktide', 'esemeid', 'manuaalselt', 'vastutustunne', 'ettevõtteid', 'programmeerimiskeeli', 'hinnata', 'korraldamise', 'mullastikualased', 'liikumisele', 'lasevad', 'avaldati', 'Kalm', 'vastutavat', 'töötab', 'maailmas', 'Samuti', 'olemasolu', 'Ettevõtjate', 'vm', 'kiirprototüüpimise', 'Võtmesõnad', 'õpitavad', 'tegemisel', 'riikides', 'Vahemere', 'puidurikete', 'Projektipõhise', 'sooritada', 'edusammudega', 'digitaalne', 'gruppi', 'kiiremini', 'e-kauplemise', 'enesedistsipliini', 'olulisust', 'sõjapõgenikust', 'tõhustamine', 'töökeskkonnas', 'tööstusdisaini', 'selgitamiseks', 'Enterprise', 'e-teenused', 'tervikuks', 'hindamise', '–', 'vajavaks', 'Kaljulaid', 'Meie', 'Dokumenteerib', 'Oluliseks', 'aktiivselt', 'seadistamisega', 'Euroopa', 'pidevat', 'tagavad', '.', 'vajalike', 'olulisemad', 'enesekindlus', 'tähtsam', '15%', 'kasutatavate', 'panna', 'tunneks', 'elektroonikutel', 'tarneala-,', 'tulevikus', 'tootmise', 'sihikindlus', 'Kõik', 'edendamisel', 'detaili', 'taotleda', 'selgus', 'hankida', 'haldamisega', 'initsiatiivi', 'EVEAd', 'eesmärgiks', 'Eestlasele', 'projektipõhise', 'koostöösuhteid', 'bioloogiaga', 'arutada', 'keskendumegi', 'Pehme', 'tootmisjuhendeid', 'toetusskeemi', 'tehnilistes', 'paindlik', 'keevitamine', 'puidukuivatamisest', 'faktorid', 'teadmiste', 'panustada', 'amet', 'tervis', 'metsamajandamist', 'jätkab', 'sissejuhatuseks', 'Võsalõikaja', 'elluviimise', 'tootmisest', 'nägemises', 'Müümine', 'jätavad', 'eneseväljendusoskus', 'Parimates', 'järgnevate', 'Põhikooli', 'koolitused']\n",
            "2645\n"
          ]
        }
      ]
    },
    {
      "cell_type": "code",
      "source": [
        "import math\n",
        "def calculate_tf_idf(word_list):\n",
        "    tf = {}\n",
        "    idf = {}\n",
        "    tf_idf = {}\n",
        "    for word in word_list:\n",
        "        tf[word] = word_list.count(word)/len(word_list)\n",
        "        idf[word] = math.log(len(word_list)/len([doc for doc in word_list if word in doc]))\n",
        "        tf_idf[word] = tf[word]*idf[word]\n",
        "    return tf_idf\n",
        "\n"
      ],
      "metadata": {
        "id": "87f8RAJ28lws"
      },
      "execution_count": 59,
      "outputs": []
    },
    {
      "cell_type": "code",
      "source": [
        "\n",
        "tf_idf = calculate_tf_idf(final_cleaned_data)"
      ],
      "metadata": {
        "id": "LSqDVgtuAD6q"
      },
      "execution_count": 60,
      "outputs": []
    },
    {
      "cell_type": "code",
      "source": [
        "texts_descriptions_id = [(text[0]) for text in texts_data]"
      ],
      "metadata": {
        "id": "KseUx5iK6_KZ"
      },
      "execution_count": 61,
      "outputs": []
    },
    {
      "cell_type": "code",
      "source": [
        "\n",
        "label_id_list = [sentence[0] for sentence in data]\n",
        "label_id_list.pop(0)\n",
        "\n",
        "label_id_list"
      ],
      "metadata": {
        "colab": {
          "base_uri": "https://localhost:8080/"
        },
        "id": "mdO_OIuk6hmj",
        "outputId": "50d842af-17c5-44a2-cc7e-4b14c40c4715"
      },
      "execution_count": 62,
      "outputs": [
        {
          "output_type": "execute_result",
          "data": {
            "text/plain": [
              "['s0',\n",
              " 's1',\n",
              " 's2',\n",
              " 's3',\n",
              " 's4',\n",
              " 's5',\n",
              " 's6',\n",
              " 's7',\n",
              " 's8',\n",
              " 's9',\n",
              " 's10',\n",
              " 's11',\n",
              " 's12',\n",
              " 's13',\n",
              " 's15',\n",
              " 's16',\n",
              " 's17',\n",
              " 's18',\n",
              " 's19',\n",
              " 's20',\n",
              " 's21',\n",
              " 's22',\n",
              " 's23',\n",
              " 's24',\n",
              " 's25',\n",
              " 's26',\n",
              " 's27',\n",
              " 's28',\n",
              " 's29',\n",
              " 's30',\n",
              " 's31',\n",
              " 's32',\n",
              " 's33',\n",
              " 's34',\n",
              " 's35',\n",
              " 's36',\n",
              " 's37',\n",
              " 's38',\n",
              " 's39',\n",
              " 's40',\n",
              " 's41',\n",
              " 's42',\n",
              " 's43',\n",
              " 's44',\n",
              " 's45',\n",
              " 's46',\n",
              " 's47',\n",
              " 's48',\n",
              " 's49',\n",
              " 's50']"
            ]
          },
          "metadata": {},
          "execution_count": 62
        }
      ]
    },
    {
      "cell_type": "code",
      "source": [
        "!ls\n"
      ],
      "metadata": {
        "colab": {
          "base_uri": "https://localhost:8080/"
        },
        "id": "e_JFdZhDMvMx",
        "outputId": "8f9d1a61-86cc-4f10-8cde-5a964c1dd329"
      },
      "execution_count": 63,
      "outputs": [
        {
          "output_type": "stream",
          "name": "stdout",
          "text": [
            "'estonian-stopwords (1).txt'   test.csv\n",
            " estonian-stopwords.txt       'texts_about_skills (1).csv'\n",
            " sample_data\t\t       texts_about_skills.csv\n",
            "'skills (1).csv'\t      'train (1).csv'\n",
            " skills.csv\t\t       train.csv\n",
            "'test (1).csv'\n"
          ]
        }
      ]
    },
    {
      "cell_type": "code",
      "source": [
        "import csv\n",
        "with open('train.csv', 'r') as f:\n",
        "    reader = csv.reader(f)\n",
        "    train_data = list(reader)"
      ],
      "metadata": {
        "id": "Q5OpYHzTMu_Z"
      },
      "execution_count": 64,
      "outputs": []
    },
    {
      "cell_type": "code",
      "source": [
        "import pandas as pd\n",
        "\n",
        "X = pd.DataFrame(tf_idf, index=label_id_list)\n",
        "\n",
        "y = label_id_list\n",
        "\n",
        "from sklearn.model_selection import train_test_split\n",
        "X_train , X_test,  y_train, y_test = train_test_split(X, y, test_size=0.2, random_state=0)"
      ],
      "metadata": {
        "id": "XPWJaSwl7nVq"
      },
      "execution_count": 65,
      "outputs": []
    },
    {
      "cell_type": "code",
      "source": [
        "from sklearn import preprocessing\n",
        "from sklearn import utils\n",
        "\n",
        "#convert y values to categorical values\n",
        "lab = preprocessing.LabelEncoder()\n",
        "y_transformed = lab.fit_transform(y_test)"
      ],
      "metadata": {
        "id": "s-FwT3Y8CofO"
      },
      "execution_count": 66,
      "outputs": []
    },
    {
      "cell_type": "code",
      "source": [
        "# Importing the libraries\n",
        "from sklearn import svm\n",
        "from sklearn.svm import SVC\n",
        "\n",
        "# 2.2. Training the model\n",
        "\n",
        "classifier = svm.SVC(C=1.0, kernel='linear', gamma='auto')\n",
        "\n",
        "classifier.fit(X_train, y_train)\n",
        "\n",
        "y_pred = classifier.predict(X_test)\n",
        "\n",
        "\n",
        "\n"
      ],
      "metadata": {
        "id": "gw7xp84rCc0w"
      },
      "execution_count": 67,
      "outputs": []
    },
    {
      "cell_type": "code",
      "source": [
        "from sklearn.metrics import confusion_matrix\n",
        "from sklearn.metrics import accuracy_score\n",
        "\n",
        "\n",
        "# Predict the test set results\n",
        "y_pred = classifier.predict(X_test)\n",
        "\n",
        "# Making the Confusion Matrix\n",
        "\n",
        "cm = confusion_matrix(y_test, y_pred)\n",
        "\n",
        "# accuracy\n",
        "\n",
        "accuracy_score(y_test, y_pred)\n"
      ],
      "metadata": {
        "id": "JyxiS74XPLj_"
      },
      "execution_count": null,
      "outputs": []
    },
    {
      "cell_type": "code",
      "source": [
        "text_id_list = [sentence[0] for sentence in train_data]\n",
        "text_id_list.pop(0)\n",
        "print(text_id_list)"
      ],
      "metadata": {
        "colab": {
          "base_uri": "https://localhost:8080/"
        },
        "id": "0wLAIpsRjHNi",
        "outputId": "6fa60c00-1317-435d-8b42-fb232669eb4a"
      },
      "execution_count": 72,
      "outputs": [
        {
          "output_type": "stream",
          "name": "stdout",
          "text": [
            "['text202', 'text267', 'text60', 'text320', 'text200', 'text3', 'text30', 'text159', 'text118', 'text262', 'text41', 'text80', 'text138', 'text34', 'text229', 'text205', 'text146', 'text21', 'text308', 'text11', 'text16', 'text231', 'text276', 'text40', 'text186', 'text234', 'text50', 'text279', 'text168', 'text75', 'text110', 'text26', 'text96', 'text93', 'text164', 'text225', 'text204', 'text232', 'text76', 'text296', 'text49', 'text319', 'text302', 'text95', 'text197', 'text123', 'text285', 'text307', 'text1', 'text163', 'text57', 'text203', 'text105', 'text299', 'text85', 'text82', 'text322', 'text293', 'text165', 'text189', 'text94', 'text128', 'text139', 'text119', 'text182', 'text63', 'text98', 'text209', 'text221', 'text67', 'text47', 'text158', 'text53', 'text259', 'text45', 'text126', 'text81', 'text312', 'text99', 'text274', 'text13', 'text117', 'text173', 'text183', 'text228', 'text100', 'text270', 'text111', 'text199', 'text102', 'text58', 'text32', 'text89', 'text246', 'text288', 'text284', 'text122', 'text145', 'text187', 'text127', 'text121', 'text69', 'text238', 'text6', 'text151', 'text280', 'text237', 'text116', 'text294', 'text92', 'text141', 'text306', 'text227', 'text66', 'text177', 'text73', 'text153', 'text43', 'text154', 'text24', 'text318', 'text14', 'text131', 'text310', 'text291', 'text90', 'text64', 'text300', 'text155', 'text289', 'text62', 'text305', 'text120', 'text268', 'text157', 'text195', 'text12', 'text104', 'text37', 'text304', 'text103', 'text222', 'text140', 'text303', 'text68', 'text201', 'text148', 'text19', 'text134', 'text290', 'text42', 'text194', 'text15', 'text10', 'text87', 'text179', 'text51', 'text83', 'text263', 'text206', 'text188', 'text36', 'text287', 'text282', 'text167', 'text18', 'text107', 'text65', 'text170', 'text240', 'text113', 'text180', 'text160', 'text135', 'text176', 'text181', 'text77', 'text281', 'text271', 'text224', 'text161', 'text174', 'text55', 'text309', 'text2', 'text48', 'text273', 'text207', 'text74', 'text27', 'text261', 'text178', 'text28', 'text275', 'text210', 'text297', 'text147', 'text166', 'text286', 'text101', 'text292', 'text184', 'text88']\n"
          ]
        }
      ]
    },
    {
      "cell_type": "code",
      "source": [
        "[sentence[1] for sentence in train_data]"
      ],
      "metadata": {
        "colab": {
          "base_uri": "https://localhost:8080/"
        },
        "id": "0kG1D847jboP",
        "outputId": "f8790c4d-3e13-4b10-c90f-ea96b3625071"
      },
      "execution_count": 73,
      "outputs": [
        {
          "output_type": "execute_result",
          "data": {
            "text/plain": [
              "['skills',\n",
              " 's6',\n",
              " 's19',\n",
              " 's15 s20 s42 s48',\n",
              " 's13 s9',\n",
              " 's0',\n",
              " 's10 s3',\n",
              " 's0',\n",
              " 's25 s3 s30 s5',\n",
              " 's18',\n",
              " 's6',\n",
              " 's0',\n",
              " 's25 s4 s5 s7',\n",
              " 's1 s23 s48 s7',\n",
              " 's0',\n",
              " 's23',\n",
              " 's11',\n",
              " 's0 s1 s9',\n",
              " 's0',\n",
              " 's0 s6',\n",
              " 's0',\n",
              " 's0',\n",
              " 's1',\n",
              " 's0 s17 s5 s7 s8',\n",
              " 's0',\n",
              " 's28 s6 s9',\n",
              " 's36',\n",
              " 's1 s11 s16 s43 s8',\n",
              " 's29 s5',\n",
              " 's0 s10 s19',\n",
              " 's5',\n",
              " 's16',\n",
              " 's0',\n",
              " 's8',\n",
              " 's18 s4',\n",
              " 's12 s18 s35 s8',\n",
              " 's3 s36',\n",
              " 's1',\n",
              " 's1 s16',\n",
              " 's5',\n",
              " 's12 s2',\n",
              " 's1',\n",
              " 's10 s11 s13 s16 s23 s24 s29 s31 s9',\n",
              " 's0 s2',\n",
              " 's16 s22 s24 s8',\n",
              " 's0 s17 s2',\n",
              " 's25',\n",
              " 's1 s10 s3',\n",
              " 's2',\n",
              " 's13',\n",
              " 's3 s37 s4',\n",
              " 's43',\n",
              " 's49',\n",
              " 's22',\n",
              " 's0 s12 s6',\n",
              " 's4 s8',\n",
              " 's26 s4',\n",
              " 's13 s23 s9',\n",
              " 's26',\n",
              " 's21 s22 s48',\n",
              " 's10',\n",
              " 's38 s4',\n",
              " 's47',\n",
              " 's0 s1 s19 s3 s7 s8',\n",
              " 's18',\n",
              " 's2 s33 s6',\n",
              " 's20',\n",
              " 's18 s38 s8',\n",
              " 's4',\n",
              " 's13 s2',\n",
              " 's20',\n",
              " 's1',\n",
              " 's12 s15 s17 s35 s4 s45 s5',\n",
              " 's11 s21',\n",
              " 's17',\n",
              " 's1 s27',\n",
              " 's12 s7',\n",
              " 's26',\n",
              " 's0',\n",
              " 's40',\n",
              " 's34 s5',\n",
              " 's0',\n",
              " 's39',\n",
              " 's0 s27 s32 s9',\n",
              " 's2 s33 s6',\n",
              " 's0 s50',\n",
              " 's11 s40',\n",
              " 's19',\n",
              " 's34',\n",
              " 's2',\n",
              " 's11',\n",
              " 's12 s24 s43',\n",
              " 's0',\n",
              " 's11 s4',\n",
              " 's50',\n",
              " 's7',\n",
              " 's1 s13',\n",
              " 's38 s7',\n",
              " 's1 s23 s48 s5 s8',\n",
              " 's10 s37',\n",
              " 's32',\n",
              " 's18',\n",
              " 's44',\n",
              " 's4',\n",
              " 's25 s37 s44',\n",
              " 's1 s28 s3',\n",
              " 's1 s3',\n",
              " 's31',\n",
              " 's39',\n",
              " 's12',\n",
              " 's4',\n",
              " 's1 s15 s7',\n",
              " 's2 s6',\n",
              " 's0 s36',\n",
              " 's18 s20',\n",
              " 's2 s3 s31 s6',\n",
              " 's5',\n",
              " 's1 s15 s28 s32',\n",
              " 's0',\n",
              " 's11 s20 s47 s7',\n",
              " 's0',\n",
              " 's6',\n",
              " 's0',\n",
              " 's17',\n",
              " 's0',\n",
              " 's29 s4 s8',\n",
              " 's38 s4',\n",
              " 's20',\n",
              " 's12',\n",
              " 's12 s17 s35 s45 s8',\n",
              " 's15 s17 s25 s30 s45',\n",
              " 's20 s44',\n",
              " 's2 s6',\n",
              " 's18',\n",
              " 's19',\n",
              " 's0 s11',\n",
              " 's27 s41',\n",
              " 's0',\n",
              " 's11 s31',\n",
              " 's0',\n",
              " 's2',\n",
              " 's11 s22 s31 s41',\n",
              " 's2',\n",
              " 's1 s23',\n",
              " 's2',\n",
              " 's20',\n",
              " 's0',\n",
              " 's1 s46',\n",
              " 's0',\n",
              " 's29',\n",
              " 's17 s4 s8',\n",
              " 's0',\n",
              " 's49',\n",
              " 's0',\n",
              " 's0',\n",
              " 's4 s8',\n",
              " 's28 s3 s9',\n",
              " 's27',\n",
              " 's26',\n",
              " 's6',\n",
              " 's16',\n",
              " 's10',\n",
              " 's0',\n",
              " 's12 s35 s7',\n",
              " 's0 s1 s30 s42',\n",
              " 's0 s10 s19 s9',\n",
              " 's0',\n",
              " 's24',\n",
              " 's18 s20 s44 s8',\n",
              " 's0',\n",
              " 's11',\n",
              " 's34',\n",
              " 's3 s9',\n",
              " 's15 s30',\n",
              " 's29',\n",
              " 's10 s2 s3 s6',\n",
              " 's2 s33',\n",
              " 's5',\n",
              " 's1 s38 s7',\n",
              " 's19',\n",
              " 's3',\n",
              " 's4',\n",
              " 's0 s9',\n",
              " 's12 s21 s4',\n",
              " 's0',\n",
              " 's2 s21',\n",
              " 's1 s39',\n",
              " 's1 s15 s17 s18 s4 s5 s7 s8',\n",
              " 's22',\n",
              " 's40 s5',\n",
              " 's0',\n",
              " 's8',\n",
              " 's3 s6',\n",
              " 's0',\n",
              " 's15 s25 s30 s5',\n",
              " 's8',\n",
              " 's12 s2',\n",
              " 's0 s1 s9',\n",
              " 's19 s2 s3 s6',\n",
              " 's1 s10 s11 s3 s31',\n",
              " 's40',\n",
              " 's17',\n",
              " 's2 s28 s6',\n",
              " 's4 s7']"
            ]
          },
          "metadata": {},
          "execution_count": 73
        }
      ]
    },
    {
      "cell_type": "code",
      "source": [
        "text_id_list = [sentence[0] for sentence in train_data]\n",
        "text_id_list.pop(0)\n",
        "\n",
        "\n",
        "relation_list = [sentence[1] for sentence in train_data]\n",
        "relation_list.pop(0)\n",
        "\n",
        "label_count = {label:relation_list.count(label) for label in label_id_list}\n",
        "\n",
        "print(label_count)"
      ],
      "metadata": {
        "colab": {
          "base_uri": "https://localhost:8080/"
        },
        "id": "AmKX-g7YkPkf",
        "outputId": "c6348617-3dbe-455c-c8a9-46ec41aca314"
      },
      "execution_count": 75,
      "outputs": [
        {
          "output_type": "stream",
          "name": "stdout",
          "text": [
            "{'s0': 29, 's1': 4, 's2': 5, 's3': 1, 's4': 4, 's5': 4, 's6': 4, 's7': 1, 's8': 3, 's9': 0, 's10': 2, 's11': 3, 's12': 2, 's13': 1, 's15': 0, 's16': 2, 's17': 3, 's18': 4, 's19': 4, 's20': 4, 's21': 0, 's22': 2, 's23': 1, 's24': 1, 's25': 1, 's26': 3, 's27': 1, 's28': 0, 's29': 2, 's30': 0, 's31': 1, 's32': 1, 's33': 0, 's34': 2, 's35': 0, 's36': 1, 's37': 0, 's38': 0, 's39': 2, 's40': 2, 's41': 0, 's42': 0, 's43': 1, 's44': 1, 's45': 0, 's46': 0, 's47': 1, 's48': 0, 's49': 2, 's50': 1}\n"
          ]
        }
      ]
    },
    {
      "cell_type": "code",
      "source": [
        "label_count_list = list(label_count.values())\n",
        "\n",
        "# voronoi_array will have a list of lists with the coordinates of the voronoi diagram\n",
        "voronoi_array = []\n",
        "\n",
        "# now we need to create a list of lists with the coordinates of the voronoi diagram\n",
        "# we can do this with a for loop\n",
        "for i in range(len(label_count_list)):\n",
        "    voronoi_array.append([i,label_count_list[i]])\n",
        "        \n",
        "\n",
        "\n",
        "# now create a voronoi diagram with the label_count dictionary\n",
        "\n",
        "# we need to import the voronoi diagram library\n",
        "from scipy.spatial import Voronoi, voronoi_plot_2d\n",
        "import matplotlib.pyplot as plt\n",
        "\n",
        "# use label_count as input for the voronoi diagram\n",
        "vor = Voronoi(voronoi_array)\n",
        "\n",
        "# plot the voronoi diagram\n",
        "voronoi_plot_2d(vor)\n",
        "plt.show()\n"
      ],
      "metadata": {
        "colab": {
          "base_uri": "https://localhost:8080/",
          "height": 265
        },
        "id": "tM2wggUvkvWH",
        "outputId": "333ba450-3055-4f8a-e61f-f6e5b8285d76"
      },
      "execution_count": 85,
      "outputs": [
        {
          "output_type": "display_data",
          "data": {
            "text/plain": [
              "<Figure size 432x288 with 1 Axes>"
            ],
            "image/png": "[encoded data removed]"
          },
          "metadata": {
            "needs_background": "light"
          }
        }
      ]
    }
  ]
}